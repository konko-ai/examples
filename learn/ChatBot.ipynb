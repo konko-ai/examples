{
  "cells": [
    {
      "cell_type": "markdown",
      "id": "9d3ae544",
      "metadata": {
        "id": "9d3ae544"
      },
      "source": [
        "# Using LangChain To Create ChatBot Via Konko"
      ]
    },
    {
      "cell_type": "markdown",
      "id": "4f273e6a",
      "metadata": {
        "id": "4f273e6a"
      },
      "source": [
        "## Install necessary Python packages"
      ]
    },
    {
      "cell_type": "code",
      "execution_count": null,
      "id": "fac92265",
      "metadata": {
        "id": "fac92265"
      },
      "outputs": [],
      "source": [
        "!pip install typing-extensions==4.7.0\n",
        "!pip install langchain==0.1.4\n",
        "!pip install konko"
      ]
    },
    {
      "cell_type": "markdown",
      "id": "a45d5308",
      "metadata": {
        "id": "a45d5308"
      },
      "source": [
        "## Import Libraries"
      ]
    },
    {
      "cell_type": "code",
      "execution_count": 4,
      "id": "bfe45bd7",
      "metadata": {
        "id": "bfe45bd7"
      },
      "outputs": [],
      "source": [
        "import konko\n",
        "from langchain.chat_models import ChatKonko\n",
        "from langchain.prompts.chat import (\n",
        "    ChatPromptTemplate,\n",
        "    SystemMessagePromptTemplate,\n",
        "    AIMessagePromptTemplate,\n",
        "    HumanMessagePromptTemplate,\n",
        ")\n",
        "from langchain.schema import AIMessage, HumanMessage, SystemMessage\n",
        "from langchain.memory import ConversationBufferWindowMemory\n",
        "from langchain.agents import load_tools\n",
        "from langchain.agents import AgentOutputParser\n",
        "from langchain.agents.conversational_chat.prompt import FORMAT_INSTRUCTIONS\n",
        "from langchain.output_parsers.json import parse_json_markdown\n",
        "from langchain.schema import AgentAction, AgentFinish\n",
        "from langchain.agents import initialize_agent\n",
        "import os"
      ]
    },
    {
      "cell_type": "markdown",
      "id": "75a20e95",
      "metadata": {
        "id": "75a20e95"
      },
      "source": [
        "##  Set Environment Variables"
      ]
    },
    {
      "cell_type": "code",
      "source": [
        "os.environ['KONKO_API_KEY'] = 'your_KONKO_API_KEY_here'"
      ],
      "metadata": {
        "id": "MahbfDs1RYk1"
      },
      "id": "MahbfDs1RYk1",
      "execution_count": 5,
      "outputs": []
    },
    {
      "cell_type": "markdown",
      "id": "1047658d",
      "metadata": {
        "id": "1047658d"
      },
      "source": [
        "Next, you need to set your environment variables for KONKO_API_KEY.\n",
        "\n",
        "1. You can set environment variables for\n",
        "   1. KONKO_API_KEY (Required)\n",
        "   2. OPENAI_API_KEY (Optional)\n",
        "2. In your current shell session, use the export command:\n",
        "\n",
        "```shell\n",
        "export KONKO_API_KEY={your_KONKO_API_KEY_here}\n",
        "export OPENAI_API_KEY={your_OPENAI_API_KEY_here} #Optional\n",
        "```\n",
        "\n",
        "Alternatively, you can add the above lines directly to your shell startup script (such as .bashrc or .bash_profile for Bash shell and .zshrc for Zsh shell) to have them set automatically every time a new shell session starts.\n",
        "\n"
      ]
    },
    {
      "cell_type": "markdown",
      "id": "b7866209",
      "metadata": {
        "id": "b7866209"
      },
      "source": [
        "## Set Up Your Language Model"
      ]
    },
    {
      "cell_type": "markdown",
      "id": "82d14d2c",
      "metadata": {
        "id": "82d14d2c"
      },
      "source": [
        "Next, configure your language model. In this context, we'll be utilizing Konko as a provider within the langchain library, specifically using the 'llama-2-13b-chat' model."
      ]
    },
    {
      "cell_type": "code",
      "execution_count": 6,
      "id": "50d52863",
      "metadata": {
        "id": "50d52863"
      },
      "outputs": [],
      "source": [
        "llm = ChatKonko(model='meta-llama/llama-2-13b-chat', max_tokens = 1000)"
      ]
    },
    {
      "cell_type": "markdown",
      "id": "79f50a8f",
      "metadata": {
        "id": "79f50a8f"
      },
      "source": [
        "## Initializing an Conversational Agent"
      ]
    },
    {
      "cell_type": "markdown",
      "id": "3f6a19ad",
      "metadata": {
        "id": "3f6a19ad"
      },
      "source": [
        "\n",
        "We first need to initialize the agent. Conversational agents require several things such as conversational memory, access to tools, and an llm (which we have already initialized)."
      ]
    },
    {
      "cell_type": "code",
      "execution_count": 7,
      "id": "3ec5f51f",
      "metadata": {
        "id": "3ec5f51f"
      },
      "outputs": [],
      "source": [
        "memory = ConversationBufferWindowMemory(\n",
        "    memory_key=\"chat_history\", k=5, return_messages=True, output_key=\"output\"\n",
        ")\n",
        "tools = load_tools([\"llm-math\"], llm=llm)"
      ]
    },
    {
      "cell_type": "markdown",
      "id": "612f5ad3",
      "metadata": {
        "id": "612f5ad3"
      },
      "source": [
        "##  Define the OutputParser Class"
      ]
    },
    {
      "cell_type": "markdown",
      "id": "34b54fb1",
      "metadata": {
        "id": "34b54fb1"
      },
      "source": [
        "Define the OutputParser class to handle the parsing of the model's output"
      ]
    },
    {
      "cell_type": "code",
      "execution_count": 8,
      "id": "6dc1d1ca",
      "metadata": {
        "id": "6dc1d1ca"
      },
      "outputs": [],
      "source": [
        "class OutputParser(AgentOutputParser):\n",
        "    def get_format_instructions(self) -> str:\n",
        "        return FORMAT_INSTRUCTIONS\n",
        "\n",
        "    def parse(self, text: str) -> AgentAction | AgentFinish:\n",
        "            return AgentFinish({\"output\": text}, text)\n",
        "\n",
        "    @property\n",
        "    def _type(self) -> str:\n",
        "        return \"conversational_chat\"\n",
        "\n",
        "# initialize output parser for agent\n",
        "parser = OutputParser()"
      ]
    },
    {
      "cell_type": "markdown",
      "id": "31fff533",
      "metadata": {
        "id": "31fff533"
      },
      "source": [
        "## Initialize the Agent"
      ]
    },
    {
      "cell_type": "markdown",
      "id": "fe69bec0",
      "metadata": {
        "id": "fe69bec0"
      },
      "source": [
        "Next, initialize the agent with the defined parser, memory buffer, tools, and the Konko model"
      ]
    },
    {
      "cell_type": "code",
      "execution_count": 9,
      "id": "4c615b32",
      "metadata": {
        "colab": {
          "base_uri": "https://localhost:8080/"
        },
        "id": "4c615b32",
        "outputId": "16953ef6-9cd3-489a-b35d-9b85e427d6bd"
      },
      "outputs": [
        {
          "output_type": "stream",
          "name": "stderr",
          "text": [
            "/usr/local/lib/python3.10/dist-packages/langchain_core/_api/deprecation.py:117: LangChainDeprecationWarning: The function `initialize_agent` was deprecated in LangChain 0.1.0 and will be removed in 0.2.0. Use Use new agent constructor methods like create_react_agent, create_json_agent, create_structured_chat_agent, etc. instead.\n",
            "  warn_deprecated(\n"
          ]
        }
      ],
      "source": [
        "# initialize agent\n",
        "agent = initialize_agent(\n",
        "    agent=\"chat-conversational-react-description\",\n",
        "    tools=tools,\n",
        "    llm=llm,\n",
        "    verbose=True,\n",
        "    early_stopping_method=\"generate\",\n",
        "    memory=memory,\n",
        "    agent_kwargs={\"output_parser\": parser}\n",
        ")"
      ]
    },
    {
      "cell_type": "markdown",
      "id": "0c104428",
      "metadata": {
        "id": "0c104428"
      },
      "source": [
        "# Set Up the Conversation Flow"
      ]
    },
    {
      "cell_type": "markdown",
      "id": "ba1f255a",
      "metadata": {
        "id": "ba1f255a"
      },
      "source": [
        "Konko manages special instruction tokens, simplifying the creation of LLM-compatible prompts and streamlining your chatbot's interactions, allowing you to focus on other important aspects of your chatbot design."
      ]
    },
    {
      "cell_type": "code",
      "execution_count": 10,
      "id": "4f5fd7fd",
      "metadata": {
        "id": "4f5fd7fd"
      },
      "outputs": [],
      "source": [
        "human_msg = \"{input}\"\n",
        "\n",
        "agent.agent.llm_chain.prompt.messages[2].prompt.template = human_msg"
      ]
    },
    {
      "cell_type": "markdown",
      "id": "81a1e01c",
      "metadata": {
        "id": "81a1e01c"
      },
      "source": [
        "## Now we can begin asking questions..."
      ]
    },
    {
      "cell_type": "code",
      "execution_count": 11,
      "id": "11b9693a",
      "metadata": {
        "colab": {
          "base_uri": "https://localhost:8080/"
        },
        "id": "11b9693a",
        "outputId": "5b7e0353-b238-444c-e12d-8651a781e34e"
      },
      "outputs": [
        {
          "output_type": "stream",
          "name": "stderr",
          "text": [
            "/usr/local/lib/python3.10/dist-packages/langchain_core/_api/deprecation.py:117: LangChainDeprecationWarning: The function `__call__` was deprecated in LangChain 0.1.0 and will be removed in 0.2.0. Use invoke instead.\n",
            "  warn_deprecated(\n"
          ]
        },
        {
          "output_type": "stream",
          "name": "stdout",
          "text": [
            "\n",
            "\n",
            "\u001b[1m> Entering new AgentExecutor chain...\u001b[0m\n",
            "\u001b[32;1m\u001b[1;3m  Hello! I'd be happy to help you understand how to use the crop tool in our photo editing app. Can you tell me a little bit more about what you're having trouble with? For example, are you having trouble selecting the area you want to crop, or are you having trouble understanding how to adjust the crop size and position? The more information you can provide, the better I'll be able to assist you.\u001b[0m\n",
            "\n",
            "\u001b[1m> Finished chain.\u001b[0m\n"
          ]
        }
      ],
      "source": [
        "output = agent(\"Hi, I just downloaded your photo editing app, but I'm having trouble understanding how to use the crop tool.\")"
      ]
    },
    {
      "cell_type": "code",
      "execution_count": 12,
      "id": "e54297c3",
      "metadata": {
        "colab": {
          "base_uri": "https://localhost:8080/"
        },
        "id": "e54297c3",
        "outputId": "3aa984be-8064-43d5-f2d0-ae77bd788492"
      },
      "outputs": [
        {
          "output_type": "stream",
          "name": "stdout",
          "text": [
            "\n",
            "\n",
            "\u001b[1m> Entering new AgentExecutor chain...\u001b[0m\n",
            "\u001b[32;1m\u001b[1;3m Sure thing! Adjusting the size and position of the crop can take a little practice, but don't worry, I'm here to help.\n",
            "\n",
            "First, let me just give you a quick overview of the crop tool. When you select the crop tool, you'll see a rectangle with handles on the corners. The rectangle represents the area of the image that will be cropped.\n",
            "\n",
            "To adjust the size and position of the crop, you can drag any of the handles to move the rectangle. For example, if you want to make the crop smaller, you can drag the corner handles inward. If you want to make the crop larger, you can drag the side handles outward.\n",
            "\n",
            "Now, let's practice adjusting the crop size and position together. Let's say you want to crop this image to focus on just the flower. You can start by clicking and dragging the crop tool over the flower, and then adjusting the size and position of the crop to your liking.\n",
            "\n",
            "As you drag the handles, you'll see the image update in real-time, so you can see exactly how the crop will look. And if you need to make any fine adjustments, you can use the arrow keys on your keyboard to move the crop around precisely.\n",
            "\n",
            "Do you have any questions or would you like to try adjusting the crop size and position on your own?\u001b[0m\n",
            "\n",
            "\u001b[1m> Finished chain.\u001b[0m\n"
          ]
        },
        {
          "output_type": "execute_result",
          "data": {
            "text/plain": [
              "{'input': \"I don't know how to adjust the size and position of the crop \",\n",
              " 'chat_history': [HumanMessage(content=\"Hi, I just downloaded your photo editing app, but I'm having trouble understanding how to use the crop tool.\"),\n",
              "  AIMessage(content=\"  Hello! I'd be happy to help you understand how to use the crop tool in our photo editing app. Can you tell me a little bit more about what you're having trouble with? For example, are you having trouble selecting the area you want to crop, or are you having trouble understanding how to adjust the crop size and position? The more information you can provide, the better I'll be able to assist you.\")],\n",
              " 'output': \" Sure thing! Adjusting the size and position of the crop can take a little practice, but don't worry, I'm here to help.\\n\\nFirst, let me just give you a quick overview of the crop tool. When you select the crop tool, you'll see a rectangle with handles on the corners. The rectangle represents the area of the image that will be cropped.\\n\\nTo adjust the size and position of the crop, you can drag any of the handles to move the rectangle. For example, if you want to make the crop smaller, you can drag the corner handles inward. If you want to make the crop larger, you can drag the side handles outward.\\n\\nNow, let's practice adjusting the crop size and position together. Let's say you want to crop this image to focus on just the flower. You can start by clicking and dragging the crop tool over the flower, and then adjusting the size and position of the crop to your liking.\\n\\nAs you drag the handles, you'll see the image update in real-time, so you can see exactly how the crop will look. And if you need to make any fine adjustments, you can use the arrow keys on your keyboard to move the crop around precisely.\\n\\nDo you have any questions or would you like to try adjusting the crop size and position on your own?\"}"
            ]
          },
          "metadata": {},
          "execution_count": 12
        }
      ],
      "source": [
        "agent(\"I don't know how to adjust the size and position of the crop \")"
      ]
    },
    {
      "cell_type": "code",
      "execution_count": 13,
      "id": "7dbdf73e",
      "metadata": {
        "colab": {
          "base_uri": "https://localhost:8080/"
        },
        "id": "7dbdf73e",
        "outputId": "b6c2b2b6-c23e-4839-8545-79c31714fcb7"
      },
      "outputs": [
        {
          "output_type": "stream",
          "name": "stdout",
          "text": [
            "\n",
            "\n",
            "\u001b[1m> Entering new AgentExecutor chain...\u001b[0m\n",
            "\u001b[32;1m\u001b[1;3m  Of course! Adjusting the brightness and contrast of an image can help bring out the details and make the image look more vibrant.\n",
            "\n",
            "To adjust the brightness and contrast of an image using our photo editing app, follow these steps:\n",
            "\n",
            "Step 1: Select the image you want to edit.\n",
            "\n",
            "Step 2: Click on the \"Adjust\" button in the toolbar at the top of the screen.\n",
            "\n",
            "Step 3: In the adjustment menu, click on the \"Brightness and Contrast\" option.\n",
            "\n",
            "Step 4: Use the sliders to adjust the brightness and contrast of the image to your liking. You can use the preview image on the right-hand side of the screen to see how your adjustments will look.\n",
            "\n",
            "Here's a quick rundown of what the brightness and contrast sliders do:\n",
            "\n",
            "* Brightness: Adjusting the brightness will make the image lighter or darker. Turning the slider to the right will make the image brighter, while turning it to the left will make it darker.\n",
            "* Contrast: Adjusting the contrast will make the image more or less contrasty. Turning the slider to the right will increase the contrast, making the image look more defined and detailed. Turning it to the left will decrease the contrast, making the image look more flat and muted.\n",
            "\n",
            "Remember, it's important to use these sliders carefully, as over-adjusting the brightness and contrast can make the image look unnatural or over-processed.\n",
            "\n",
            "Now, let's practice adjusting the brightness and contrast together. Let's say you want to make this image of a sunset brighter and more vibrant. You can start by clicking on the \"Adjust\" button and selecting \"Brightness and Contrast.\" Then, you can use the sliders to adjust the brightness and contrast to your liking.\n",
            "\n",
            "As you adjust the sliders, you'll see the preview image update in real-time, so you can see exactly how your adjustments will look. And if you need to make any fine adjustments, you can use the arrow keys on your keyboard to move the sliders precisely.\n",
            "\n",
            "Do you have any questions or would you like to try adjusting the brightness and contrast of an image on your own?\u001b[0m\n",
            "\n",
            "\u001b[1m> Finished chain.\u001b[0m\n"
          ]
        },
        {
          "output_type": "execute_result",
          "data": {
            "text/plain": [
              "{'input': 'Thanks that worked! Could you also guide me on how to adjust the brightness and contrast of an image obtained above?',\n",
              " 'chat_history': [HumanMessage(content=\"Hi, I just downloaded your photo editing app, but I'm having trouble understanding how to use the crop tool.\"),\n",
              "  AIMessage(content=\"  Hello! I'd be happy to help you understand how to use the crop tool in our photo editing app. Can you tell me a little bit more about what you're having trouble with? For example, are you having trouble selecting the area you want to crop, or are you having trouble understanding how to adjust the crop size and position? The more information you can provide, the better I'll be able to assist you.\"),\n",
              "  HumanMessage(content=\"I don't know how to adjust the size and position of the crop \"),\n",
              "  AIMessage(content=\" Sure thing! Adjusting the size and position of the crop can take a little practice, but don't worry, I'm here to help.\\n\\nFirst, let me just give you a quick overview of the crop tool. When you select the crop tool, you'll see a rectangle with handles on the corners. The rectangle represents the area of the image that will be cropped.\\n\\nTo adjust the size and position of the crop, you can drag any of the handles to move the rectangle. For example, if you want to make the crop smaller, you can drag the corner handles inward. If you want to make the crop larger, you can drag the side handles outward.\\n\\nNow, let's practice adjusting the crop size and position together. Let's say you want to crop this image to focus on just the flower. You can start by clicking and dragging the crop tool over the flower, and then adjusting the size and position of the crop to your liking.\\n\\nAs you drag the handles, you'll see the image update in real-time, so you can see exactly how the crop will look. And if you need to make any fine adjustments, you can use the arrow keys on your keyboard to move the crop around precisely.\\n\\nDo you have any questions or would you like to try adjusting the crop size and position on your own?\")],\n",
              " 'output': '  Of course! Adjusting the brightness and contrast of an image can help bring out the details and make the image look more vibrant.\\n\\nTo adjust the brightness and contrast of an image using our photo editing app, follow these steps:\\n\\nStep 1: Select the image you want to edit.\\n\\nStep 2: Click on the \"Adjust\" button in the toolbar at the top of the screen.\\n\\nStep 3: In the adjustment menu, click on the \"Brightness and Contrast\" option.\\n\\nStep 4: Use the sliders to adjust the brightness and contrast of the image to your liking. You can use the preview image on the right-hand side of the screen to see how your adjustments will look.\\n\\nHere\\'s a quick rundown of what the brightness and contrast sliders do:\\n\\n* Brightness: Adjusting the brightness will make the image lighter or darker. Turning the slider to the right will make the image brighter, while turning it to the left will make it darker.\\n* Contrast: Adjusting the contrast will make the image more or less contrasty. Turning the slider to the right will increase the contrast, making the image look more defined and detailed. Turning it to the left will decrease the contrast, making the image look more flat and muted.\\n\\nRemember, it\\'s important to use these sliders carefully, as over-adjusting the brightness and contrast can make the image look unnatural or over-processed.\\n\\nNow, let\\'s practice adjusting the brightness and contrast together. Let\\'s say you want to make this image of a sunset brighter and more vibrant. You can start by clicking on the \"Adjust\" button and selecting \"Brightness and Contrast.\" Then, you can use the sliders to adjust the brightness and contrast to your liking.\\n\\nAs you adjust the sliders, you\\'ll see the preview image update in real-time, so you can see exactly how your adjustments will look. And if you need to make any fine adjustments, you can use the arrow keys on your keyboard to move the sliders precisely.\\n\\nDo you have any questions or would you like to try adjusting the brightness and contrast of an image on your own?'}"
            ]
          },
          "metadata": {},
          "execution_count": 13
        }
      ],
      "source": [
        "agent(\"Thanks that worked! Could you also guide me on how to adjust the brightness and contrast of an image obtained above?\")"
      ]
    },
    {
      "cell_type": "code",
      "execution_count": null,
      "id": "0ea05d16",
      "metadata": {
        "id": "0ea05d16"
      },
      "outputs": [],
      "source": []
    }
  ],
  "metadata": {
    "kernelspec": {
      "display_name": "Python 3 (ipykernel)",
      "language": "python",
      "name": "python3"
    },
    "language_info": {
      "codemirror_mode": {
        "name": "ipython",
        "version": 3
      },
      "file_extension": ".py",
      "mimetype": "text/x-python",
      "name": "python",
      "nbconvert_exporter": "python",
      "pygments_lexer": "ipython3",
      "version": "3.11.3"
    },
    "colab": {
      "provenance": []
    }
  },
  "nbformat": 4,
  "nbformat_minor": 5
}