{
 "cells": [
  {
   "cell_type": "markdown",
   "id": "9d3ae544",
   "metadata": {},
   "source": [
    "# Using LangChain To Create ChatBot Via Konko"
   ]
  },
  {
   "cell_type": "markdown",
   "id": "4f273e6a",
   "metadata": {},
   "source": [
    "## Install necessary Python packages"
   ]
  },
  {
   "cell_type": "code",
   "execution_count": 1,
   "id": "fac92265",
   "metadata": {},
   "outputs": [],
   "source": [
    "# !pip install langchain\n",
    "# !pip install konko"
   ]
  },
  {
   "cell_type": "markdown",
   "id": "a45d5308",
   "metadata": {},
   "source": [
    "## Import Libraries"
   ]
  },
  {
   "cell_type": "code",
   "execution_count": 2,
   "id": "bfe45bd7",
   "metadata": {},
   "outputs": [],
   "source": [
    "import konko\n",
    "from langchain.chat_models import ChatKonko\n",
    "from langchain.prompts.chat import (\n",
    "    ChatPromptTemplate,\n",
    "    SystemMessagePromptTemplate,\n",
    "    AIMessagePromptTemplate,\n",
    "    HumanMessagePromptTemplate,\n",
    ")\n",
    "from langchain.schema import AIMessage, HumanMessage, SystemMessage\n",
    "from langchain.memory import ConversationBufferWindowMemory\n",
    "from langchain.agents import load_tools\n",
    "from langchain.agents import AgentOutputParser\n",
    "from langchain.agents.conversational_chat.prompt import FORMAT_INSTRUCTIONS\n",
    "from langchain.output_parsers.json import parse_json_markdown\n",
    "from langchain.schema import AgentAction, AgentFinish\n",
    "from langchain.agents import initialize_agent"
   ]
  },
  {
   "cell_type": "markdown",
   "id": "75a20e95",
   "metadata": {},
   "source": [
    "##  Set Environment Variables"
   ]
  },
  {
   "cell_type": "markdown",
   "id": "1047658d",
   "metadata": {},
   "source": [
    "Next, you need to set your environment variables for KONKO_API_KEY.\n",
    "\n",
    "1. You can set environment variables for \n",
    "   1. KONKO_API_KEY (Required)\n",
    "   2. OPENAI_API_KEY (Optional)\n",
    "2. In your current shell session, use the export command:\n",
    "\n",
    "```shell\n",
    "export KONKO_API_KEY={your_KONKO_API_KEY_here}\n",
    "export OPENAI_API_KEY={your_OPENAI_API_KEY_here} #Optional\n",
    "```\n",
    "\n",
    "Alternatively, you can add the above lines directly to your shell startup script (such as .bashrc or .bash_profile for Bash shell and .zshrc for Zsh shell) to have them set automatically every time a new shell session starts.\n",
    "\n"
   ]
  },
  {
   "cell_type": "markdown",
   "id": "b7866209",
   "metadata": {},
   "source": [
    "## Set Up Your Language Model"
   ]
  },
  {
   "cell_type": "markdown",
   "id": "82d14d2c",
   "metadata": {},
   "source": [
    "Next, configure your language model. In this context, we'll be utilizing Konko as a provider within the langchain library, specifically using the 'llama-2-13b-chat' model."
   ]
  },
  {
   "cell_type": "code",
   "execution_count": 10,
   "id": "50d52863",
   "metadata": {},
   "outputs": [],
   "source": [
    "llm = ChatKonko(model='meta-llama/Llama-2-13b-chat-hf', max_tokens = 1000)"
   ]
  },
  {
   "cell_type": "markdown",
   "id": "79f50a8f",
   "metadata": {},
   "source": [
    "## Initializing an Conversational Agent"
   ]
  },
  {
   "cell_type": "markdown",
   "id": "3f6a19ad",
   "metadata": {},
   "source": [
    "\n",
    "We first need to initialize the agent. Conversational agents require several things such as conversational memory, access to tools, and an llm (which we have already initialized)."
   ]
  },
  {
   "cell_type": "code",
   "execution_count": 11,
   "id": "3ec5f51f",
   "metadata": {},
   "outputs": [],
   "source": [
    "memory = ConversationBufferWindowMemory(\n",
    "    memory_key=\"chat_history\", k=5, return_messages=True, output_key=\"output\"\n",
    ")\n",
    "tools = load_tools([\"llm-math\"], llm=llm)"
   ]
  },
  {
   "cell_type": "markdown",
   "id": "612f5ad3",
   "metadata": {},
   "source": [
    "##  Define the OutputParser Class"
   ]
  },
  {
   "cell_type": "markdown",
   "id": "34b54fb1",
   "metadata": {},
   "source": [
    "Define the OutputParser class to handle the parsing of the model's output"
   ]
  },
  {
   "cell_type": "code",
   "execution_count": 12,
   "id": "6dc1d1ca",
   "metadata": {},
   "outputs": [],
   "source": [
    "class OutputParser(AgentOutputParser):\n",
    "    def get_format_instructions(self) -> str:\n",
    "        return FORMAT_INSTRUCTIONS\n",
    "\n",
    "    def parse(self, text: str) -> AgentAction | AgentFinish:\n",
    "            return AgentFinish({\"output\": text}, text)\n",
    "\n",
    "    @property\n",
    "    def _type(self) -> str:\n",
    "        return \"conversational_chat\"\n",
    "\n",
    "# initialize output parser for agent\n",
    "parser = OutputParser()"
   ]
  },
  {
   "cell_type": "markdown",
   "id": "31fff533",
   "metadata": {},
   "source": [
    "## Initialize the Agent"
   ]
  },
  {
   "cell_type": "markdown",
   "id": "fe69bec0",
   "metadata": {},
   "source": [
    "Next, initialize the agent with the defined parser, memory buffer, tools, and the Konko model"
   ]
  },
  {
   "cell_type": "code",
   "execution_count": 13,
   "id": "4c615b32",
   "metadata": {},
   "outputs": [],
   "source": [
    "# initialize agent\n",
    "agent = initialize_agent(\n",
    "    agent=\"chat-conversational-react-description\",\n",
    "    tools=tools,\n",
    "    llm=llm,\n",
    "    verbose=True,\n",
    "    early_stopping_method=\"generate\",\n",
    "    memory=memory,\n",
    "    agent_kwargs={\"output_parser\": parser}\n",
    ")"
   ]
  },
  {
   "cell_type": "markdown",
   "id": "0c104428",
   "metadata": {},
   "source": [
    "# Set Up the Conversation Flow"
   ]
  },
  {
   "cell_type": "markdown",
   "id": "ba1f255a",
   "metadata": {},
   "source": [
    "Konko manages special instruction tokens, simplifying the creation of LLM-compatible prompts and streamlining your chatbot's interactions, allowing you to focus on other important aspects of your chatbot design."
   ]
  },
  {
   "cell_type": "code",
   "execution_count": 14,
   "id": "4f5fd7fd",
   "metadata": {},
   "outputs": [],
   "source": [
    "human_msg = \"{input}\"\n",
    "\n",
    "agent.agent.llm_chain.prompt.messages[2].prompt.template = human_msg"
   ]
  },
  {
   "cell_type": "markdown",
   "id": "81a1e01c",
   "metadata": {},
   "source": [
    "## Now we can begin asking questions..."
   ]
  },
  {
   "cell_type": "code",
   "execution_count": 15,
   "id": "11b9693a",
   "metadata": {},
   "outputs": [
    {
     "name": "stdout",
     "output_type": "stream",
     "text": [
      "\n",
      "\n",
      "\u001b[1m> Entering new AgentExecutor chain...\u001b[0m\n",
      "\u001b[32;1m\u001b[1;3m Hi there! I'd be happy to help you learn how to use the crop tool in our photo editing app! 📸\n",
      "\n",
      "To start, the crop tool is used to select a specific portion of an image and discard the rest. This can be useful when you want to focus on a particular subject or object within the image, or when you want to remove unwanted elements from the edges of the photo. 💡\n",
      "\n",
      "To access the crop tool, you can find it in the top toolbar of the app. It looks like a small square with a diagonal line through it. When you click on the crop tool, you'll see a rectangular box appear around the image. 📐\n",
      "\n",
      "To crop the image, simply drag the corners of the rectangular box to select the desired portion of the image. You can also use the handles on the sides of the box to adjust the size and position of the crop. 🔀\n",
      "\n",
      "For example, if you want to crop a photo to focus on a specific subject, you can use the crop tool to select the portion of the image that contains the subject. Then, you can discard the rest of the image by clicking on the \"Crop\" button. 📝\n",
      "\n",
      "I hope that helps! Do you have any specific questions about using the crop tool, or would you like to practice cropping an image? 😊\u001b[0m\n",
      "\n",
      "\u001b[1m> Finished chain.\u001b[0m\n"
     ]
    }
   ],
   "source": [
    "output = agent(\"Hi, I just downloaded your photo editing app, but I'm having trouble understanding how to use the crop tool.\")"
   ]
  },
  {
   "cell_type": "code",
   "execution_count": 16,
   "id": "e54297c3",
   "metadata": {},
   "outputs": [
    {
     "name": "stdout",
     "output_type": "stream",
     "text": [
      "\n",
      "\n",
      "\u001b[1m> Entering new AgentExecutor chain...\u001b[0m\n",
      "\u001b[32;1m\u001b[1;3m Sure thing! Adjusting the size and position of the crop is easy peasy. 🐰\n",
      "\n",
      "To adjust the size of the crop, you can drag the handles on the sides of the rectangular box. The handles are the little lines that extend from the corners of the box. 🔀\n",
      "\n",
      "For example, if you want to make the crop box smaller, you can drag the handles inward towards the center of the image. Conversely, if you want to make the crop box larger, you can drag the handles outward away from the center of the image. 📈\n",
      "\n",
      "To adjust the position of the crop, you can drag the entire rectangular box to a different location within the image. For instance, if you want to crop a specific object within the image, you can drag the crop box to position it over the object. 📍\n",
      "\n",
      "Remember, as you adjust the size and position of the crop, the preview of the cropped image will update in real-time, so you can see exactly what the final result will look like. 🔍\n",
      "\n",
      "I hope that helps! Do you have any other questions about using the crop tool, or would you like to try cropping an image on your own? 😊\u001b[0m\n",
      "\n",
      "\u001b[1m> Finished chain.\u001b[0m\n"
     ]
    },
    {
     "data": {
      "text/plain": [
       "{'input': \"I don't know how to adjust the size and position of the crop \",\n",
       " 'chat_history': [HumanMessage(content=\"Hi, I just downloaded your photo editing app, but I'm having trouble understanding how to use the crop tool.\", additional_kwargs={}, example=False),\n",
       "  AIMessage(content=' Hi there! I\\'d be happy to help you learn how to use the crop tool in our photo editing app! 📸\\n\\nTo start, the crop tool is used to select a specific portion of an image and discard the rest. This can be useful when you want to focus on a particular subject or object within the image, or when you want to remove unwanted elements from the edges of the photo. 💡\\n\\nTo access the crop tool, you can find it in the top toolbar of the app. It looks like a small square with a diagonal line through it. When you click on the crop tool, you\\'ll see a rectangular box appear around the image. 📐\\n\\nTo crop the image, simply drag the corners of the rectangular box to select the desired portion of the image. You can also use the handles on the sides of the box to adjust the size and position of the crop. 🔀\\n\\nFor example, if you want to crop a photo to focus on a specific subject, you can use the crop tool to select the portion of the image that contains the subject. Then, you can discard the rest of the image by clicking on the \"Crop\" button. 📝\\n\\nI hope that helps! Do you have any specific questions about using the crop tool, or would you like to practice cropping an image? 😊', additional_kwargs={}, example=False)],\n",
       " 'output': ' Sure thing! Adjusting the size and position of the crop is easy peasy. 🐰\\n\\nTo adjust the size of the crop, you can drag the handles on the sides of the rectangular box. The handles are the little lines that extend from the corners of the box. 🔀\\n\\nFor example, if you want to make the crop box smaller, you can drag the handles inward towards the center of the image. Conversely, if you want to make the crop box larger, you can drag the handles outward away from the center of the image. 📈\\n\\nTo adjust the position of the crop, you can drag the entire rectangular box to a different location within the image. For instance, if you want to crop a specific object within the image, you can drag the crop box to position it over the object. 📍\\n\\nRemember, as you adjust the size and position of the crop, the preview of the cropped image will update in real-time, so you can see exactly what the final result will look like. 🔍\\n\\nI hope that helps! Do you have any other questions about using the crop tool, or would you like to try cropping an image on your own? 😊'}"
      ]
     },
     "execution_count": 16,
     "metadata": {},
     "output_type": "execute_result"
    }
   ],
   "source": [
    "agent(\"I don't know how to adjust the size and position of the crop \")"
   ]
  },
  {
   "cell_type": "code",
   "execution_count": 17,
   "id": "7dbdf73e",
   "metadata": {},
   "outputs": [
    {
     "name": "stdout",
     "output_type": "stream",
     "text": [
      "\n",
      "\n",
      "\u001b[1m> Entering new AgentExecutor chain...\u001b[0m\n",
      "\u001b[32;1m\u001b[1;3m Of course! Adjusting the brightness and contrast of an image is a great way to enhance its overall look and feel. 💡\n",
      "\n",
      "To adjust the brightness and contrast of an image, you can use the \"Adjust\" tool, which is located in the top toolbar of the app. The Adjust tool looks like a small gear icon. 🔧\n",
      "\n",
      "When you click on the Adjust tool, a menu will appear with a variety of options for adjusting the brightness and contrast of the image. Here are the basic steps:\n",
      "\n",
      "1. Click on the Adjust tool in the top toolbar.\n",
      "2. Select the \"Brightness\" option from the menu.\n",
      "3. Use the slider to adjust the brightness of the image. Moving the slider to the right will make the image brighter, while moving it to the left will make the image darker. 🌟\n",
      "4. Select the \"Contrast\" option from the menu.\n",
      "5. Use the slider to adjust the contrast of the image. Moving the slider to the right will increase the contrast, while moving it to the left will decrease the contrast. 🔩\n",
      "\n",
      "As you adjust the brightness and contrast, you can see the changes reflected in the preview of the image. This allows you to fine-tune the adjustments until you achieve the desired look. 🔍\n",
      "\n",
      "Additionally, you can also adjust other aspects of the image, such as the saturation, warmth, and more. The Adjust tool provides a wide range of options for customizing the look of your images. 🎨\n",
      "\n",
      "I hope that helps! Do you have any other questions about adjusting the brightness and contrast of an image, or would you like to try it out on your own? 😊\u001b[0m\n",
      "\n",
      "\u001b[1m> Finished chain.\u001b[0m\n"
     ]
    },
    {
     "data": {
      "text/plain": [
       "{'input': 'Thanks that worked! Could you also guide me on how to adjust the brightness and contrast of an image obtained above?',\n",
       " 'chat_history': [HumanMessage(content=\"Hi, I just downloaded your photo editing app, but I'm having trouble understanding how to use the crop tool.\", additional_kwargs={}, example=False),\n",
       "  AIMessage(content=' Hi there! I\\'d be happy to help you learn how to use the crop tool in our photo editing app! 📸\\n\\nTo start, the crop tool is used to select a specific portion of an image and discard the rest. This can be useful when you want to focus on a particular subject or object within the image, or when you want to remove unwanted elements from the edges of the photo. 💡\\n\\nTo access the crop tool, you can find it in the top toolbar of the app. It looks like a small square with a diagonal line through it. When you click on the crop tool, you\\'ll see a rectangular box appear around the image. 📐\\n\\nTo crop the image, simply drag the corners of the rectangular box to select the desired portion of the image. You can also use the handles on the sides of the box to adjust the size and position of the crop. 🔀\\n\\nFor example, if you want to crop a photo to focus on a specific subject, you can use the crop tool to select the portion of the image that contains the subject. Then, you can discard the rest of the image by clicking on the \"Crop\" button. 📝\\n\\nI hope that helps! Do you have any specific questions about using the crop tool, or would you like to practice cropping an image? 😊', additional_kwargs={}, example=False),\n",
       "  HumanMessage(content=\"I don't know how to adjust the size and position of the crop \", additional_kwargs={}, example=False),\n",
       "  AIMessage(content=' Sure thing! Adjusting the size and position of the crop is easy peasy. 🐰\\n\\nTo adjust the size of the crop, you can drag the handles on the sides of the rectangular box. The handles are the little lines that extend from the corners of the box. 🔀\\n\\nFor example, if you want to make the crop box smaller, you can drag the handles inward towards the center of the image. Conversely, if you want to make the crop box larger, you can drag the handles outward away from the center of the image. 📈\\n\\nTo adjust the position of the crop, you can drag the entire rectangular box to a different location within the image. For instance, if you want to crop a specific object within the image, you can drag the crop box to position it over the object. 📍\\n\\nRemember, as you adjust the size and position of the crop, the preview of the cropped image will update in real-time, so you can see exactly what the final result will look like. 🔍\\n\\nI hope that helps! Do you have any other questions about using the crop tool, or would you like to try cropping an image on your own? 😊', additional_kwargs={}, example=False)],\n",
       " 'output': ' Of course! Adjusting the brightness and contrast of an image is a great way to enhance its overall look and feel. 💡\\n\\nTo adjust the brightness and contrast of an image, you can use the \"Adjust\" tool, which is located in the top toolbar of the app. The Adjust tool looks like a small gear icon. 🔧\\n\\nWhen you click on the Adjust tool, a menu will appear with a variety of options for adjusting the brightness and contrast of the image. Here are the basic steps:\\n\\n1. Click on the Adjust tool in the top toolbar.\\n2. Select the \"Brightness\" option from the menu.\\n3. Use the slider to adjust the brightness of the image. Moving the slider to the right will make the image brighter, while moving it to the left will make the image darker. 🌟\\n4. Select the \"Contrast\" option from the menu.\\n5. Use the slider to adjust the contrast of the image. Moving the slider to the right will increase the contrast, while moving it to the left will decrease the contrast. 🔩\\n\\nAs you adjust the brightness and contrast, you can see the changes reflected in the preview of the image. This allows you to fine-tune the adjustments until you achieve the desired look. 🔍\\n\\nAdditionally, you can also adjust other aspects of the image, such as the saturation, warmth, and more. The Adjust tool provides a wide range of options for customizing the look of your images. 🎨\\n\\nI hope that helps! Do you have any other questions about adjusting the brightness and contrast of an image, or would you like to try it out on your own? 😊'}"
      ]
     },
     "execution_count": 17,
     "metadata": {},
     "output_type": "execute_result"
    }
   ],
   "source": [
    "agent(\"Thanks that worked! Could you also guide me on how to adjust the brightness and contrast of an image obtained above?\")"
   ]
  },
  {
   "cell_type": "code",
   "execution_count": null,
   "id": "0ea05d16",
   "metadata": {},
   "outputs": [],
   "source": []
  }
 ],
 "metadata": {
  "kernelspec": {
   "display_name": "Python 3 (ipykernel)",
   "language": "python",
   "name": "python3"
  },
  "language_info": {
   "codemirror_mode": {
    "name": "ipython",
    "version": 3
   },
   "file_extension": ".py",
   "mimetype": "text/x-python",
   "name": "python",
   "nbconvert_exporter": "python",
   "pygments_lexer": "ipython3",
   "version": "3.11.3"
  }
 },
 "nbformat": 4,
 "nbformat_minor": 5
}
