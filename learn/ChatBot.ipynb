{
 "cells": [
  {
   "cell_type": "markdown",
   "id": "9d3ae544",
   "metadata": {},
   "source": [
    "# Using LangChain To Create ChatBot Via Konko"
   ]
  },
  {
   "cell_type": "markdown",
   "id": "4f273e6a",
   "metadata": {},
   "source": [
    "## Install necessary Python packages"
   ]
  },
  {
   "cell_type": "code",
   "execution_count": 1,
   "id": "fac92265",
   "metadata": {},
   "outputs": [],
   "source": [
    "# !pip install langchain\n",
    "# !pip install konko"
   ]
  },
  {
   "cell_type": "markdown",
   "id": "a45d5308",
   "metadata": {},
   "source": [
    "## Import Libraries"
   ]
  },
  {
   "cell_type": "code",
   "execution_count": 2,
   "id": "bfe45bd7",
   "metadata": {},
   "outputs": [],
   "source": [
    "import konko\n",
    "import os\n",
    "from langchain.llms import Konko\n",
    "from langchain.memory import ConversationBufferWindowMemory\n",
    "from langchain.agents import load_tools\n",
    "from langchain.agents import AgentOutputParser\n",
    "from langchain.agents.conversational_chat.prompt import FORMAT_INSTRUCTIONS\n",
    "from langchain.output_parsers.json import parse_json_markdown\n",
    "from langchain.schema import AgentAction, AgentFinish\n",
    "from langchain.agents import initialize_agent"
   ]
  },
  {
   "cell_type": "markdown",
   "id": "75a20e95",
   "metadata": {},
   "source": [
    "##  Set Environment Variables"
   ]
  },
  {
   "cell_type": "markdown",
   "id": "1047658d",
   "metadata": {},
   "source": [
    "Next, you need to set your environment variables for KONKO_URL and KONKO_TOKEN. Replace {your_token_here} with your actual token."
   ]
  },
  {
   "cell_type": "code",
   "execution_count": 3,
   "id": "023397a9",
   "metadata": {},
   "outputs": [],
   "source": [
    "os.environ['KONKO_URL'] = \"https://api.konko.ai/v0.3.0/\"\n",
    "os.environ['KONKO_TOKEN'] = \"kYSoL8IyM28fpztmQYxib7hgkbjTdDGB2Icq4nM8\""
   ]
  },
  {
   "cell_type": "markdown",
   "id": "b7866209",
   "metadata": {},
   "source": [
    "## Set Up Your Language Model"
   ]
  },
  {
   "cell_type": "markdown",
   "id": "82d14d2c",
   "metadata": {},
   "source": [
    "Next, configure your language model. In this context, we'll be utilizing Konko as a provider within the langchain library, specifically using the 'llama-2-13b-chat' model."
   ]
  },
  {
   "cell_type": "code",
   "execution_count": 4,
   "id": "50d52863",
   "metadata": {},
   "outputs": [],
   "source": [
    "llm = Konko(model_id='meta-llama--Llama-2-13b-chat-hf')"
   ]
  },
  {
   "cell_type": "markdown",
   "id": "79f50a8f",
   "metadata": {},
   "source": [
    "## Initializing an Conversational Agent"
   ]
  },
  {
   "cell_type": "markdown",
   "id": "3f6a19ad",
   "metadata": {},
   "source": [
    "\n",
    "We first need to initialize the agent. Conversational agents require several things such as conversational memory, access to tools, and an llm (which we have already initialized)."
   ]
  },
  {
   "cell_type": "code",
   "execution_count": 5,
   "id": "3ec5f51f",
   "metadata": {},
   "outputs": [],
   "source": [
    "memory = ConversationBufferWindowMemory(\n",
    "    memory_key=\"chat_history\", k=5, return_messages=True, output_key=\"output\"\n",
    ")\n",
    "tools = load_tools([\"llm-math\"], llm=llm)"
   ]
  },
  {
   "cell_type": "markdown",
   "id": "612f5ad3",
   "metadata": {},
   "source": [
    "##  Define the OutputParser Class"
   ]
  },
  {
   "cell_type": "markdown",
   "id": "34b54fb1",
   "metadata": {},
   "source": [
    "Define the OutputParser class to handle the parsing of the model's output"
   ]
  },
  {
   "cell_type": "code",
   "execution_count": 6,
   "id": "6dc1d1ca",
   "metadata": {},
   "outputs": [],
   "source": [
    "class OutputParser(AgentOutputParser):\n",
    "    def get_format_instructions(self) -> str:\n",
    "        return FORMAT_INSTRUCTIONS\n",
    "\n",
    "    def parse(self, text: str) -> AgentAction | AgentFinish:\n",
    "            return AgentFinish({\"output\": text}, text)\n",
    "\n",
    "    @property\n",
    "    def _type(self) -> str:\n",
    "        return \"conversational_chat\"\n",
    "\n",
    "# initialize output parser for agent\n",
    "parser = OutputParser()"
   ]
  },
  {
   "cell_type": "markdown",
   "id": "31fff533",
   "metadata": {},
   "source": [
    "## Initialize the Agent"
   ]
  },
  {
   "cell_type": "markdown",
   "id": "fe69bec0",
   "metadata": {},
   "source": [
    "Next, initialize the agent with the defined parser, memory buffer, tools, and the Konko model"
   ]
  },
  {
   "cell_type": "code",
   "execution_count": 7,
   "id": "4c615b32",
   "metadata": {},
   "outputs": [],
   "source": [
    "# initialize agent\n",
    "agent = initialize_agent(\n",
    "    agent=\"chat-conversational-react-description\",\n",
    "    tools=tools,\n",
    "    llm=llm,\n",
    "    verbose=True,\n",
    "    early_stopping_method=\"generate\",\n",
    "    memory=memory,\n",
    "    agent_kwargs={\"output_parser\": parser}\n",
    ")"
   ]
  },
  {
   "cell_type": "markdown",
   "id": "0c104428",
   "metadata": {},
   "source": [
    "# Set Up the Conversation Flow"
   ]
  },
  {
   "cell_type": "markdown",
   "id": "ba1f255a",
   "metadata": {},
   "source": [
    "Konko manages special instruction tokens, simplifying the creation of LLM-compatible prompts and streamlining your chatbot's interactions, allowing you to focus on other important aspects of your chatbot design."
   ]
  },
  {
   "cell_type": "code",
   "execution_count": 8,
   "id": "4f5fd7fd",
   "metadata": {},
   "outputs": [],
   "source": [
    "human_msg = \"{input}\"\n",
    "\n",
    "agent.agent.llm_chain.prompt.messages[2].prompt.template = human_msg"
   ]
  },
  {
   "cell_type": "markdown",
   "id": "81a1e01c",
   "metadata": {},
   "source": [
    "## Now we can begin asking questions..."
   ]
  },
  {
   "cell_type": "code",
   "execution_count": 9,
   "id": "11b9693a",
   "metadata": {},
   "outputs": [
    {
     "name": "stdout",
     "output_type": "stream",
     "text": [
      "\n",
      "\n",
      "\u001b[1m> Entering new AgentExecutor chain...\u001b[0m\n",
      "\u001b[32;1m\u001b[1;3m Hello! I'd be happy to help you with the crop tool in our photo editing app! 📸 Can you tell me a bit more about what you're trying to achieve with the crop tool? Are you looking to remove unwanted edges or objects from your photo, or do you want to adjust the composition of the image in some way? The more information you can provide, the better I'll be able to assist you. 😊\u001b[0m\n",
      "\n",
      "\u001b[1m> Finished chain.\u001b[0m\n"
     ]
    }
   ],
   "source": [
    "output = agent(\"Hi, I just downloaded your photo editing app, but I'm having trouble understanding how to use the crop tool.\")"
   ]
  },
  {
   "cell_type": "code",
   "execution_count": 10,
   "id": "e54297c3",
   "metadata": {},
   "outputs": [
    {
     "name": "stdout",
     "output_type": "stream",
     "text": [
      "\n",
      "\n",
      "\u001b[1m> Entering new AgentExecutor chain...\u001b[0m\n",
      "\u001b[32;1m\u001b[1;3m AI:  Sure thing! To adjust the size and position of the crop, you can use the handles that appear when you select an area to crop. The handles are the small squares that appear at the corners of the selection, and they allow you to adjust the size and position of the crop.\n",
      "\n",
      "To adjust the size of the crop, simply click and drag one of the handles inward or outward to make the selection larger or smaller. To adjust the position of the crop, click and drag one of the handles to move the selection to a different location within the image.\n",
      "\n",
      "Additionally, you can use the \"Crop\" option in the toolbar at the top of the screen to access additional settings for the crop tool. From there, you can choose whether you want to crop to a fixed ratio or enter custom dimensions, as well as adjust other options such as the aspect ratio and the position of the crop.\n",
      "\n",
      "Do these instructions help clarify how to use the crop tool? If you have any more questions or need further assistance, please don't hesitate to ask!\u001b[0m\n",
      "\n",
      "\u001b[1m> Finished chain.\u001b[0m\n"
     ]
    },
    {
     "data": {
      "text/plain": [
       "{'input': \"I don't know how to adjust the size and position of the crop \",\n",
       " 'chat_history': [HumanMessage(content=\"Hi, I just downloaded your photo editing app, but I'm having trouble understanding how to use the crop tool.\", additional_kwargs={}, example=False),\n",
       "  AIMessage(content=\" Hello! I'd be happy to help you with the crop tool in our photo editing app! Could you please provide more details about what specifically is confusing you? For example, are you having trouble understanding how to select the area to crop, or how to adjust the size and position of the crop? Additionally, if you have any screenshots or examples of what you're trying to achieve, that would be very helpful for me to better understand your needs.\", additional_kwargs={}, example=False)],\n",
       " 'output': ' AI:  Sure thing! To adjust the size and position of the crop, you can use the handles that appear when you select an area to crop. The handles are the small squares that appear at the corners of the selection, and they allow you to adjust the size and position of the crop.\\n\\nTo adjust the size of the crop, simply click and drag one of the handles inward or outward to make the selection larger or smaller. To adjust the position of the crop, click and drag one of the handles to move the selection to a different location within the image.\\n\\nAdditionally, you can use the \"Crop\" option in the toolbar at the top of the screen to access additional settings for the crop tool. From there, you can choose whether you want to crop to a fixed ratio or enter custom dimensions, as well as adjust other options such as the aspect ratio and the position of the crop.\\n\\nDo these instructions help clarify how to use the crop tool? If you have any more questions or need further assistance, please don\\'t hesitate to ask!'}"
      ]
     },
     "execution_count": 10,
     "metadata": {},
     "output_type": "execute_result"
    }
   ],
   "source": [
    "agent(\"I don't know how to adjust the size and position of the crop \")"
   ]
  },
  {
   "cell_type": "code",
   "execution_count": 12,
   "id": "7dbdf73e",
   "metadata": {},
   "outputs": [
    {
     "name": "stdout",
     "output_type": "stream",
     "text": [
      "\n",
      "\n",
      "\u001b[1m> Entering new AgentExecutor chain...\u001b[0m\n",
      "\u001b[32;1m\u001b[1;3m AI:  Of course! Adjusting the brightness and contrast of an image can help bring out the details and improve the overall look of the photo.\n",
      "\n",
      "To adjust the brightness and contrast of an image using our photo editing app, follow these steps:\n",
      "\n",
      "1. Select the image you want to edit.\n",
      "2. Click on the \"Edit\" button in the toolbar.\n",
      "3. In the \"Adjustments\" panel, click on the \"Brightness and Contrast\" tab.\n",
      "4. Use the sliders to adjust the brightness and contrast of the image.\n",
      "5. To adjust the brightness, slide the brightness slider to the left to darken the image, or to the right to lighten it.\n",
      "6. To adjust the contrast, slide the contrast slider to the left to reduce the difference between light and dark areas of the image, or to the right to increase the difference.\n",
      "7. As you adjust the brightness and contrast, you can preview the changes in real-time by clicking on the \"Preview\" button.\n",
      "8. When you're satisfied with the results, click on the \"Done\" button to apply the changes.\n",
      "\n",
      "Additionally, you can use the \"Auto\" option in the \"Brightness and Contrast\" tab to automatically adjust the brightness and contrast of the image based on the content. This can be a good starting point if you're not sure where to begin.\n",
      "\n",
      "I hope this helps! If you have any other questions or need further clarification, please don't hesitate to ask.\u001b[0m\n",
      "\n",
      "\u001b[1m> Finished chain.\u001b[0m\n"
     ]
    },
    {
     "data": {
      "text/plain": [
       "{'input': 'Thanks that worked! Could you also guide me on how to adjust the brightness and contrast of an image obtained above?',\n",
       " 'chat_history': [HumanMessage(content=\"Hi, I just downloaded your photo editing app, but I'm having trouble understanding how to use the crop tool.\", additional_kwargs={}, example=False),\n",
       "  AIMessage(content=\" Hello! I'd be happy to help you with the crop tool in our photo editing app! Could you please provide more details about what specifically is confusing you? For example, are you having trouble understanding how to select the area to crop, or how to adjust the size and position of the crop? Additionally, if you have any screenshots or examples of what you've tried so far, that would be really helpful for me to understand your issue better. I'll do my best to provide clear and concise instructions to help you master the crop tool!\", additional_kwargs={}, example=False),\n",
       "  HumanMessage(content=\"I don't know how to adjust the size and position of the crop \", additional_kwargs={}, example=False),\n",
       "  AIMessage(content=' AI:  Sure thing! To adjust the size and position of the crop, you can use the handles that appear when you select an area to crop. The handles are the small squares that appear at the corners of the selected area, and they allow you to adjust the size and position of the crop.\\n\\nTo adjust the size of the crop, simply click and drag one of the handles inward or outward to make the selection larger or smaller. You can also use the arrow keys on your keyboard to adjust the size of the crop in small increments.\\n\\nTo adjust the position of the crop, click and drag one of the handles to move the selection to a different location within the image. You can also use the arrow keys to fine-tune the position of the crop.\\n\\nAdditionally, you can use the \"Crop\" option in the toolbar to access additional settings that allow you to adjust the aspect ratio of the crop, or to remove any unwanted edges or borders from the image.\\n\\nI hope these instructions are helpful! If you have any other questions or need further clarification, please don\\'t hesitate to ask.', additional_kwargs={}, example=False)],\n",
       " 'output': ' AI:  Of course! Adjusting the brightness and contrast of an image can help bring out the details and improve the overall look of the photo.\\n\\nTo adjust the brightness and contrast of an image using our photo editing app, follow these steps:\\n\\n1. Select the image you want to edit.\\n2. Click on the \"Edit\" button in the toolbar.\\n3. In the \"Adjustments\" panel, click on the \"Brightness and Contrast\" tab.\\n4. Use the sliders to adjust the brightness and contrast of the image.\\n5. To adjust the brightness, slide the brightness slider to the left to darken the image, or to the right to lighten it.\\n6. To adjust the contrast, slide the contrast slider to the left to reduce the difference between light and dark areas of the image, or to the right to increase the difference.\\n7. As you adjust the brightness and contrast, you can preview the changes in real-time by clicking on the \"Preview\" button.\\n8. When you\\'re satisfied with the results, click on the \"Done\" button to apply the changes.\\n\\nAdditionally, you can use the \"Auto\" option in the \"Brightness and Contrast\" tab to automatically adjust the brightness and contrast of the image based on the content. This can be a good starting point if you\\'re not sure where to begin.\\n\\nI hope this helps! If you have any other questions or need further clarification, please don\\'t hesitate to ask.'}"
      ]
     },
     "execution_count": 12,
     "metadata": {},
     "output_type": "execute_result"
    }
   ],
   "source": [
    "agent(\"Thanks that worked! Could you also guide me on how to adjust the brightness and contrast of an image obtained above?\")"
   ]
  },
  {
   "cell_type": "code",
   "execution_count": null,
   "id": "0ea05d16",
   "metadata": {},
   "outputs": [],
   "source": []
  }
 ],
 "metadata": {
  "kernelspec": {
   "display_name": "Python 3 (ipykernel)",
   "language": "python",
   "name": "python3"
  },
  "language_info": {
   "codemirror_mode": {
    "name": "ipython",
    "version": 3
   },
   "file_extension": ".py",
   "mimetype": "text/x-python",
   "name": "python",
   "nbconvert_exporter": "python",
   "pygments_lexer": "ipython3",
   "version": "3.11.3"
  }
 },
 "nbformat": 4,
 "nbformat_minor": 5
}
