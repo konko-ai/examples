{
 "cells": [
  {
   "cell_type": "markdown",
   "id": "fded102b",
   "metadata": {},
   "source": [
    "# 5 Stages of Summarization: From Beginner to Expert"
   ]
  },
  {
   "cell_type": "markdown",
   "id": "fab8b2cf",
   "metadata": {},
   "source": [
    "Summarization is a vital component of many LLM tasks. In practical scenarios, you'll run into use cases where turning extensive texts into concise, meaningful points is essential.\n",
    "\n",
    "Depending on the text's length you're addressing, various summarization techniques can be applied.\n",
    "\n",
    "Here, we'll outline 5 distinct levels of summarization, ranging from basic to advanced. Remember, these aren't the only methods out there.\n",
    "\n",
    "**5 Levels Of Summarization:**\n",
    "Summarize a few sentences - Basic Prompt\n",
    "Summarize several paragraphs - Prompt Templates\n",
    "Summarize a few pages - Map Reduce\n",
    "Summarize a whole book - Best Representation Vectors\n",
    "Summarize text of an indeterminate length - Agents.\n",
    "1. **Summarize a few sentences** - Basic Prompt \n",
    "2. **Summarize several paragraphs** - Prompt Templates \n",
    "3. **Summarize a few pages** - Map Reduce \n",
    "4. **Summarize a few pages** - Recurssive Map Reduce\n",
    "5. **Summarize a whole book** - Best Representation Vectors\n",
    "\n",
    "Stay tuned for level 6 \n",
    "First, let's import our Konko API key from a .dotenv file.\n"
   ]
  },
  {
   "cell_type": "code",
   "execution_count": 1,
   "id": "f611fa21",
   "metadata": {},
   "outputs": [
    {
     "data": {
      "text/plain": [
       "False"
      ]
     },
     "execution_count": 1,
     "metadata": {},
     "output_type": "execute_result"
    }
   ],
   "source": [
    "from dotenv import load_dotenv,find_dotenv\n",
    "\n",
    "load_dotenv(find_dotenv())"
   ]
  },
  {
   "cell_type": "markdown",
   "id": "342796d0",
   "metadata": {},
   "source": [
    "## Level 1: Basic Prompt - Summarize a few sentences\n",
    "\n",
    "If you're looking to briefly summarize just a few sentences, you can simply use a direct prompt and then copy and paste your text.\n",
    "\n",
    "**Summarizing JIRA Tickets:**\n",
    "\n",
    "Businesses often drown in many JIRA tickets, overwhelming teams. Summarizing helps quickly grasp each ticket's essence amid the chaos. \n",
    "\n",
    "However, this method isn't scalable and is best suited for limited scenarios, fitting perfectly as level #1!"
   ]
  },
  {
   "cell_type": "code",
   "execution_count": 1,
   "id": "8a6ea241",
   "metadata": {},
   "outputs": [],
   "source": [
    "from langchain.chat_models import ChatKonko\n",
    "from langchain.schema import AIMessage, HumanMessage, SystemMessage"
   ]
  },
  {
   "cell_type": "code",
   "execution_count": 2,
   "id": "538ded7c",
   "metadata": {},
   "outputs": [],
   "source": [
    "llm = ChatKonko(model='meta-llama/Llama-2-70b-chat-hf', max_tokens = 1000)"
   ]
  },
  {
   "cell_type": "markdown",
   "id": "b18ca4b1",
   "metadata": {},
   "source": [
    "The crucial step is giving clear directions to the LLM, guiding its action. Here, I'm instructing the model to produce a summary of the following Jira Ticket."
   ]
  },
  {
   "cell_type": "code",
   "execution_count": 3,
   "id": "67146e99",
   "metadata": {},
   "outputs": [],
   "source": [
    "messages = [\n",
    "    SystemMessage(\n",
    "        content=\"You are a helpful assistant.\"\n",
    "    ),\n",
    "    HumanMessage(\n",
    "        content=\"\"\"\n",
    "                    Could you, in your eloquent way, condense this ticket's story for us?\n",
    "\n",
    "                    Ticket Content:\n",
    "                    Ticket ID: JIRA-78901\n",
    "                    Title: Implement Dynamic Cache Refresh Mechanism\n",
    "                    Reporter: Alex Thompson\n",
    "                    Assigned to: Jamie Cortez\n",
    "                    Status: Open\n",
    "                    Priority: High\n",
    "                    Description:\n",
    "                    Over the past few months, our XYZ product's analytics has shown a 25% decrease in response time, especially during peak usage hours. Analysis attributes this to cache bottlenecks, which are affecting user satisfaction scores and leading to an uptick in support tickets. This ticket proposes the development of a dynamic cache refresh mechanism. The intent is to have a smarter cache system that intelligently adjusts refresh rates based on real-time traffic loads and query complexities. By doing so, we aim to enhance server responsiveness, ensuring users have a seamless experience. This mechanism should also provide admin users with an interface to set manual overrides if needed. It's imperative that this solution seamlessly integrates with our current Redis setup and be scalable for future growth.\n",
    "\n",
    "                    Dependencies:\n",
    "\n",
    "                    Completion of ticket JIRA-78890 (Upgrade to Redis 7.0).\n",
    "                    Integration testing with the recently introduced user analytics module.\n",
    "                    Coordination with the database team and DevOps for deployment considerations.\n",
    "                    Comments:\n",
    "                    John Doe: Keep in mind our scheduled maintenance on the 20th. We shouldn’t have overlapping activities.\n",
    "                    Lucy Green: QA team will require documentation on the new features to ensure comprehensive testing. Expecting at least 3 days for complete QA post-implementation.\n",
    "                    Carlos Mendoza: Has anyone considered the impact on our mobile users? We need to ensure the changes are optimized for both desktop and mobile platforms.\n",
    "\n",
    "\"\"\"\n",
    "    ),\n",
    "]\n"
   ]
  },
  {
   "cell_type": "code",
   "execution_count": 4,
   "id": "61522722",
   "metadata": {},
   "outputs": [
    {
     "name": "stdout",
     "output_type": "stream",
     "text": [
      " Sure, here's a condensed version of the ticket's story:\n",
      "\n",
      "The XYZ product's response time has decreased by 25% over the past few months, especially during peak hours, due to cache bottlenecks. This ticket proposes the development of a dynamic cache refresh mechanism to address the issue, which will adjust refresh rates based on real-time traffic loads and query complexities. The solution should integrate with the current Redis setup, be scalable for future growth, and provide admin users with an interface to set manual overrides if needed. The dependencies for this ticket include the completion of ticket JIRA-78890 (Upgrade to Redis 7.0), integration testing with the recently introduced user analytics module, and coordination with the database team and DevOps for deployment considerations.\n",
      "\n",
      "Additionally, the QA team will require documentation on the new features for comprehensive testing, and the changes should be optimized for both desktop and mobile platforms. The implementation should not overlap with the scheduled maintenance on the 20th.\n"
     ]
    }
   ],
   "source": [
    "output = llm(messages)\n",
    "print(output.content)"
   ]
  },
  {
   "cell_type": "markdown",
   "id": "133d1b40",
   "metadata": {},
   "source": [
    "**The summary, though condensed, remains detailed for quick reads. We need a shorter version focusing on key points. Let's tweak our prompt for a clearer, concise snapshot without unnecessary specifics.**"
   ]
  },
  {
   "cell_type": "code",
   "execution_count": 5,
   "id": "ece0c069",
   "metadata": {},
   "outputs": [],
   "source": [
    "messages = [\n",
    "    SystemMessage(\n",
    "        content=\"You are a helpful assistant.\"\n",
    "    ),\n",
    "    HumanMessage(\n",
    "        content=\"\"\"\n",
    "                    Could you, in your eloquent way, condense this ticket's story for us? Our tech team would love a concise summary, highlighting:\n",
    "                    1. The core issue or feature being addressed.\n",
    "                    2. The primary expected outcomes.\n",
    "                    3. Any crucial dependencies or constraints.\n",
    "                    4. The urgency or priority level.\n",
    "\n",
    "                    Ticket Content:\n",
    "                    Ticket ID: JIRA-78901\n",
    "                    Title: Implement Dynamic Cache Refresh Mechanism\n",
    "                    Status: Open\n",
    "                    Priority: High\n",
    "                    Description:\n",
    "                    Over the past few months, our XYZ product's analytics has shown a 25% decrease in response time, especially during peak usage hours. Analysis attributes this to cache bottlenecks, which are affecting user satisfaction scores and leading to an uptick in support tickets. This ticket proposes the development of a dynamic cache refresh mechanism. The intent is to have a smarter cache system that intelligently adjusts refresh rates based on real-time traffic loads and query complexities. By doing so, we aim to enhance server responsiveness, ensuring users have a seamless experience. This mechanism should also provide admin users with an interface to set manual overrides if needed. It's imperative that this solution seamlessly integrates with our current Redis setup and be scalable for future growth.\n",
    "\n",
    "                    Dependencies:\n",
    "\n",
    "                    Completion of ticket JIRA-78890 (Upgrade to Redis 7.0).\n",
    "                    Integration testing with the recently introduced user analytics module.\n",
    "                    Coordination with the database team and DevOps for deployment considerations.\n",
    "                    Comments:\n",
    "                    John Doe: Keep in mind our scheduled maintenance on the 20th. We shouldn’t have overlapping activities.\n",
    "                    Lucy Green: QA team will require documentation on the new features to ensure comprehensive testing. Expecting at least 3 days for complete QA post-implementation.\n",
    "                    Carlos Mendoza: Has anyone considered the impact on our mobile users? We need to ensure the changes are optimized for both desktop and mobile platforms.\n",
    "\n",
    "\"\"\"\n",
    "    ),\n",
    "]\n"
   ]
  },
  {
   "cell_type": "code",
   "execution_count": 6,
   "id": "68f9b501",
   "metadata": {},
   "outputs": [
    {
     "name": "stdout",
     "output_type": "stream",
     "text": [
      " Sure, here's a concise summary of the ticket's story:\n",
      "\n",
      "1. Core issue/feature: Implement a dynamic cache refresh mechanism to address cache bottlenecks, reduce response time, and improve user satisfaction.\n",
      "2. Primary expected outcomes: Enhanced server responsiveness, seamless user experience, and an admin interface for manual overrides.\n",
      "3. Crucial dependencies/constraints:\n",
      "\t* Completion of ticket JIRA-78890 (Upgrade to Redis 7.0)\n",
      "\t* Integration testing with the recently introduced user analytics module\n",
      "\t* Coordination with the database team and DevOps for deployment considerations\n",
      "\t* Consideration of impact on mobile users\n",
      "4. Urgency/priority level: High priority, as the issue is affecting user satisfaction and leading to an increase in support tickets.\n",
      "\n",
      "I hope this summary helps your tech team understand the key aspects of the ticket!\n"
     ]
    }
   ],
   "source": [
    "output = llm(messages)\n",
    "print(output.content)"
   ]
  },
  {
   "cell_type": "markdown",
   "id": "6f294999",
   "metadata": {},
   "source": [
    "Nice! That's much better, but let's look at something we can automate a bit more"
   ]
  },
  {
   "cell_type": "markdown",
   "id": "13f1cf66",
   "metadata": {},
   "source": [
    "## Level 2: Prompt Templates - Summarize a few paragraphs\n",
    "\n",
    "Prompt templates are an effective method to dynamically insert specific text segments into your prompts. Think of them as akin to [Python f-strings](https://realpython.com/python-f-strings/), but tailored for seamless integration with language models.\n",
    "\n",
    "Let's delve into 2 short business documents: one about a **staff training memo** (representing \"Training and Onboarding\") and the other concerning a **yearly financial report** (representing \"Investor Relations\").\n",
    "\n",
    "While we have demonstrated the utility with these two specific scenarios, the potential applications are vast. For instance:\n",
    "\n",
    "1. **Customer Support:** Extract key issues from feedback to enhance product or service offerings.\n",
    "2. **Executive Briefings:** Create concise summaries for top decision-makers to grasp essential details without wading through extensive reports.\n",
    "3. **Product Reviews:** Summarize feedback on new product launches to quickly gauge customer sentiment and identify areas for improvement.\n",
    "4. **Market Research:** Collate insights about the latest industry trends and competitor activities in a brief format for strategic planning.\n",
    "\n",
    "By understanding the context and objectives, users can modify and tailor these templates to suit a wide array of business needs.\n"
   ]
  },
  {
   "cell_type": "code",
   "execution_count": 7,
   "id": "712acb03",
   "metadata": {},
   "outputs": [],
   "source": [
    "from langchain import PromptTemplate\n",
    "import os"
   ]
  },
  {
   "cell_type": "code",
   "execution_count": 8,
   "id": "b326aaeb",
   "metadata": {},
   "outputs": [],
   "source": [
    "paul_graham_essays = ['../data/memo/Onboarding_doc.txt', '../data/memo/Investor_relations.txt']\n",
    "\n",
    "essays = []\n",
    "\n",
    "for file_name in paul_graham_essays:\n",
    "    with open(file_name, 'r') as file:\n",
    "        essays.append(file.read())"
   ]
  },
  {
   "cell_type": "markdown",
   "id": "529ad7c1",
   "metadata": {},
   "source": [
    "Let's print out a preview of the essays to see what they look like"
   ]
  },
  {
   "cell_type": "code",
   "execution_count": 9,
   "id": "d7d93873",
   "metadata": {},
   "outputs": [
    {
     "name": "stdout",
     "output_type": "stream",
     "text": [
      "Essay #1: Training and Onboarding\n",
      "\n",
      "Our onboarding program for the Design Department has been formulated with extensive research and insights from current and past employees. The first week is dedicated to understanding the company’s history, mission, vision, and core values. We ensure this through a series of\n",
      "\n",
      "Essay #2: Investor relations report\n",
      "\n",
      "In the annual overview for 2022, XYZ has shown remarkable resilience and growth despite the challenges posed by the global landscape. Beginning with our achievements, XYZ's revenue surged by 25%, outpacing our closest competitors. This impressive growth can be attributed t\n",
      "\n"
     ]
    }
   ],
   "source": [
    "for i, essay in enumerate(essays):\n",
    "    print (f\"Essay #{i+1}: {essay[:300]}\\n\")"
   ]
  },
  {
   "cell_type": "markdown",
   "id": "8e70a48e",
   "metadata": {},
   "source": [
    "Next let's create a prompt template which will hold our instructions and a placeholder for the essay. In this illustration, we'll focus on extracting the core details, accomplishments, hurdles, and forthcoming plans or tactics."
   ]
  },
  {
   "cell_type": "code",
   "execution_count": 10,
   "id": "946c379a",
   "metadata": {},
   "outputs": [],
   "source": [
    "template = \"\"\"\n",
    "Summarize the key achievements, main challenges faced, and any forward-looking strategies or \n",
    "initiatives mentioned in the document.\n",
    "\n",
    "{essay}\n",
    "\"\"\"\n",
    "\n",
    "prompt = PromptTemplate(\n",
    "    input_variables=[\"essay\"],\n",
    "    template=template\n",
    ")"
   ]
  },
  {
   "cell_type": "markdown",
   "id": "51b2611b",
   "metadata": {},
   "source": [
    "Then let's loop through the 2 essays and pass them to our LLM. I'm applying .strip() on the summaries to remove the white space on the front and back of the output"
   ]
  },
  {
   "cell_type": "code",
   "execution_count": 11,
   "id": "f2038feb",
   "metadata": {},
   "outputs": [
    {
     "name": "stderr",
     "output_type": "stream",
     "text": [
      "Warning: model not found. Using cl100k_base encoding.\n"
     ]
    },
    {
     "name": "stdout",
     "output_type": "stream",
     "text": [
      "This prompt + essay has 395 tokens\n"
     ]
    },
    {
     "name": "stderr",
     "output_type": "stream",
     "text": [
      "Warning: model not found. Using cl100k_base encoding.\n"
     ]
    },
    {
     "name": "stdout",
     "output_type": "stream",
     "text": [
      "Summary:  The document describes the training and onboarding program for the Design Department at a company. The program lasts for four weeks and covers various topics, including company history, mission, and values, department-specific tools and practices, collaboration, and individual role-specific training. The program also includes soft skills training and feedback sessions.\n",
      "\n",
      "Key achievements:\n",
      "\n",
      "* The program has been formulated with extensive research and insights from current and past employees.\n",
      "* New hires have expressed high satisfaction with the mentorship program and hands-on approach.\n",
      "* 80% of new hires feel confident to start real projects by the end of the third week.\n",
      "\n",
      "Main challenges:\n",
      "\n",
      "* Some new hires have expressed a desire for more advanced workshops on emerging design tools.\n",
      "* There is a suggestion to have a few sessions dedicated solely to understanding user research and integrating findings into the design.\n",
      "\n",
      "Forward-looking strategies/initiatives:\n",
      "\n",
      "* None mentioned in the document.\n",
      "\n",
      "\n",
      "This prompt + essay has 324 tokens\n",
      "Summary:  Key Achievements:\n",
      "\n",
      "* 25% revenue growth, outpacing competitors\n",
      "* Successful entry into the Asian market, with doubled sales in the last quarter\n",
      "* Launch of three innovative products, expanding intellectual property portfolio\n",
      "\n",
      "Main Challenges:\n",
      "\n",
      "* Supply chain disruptions, resulting in 5% decline in production capacity\n",
      "* Unexpected resignations in senior management, requiring strategy realignments\n",
      "\n",
      "Forward-Looking Strategies/Initiatives:\n",
      "\n",
      "* Investment in green technologies, projecting a 15% revenue increase by 2024\n",
      "* Exploration of potential mergers and acquisitions to strengthen European market presence\n",
      "* Quarterly investor meetings for greater transparency and stronger relationships\n",
      "\n",
      "Investor Feedback:\n",
      "\n",
      "* Positive feedback on adaptability and growth in turbulent times\n",
      "* Concerns regarding tech sector volatility and desire for risk mitigation strategies\n",
      "\n",
      "\n"
     ]
    }
   ],
   "source": [
    "for essay in essays:\n",
    "    summary_prompt = prompt.format(essay=essay)\n",
    "    num_tokens = llm.get_num_tokens(summary_prompt)\n",
    "    print (f\"This prompt + essay has {num_tokens} tokens\")\n",
    "    messages = [\n",
    "        SystemMessage(\n",
    "            content=\"You are a helpful assistant.\"\n",
    "        ),\n",
    "        HumanMessage(\n",
    "            content=summary_prompt\n",
    "        ),\n",
    "    ]\n",
    "    summary = llm(messages)\n",
    "    \n",
    "    print (f\"Summary: {summary.content}\")\n",
    "    print (\"\\n\")"
   ]
  },
  {
   "cell_type": "markdown",
   "id": "49ae9a41",
   "metadata": {},
   "source": [
    "## Level 3: Map Reduce - Summarize a few pages \n",
    "\n",
    "**Why Summarize?**\n",
    "Summarizing large reports, like the \"Market report of The individual health insurance market in 2023,\" provides quick insights for businesses. It aids in:\n",
    "\n",
    "1. Faster decision-making.\n",
    "2. Clear stakeholder communication.\n",
    "3. Efficient meeting preparations.\n",
    "4. Sharing insights across teams.\n",
    "\n",
    "\n",
    "If you have multiple pages you'd like to summarize, you'll likely run into a token limit. Token limits won't always be a problem, but it is good to know how to handle them if you run into the issue.\n",
    "\n",
    "The chain type \"Map Reduce\" is a method that helps with this. You first generate a summary of smaller chunks (that fit within the token limit) and then you get a summary of the summaries.\n",
    "\n",
    "Check out [this video](https://www.youtube.com/watch?v=f9_BWhCI4Zo) for more information on how chain types work\n"
   ]
  },
  {
   "cell_type": "code",
   "execution_count": 12,
   "id": "c2ce6270",
   "metadata": {},
   "outputs": [],
   "source": [
    "from langchain.chains.summarize import load_summarize_chain\n",
    "from langchain.text_splitter import RecursiveCharacterTextSplitter"
   ]
  },
  {
   "cell_type": "code",
   "execution_count": 24,
   "id": "c70352ae",
   "metadata": {},
   "outputs": [],
   "source": [
    "market_essay = '../data/MarketReport_healthInsurance_originalVersion.txt'\n",
    "\n",
    "with open(market_essay, 'r') as file:\n",
    "    essay = file.read()"
   ]
  },
  {
   "cell_type": "markdown",
   "id": "bb6de34d",
   "metadata": {},
   "source": [
    "Let's see how many tokens are in this essay"
   ]
  },
  {
   "cell_type": "code",
   "execution_count": 25,
   "id": "b133938a",
   "metadata": {},
   "outputs": [
    {
     "name": "stderr",
     "output_type": "stream",
     "text": [
      "Warning: model not found. Using cl100k_base encoding.\n"
     ]
    },
    {
     "data": {
      "text/plain": [
       "2587"
      ]
     },
     "execution_count": 25,
     "metadata": {},
     "output_type": "execute_result"
    }
   ],
   "source": [
    "llm.get_num_tokens(essay)"
   ]
  },
  {
   "cell_type": "markdown",
   "id": "dc8ec39d",
   "metadata": {},
   "source": [
    "That's too many, let's split our text up into chunks so they fit into the prompt limit. I'm going a chunk size of 8,000 characters. \n",
    "\n",
    "> You can think of tokens as pieces of words used for natural language processing. For English text, **1 token is approximately 4 characters** or 0.75 words. As a point of reference, the collected works of Shakespeare are about 900,000 words or 1.2M tokens.\n",
    "\n",
    "This means the number of tokens we should expect is 8000 / 4 = ~ 2000 token chunks. But this will vary, each body of text/code will be different"
   ]
  },
  {
   "cell_type": "code",
   "execution_count": 26,
   "id": "2e7c372b",
   "metadata": {},
   "outputs": [],
   "source": [
    "text_splitter = RecursiveCharacterTextSplitter(separators=[\"\\n\\n\", \"\\n\"], chunk_size=8000, chunk_overlap=300)\n",
    "\n",
    "docs = text_splitter.create_documents([essay])"
   ]
  },
  {
   "cell_type": "code",
   "execution_count": 27,
   "id": "f66569f0",
   "metadata": {},
   "outputs": [
    {
     "name": "stderr",
     "output_type": "stream",
     "text": [
      "Warning: model not found. Using cl100k_base encoding.\n"
     ]
    },
    {
     "name": "stdout",
     "output_type": "stream",
     "text": [
      "Now we have 2 documents and the first one has 1621 tokens\n"
     ]
    }
   ],
   "source": [
    "num_docs = len(docs)\n",
    "\n",
    "num_tokens_first_doc = llm.get_num_tokens(docs[0].page_content)\n",
    "\n",
    "print (f\"Now we have {num_docs} documents and the first one has {num_tokens_first_doc} tokens\")"
   ]
  },
  {
   "cell_type": "markdown",
   "id": "b61d49f5",
   "metadata": {},
   "source": [
    "Great, assuming that number of tokens is consistent in the other docs we should be good to go. Let's use LangChain's [load_summarize_chain](https://python.langchain.com/en/latest/use_cases/summarization.html) to do the `map_reducing` for us. We first need to initialize our chain"
   ]
  },
  {
   "cell_type": "markdown",
   "id": "4f933f1f",
   "metadata": {},
   "source": [
    "**Determine Your Output Format**"
   ]
  },
  {
   "cell_type": "markdown",
   "id": "2eb6f653",
   "metadata": {},
   "source": [
    "Want a bullet-point summary? Tailor your prompts accordingly. By using custom prompts, you can instruct the model with precision.\n",
    "\n",
    "Here's a peek into setting up those prompts:\n",
    "\n",
    "**Map Prompt:** This will remain consistent for mapping. The goal? To achieve a concise summary."
   ]
  },
  {
   "cell_type": "code",
   "execution_count": 28,
   "id": "7442e889",
   "metadata": {},
   "outputs": [],
   "source": [
    "map_prompt = \"\"\"\n",
    "Write a concise summary of the following:\n",
    "\"{text}\"\n",
    "CONCISE SUMMARY:\n",
    "\"\"\"\n",
    "map_prompt_template = PromptTemplate(template=map_prompt, input_variables=[\"text\"])"
   ]
  },
  {
   "cell_type": "markdown",
   "id": "e908f0d6",
   "metadata": {},
   "source": [
    "**Combine Prompt:** This is where the magic of combining happens. For our goal, we want to refine and compile our mapped summaries into bullet points."
   ]
  },
  {
   "cell_type": "code",
   "execution_count": 29,
   "id": "6f42deb5",
   "metadata": {},
   "outputs": [],
   "source": [
    "combine_prompt = \"\"\"\n",
    "Write a concise summary of the following text delimited by triple backquotes.\n",
    "Return your response in bullet points which covers the key points of the text.\n",
    "```{text}```\n",
    "BULLET POINT SUMMARY:\n",
    "\"\"\"\n",
    "combine_prompt_template = PromptTemplate(template=combine_prompt, input_variables=[\"text\"])"
   ]
  },
  {
   "cell_type": "code",
   "execution_count": 30,
   "id": "e2051818",
   "metadata": {},
   "outputs": [],
   "source": [
    "summary_chain = load_summarize_chain(llm=llm,\n",
    "                                     chain_type='map_reduce',\n",
    "                                     map_prompt=map_prompt_template,\n",
    "                                     combine_prompt=combine_prompt_template\n",
    "                                    )"
   ]
  },
  {
   "cell_type": "code",
   "execution_count": 31,
   "id": "c986230f",
   "metadata": {},
   "outputs": [
    {
     "name": "stderr",
     "output_type": "stream",
     "text": [
      "Warning: model not found. Using cl100k_base encoding.\n"
     ]
    }
   ],
   "source": [
    "output = summary_chain.run(docs)"
   ]
  },
  {
   "cell_type": "markdown",
   "id": "3b4303ff",
   "metadata": {},
   "source": [
    "**Here is the summary**"
   ]
  },
  {
   "cell_type": "code",
   "execution_count": 32,
   "id": "e90a8582",
   "metadata": {},
   "outputs": [
    {
     "name": "stdout",
     "output_type": "stream",
     "text": [
      " * In 2023, the individual health insurance market has seen significant growth, with over 3.6 million new consumers entering the market.\n",
      "* Insurer participation has continued to grow, with national insurers expanding their participation the most.\n",
      "* Consumers have more choices in product offerings, with insurers offering 17% more plan options in 2023 than in 2022.\n",
      "* Premiums have increased modestly, with a median increase of 4% for the lowest-price silver plan.\n",
      "* The proportion of counties with a single insurer has decreased, and the number of plans available to consumers has increased.\n",
      "* Premiums have increased across all metal tiers and plan categories, with the highest increases for platinum and catastrophic plans.\n",
      "* National insurers have improved their price position in 2023, offering the lowest premiums for silver plans for 20% of consumers.\n",
      "* Insurtechs have seen a decrease in price leadership.\n",
      "* Medicaid and Blues plans maintain the highest proportion of price leadership, offering the lowest-cost option for 30% and 25% of consumers, respectively.\n"
     ]
    }
   ],
   "source": [
    "print(output)"
   ]
  },
  {
   "cell_type": "markdown",
   "id": "2a76f478",
   "metadata": {},
   "source": [
    "## Level 4: Summarize a few pages - Recurssive Map Reduce"
   ]
  },
  {
   "cell_type": "markdown",
   "id": "30f26d07",
   "metadata": {},
   "source": [
    "While the above summarization technique appears effective, it's essential to recognize some inherent challenges. Below, we outline these issues and propose solutions.\n",
    "\n"
   ]
  },
  {
   "cell_type": "markdown",
   "id": "030e1f72",
   "metadata": {},
   "source": [
    "**Current Challenge:**\n",
    "\n",
    "LangChain's 'Map Reduce' breaks down and summarizes content segments. However, the issue arises during the final summarization stage, when these summarized parts are consolidated, particularly for lengthy documents. This process can often surpass the token limit.\n",
    "\n",
    "We're now delving into a custom approach for iterative summarization. While our method offers benefits, it's important to highlight its inherent constraints, which we'll discuss further."
   ]
  },
  {
   "cell_type": "code",
   "execution_count": 33,
   "id": "2a907955",
   "metadata": {},
   "outputs": [],
   "source": [
    "import math\n",
    "from langchain.prompts.chat import (\n",
    "    ChatPromptTemplate,\n",
    "    SystemMessagePromptTemplate,\n",
    "    HumanMessagePromptTemplate,\n",
    ")\n",
    "\n",
    "MAX_TOKENS_SUMMARY = 1000\n",
    "SUMMARY_SYS_MSG = \"\"\"Write a concise summary of the following:\n",
    "\"{input}\"\n",
    "CONCISE SUMMARY:\"\"\"\n",
    "\n",
    "FINAL_SUMMARY_SYS_MSG = \"\"\"\n",
    "Write a concise summary of the following text delimited by triple backquotes.\n",
    "Return your response in bullet points which covers the key points of the text.\n",
    "```{input}```\n",
    "BULLET POINT SUMMARY:\n",
    "\"\"\"\n",
    "\n",
    "\n",
    "def token_len(input: str) -> int:\n",
    "    \"\"\"Get token length\"\"\"\n",
    "    return llm.get_num_tokens(input)\n",
    "\n",
    "def chunk(input: str) -> list:\n",
    "    input_tokens = token_len(input)\n",
    "    count = math.ceil(input_tokens / MAX_TOKENS_SUMMARY)\n",
    "    k, m = divmod(len(input), count)\n",
    "    chunks = [\n",
    "        input[i * k + min(i, m) : (i + 1) * k + min(i + 1, m)] for i in range(count)\n",
    "    ]\n",
    "    return chunks\n",
    "\n",
    "def summarize(input: str, final: bool = False) -> str:\n",
    "    if token_len(input) <= MAX_TOKENS_SUMMARY:\n",
    "        final = True  # Force bullet points if within token limit\n",
    "\n",
    "    # Use appropriate system message based on final flag\n",
    "    system_message = SystemMessagePromptTemplate.from_template(\n",
    "        template=FINAL_SUMMARY_SYS_MSG if final else SUMMARY_SYS_MSG\n",
    "    )\n",
    "    human_message = HumanMessagePromptTemplate.from_template(\n",
    "        template=\"Input: {input}\"\n",
    "    )\n",
    "\n",
    "    if final:  # Directly summarize with bullet points if final flag is set\n",
    "        prompt = ChatPromptTemplate(\n",
    "            input_variables=[\"input\"],\n",
    "            messages=[system_message, human_message],\n",
    "        )\n",
    "        _input = prompt.format_prompt(input=input)\n",
    "        single_string_prompt = (_input.to_messages()[0].content)\n",
    "        single_string_prompt = [\n",
    "                                    SystemMessage(\n",
    "                                        content=\"You are a helpful assistant.\"\n",
    "                                    ),\n",
    "                                    HumanMessage(\n",
    "                                        content=single_string_prompt\n",
    "                                    ),\n",
    "                                ]\n",
    "        output = llm(single_string_prompt)\n",
    "        return output\n",
    "\n",
    "    # If not 'final', proceed with chunk-wise summarization\n",
    "    chunks = chunk(input=input)\n",
    "    summary = \"\"\n",
    "\n",
    "    for i in chunks:\n",
    "        prompt = ChatPromptTemplate(\n",
    "            input_variables=[\"input\"],\n",
    "            messages=[system_message, human_message],\n",
    "        )\n",
    "\n",
    "        _input = prompt.format_prompt(input=i)\n",
    "        single_string_prompt = (_input.to_messages()[0].content)\n",
    "        single_string_prompt = [\n",
    "                                    SystemMessage(\n",
    "                                        content=\"You are a helpful assistant.\"\n",
    "                                    ),\n",
    "                                    HumanMessage(\n",
    "                                        content=single_string_prompt\n",
    "                                    ),\n",
    "                                ]\n",
    "        output = llm(single_string_prompt)\n",
    "        summary += f\"\\n{output}\"\n",
    "\n",
    "    # Check token length of the summary and decide next step\n",
    "    sum_tokens = token_len(input=summary)\n",
    "\n",
    "    if sum_tokens > MAX_TOKENS_SUMMARY:\n",
    "        return summarize(input=summary, final=True)  # Recur with 'final' set to True\n",
    "\n",
    "    return summarize(input=summary, final=True)"
   ]
  },
  {
   "cell_type": "code",
   "execution_count": 34,
   "id": "97c4bf9a",
   "metadata": {},
   "outputs": [],
   "source": [
    "market_essay = '../data/MarketReport_healthInsurance_shortVersion.txt'\n",
    "\n",
    "with open(market_essay, 'r') as file:\n",
    "    essay = file.read()"
   ]
  },
  {
   "cell_type": "markdown",
   "id": "3fe01711",
   "metadata": {},
   "source": [
    "Let's see how many tokens are in this essay"
   ]
  },
  {
   "cell_type": "code",
   "execution_count": 35,
   "id": "74e75383",
   "metadata": {},
   "outputs": [
    {
     "name": "stderr",
     "output_type": "stream",
     "text": [
      "Warning: model not found. Using cl100k_base encoding.\n"
     ]
    },
    {
     "data": {
      "text/plain": [
       "6196"
      ]
     },
     "execution_count": 35,
     "metadata": {},
     "output_type": "execute_result"
    }
   ],
   "source": [
    "llm.get_num_tokens(essay)"
   ]
  },
  {
   "cell_type": "markdown",
   "id": "50f65c11",
   "metadata": {},
   "source": [
    "**Let's examine the summary generated by our tailored method.**"
   ]
  },
  {
   "cell_type": "code",
   "execution_count": 36,
   "id": "334576f3",
   "metadata": {},
   "outputs": [
    {
     "name": "stderr",
     "output_type": "stream",
     "text": [
      "Warning: model not found. Using cl100k_base encoding.\n",
      "Warning: model not found. Using cl100k_base encoding.\n",
      "Warning: model not found. Using cl100k_base encoding.\n",
      "Warning: model not found. Using cl100k_base encoding.\n"
     ]
    }
   ],
   "source": [
    "output = summarize(essay)"
   ]
  },
  {
   "cell_type": "code",
   "execution_count": 37,
   "id": "be5fed7e",
   "metadata": {},
   "outputs": [
    {
     "name": "stdout",
     "output_type": "stream",
     "text": [
      " * The Federal Insurance Office (FIO) within the US Department of the Treasury has released its annual report, detailing its activities and efforts to promote consumer protection and maintain insurance industry stability.\n",
      "* The report highlights FIO's contributions to the Financial Stability Oversight Council (FSOC) and its work on climate-related financial risks.\n",
      "* FIO has been engaged in various international forums, such as the Joint Committee under the U.S.-EU Covered Agreement and the Sustainable Insurance Forum (SIF).\n",
      "* FIO has requested information on climate-related risks and the insurance sector and has proposed revisions to the annual TRIP data call to improve its evaluation of cyber insurance.\n",
      "* FIO has been actively engaging with various stakeholders, including organizations, affiliates, members, supporters, and individuals, to gather input on climate-related financial risks in the insurance sector.\n",
      "* FIO has also been working on modernizing and reorganizing surety regulations, and has conducted its annual data call in connection with the Terrorism Risk Insurance Program (TRIP).\n",
      "* The report also mentions FIO's participation in the Federal Advisory Committee on Insurance (FACI) and its initial observations on the responses to its request for information on climate-related risks.\n",
      "* FIO has announced its intention to publish a climate report by the end of 2022, focusing on insurance supervision and regulation of climate-related financial risks.\n"
     ]
    }
   ],
   "source": [
    "print(output.content)"
   ]
  },
  {
   "cell_type": "markdown",
   "id": "a86a0539",
   "metadata": {},
   "source": [
    "Looks good!"
   ]
  },
  {
   "cell_type": "markdown",
   "id": "59a6da87",
   "metadata": {},
   "source": [
    "## Level 5: Best Representation Vectors - Summarize an entire book\n",
    "\n",
    "As we navigate the intricacies of document summarization, it's evident that traditional methods, though robust in many scenarios, possess specific challenges. Let's briefly revisit these:\n",
    "\n",
    "1. Recursive Summarization:\n",
    "\n",
    "    **Function:** It partitions lengthy documents into digestible sections, which are individually summarized. These summaries are then amalgamated and further refined, iterating until a concise version surfaces.\n",
    "\n",
    "    **Shortcomings:**\n",
    "        1. Interrupted Logical Flow: Certain tools, such as LangChain, might split content without preserving its natural continuity.\n",
    "        2. Inconsistent Point Emphasis: The varied lengths of distinct points by authors can result in pivotal information being cut short or inadequately summarized.\n",
    "        \n",
    "    \n",
    "2. The 'Refine' Method:\n",
    "\n",
    "    **Function:** It incrementally improves summaries as more content is processed.\n",
    "\n",
    "    **Shortcomings:**\n",
    "        1. Inefficiency: Unlike recursive methods which leverage logarithmic time, this method proceeds linearly.\n",
    "        2. Bias Towards Initial Content: Preliminary segments may disproportionately influence the summary, even if they're unrelated to the main content.\n",
    "    \n",
    "Despite advances in language models, it's clear that some level of document segmentation and recursive summarization will always be necessary, especially for voluminous texts.\n",
    "\n",
    "In the upcoming section, we'll introduce an approach that seeks to address these challenges, ensuring coherent and meaningful summaries.\n",
    "\n",
    "We will be distilling expansive documents like \"The Economic Potential of Generative AI.\"\n",
    "\n"
   ]
  },
  {
   "cell_type": "code",
   "execution_count": 38,
   "id": "f6ed1dcb",
   "metadata": {},
   "outputs": [],
   "source": [
    "from langchain.document_loaders import PyPDFLoader\n",
    "\n",
    "# Load the book\n",
    "loader = PyPDFLoader(\"../data/the-economic-potential-of-generative-ai-the-next-productivity-frontier-vf.pdf\")\n",
    "pages = loader.load()\n",
    "\n",
    "# Combine the pages, and replace the tabs with spaces\n",
    "text = \"\"\n",
    "\n",
    "for page in pages:\n",
    "    text += page.page_content\n",
    "    \n",
    "text = text.replace('\\t', ' ')"
   ]
  },
  {
   "cell_type": "code",
   "execution_count": 39,
   "id": "6db88712",
   "metadata": {},
   "outputs": [
    {
     "name": "stderr",
     "output_type": "stream",
     "text": [
      "Warning: model not found. Using cl100k_base encoding.\n"
     ]
    },
    {
     "name": "stdout",
     "output_type": "stream",
     "text": [
      "This book has 31463 tokens in it\n"
     ]
    }
   ],
   "source": [
    "num_tokens = llm.get_num_tokens(text)\n",
    "\n",
    "print (f\"This book has {num_tokens} tokens in it\")"
   ]
  },
  {
   "cell_type": "markdown",
   "id": "4bedfe55",
   "metadata": {},
   "source": [
    "Handling a vast 33K tokens exceeds even GPT's 32K capacity, and with a cost of $1.00 for the prompt, we need an efficient approach. \n",
    "\n",
    "**Objective**: Distill the book's essence through strategic chunking.\n",
    "\n",
    "- **Chunk & Embed**: Divide the book into significant sections and transform them into vectors using embeddings.\n",
    "  \n",
    "- **Diversify**: Opt for a blend of chunks providing both a holistic and varied book perspective. Consider: Which 10 passages best encapsulate the book's essence?\n",
    "  \n",
    "- **Clustering & Selection**: Group similar vectors, pinpointing the ones that most exemplify each cluster, and subsequently summarize these selected portions.\n",
    "  \n",
    "- **End Goal**: Create a compelling summary that, while potentially losing some detail, captures the primary content.\n",
    "\n",
    "Remember, this is a tailored approach, not the definitive solution. And yes, summarizing an entire book always entails some loss of detail!\n"
   ]
  },
  {
   "cell_type": "code",
   "execution_count": 40,
   "id": "e0e930b3",
   "metadata": {},
   "outputs": [],
   "source": [
    "from langchain.schema import Document\n",
    "from langchain.text_splitter import RecursiveCharacterTextSplitter\n",
    "\n",
    "\n",
    "from langchain.vectorstores import FAISS\n",
    "from langchain.embeddings import HuggingFaceEmbeddings\n",
    "from langchain.chains.summarize import load_summarize_chain\n",
    "\n",
    "\n",
    "import os\n",
    "os.environ[\"TOKENIZERS_PARALLELISM\"] = \"false\"\n",
    "\n",
    "import numpy as np\n",
    "from sklearn.cluster import KMeans"
   ]
  },
  {
   "cell_type": "code",
   "execution_count": 41,
   "id": "0d3d233d",
   "metadata": {},
   "outputs": [],
   "source": [
    "text_splitter = RecursiveCharacterTextSplitter(separators=[\"\\n\\n\", \"\\n\", \"\\t\"], chunk_size=8000, chunk_overlap=800)\n",
    "\n",
    "docs = text_splitter.create_documents([text])"
   ]
  },
  {
   "cell_type": "code",
   "execution_count": 42,
   "id": "c1c2c701",
   "metadata": {},
   "outputs": [
    {
     "name": "stdout",
     "output_type": "stream",
     "text": [
      "Now our book is split up into 23 documents\n"
     ]
    }
   ],
   "source": [
    "num_documents = len(docs)\n",
    "\n",
    "print (f\"Now our book is split up into {num_documents} documents\")"
   ]
  },
  {
   "cell_type": "markdown",
   "id": "8d413b2d",
   "metadata": {},
   "source": [
    "Let's get our embeddings of those 26 documents"
   ]
  },
  {
   "cell_type": "code",
   "execution_count": 43,
   "id": "898fc62c",
   "metadata": {},
   "outputs": [],
   "source": [
    "embeddings = HuggingFaceEmbeddings()\n",
    "\n",
    "vectors = embeddings.embed_documents([x.page_content for x in docs])"
   ]
  },
  {
   "cell_type": "markdown",
   "id": "726f6dee",
   "metadata": {},
   "source": [
    "Now let's cluster our embeddings. There are a ton of clustering algorithms you can chose from. Please try a few out to see what works best for you!"
   ]
  },
  {
   "cell_type": "code",
   "execution_count": 44,
   "id": "55c8dce0",
   "metadata": {},
   "outputs": [
    {
     "name": "stdout",
     "output_type": "stream",
     "text": [
      "(23, 768)\n"
     ]
    },
    {
     "name": "stderr",
     "output_type": "stream",
     "text": [
      "/Users/shivanimodi/anaconda3/lib/python3.11/site-packages/sklearn/cluster/_kmeans.py:870: FutureWarning: The default value of `n_init` will change from 10 to 'auto' in 1.4. Set the value of `n_init` explicitly to suppress the warning\n",
      "  warnings.warn(\n"
     ]
    }
   ],
   "source": [
    "# Assuming 'embeddings' is a list or array of 768-dimensional embeddings\n",
    "\n",
    "# Choose the number of clusters, this can be adjusted based on the book's content.\n",
    "# I played around and found ~4 was the best.\n",
    "num_clusters = 5\n",
    "\n",
    "# Perform K-means clustering\n",
    "vectors_array = np.array(vectors)\n",
    "print(vectors_array.shape)\n",
    "kmeans = KMeans(n_clusters=num_clusters, random_state=42).fit(vectors_array)\n"
   ]
  },
  {
   "cell_type": "markdown",
   "id": "891d82cd",
   "metadata": {},
   "source": [
    "The identified clusters offer an intriguing glimpse into the book's progression. As the narrative evolves, we can anticipate shifts in the clusters, reflecting the varying semantic contexts."
   ]
  },
  {
   "cell_type": "code",
   "execution_count": 45,
   "id": "218dce05",
   "metadata": {},
   "outputs": [
    {
     "data": {
      "text/plain": [
       "array([0, 0, 1, 0, 3, 3, 2, 0, 3, 3, 0, 1, 1, 1, 1, 0, 1, 0, 4, 4, 1, 1,\n",
       "       0], dtype=int32)"
      ]
     },
     "execution_count": 45,
     "metadata": {},
     "output_type": "execute_result"
    }
   ],
   "source": [
    "kmeans.labels_"
   ]
  },
  {
   "cell_type": "markdown",
   "id": "1d9ccd8b",
   "metadata": {},
   "source": [
    "This is neat, but in any clustering task, visualizing them is quite compelling. Don't forget to incorporate colors.\n",
    "\n",
    "Additionally, we should perform dimensionality reduction to bring down the vectors from 768 dimensions to just 2. While this approach isn't rigorous data science, it aligns with our goal of achieving an 80% solution."
   ]
  },
  {
   "cell_type": "code",
   "execution_count": 46,
   "id": "95da2509",
   "metadata": {},
   "outputs": [
    {
     "data": {
      "image/png": "[encoded data removed]",
      "text/plain": [
       "<Figure size 640x480 with 1 Axes>"
      ]
     },
     "metadata": {},
     "output_type": "display_data"
    }
   ],
   "source": [
    "from sklearn.manifold import TSNE\n",
    "import matplotlib.pyplot as plt\n",
    "\n",
    "\n",
    "import warnings\n",
    "from warnings import simplefilter\n",
    "import numpy as np\n",
    "\n",
    "\n",
    "simplefilter(action='ignore', category=FutureWarning)\n",
    "\n",
    "# Perform t-SNE and reduce to 2 dimensions\n",
    "tsne = TSNE(n_components=2, random_state=42, perplexity=10)\n",
    "vectors = np.array(vectors)\n",
    "reduced_data_tsne = tsne.fit_transform(vectors)\n",
    "\n",
    "# Plot the reduced data\n",
    "plt.scatter(reduced_data_tsne[:, 0], reduced_data_tsne[:, 1], c=kmeans.labels_)\n",
    "plt.xlabel('Dimension 1')\n",
    "plt.ylabel('Dimension 2')\n",
    "plt.title('Book Embeddings Clustered')\n",
    "plt.show()"
   ]
  },
  {
   "cell_type": "markdown",
   "id": "6aa4314b",
   "metadata": {},
   "source": [
    "Next, we should identify the vectors nearest to the cluster centroids (the central point).\n",
    "\n",
    "Below is a function that accomplishes this efficiently."
   ]
  },
  {
   "cell_type": "code",
   "execution_count": 47,
   "id": "55f2f664",
   "metadata": {},
   "outputs": [],
   "source": [
    "# Determine the embeddings closest to the centroids\n",
    "\n",
    "# Initialize a list to store indices of nearest points\n",
    "closest_indices = []\n",
    "\n",
    "# Iterate over all clusters\n",
    "for i in range(num_clusters):\n",
    "    \n",
    "    # Calculate distances from the current cluster's center\n",
    "    distances = np.linalg.norm(vectors - kmeans.cluster_centers_[i], axis=1)\n",
    "    \n",
    "    # Identify the index of the minimum distance (closest point)\n",
    "    closest_index = np.argmin(distances)\n",
    "    \n",
    "    # Store the identified index in the list\n",
    "    closest_indices.append(closest_index)\n"
   ]
  },
  {
   "cell_type": "markdown",
   "id": "f5a44596",
   "metadata": {},
   "source": [
    "Now, arrange them in sequence (to ensure chunks are processed sequentially)."
   ]
  },
  {
   "cell_type": "code",
   "execution_count": 48,
   "id": "679297ac",
   "metadata": {},
   "outputs": [
    {
     "data": {
      "text/plain": [
       "[0, 5, 6, 11, 18]"
      ]
     },
     "execution_count": 48,
     "metadata": {},
     "output_type": "execute_result"
    }
   ],
   "source": [
    "selected_indices = sorted(closest_indices)\n",
    "selected_indices"
   ]
  },
  {
   "cell_type": "markdown",
   "id": "171c2b42",
   "metadata": {},
   "source": [
    "It's intersting to see which chunks pop up at most descriptive. \n",
    "\n",
    "Let's create our custom prompts."
   ]
  },
  {
   "cell_type": "code",
   "execution_count": 49,
   "id": "5552e6d3",
   "metadata": {},
   "outputs": [],
   "source": [
    "map_prompt = \"\"\"\n",
    "You will be given a single passage of a book. This section will be enclosed in triple backticks (```)\n",
    "Your goal is to give a concise summary of this section so that a reader will have a full understanding of what happened.\n",
    "Your response should be at least three paragraphs and fully encompass what was said in the passage.\n",
    "\n",
    "```{text}```\n",
    "Concise SUMMARY:\n",
    "\"\"\"\n",
    "map_prompt_template = PromptTemplate(template=map_prompt, input_variables=[\"text\"])"
   ]
  },
  {
   "cell_type": "markdown",
   "id": "b568b94a",
   "metadata": {},
   "source": [
    "**In this example I will do the map reduce manually**"
   ]
  },
  {
   "cell_type": "code",
   "execution_count": 50,
   "id": "bb5eb0d9",
   "metadata": {},
   "outputs": [],
   "source": [
    "map_chain = load_summarize_chain(llm=llm,\n",
    "                             chain_type=\"stuff\",\n",
    "                             prompt=map_prompt_template)"
   ]
  },
  {
   "cell_type": "markdown",
   "id": "e4e1ec38",
   "metadata": {},
   "source": [
    "Then go get your docs which the top vectors represented."
   ]
  },
  {
   "cell_type": "code",
   "execution_count": 51,
   "id": "781a686c",
   "metadata": {},
   "outputs": [],
   "source": [
    "selected_docs = [docs[doc] for doc in selected_indices]"
   ]
  },
  {
   "cell_type": "markdown",
   "id": "eca5fc42",
   "metadata": {},
   "source": [
    "Let's loop through our selected docs and get a good summary for each chunk. We'll store the summary in a list."
   ]
  },
  {
   "cell_type": "code",
   "execution_count": 52,
   "id": "84f50afc",
   "metadata": {},
   "outputs": [
    {
     "name": "stdout",
     "output_type": "stream",
     "text": [
      "Summary #0 (chunk #0) - Preview:  The article discusses the economic potential of generative AI, a technology that could add trillions of dollars in value to the global economy. Generative AI has the potential to automate work activities that absorb 60-70% of employees' time, accele \n",
      "\n",
      "Summary #1 (chunk #5) - Preview:  This passage discusses the potential impact of generative AI on various business functions, including product discovery and search, sales, software engineering, and product R&D. Generative AI can personalize product discovery and search with multimo \n",
      "\n",
      "Summary #2 (chunk #6) - Preview:  This passage discusses the potential of generative AI in various industries, particularly in the field of research and development (R&D). The authors argue that generative AI has the potential to revolutionize R&D by enabling faster and more efficie \n",
      "\n",
      "Summary #3 (chunk #11) - Preview:  This passage discusses the potential for generative AI to accelerate technical automation and transform knowledge work. The authors analyze the capabilities of generative AI and how it can automate various work activities. They find that generative  \n",
      "\n",
      "Summary #4 (chunk #18) - Preview:  This passage discusses the potential impact of generative AI on the labor market. According to a study by McKinsey & Company, generative AI could automate up to 25% of current work tasks, with scenarios ranging from 15% to 35%, depending on differen \n",
      "\n"
     ]
    }
   ],
   "source": [
    "# Make an empty list to hold your summaries\n",
    "summary_list = []\n",
    "\n",
    "# Loop through a range of the lenght of your selected docs\n",
    "for i, doc in enumerate(selected_docs):\n",
    "    \n",
    "    # Go get a summary of the chunk\n",
    "    chunk_summary = map_chain.run([doc])\n",
    "    \n",
    "    # Append that summary to your list\n",
    "    summary_list.append(chunk_summary)\n",
    "    \n",
    "    print (f\"Summary #{i} (chunk #{selected_indices[i]}) - Preview: {chunk_summary[:250]} \\n\")"
   ]
  },
  {
   "cell_type": "code",
   "execution_count": 53,
   "id": "7e2220ab",
   "metadata": {},
   "outputs": [
    {
     "name": "stdout",
     "output_type": "stream",
     "text": [
      "Processed Summary #0 (from chunk #0) - Snippet:  The article discusses the economic potential of generative AI, a technology that has the ability to generate new and original content, such as text, music, and digital art. The authors estimate that generative AI could add $2.6 to $4.4 trillion in v \n",
      "\n",
      "Processed Summary #1 (from chunk #5) - Snippet:  This passage discusses the potential of generative AI to increase productivity in various industries, including marketing, sales, software engineering, and product R&D. Generative AI can help personalize product discovery and search, improve lead de \n",
      "\n",
      "Processed Summary #2 (from chunk #6) - Snippet:  This passage discusses the potential of generative AI in various industries, particularly in the field of research and development (R&D). The authors argue that generative AI can significantly improve productivity in R&D by enabling the rapid genera \n",
      "\n",
      "Processed Summary #3 (from chunk #11) - Snippet:  This passage discusses the potential for automation to increase productivity and enhance prosperity, with a focus on the impact of generative AI on the technical potential for automation. The authors estimate that with the acceleration in technical  \n",
      "\n",
      "Processed Summary #4 (from chunk #18) - Snippet:  This passage discusses the potential impact of generative AI on the labor market. Three studies are presented, each with a different approach to estimating the exposure of various occupations to AI automation. The first study, by Edward W. Felten, M \n",
      "\n"
     ]
    }
   ],
   "source": [
    "# Initialize a list for storing summaries\n",
    "summaries = []\n",
    "\n",
    "# Iterate over the selected documents\n",
    "for idx, document in enumerate(selected_docs):\n",
    "    # Obtain a summary for the specific chunk\n",
    "    summarized_chunk = map_chain.run([document])\n",
    "    \n",
    "    # Add the summarized chunk to the summaries list\n",
    "    summaries.append(summarized_chunk)\n",
    "    \n",
    "    print (f\"Processed Summary #{idx} (from chunk #{selected_indices[idx]}) - Snippet: {summarized_chunk[:250]} \\n\")"
   ]
  },
  {
   "cell_type": "markdown",
   "id": "7fae1a72",
   "metadata": {},
   "source": [
    "Great, now that we have our list of summaries, let's get a summary of the summaries"
   ]
  },
  {
   "cell_type": "code",
   "execution_count": 54,
   "id": "4083431d",
   "metadata": {},
   "outputs": [
    {
     "name": "stderr",
     "output_type": "stream",
     "text": [
      "Warning: model not found. Using cl100k_base encoding.\n"
     ]
    },
    {
     "name": "stdout",
     "output_type": "stream",
     "text": [
      "Your total summary has 1135 tokens\n"
     ]
    }
   ],
   "source": [
    "summaries = \"\\n\".join(summaries)\n",
    "\n",
    "# Convert it back to a document\n",
    "summaries = Document(page_content=summaries)\n",
    "\n",
    "print (f\"Your total summary has {llm.get_num_tokens(summaries.page_content)} tokens\")"
   ]
  },
  {
   "cell_type": "code",
   "execution_count": 55,
   "id": "b98e7321",
   "metadata": {},
   "outputs": [],
   "source": [
    "combine_prompt = \"\"\"\n",
    "You will be given a series of summaries from a book. The summaries will be enclosed in triple backticks (```)\n",
    "Your goal is to give a concise summary of what happened in the story.\n",
    "The reader should be able to grasp what happened in the book.\n",
    "\n",
    "```{text}```\n",
    "CONCISE SUMMARY:\n",
    "\"\"\"\n",
    "combine_prompt_template = PromptTemplate(template=combine_prompt, input_variables=[\"text\"])"
   ]
  },
  {
   "cell_type": "code",
   "execution_count": 56,
   "id": "2930c26e",
   "metadata": {},
   "outputs": [],
   "source": [
    "reduce_chain = load_summarize_chain(llm=llm,\n",
    "                             chain_type=\"stuff\",\n",
    "                             prompt=combine_prompt_template,\n",
    "                                   )"
   ]
  },
  {
   "cell_type": "code",
   "execution_count": 57,
   "id": "c6eda913",
   "metadata": {},
   "outputs": [],
   "source": [
    "output = reduce_chain.run([summaries])"
   ]
  },
  {
   "cell_type": "code",
   "execution_count": 58,
   "id": "915628a1",
   "metadata": {},
   "outputs": [
    {
     "name": "stdout",
     "output_type": "stream",
     "text": [
      " Generative AI has the potential to significantly impact various industries and increase productivity, with an estimated value ranging from $2.6 trillion to $4.4 trillion. It can automate certain tasks, enhance productivity, and create novel product categories, leading to step changes in economic growth. The technology can also challenge existing business models and intellectual property laws.\n",
      "\n",
      "In the field of research and development (R&D), generative AI can improve productivity by enabling the rapid generation of design options, reducing the time required for physical testing, and optimizing test cases. It can also create novel product categories, leading to step changes in economic growth.\n",
      "\n",
      "The impact of generative AI on the labor market is significant, with highly-educated, highly-paid, white-collar occupations being most exposed to generative AI. It could increase labor productivity by 0.1% to 0.6% annually over the next ten to 20 years, depending on the difficulty level of tasks generative AI could perform, how many jobs are automated, and the speed of adoption.\n",
      "\n",
      "Overall, generative AI has the potential to revolutionize various industries and increase productivity, leading to significant economic growth. However, it also raises important questions about the impact on the labor market and the need for workers to adapt to new roles and technologies.\n"
     ]
    }
   ],
   "source": [
    "print (output)"
   ]
  },
  {
   "cell_type": "markdown",
   "id": "27a1db73",
   "metadata": {},
   "source": [
    "Wow that was a long process, but you get the gist, hopefully we'll see some library abstractions in the coming months that do this automatically for us!"
   ]
  },
  {
   "cell_type": "code",
   "execution_count": null,
   "id": "7a8803be",
   "metadata": {},
   "outputs": [],
   "source": []
  },
  {
   "cell_type": "code",
   "execution_count": null,
   "id": "9ab8944b",
   "metadata": {},
   "outputs": [],
   "source": []
  }
 ],
 "metadata": {
  "kernelspec": {
   "display_name": "Python 3 (ipykernel)",
   "language": "python",
   "name": "python3"
  },
  "language_info": {
   "codemirror_mode": {
    "name": "ipython",
    "version": 3
   },
   "file_extension": ".py",
   "mimetype": "text/x-python",
   "name": "python",
   "nbconvert_exporter": "python",
   "pygments_lexer": "ipython3",
   "version": "3.11.3"
  }
 },
 "nbformat": 4,
 "nbformat_minor": 5
}
