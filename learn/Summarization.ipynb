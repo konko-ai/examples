{
 "cells": [
  {
   "cell_type": "markdown",
   "id": "fded102b",
   "metadata": {},
   "source": [
    "# 5 Stages of Summarization: From Beginner to Expert"
   ]
  },
  {
   "cell_type": "markdown",
   "id": "fab8b2cf",
   "metadata": {},
   "source": [
    "Summarization is a vital component of many LLM tasks. In practical scenarios, you'll run into use cases where turning extensive texts into concise, meaningful points is essential.\n",
    "\n",
    "Depending on the text's length you're addressing, various summarization techniques can be applied.\n",
    "\n",
    "Here, we'll outline 5 distinct levels of summarization, ranging from basic to advanced. Remember, these aren't the only methods out there.\n",
    "\n",
    "**5 Levels Of Summarization:**\n",
    "Summarize a few sentences - Basic Prompt\n",
    "Summarize several paragraphs - Prompt Templates\n",
    "Summarize a few pages - Map Reduce\n",
    "Summarize a whole book - Best Representation Vectors\n",
    "Summarize text of an indeterminate length - Agents.\n",
    "1. **Summarize a few sentences** - Basic Prompt \n",
    "2. **Summarize several paragraphs** - Prompt Templates \n",
    "3. **Summarize a few pages** - Map Reduce \n",
    "4. **Summarize a few pages** - Recurssive Map Reduce\n",
    "5. **Summarize a whole book** - Best Representation Vectors\n",
    "\n",
    "Stay tuned for level 6 \n",
    "First, let's import our Konko API key from a .dotenv file.\n"
   ]
  },
  {
   "cell_type": "code",
   "execution_count": 1,
   "id": "f611fa21",
   "metadata": {},
   "outputs": [
    {
     "data": {
      "text/plain": [
       "True"
      ]
     },
     "execution_count": 1,
     "metadata": {},
     "output_type": "execute_result"
    }
   ],
   "source": [
    "from dotenv import load_dotenv,find_dotenv\n",
    "\n",
    "load_dotenv(find_dotenv())"
   ]
  },
  {
   "cell_type": "markdown",
   "id": "342796d0",
   "metadata": {},
   "source": [
    "## Level 1: Basic Prompt - Summarize a few sentences\n",
    "\n",
    "If you're looking to briefly summarize just a few sentences, you can simply use a direct prompt and then copy and paste your text.\n",
    "\n",
    "**Summarizing JIRA Tickets:**\n",
    "\n",
    "Businesses often drown in many JIRA tickets, overwhelming teams. Summarizing helps quickly grasp each ticket's essence amid the chaos. \n",
    "\n",
    "However, this method isn't scalable and is best suited for limited scenarios, fitting perfectly as level #1!"
   ]
  },
  {
   "cell_type": "code",
   "execution_count": 2,
   "id": "8a6ea241",
   "metadata": {},
   "outputs": [],
   "source": [
    "from langchain import Konko"
   ]
  },
  {
   "cell_type": "code",
   "execution_count": 3,
   "id": "538ded7c",
   "metadata": {},
   "outputs": [],
   "source": [
    "llm = Konko(model_id='meta-llama--Llama-2-13b-chat-hf')"
   ]
  },
  {
   "cell_type": "markdown",
   "id": "b18ca4b1",
   "metadata": {},
   "source": [
    "The crucial step is giving clear directions to the LLM, guiding its action. Here, I'm instructing the model to produce a summary of the following Jira Ticket."
   ]
  },
  {
   "cell_type": "code",
   "execution_count": 4,
   "id": "67146e99",
   "metadata": {},
   "outputs": [],
   "source": [
    "prompt = \"\"\"\n",
    "Could you, in your eloquent way, condense this ticket's story for us?\n",
    "\n",
    "Ticket Content:\n",
    "Ticket ID: JIRA-78901\n",
    "Title: Implement Dynamic Cache Refresh Mechanism\n",
    "Reporter: Alex Thompson\n",
    "Assigned to: Jamie Cortez\n",
    "Status: Open\n",
    "Priority: High\n",
    "Description:\n",
    "Over the past few months, our XYZ product's analytics has shown a 25% decrease in response time, especially during peak usage hours. Analysis attributes this to cache bottlenecks, which are affecting user satisfaction scores and leading to an uptick in support tickets. This ticket proposes the development of a dynamic cache refresh mechanism. The intent is to have a smarter cache system that intelligently adjusts refresh rates based on real-time traffic loads and query complexities. By doing so, we aim to enhance server responsiveness, ensuring users have a seamless experience. This mechanism should also provide admin users with an interface to set manual overrides if needed. It's imperative that this solution seamlessly integrates with our current Redis setup and be scalable for future growth.\n",
    "\n",
    "Dependencies:\n",
    "\n",
    "Completion of ticket JIRA-78890 (Upgrade to Redis 7.0).\n",
    "Integration testing with the recently introduced user analytics module.\n",
    "Coordination with the database team and DevOps for deployment considerations.\n",
    "Comments:\n",
    "John Doe: Keep in mind our scheduled maintenance on the 20th. We shouldn’t have overlapping activities.\n",
    "Lucy Green: QA team will require documentation on the new features to ensure comprehensive testing. Expecting at least 3 days for complete QA post-implementation.\n",
    "Carlos Mendoza: Has anyone considered the impact on our mobile users? We need to ensure the changes are optimized for both desktop and mobile platforms.\n",
    "\n",
    "\n",
    "\"\"\""
   ]
  },
  {
   "cell_type": "code",
   "execution_count": 5,
   "id": "c3bd4858",
   "metadata": {},
   "outputs": [
    {
     "name": "stdout",
     "output_type": "stream",
     "text": [
      "Our prompt has 371 tokens\n"
     ]
    }
   ],
   "source": [
    "num_tokens = llm.get_num_tokens(prompt)\n",
    "print (f\"Our prompt has {num_tokens} tokens\")"
   ]
  },
  {
   "cell_type": "code",
   "execution_count": 6,
   "id": "61522722",
   "metadata": {},
   "outputs": [
    {
     "name": "stdout",
     "output_type": "stream",
     "text": [
      " Sure! Here is the story of the ticket condensed:\n",
      "\n",
      "The XYZ product's analytics have shown a 25% decrease in response time, mostly during peak usage hours. This is due to cache bottlenecks, which negatively affect user satisfaction scores and lead to more support tickets. To solve this issue, a dynamic cache refresh mechanism is proposed. This would allow for a smarter cache system that adjusts refresh rates based on real-time traffic loads and query complexities. This would improve server responsiveness, giving users a seamless experience. The mechanism would also give admin users an interface to set manual overrides if necessary. The solution must integrate with the current Redis setup and be scalable for future growth.\n",
      "\n",
      "Dependencies for this ticket include the completion of JIRA-78890 (upgrade to Redis 7.0), integration testing with the recently introduced user analytics module, and coordination with the database team and DevOps for deployment considerations. Additionally, the QA team will require documentation on the new features to ensure comprehensive testing, and it is important to consider the impact on mobile users to ensure changes are optimized for both desktop and mobile platforms.\n"
     ]
    }
   ],
   "source": [
    "output = llm(prompt)\n",
    "print (output)"
   ]
  },
  {
   "cell_type": "markdown",
   "id": "133d1b40",
   "metadata": {},
   "source": [
    "**The summary, though condensed, remains detailed for quick reads. We need a shorter version focusing on key points. Let's tweak our prompt for a clearer, concise snapshot without unnecessary specifics.**"
   ]
  },
  {
   "cell_type": "code",
   "execution_count": 7,
   "id": "ece0c069",
   "metadata": {},
   "outputs": [],
   "source": [
    "prompt = \"\"\"\n",
    "Could you, in your eloquent way, condense this ticket's story for us? Our tech team would love a concise summary, highlighting:\n",
    "1. The core issue or feature being addressed.\n",
    "2. The primary expected outcomes.\n",
    "3. Any crucial dependencies or constraints.\n",
    "4. The urgency or priority level.\n",
    "\n",
    "Ticket Content:\n",
    "Ticket ID: JIRA-78901\n",
    "Title: Implement Dynamic Cache Refresh Mechanism\n",
    "Status: Open\n",
    "Priority: High\n",
    "Description:\n",
    "Over the past few months, our XYZ product's analytics has shown a 25% decrease in response time, especially during peak usage hours. Analysis attributes this to cache bottlenecks, which are affecting user satisfaction scores and leading to an uptick in support tickets. This ticket proposes the development of a dynamic cache refresh mechanism. The intent is to have a smarter cache system that intelligently adjusts refresh rates based on real-time traffic loads and query complexities. By doing so, we aim to enhance server responsiveness, ensuring users have a seamless experience. This mechanism should also provide admin users with an interface to set manual overrides if needed. It's imperative that this solution seamlessly integrates with our current Redis setup and be scalable for future growth.\n",
    "\n",
    "Dependencies:\n",
    "\n",
    "Completion of ticket JIRA-78890 (Upgrade to Redis 7.0).\n",
    "Integration testing with the recently introduced user analytics module.\n",
    "Coordination with the database team and DevOps for deployment considerations.\n",
    "Comments:\n",
    "John Doe: Keep in mind our scheduled maintenance on the 20th. We shouldn’t have overlapping activities.\n",
    "Lucy Green: QA team will require documentation on the new features to ensure comprehensive testing. Expecting at least 3 days for complete QA post-implementation.\n",
    "Carlos Mendoza: Has anyone considered the impact on our mobile users? We need to ensure the changes are optimized for both desktop and mobile platforms.\n",
    "\n",
    "\n",
    "\"\"\""
   ]
  },
  {
   "cell_type": "code",
   "execution_count": 8,
   "id": "5b66351e",
   "metadata": {},
   "outputs": [
    {
     "name": "stdout",
     "output_type": "stream",
     "text": [
      "Our prompt has 405 tokens\n"
     ]
    }
   ],
   "source": [
    "num_tokens = llm.get_num_tokens(prompt)\n",
    "print (f\"Our prompt has {num_tokens} tokens\")"
   ]
  },
  {
   "cell_type": "code",
   "execution_count": 9,
   "id": "68f9b501",
   "metadata": {},
   "outputs": [
    {
     "name": "stdout",
     "output_type": "stream",
     "text": [
      " Of course! Here is the condensed version of the ticket you requested:\n",
      "\n",
      "The core issue being addressed is the 25% decrease in response time in the XYZ product's analytics, caused by cache bottlenecks, which negatively impact user satisfaction and lead to more support tickets. The proposed solution is to develop a dynamic cache refresh mechanism that adjusts refresh rates based on real-time traffic loads and query complexities to enhance server responsiveness and ensure a seamless user experience.\n",
      "\n",
      "The primary expected outcomes are improved server responsiveness, reduced cache bottlenecks, and enhanced user satisfaction.\n",
      "\n",
      "Crucial dependencies include the completion of ticket JIRA-78890 (Upgrade to Redis 7.0) and integration testing with the recently introduced user analytics module. Additionally, coordination with the database team and DevOps for deployment considerations is necessary.\n",
      "\n",
      "The urgency or priority level is high, and the implementation must be done carefully to ensure no overlapping activities with the scheduled maintenance on the 20th. Moreover, the QA team will require documentation on the new features to ensure comprehensive testing, which may take at least 3 days after implementation. Finally, it is essential to optimize the changes for both desktop and mobile platforms to ensure a seamless user experience for all users.\n"
     ]
    }
   ],
   "source": [
    "output = llm(prompt)\n",
    "print (output)"
   ]
  },
  {
   "cell_type": "markdown",
   "id": "6f294999",
   "metadata": {},
   "source": [
    "Nice! That's much better, but let's look at something we can automate a bit more"
   ]
  },
  {
   "cell_type": "markdown",
   "id": "13f1cf66",
   "metadata": {},
   "source": [
    "## Level 2: Prompt Templates - Summarize a few paragraphs\n",
    "\n",
    "Prompt templates are an effective method to dynamically insert specific text segments into your prompts. Think of them as akin to [Python f-strings](https://realpython.com/python-f-strings/), but tailored for seamless integration with language models.\n",
    "\n",
    "Let's delve into 2 short business documents: one about a **staff training memo** (representing \"Training and Onboarding\") and the other concerning a **yearly financial report** (representing \"Investor Relations\").\n",
    "\n",
    "While we have demonstrated the utility with these two specific scenarios, the potential applications are vast. For instance:\n",
    "\n",
    "1. **Customer Support:** Extract key issues from feedback to enhance product or service offerings.\n",
    "2. **Executive Briefings:** Create concise summaries for top decision-makers to grasp essential details without wading through extensive reports.\n",
    "3. **Product Reviews:** Summarize feedback on new product launches to quickly gauge customer sentiment and identify areas for improvement.\n",
    "4. **Market Research:** Collate insights about the latest industry trends and competitor activities in a brief format for strategic planning.\n",
    "\n",
    "By understanding the context and objectives, users can modify and tailor these templates to suit a wide array of business needs.\n"
   ]
  },
  {
   "cell_type": "code",
   "execution_count": 10,
   "id": "712acb03",
   "metadata": {},
   "outputs": [],
   "source": [
    "from langchain import PromptTemplate\n",
    "import os"
   ]
  },
  {
   "cell_type": "code",
   "execution_count": 11,
   "id": "b326aaeb",
   "metadata": {},
   "outputs": [],
   "source": [
    "paul_graham_essays = ['data/memo/Onboarding_doc.txt', 'data/memo/Investor_relations.txt']\n",
    "\n",
    "essays = []\n",
    "\n",
    "for file_name in paul_graham_essays:\n",
    "    with open(file_name, 'r') as file:\n",
    "        essays.append(file.read())"
   ]
  },
  {
   "cell_type": "markdown",
   "id": "529ad7c1",
   "metadata": {},
   "source": [
    "Let's print out a preview of the essays to see what they look like"
   ]
  },
  {
   "cell_type": "code",
   "execution_count": 12,
   "id": "d7d93873",
   "metadata": {},
   "outputs": [
    {
     "name": "stdout",
     "output_type": "stream",
     "text": [
      "Essay #1: Training and Onboarding\n",
      "\n",
      "Our onboarding program for the Design Department has been formulated with extensive research and insights from current and past employees. The first week is dedicated to understanding the company’s history, mission, vision, and core values. We ensure this through a series of\n",
      "\n",
      "Essay #2: Investor relations report\n",
      "\n",
      "In the annual overview for 2022, XYZ has shown remarkable resilience and growth despite the challenges posed by the global landscape. Beginning with our achievements, XYZ's revenue surged by 25%, outpacing our closest competitors. This impressive growth can be attributed t\n",
      "\n"
     ]
    }
   ],
   "source": [
    "for i, essay in enumerate(essays):\n",
    "    print (f\"Essay #{i+1}: {essay[:300]}\\n\")"
   ]
  },
  {
   "cell_type": "markdown",
   "id": "8e70a48e",
   "metadata": {},
   "source": [
    "Next let's create a prompt template which will hold our instructions and a placeholder for the essay. In this illustration, we'll focus on extracting the core details, accomplishments, hurdles, and forthcoming plans or tactics."
   ]
  },
  {
   "cell_type": "code",
   "execution_count": 13,
   "id": "946c379a",
   "metadata": {},
   "outputs": [],
   "source": [
    "template = \"\"\"\n",
    "Summarize the key achievements, main challenges faced, and any forward-looking strategies or \n",
    "initiatives mentioned in the document.\n",
    "\n",
    "{essay}\n",
    "\"\"\"\n",
    "\n",
    "prompt = PromptTemplate(\n",
    "    input_variables=[\"essay\"],\n",
    "    template=template\n",
    ")"
   ]
  },
  {
   "cell_type": "markdown",
   "id": "51b2611b",
   "metadata": {},
   "source": [
    "Then let's loop through the 2 essays and pass them to our LLM. I'm applying .strip() on the summaries to remove the white space on the front and back of the output"
   ]
  },
  {
   "cell_type": "code",
   "execution_count": 14,
   "id": "f2038feb",
   "metadata": {},
   "outputs": [
    {
     "name": "stdout",
     "output_type": "stream",
     "text": [
      "This prompt + essay has 418 tokens\n",
      "Summary: Sure! Here is a summary of the key achievements, main challenges faced, and any forward-looking strategies or initiatives mentioned in the document:\n",
      "\n",
      "Key Achievements:\n",
      "\n",
      "* The onboarding program for the Design Department has been formulated with extensive research and insights from current and past employees.\n",
      "* The program includes a series of engaging videos, quizzes, and group discussions to ensure new hires understand the company's history, mission, vision, and core values.\n",
      "* New hires are introduced to department-specific tools, software, and practices, including Adobe Suite, Sketch, and Figma, through hands-on learning with a mentor.\n",
      "* Workshops are held on UI/UX principles, typography, color theory, and proprietary design methodologies.\n",
      "* Collaboration with other departments, such as Marketing and Development, is emphasized to understand the workflow, feedback loop, and importance of cross-functional teams.\n",
      "\n",
      "Main Challenges Faced:\n",
      "\n",
      "* Some new hires expressed the desire for more advanced workshops on emerging design tools.\n",
      "* A few wished for a deeper dive into motion graphics as they saw it as a growing trend.\n",
      "* There was a suggestion to have a few sessions dedicated solely to understanding user research and integrating findings into the design.\n",
      "\n",
      "Forward-Looking Strategies or Initiatives:\n",
      "\n",
      "* Consider offering advanced workshops on emerging design tools to keep up with industry trends.\n",
      "* Incorporate more sessions on user research and integration into the design process to improve the overall user experience.\n",
      "\n",
      "Overall, the onboarding program for the Design Department seems well-structured and comprehensive, with a focus on hands-on learning, collaboration, and soft skills development. Addressing the minor challenges and incorporating forward-looking strategies will continue to enhance the program's effectiveness in preparing new hires for success in their roles.\n",
      "\n",
      "\n",
      "This prompt + essay has 333 tokens\n",
      "Summary: Sure! Here is the summary of the Investor Relations Report:\n",
      "\n",
      "Key Achievements:\n",
      "• Revenue surged by 25%\n",
      "• Launched three groundbreaking products\n",
      "• Doubled sales in the Asian market\n",
      "\n",
      "Main Challenges:\n",
      "• Supply chain disruptions\n",
      "• Unexpected resignations in senior management\n",
      "\n",
      "Forward-Looking Strategies:\n",
      "• Significant investment in green technologies\n",
      "• Potential mergers and acquisitions in the European market\n",
      "• Quarterly investor meetings for greater transparency and stronger relationships\n",
      "\n",
      "\n"
     ]
    }
   ],
   "source": [
    "for essay in essays:\n",
    "    summary_prompt = prompt.format(essay=essay)\n",
    "    \n",
    "    num_tokens = llm.get_num_tokens(summary_prompt)\n",
    "    print (f\"This prompt + essay has {num_tokens} tokens\")\n",
    "    \n",
    "    summary = llm(summary_prompt)\n",
    "    \n",
    "    print (f\"Summary: {summary.strip()}\")\n",
    "    print (\"\\n\")"
   ]
  },
  {
   "cell_type": "markdown",
   "id": "49ae9a41",
   "metadata": {},
   "source": [
    "## Level 3: Map Reduce - Summarize a few pages \n",
    "\n",
    "**Why Summarize?**\n",
    "Summarizing large reports, like the \"Market report of The individual health insurance market in 2023,\" provides quick insights for businesses. It aids in:\n",
    "\n",
    "1. Faster decision-making.\n",
    "2. Clear stakeholder communication.\n",
    "3. Efficient meeting preparations.\n",
    "4. Sharing insights across teams.\n",
    "\n",
    "\n",
    "If you have multiple pages you'd like to summarize, you'll likely run into a token limit. Token limits won't always be a problem, but it is good to know how to handle them if you run into the issue.\n",
    "\n",
    "The chain type \"Map Reduce\" is a method that helps with this. You first generate a summary of smaller chunks (that fit within the token limit) and then you get a summary of the summaries.\n",
    "\n",
    "Check out [this video](https://www.youtube.com/watch?v=f9_BWhCI4Zo) for more information on how chain types work\n",
    "\n",
    "**Note: LLM Token Limits:**\n",
    "\n",
    ">The LLM Llama 2 13B hosted by Konko has a current max token limit of 512. Though Llama 2 models support up to 4096 tokens, this particular instance is set at 500. Good news: users will soon be able to host models with different token limits."
   ]
  },
  {
   "cell_type": "code",
   "execution_count": 15,
   "id": "c2ce6270",
   "metadata": {},
   "outputs": [],
   "source": [
    "from langchain.chains.summarize import load_summarize_chain\n",
    "from langchain.text_splitter import RecursiveCharacterTextSplitter"
   ]
  },
  {
   "cell_type": "code",
   "execution_count": 16,
   "id": "c70352ae",
   "metadata": {},
   "outputs": [],
   "source": [
    "market_essay = 'data/MarketReport_healthInsurance_shortVersion.txt'\n",
    "\n",
    "with open(market_essay, 'r') as file:\n",
    "    essay = file.read()"
   ]
  },
  {
   "cell_type": "markdown",
   "id": "bb6de34d",
   "metadata": {},
   "source": [
    "Let's see how many tokens are in this essay"
   ]
  },
  {
   "cell_type": "code",
   "execution_count": 17,
   "id": "b133938a",
   "metadata": {},
   "outputs": [
    {
     "name": "stderr",
     "output_type": "stream",
     "text": [
      "Token indices sequence length is longer than the specified maximum sequence length for this model (1101 > 1024). Running this sequence through the model will result in indexing errors\n"
     ]
    },
    {
     "data": {
      "text/plain": [
       "1101"
      ]
     },
     "execution_count": 17,
     "metadata": {},
     "output_type": "execute_result"
    }
   ],
   "source": [
    "llm.get_num_tokens(essay)"
   ]
  },
  {
   "cell_type": "markdown",
   "id": "dc8ec39d",
   "metadata": {},
   "source": [
    "That's too many, let's split our text up into chunks so they fit into the prompt limit. I'm going a chunk size of 2,000 characters. \n",
    "\n",
    "> You can think of tokens as pieces of words used for natural language processing. For English text, **1 token is approximately 4 characters** or 0.75 words. As a point of reference, the collected works of Shakespeare are about 900,000 words or 1.2M tokens.\n",
    "\n",
    "This means the number of tokens we should expect is 2000 / 4 = ~500 token chunks. But this will vary, each body of text/code will be different"
   ]
  },
  {
   "cell_type": "code",
   "execution_count": 18,
   "id": "2e7c372b",
   "metadata": {},
   "outputs": [],
   "source": [
    "text_splitter = RecursiveCharacterTextSplitter(separators=[\"\\n\\n\", \"\\n\"], chunk_size=2000, chunk_overlap=500)\n",
    "\n",
    "docs = text_splitter.create_documents([essay[:4000]])"
   ]
  },
  {
   "cell_type": "code",
   "execution_count": 19,
   "id": "f66569f0",
   "metadata": {},
   "outputs": [
    {
     "name": "stdout",
     "output_type": "stream",
     "text": [
      "Now we have 3 documents and the first one has 365 tokens\n"
     ]
    }
   ],
   "source": [
    "num_docs = len(docs)\n",
    "\n",
    "num_tokens_first_doc = llm.get_num_tokens(docs[0].page_content)\n",
    "\n",
    "print (f\"Now we have {num_docs} documents and the first one has {num_tokens_first_doc} tokens\")"
   ]
  },
  {
   "cell_type": "markdown",
   "id": "b61d49f5",
   "metadata": {},
   "source": [
    "Great, assuming that number of tokens is consistent in the other docs we should be good to go. Let's use LangChain's [load_summarize_chain](https://python.langchain.com/en/latest/use_cases/summarization.html) to do the `map_reducing` for us. We first need to initialize our chain"
   ]
  },
  {
   "cell_type": "markdown",
   "id": "4f933f1f",
   "metadata": {},
   "source": [
    "**Determine Your Output Format**"
   ]
  },
  {
   "cell_type": "markdown",
   "id": "2eb6f653",
   "metadata": {},
   "source": [
    "Want a bullet-point summary? Tailor your prompts accordingly. By using custom prompts, you can instruct the model with precision.\n",
    "\n",
    "Here's a peek into setting up those prompts:\n",
    "\n",
    "**Map Prompt:** This will remain consistent for mapping. The goal? To achieve a concise summary."
   ]
  },
  {
   "cell_type": "code",
   "execution_count": 20,
   "id": "7442e889",
   "metadata": {},
   "outputs": [],
   "source": [
    "map_prompt = \"\"\"\n",
    "Write a concise summary of the following:\n",
    "\"{text}\"\n",
    "CONCISE SUMMARY:\n",
    "\"\"\"\n",
    "map_prompt_template = PromptTemplate(template=map_prompt, input_variables=[\"text\"])"
   ]
  },
  {
   "cell_type": "markdown",
   "id": "e908f0d6",
   "metadata": {},
   "source": [
    "**Combine Prompt:** This is where the magic of combining happens. For our goal, we want to refine and compile our mapped summaries into bullet points."
   ]
  },
  {
   "cell_type": "code",
   "execution_count": 21,
   "id": "6f42deb5",
   "metadata": {},
   "outputs": [],
   "source": [
    "combine_prompt = \"\"\"\n",
    "Write a concise summary of the following text delimited by triple backquotes.\n",
    "Return your response in bullet points which covers the key points of the text.\n",
    "```{text}```\n",
    "BULLET POINT SUMMARY:\n",
    "\"\"\"\n",
    "combine_prompt_template = PromptTemplate(template=combine_prompt, input_variables=[\"text\"])"
   ]
  },
  {
   "cell_type": "code",
   "execution_count": 22,
   "id": "e2051818",
   "metadata": {},
   "outputs": [],
   "source": [
    "summary_chain = load_summarize_chain(llm=llm,\n",
    "                                     chain_type='map_reduce',\n",
    "                                     map_prompt=map_prompt_template,\n",
    "                                     combine_prompt=combine_prompt_template\n",
    "                                    )"
   ]
  },
  {
   "cell_type": "code",
   "execution_count": 23,
   "id": "c986230f",
   "metadata": {},
   "outputs": [],
   "source": [
    "output = summary_chain.run(docs)"
   ]
  },
  {
   "cell_type": "markdown",
   "id": "3b4303ff",
   "metadata": {},
   "source": [
    "**Here is the summary**"
   ]
  },
  {
   "cell_type": "code",
   "execution_count": 24,
   "id": "e90a8582",
   "metadata": {},
   "outputs": [
    {
     "name": "stdout",
     "output_type": "stream",
     "text": [
      " Sure! Here is a concise summary of the text provided in bullet points:\n",
      "\n",
      "• In 2023, there were approximately 16 million enrollees in the individual health insurance market, with 42% enrolling through Blues and 14% through insurtechs.\n",
      "\n",
      "• There was a 9% increase in insurer participation, with 26 new insurers entering the market and 20 exiting.\n",
      "\n",
      "• Consumers had more plan options, with an average of 5 insurers and 88 plans available, compared to 3 insurers and 27 plans in 2018.\n",
      "\n",
      "• Gold plans made up 24% of offerings, an increase from 19% in 2022.\n",
      "\n",
      "• Rates for plans increased across all metal tiers and categories in 2023, with platinum and catastrophic plans seeing the highest increases at 10% and 5%, respectively.\n"
     ]
    }
   ],
   "source": [
    "print (output)"
   ]
  },
  {
   "cell_type": "markdown",
   "id": "2a76f478",
   "metadata": {},
   "source": [
    "## Level 4: Summarize a few pages - Recurssive Map Reduce"
   ]
  },
  {
   "cell_type": "markdown",
   "id": "30f26d07",
   "metadata": {},
   "source": [
    "While the above summarization technique appears effective, it's essential to recognize some inherent challenges. Below, we outline these issues and propose solutions.\n",
    "\n"
   ]
  },
  {
   "cell_type": "markdown",
   "id": "030e1f72",
   "metadata": {},
   "source": [
    "**Current Challenge:**\n",
    "\n",
    "LangChain's 'Map Reduce' breaks down and summarizes content segments. However, the issue arises during the final summarization stage, when these summarized parts are consolidated, particularly for lengthy documents. This process can often surpass the token limit.\n",
    "\n",
    "We're now delving into a custom approach for iterative summarization. While our method offers benefits, it's important to highlight its inherent constraints, which we'll discuss further."
   ]
  },
  {
   "cell_type": "code",
   "execution_count": 25,
   "id": "2a907955",
   "metadata": {},
   "outputs": [],
   "source": [
    "import math\n",
    "from langchain.prompts.chat import (\n",
    "    ChatPromptTemplate,\n",
    "    SystemMessagePromptTemplate,\n",
    "    HumanMessagePromptTemplate,\n",
    ")\n",
    "\n",
    "MAX_TOKENS_SUMMARY = 500\n",
    "SUMMARY_SYS_MSG = \"\"\"Write a concise summary of the following:\n",
    "\"{input}\"\n",
    "CONCISE SUMMARY:\"\"\"\n",
    "\n",
    "FINAL_SUMMARY_SYS_MSG = \"\"\"\n",
    "Write a concise summary of the following text delimited by triple backquotes.\n",
    "Return your response in bullet points which covers the key points of the text.\n",
    "```{input}```\n",
    "BULLET POINT SUMMARY:\n",
    "\"\"\"\n",
    "\n",
    "\n",
    "def token_len(input: str) -> int:\n",
    "    \"\"\"Get token length\"\"\"\n",
    "    return llm.get_num_tokens(input)\n",
    "\n",
    "def chunk(input: str) -> list:\n",
    "    input_tokens = token_len(input)\n",
    "    count = math.ceil(input_tokens / MAX_TOKENS_SUMMARY)\n",
    "    k, m = divmod(len(input), count)\n",
    "    chunks = [\n",
    "        input[i * k + min(i, m) : (i + 1) * k + min(i + 1, m)] for i in range(count)\n",
    "    ]\n",
    "    return chunks\n",
    "\n",
    "def summarize(input: str, final: bool = False) -> str:\n",
    "    if token_len(input) <= MAX_TOKENS_SUMMARY:\n",
    "        final = True  # Force bullet points if within token limit\n",
    "\n",
    "    # Use appropriate system message based on final flag\n",
    "    system_message = SystemMessagePromptTemplate.from_template(\n",
    "        template=FINAL_SUMMARY_SYS_MSG if final else SUMMARY_SYS_MSG\n",
    "    )\n",
    "    human_message = HumanMessagePromptTemplate.from_template(\n",
    "        template=\"Input: {input}\"\n",
    "    )\n",
    "\n",
    "    if final:  # Directly summarize with bullet points if final flag is set\n",
    "        prompt = ChatPromptTemplate(\n",
    "            input_variables=[\"input\"],\n",
    "            messages=[system_message, human_message],\n",
    "        )\n",
    "        _input = prompt.format_prompt(input=input)\n",
    "        single_string_prompt = (_input.to_messages()[0].content)\n",
    "        output = llm(single_string_prompt)\n",
    "        return output\n",
    "\n",
    "    # If not 'final', proceed with chunk-wise summarization\n",
    "    chunks = chunk(input=input)\n",
    "    summary = \"\"\n",
    "\n",
    "    for i in chunks:\n",
    "        prompt = ChatPromptTemplate(\n",
    "            input_variables=[\"input\"],\n",
    "            messages=[system_message, human_message],\n",
    "        )\n",
    "\n",
    "        _input = prompt.format_prompt(input=i)\n",
    "        single_string_prompt = (_input.to_messages()[0].content)\n",
    "        output = llm(single_string_prompt)\n",
    "        summary += f\"\\n{output}\"\n",
    "\n",
    "    # Check token length of the summary and decide next step\n",
    "    sum_tokens = token_len(input=summary)\n",
    "\n",
    "    if sum_tokens > MAX_TOKENS_SUMMARY:\n",
    "        return summarize(input=summary, final=True)  # Recur with 'final' set to True\n",
    "\n",
    "    return summarize(input=summary, final=True)"
   ]
  },
  {
   "cell_type": "code",
   "execution_count": 26,
   "id": "97c4bf9a",
   "metadata": {},
   "outputs": [],
   "source": [
    "market_essay = 'data/MarketReport_healthInsurance_OriginalVersion.txt'\n",
    "\n",
    "with open(market_essay, 'r') as file:\n",
    "    essay = file.read()"
   ]
  },
  {
   "cell_type": "markdown",
   "id": "3fe01711",
   "metadata": {},
   "source": [
    "Let's see how many tokens are in this essay"
   ]
  },
  {
   "cell_type": "code",
   "execution_count": 27,
   "id": "74e75383",
   "metadata": {},
   "outputs": [
    {
     "name": "stderr",
     "output_type": "stream",
     "text": [
      "Token indices sequence length is longer than the specified maximum sequence length for this model (2482 > 1024). Running this sequence through the model will result in indexing errors\n"
     ]
    },
    {
     "data": {
      "text/plain": [
       "2482"
      ]
     },
     "execution_count": 27,
     "metadata": {},
     "output_type": "execute_result"
    }
   ],
   "source": [
    "llm.get_num_tokens(essay)"
   ]
  },
  {
   "cell_type": "markdown",
   "id": "50f65c11",
   "metadata": {},
   "source": [
    "**Let's examine the summary generated by our tailored method.**"
   ]
  },
  {
   "cell_type": "code",
   "execution_count": 28,
   "id": "334576f3",
   "metadata": {},
   "outputs": [
    {
     "name": "stderr",
     "output_type": "stream",
     "text": [
      "Token indices sequence length is longer than the specified maximum sequence length for this model (2482 > 1024). Running this sequence through the model will result in indexing errors\n",
      "Token indices sequence length is longer than the specified maximum sequence length for this model (2482 > 1024). Running this sequence through the model will result in indexing errors\n"
     ]
    }
   ],
   "source": [
    "output = summarize(essay)"
   ]
  },
  {
   "cell_type": "code",
   "execution_count": 29,
   "id": "be5fed7e",
   "metadata": {},
   "outputs": [
    {
     "name": "stdout",
     "output_type": "stream",
     "text": [
      " Sure! Here is a concise summary of the provided text in bullet point form:\n",
      "\n",
      "• In 2023, the individual health insurance market saw significant growth, with over 3.6 million new consumers entering the market and choosing from an average of 88 plans.\n",
      "\n",
      "• Consumer participation has increased by 25% since 2020.\n",
      "\n",
      "• Recent regulations proposed by the Centers for Medicare & Medicaid Services (CMS) may limit the number of plans each insurer can offer starting in 2024.\n",
      "\n",
      "• In 2023, participation in the health insurance market increased for the fifth consecutive year, with national insurers experiencing the largest growth.\n",
      "\n",
      "• Insurtechs, however, saw a decline in participation.\n",
      "\n",
      "• Consumer access to multiple insurer options also increased, with 87% of consumers having access to three or more insurers in 2023.\n",
      "\n",
      "• There was an increase in the number of plan options available to consumers.\n",
      "\n",
      "• The Centers for Medicare and Medicaid Services (CMS) proposed regulations to simplify the shopping experience for consumers by limiting insurers to offering two non-standardized plans in addition to one standard plan.\n",
      "\n",
      "• In 2023, the Affordable Care Act (ACA) marketplace experienced changes in plan availability, metal tiers, and premiums.\n",
      "\n",
      "• The number of plan options available to consumers decreased by 34% overall, with a 45% reduction in non-standardized plans.\n",
      "\n",
      "• HMO and EPO plans became more prevalent, while PPO and POS plans declined.\n",
      "\n",
      "• Gold plans became more popular, and premiums increased across all metal tiers, with platinum and catastrophic plans seeing the highest rate hikes.\n",
      "\n",
      "• Gross premiums increased across all tiers after four years of stability or decline.\n",
      "\n",
      "• Insurance premiums have increased across all metal tiers from 2022 to 2023, with the highest increases coming from insurtechs.\n",
      "\n",
      "• National insurers have improved their price position, offering the lowest premiums for silver plans for 20% of consumers.\n",
      "\n",
      "• Medicaid\n"
     ]
    }
   ],
   "source": [
    "print(output)"
   ]
  },
  {
   "cell_type": "markdown",
   "id": "a86a0539",
   "metadata": {},
   "source": [
    "Looks good!"
   ]
  },
  {
   "cell_type": "markdown",
   "id": "59a6da87",
   "metadata": {},
   "source": [
    "## Level 5: Best Representation Vectors - Summarize an entire book\n",
    "\n",
    "As we navigate the intricacies of document summarization, it's evident that traditional methods, though robust in many scenarios, possess specific challenges. Let's briefly revisit these:\n",
    "\n",
    "1. Recursive Summarization:\n",
    "\n",
    "    **Function:** It partitions lengthy documents into digestible sections, which are individually summarized. These summaries are then amalgamated and further refined, iterating until a concise version surfaces.\n",
    "\n",
    "    **Shortcomings:**\n",
    "        1. Interrupted Logical Flow: Certain tools, such as LangChain, might split content without preserving its natural continuity.\n",
    "        2. Inconsistent Point Emphasis: The varied lengths of distinct points by authors can result in pivotal information being cut short or inadequately summarized.\n",
    "        \n",
    "    \n",
    "2. The 'Refine' Method:\n",
    "\n",
    "    **Function:** It incrementally improves summaries as more content is processed.\n",
    "\n",
    "    **Shortcomings:**\n",
    "        1. Inefficiency: Unlike recursive methods which leverage logarithmic time, this method proceeds linearly.\n",
    "        2. Bias Towards Initial Content: Preliminary segments may disproportionately influence the summary, even if they're unrelated to the main content.\n",
    "    \n",
    "Despite advances in language models, it's clear that some level of document segmentation and recursive summarization will always be necessary, especially for voluminous texts.\n",
    "\n",
    "In the upcoming section, we'll introduce an approach that seeks to address these challenges, ensuring coherent and meaningful summaries.\n",
    "\n",
    "We will be distilling expansive documents like \"The Economic Potential of Generative AI.\"\n",
    "\n"
   ]
  },
  {
   "cell_type": "code",
   "execution_count": 30,
   "id": "f6ed1dcb",
   "metadata": {},
   "outputs": [],
   "source": [
    "from langchain.document_loaders import PyPDFLoader\n",
    "\n",
    "# Load the book\n",
    "loader = PyPDFLoader(\"data/the-economic-potential-of-generative-ai-the-next-productivity-frontier-vf.pdf\")\n",
    "pages = loader.load()\n",
    "\n",
    "# Combine the pages, and replace the tabs with spaces\n",
    "text = \"\"\n",
    "\n",
    "for page in pages:\n",
    "    text += page.page_content\n",
    "    \n",
    "text = text.replace('\\t', ' ')"
   ]
  },
  {
   "cell_type": "code",
   "execution_count": 31,
   "id": "6db88712",
   "metadata": {},
   "outputs": [
    {
     "name": "stderr",
     "output_type": "stream",
     "text": [
      "Token indices sequence length is longer than the specified maximum sequence length for this model (33041 > 1024). Running this sequence through the model will result in indexing errors\n"
     ]
    },
    {
     "name": "stdout",
     "output_type": "stream",
     "text": [
      "This book has 33041 tokens in it\n"
     ]
    }
   ],
   "source": [
    "num_tokens = llm.get_num_tokens(text)\n",
    "\n",
    "print (f\"This book has {num_tokens} tokens in it\")"
   ]
  },
  {
   "cell_type": "markdown",
   "id": "4bedfe55",
   "metadata": {},
   "source": [
    "Handling a vast 33K tokens exceeds even GPT's 32K capacity, and with a cost of $1.00 for the prompt, we need an efficient approach. \n",
    "\n",
    "**Objective**: Distill the book's essence through strategic chunking.\n",
    "\n",
    "- **Chunk & Embed**: Divide the book into significant sections and transform them into vectors using embeddings.\n",
    "  \n",
    "- **Diversify**: Opt for a blend of chunks providing both a holistic and varied book perspective. Consider: Which 10 passages best encapsulate the book's essence?\n",
    "  \n",
    "- **Clustering & Selection**: Group similar vectors, pinpointing the ones that most exemplify each cluster, and subsequently summarize these selected portions.\n",
    "  \n",
    "- **End Goal**: Create a compelling summary that, while potentially losing some detail, captures the primary content.\n",
    "\n",
    "Remember, this is a tailored approach, not the definitive solution. And yes, summarizing an entire book always entails some loss of detail!\n"
   ]
  },
  {
   "cell_type": "code",
   "execution_count": 32,
   "id": "e0e930b3",
   "metadata": {},
   "outputs": [],
   "source": [
    "from langchain.schema import Document\n",
    "from langchain.text_splitter import RecursiveCharacterTextSplitter\n",
    "\n",
    "from langchain import Konko\n",
    "\n",
    "\n",
    "from langchain.vectorstores import FAISS\n",
    "from langchain.embeddings import HuggingFaceEmbeddings\n",
    "from langchain.chains.summarize import load_summarize_chain\n",
    "\n",
    "\n",
    "import os\n",
    "os.environ[\"TOKENIZERS_PARALLELISM\"] = \"false\"\n",
    "\n",
    "import numpy as np\n",
    "from sklearn.cluster import KMeans"
   ]
  },
  {
   "cell_type": "code",
   "execution_count": 33,
   "id": "0d3d233d",
   "metadata": {},
   "outputs": [],
   "source": [
    "text_splitter = RecursiveCharacterTextSplitter(separators=[\"\\n\\n\", \"\\n\", \"\\t\"], chunk_size=2500, chunk_overlap=100)\n",
    "\n",
    "docs = text_splitter.create_documents([text])"
   ]
  },
  {
   "cell_type": "code",
   "execution_count": 34,
   "id": "c1c2c701",
   "metadata": {},
   "outputs": [
    {
     "name": "stdout",
     "output_type": "stream",
     "text": [
      "Now our book is split up into 70 documents\n"
     ]
    }
   ],
   "source": [
    "num_documents = len(docs)\n",
    "\n",
    "print (f\"Now our book is split up into {num_documents} documents\")"
   ]
  },
  {
   "cell_type": "markdown",
   "id": "8d413b2d",
   "metadata": {},
   "source": [
    "Let's get our embeddings of those 70 documents"
   ]
  },
  {
   "cell_type": "code",
   "execution_count": 35,
   "id": "898fc62c",
   "metadata": {},
   "outputs": [],
   "source": [
    "embeddings = HuggingFaceEmbeddings()\n",
    "\n",
    "vectors = embeddings.embed_documents([x.page_content for x in docs])"
   ]
  },
  {
   "cell_type": "markdown",
   "id": "726f6dee",
   "metadata": {},
   "source": [
    "Now let's cluster our embeddings. There are a ton of clustering algorithms you can chose from. Please try a few out to see what works best for you!"
   ]
  },
  {
   "cell_type": "code",
   "execution_count": 36,
   "id": "55c8dce0",
   "metadata": {},
   "outputs": [
    {
     "name": "stdout",
     "output_type": "stream",
     "text": [
      "(70, 768)\n"
     ]
    },
    {
     "name": "stderr",
     "output_type": "stream",
     "text": [
      "/Users/shivanimodi/anaconda3/lib/python3.11/site-packages/sklearn/cluster/_kmeans.py:870: FutureWarning: The default value of `n_init` will change from 10 to 'auto' in 1.4. Set the value of `n_init` explicitly to suppress the warning\n",
      "  warnings.warn(\n"
     ]
    }
   ],
   "source": [
    "# Assuming 'embeddings' is a list or array of 768-dimensional embeddings\n",
    "\n",
    "# Choose the number of clusters, this can be adjusted based on the book's content.\n",
    "# I played around and found ~4 was the best.\n",
    "num_clusters = 4\n",
    "\n",
    "# Perform K-means clustering\n",
    "vectors_array = np.array(vectors)\n",
    "print(vectors_array.shape)\n",
    "kmeans = KMeans(n_clusters=num_clusters, random_state=42).fit(vectors_array)\n"
   ]
  },
  {
   "cell_type": "markdown",
   "id": "891d82cd",
   "metadata": {},
   "source": [
    "The identified clusters offer an intriguing glimpse into the book's progression. As the narrative evolves, we can anticipate shifts in the clusters, reflecting the varying semantic contexts."
   ]
  },
  {
   "cell_type": "code",
   "execution_count": 37,
   "id": "218dce05",
   "metadata": {},
   "outputs": [
    {
     "data": {
      "text/plain": [
       "array([2, 2, 2, 1, 1, 1, 1, 2, 2, 2, 2, 3, 3, 3, 3, 3, 3, 2, 1, 1, 1, 1,\n",
       "       2, 1, 3, 3, 3, 3, 3, 1, 1, 1, 0, 2, 0, 2, 0, 0, 0, 0, 2, 0, 0, 0,\n",
       "       0, 2, 2, 2, 2, 2, 2, 2, 2, 0, 0, 0, 0, 0, 0, 0, 0, 0, 0, 0, 0, 0,\n",
       "       2, 2, 2, 2], dtype=int32)"
      ]
     },
     "execution_count": 37,
     "metadata": {},
     "output_type": "execute_result"
    }
   ],
   "source": [
    "kmeans.labels_"
   ]
  },
  {
   "cell_type": "markdown",
   "id": "1d9ccd8b",
   "metadata": {},
   "source": [
    "This is neat, but in any clustering task, visualizing them is quite compelling. Don't forget to incorporate colors.\n",
    "\n",
    "Additionally, we should perform dimensionality reduction to bring down the vectors from 768 dimensions to just 2. While this approach isn't rigorous data science, it aligns with our goal of achieving an 80% solution."
   ]
  },
  {
   "cell_type": "code",
   "execution_count": 38,
   "id": "95da2509",
   "metadata": {},
   "outputs": [
    {
     "data": {
      "image/png": "[encoded data removed]",
      "text/plain": [
       "<Figure size 640x480 with 1 Axes>"
      ]
     },
     "metadata": {},
     "output_type": "display_data"
    }
   ],
   "source": [
    "from sklearn.manifold import TSNE\n",
    "import matplotlib.pyplot as plt\n",
    "\n",
    "\n",
    "import warnings\n",
    "from warnings import simplefilter\n",
    "import numpy as np\n",
    "\n",
    "\n",
    "simplefilter(action='ignore', category=FutureWarning)\n",
    "\n",
    "# Perform t-SNE and reduce to 2 dimensions\n",
    "tsne = TSNE(n_components=2, random_state=42)\n",
    "vectors = np.array(vectors)\n",
    "reduced_data_tsne = tsne.fit_transform(vectors)\n",
    "\n",
    "# Plot the reduced data\n",
    "plt.scatter(reduced_data_tsne[:, 0], reduced_data_tsne[:, 1], c=kmeans.labels_)\n",
    "plt.xlabel('Dimension 1')\n",
    "plt.ylabel('Dimension 2')\n",
    "plt.title('Book Embeddings Clustered')\n",
    "plt.show()"
   ]
  },
  {
   "cell_type": "markdown",
   "id": "6aa4314b",
   "metadata": {},
   "source": [
    "Next, we should identify the vectors nearest to the cluster centroids (the central point).\n",
    "\n",
    "Below is a function that accomplishes this efficiently."
   ]
  },
  {
   "cell_type": "code",
   "execution_count": 39,
   "id": "55f2f664",
   "metadata": {},
   "outputs": [],
   "source": [
    "# Determine the embeddings closest to the centroids\n",
    "\n",
    "# Initialize a list to store indices of nearest points\n",
    "closest_indices = []\n",
    "\n",
    "# Iterate over all clusters\n",
    "for i in range(num_clusters):\n",
    "    \n",
    "    # Calculate distances from the current cluster's center\n",
    "    distances = np.linalg.norm(vectors - kmeans.cluster_centers_[i], axis=1)\n",
    "    \n",
    "    # Identify the index of the minimum distance (closest point)\n",
    "    closest_index = np.argmin(distances)\n",
    "    \n",
    "    # Store the identified index in the list\n",
    "    closest_indices.append(closest_index)\n"
   ]
  },
  {
   "cell_type": "markdown",
   "id": "f5a44596",
   "metadata": {},
   "source": [
    "Now, arrange them in sequence (to ensure chunks are processed sequentially)."
   ]
  },
  {
   "cell_type": "code",
   "execution_count": 40,
   "id": "679297ac",
   "metadata": {},
   "outputs": [
    {
     "data": {
      "text/plain": [
       "[0, 13, 23, 60]"
      ]
     },
     "execution_count": 40,
     "metadata": {},
     "output_type": "execute_result"
    }
   ],
   "source": [
    "selected_indices = sorted(closest_indices)\n",
    "selected_indices"
   ]
  },
  {
   "cell_type": "markdown",
   "id": "171c2b42",
   "metadata": {},
   "source": [
    "It's intersting to see which chunks pop up at most descriptive. \n",
    "\n",
    "Let's create our custom prompts."
   ]
  },
  {
   "cell_type": "code",
   "execution_count": 41,
   "id": "5552e6d3",
   "metadata": {},
   "outputs": [],
   "source": [
    "map_prompt = \"\"\"\n",
    "You will be given a single passage of a book. This section will be enclosed in triple backticks (```)\n",
    "Your goal is to give a concise summary of this section so that a reader will have a full understanding of what happened.\n",
    "Your response should be at least three paragraphs and fully encompass what was said in the passage.\n",
    "\n",
    "```{text}```\n",
    "Concise SUMMARY:\n",
    "\"\"\"\n",
    "map_prompt_template = PromptTemplate(template=map_prompt, input_variables=[\"text\"])"
   ]
  },
  {
   "cell_type": "markdown",
   "id": "b568b94a",
   "metadata": {},
   "source": [
    "**In this example I will do the map reduce manually**"
   ]
  },
  {
   "cell_type": "code",
   "execution_count": 42,
   "id": "bb5eb0d9",
   "metadata": {},
   "outputs": [],
   "source": [
    "map_chain = load_summarize_chain(llm=llm,\n",
    "                             chain_type=\"stuff\",\n",
    "                             prompt=map_prompt_template)"
   ]
  },
  {
   "cell_type": "markdown",
   "id": "e4e1ec38",
   "metadata": {},
   "source": [
    "Then go get your docs which the top vectors represented."
   ]
  },
  {
   "cell_type": "code",
   "execution_count": 43,
   "id": "781a686c",
   "metadata": {},
   "outputs": [],
   "source": [
    "selected_docs = [docs[doc] for doc in selected_indices]"
   ]
  },
  {
   "cell_type": "markdown",
   "id": "eca5fc42",
   "metadata": {},
   "source": [
    "Let's loop through our selected docs and get a good summary for each chunk. We'll store the summary in a list."
   ]
  },
  {
   "cell_type": "code",
   "execution_count": 46,
   "id": "7e2220ab",
   "metadata": {},
   "outputs": [
    {
     "name": "stdout",
     "output_type": "stream",
     "text": [
      "Processed Summary #0 (from chunk #0) - Snippet:  Sure! Here is a concise summary of the provided passage:\n",
      "\n",
      "The passage discusses the economic potential of generative AI and its impact on productivity. According to the authors' research, generative AI could add $2.6 trillion to $4.4 trillion annual \n",
      "\n",
      "Processed Summary #1 (from chunk #13) - Snippet:  Sure! Here is a concise summary of the provided passage:\n",
      "\n",
      "Generative AI can significantly improve customer care functions by increasing productivity, reducing response time, and increasing sales. By instantly retrieving data on specific customers, h \n",
      "\n",
      "Processed Summary #2 (from chunk #23) - Snippet:  Sure! Here is a concise summary of the provided passage:\n",
      "\n",
      "The passage discusses the potential benefits of using generative AI in various industries, including retail, banking, and life sciences. In the retail industry, generative AI can accelerate c \n",
      "\n",
      "Processed Summary #3 (from chunk #60) - Snippet:  Sure! Here is a concise summary of the provided passage:\n",
      "\n",
      "The passage discusses the potential of generative AI to automate work activities across various industries and countries. The analysis covers 47 countries, representing over 80% of the global \n",
      "\n"
     ]
    }
   ],
   "source": [
    "# Initialize a list for storing summaries\n",
    "summaries = []\n",
    "\n",
    "# Iterate over the selected documents\n",
    "for idx, document in enumerate(selected_docs):\n",
    "    # Obtain a summary for the specific chunk\n",
    "    summarized_chunk = map_chain.run([document])\n",
    "    \n",
    "    # Add the summarized chunk to the summaries list\n",
    "    summaries.append(summarized_chunk)\n",
    "    \n",
    "    print (f\"Processed Summary #{idx} (from chunk #{selected_indices[idx]}) - Snippet: {summarized_chunk[:250]} \\n\")"
   ]
  },
  {
   "cell_type": "markdown",
   "id": "7fae1a72",
   "metadata": {},
   "source": [
    "Great, now that we have our list of summaries, let's get a summary of the summaries"
   ]
  },
  {
   "cell_type": "code",
   "execution_count": 47,
   "id": "4083431d",
   "metadata": {},
   "outputs": [
    {
     "name": "stdout",
     "output_type": "stream",
     "text": [
      "Your total summary has 827 tokens\n"
     ]
    }
   ],
   "source": [
    "summaries = \"\\n\".join(summaries)\n",
    "\n",
    "# Convert it back to a document\n",
    "summaries = Document(page_content=summaries)\n",
    "\n",
    "print (f\"Your total summary has {llm.get_num_tokens(summaries.page_content)} tokens\")"
   ]
  },
  {
   "cell_type": "markdown",
   "id": "d6465295",
   "metadata": {},
   "source": [
    "As mentioned earlier \n",
    "\n",
    "> The LLM Llama 2 13B hosted by Konko has a current max token limit of 512. Though Llama 2 models support up to 4096 tokens, this particular instance is set at 500. Good news: users will soon be able to host models with different token limits.\n",
    "\n",
    "We would need to run map reduce twice!"
   ]
  },
  {
   "cell_type": "code",
   "execution_count": 48,
   "id": "b98e7321",
   "metadata": {},
   "outputs": [],
   "source": [
    "combine_prompt = \"\"\"\n",
    "You will be given a series of summaries from a book. The summaries will be enclosed in triple backticks (```)\n",
    "Your goal is to give a concise summary of what happened in the story.\n",
    "The reader should be able to grasp what happened in the book.\n",
    "\n",
    "```{text}```\n",
    "CONCISE SUMMARY:\n",
    "\"\"\"\n",
    "combine_prompt_template = PromptTemplate(template=combine_prompt, input_variables=[\"text\"])"
   ]
  },
  {
   "cell_type": "code",
   "execution_count": 49,
   "id": "2930c26e",
   "metadata": {},
   "outputs": [],
   "source": [
    "reduce_chain = load_summarize_chain(llm=llm,\n",
    "                             chain_type=\"stuff\",\n",
    "                             prompt=combine_prompt_template,\n",
    "                                   )"
   ]
  },
  {
   "cell_type": "code",
   "execution_count": 50,
   "id": "85b77476",
   "metadata": {},
   "outputs": [],
   "source": [
    "text_splitter = RecursiveCharacterTextSplitter(separators=[\"\\n\\n\", \"\\n\", \"\\t\"], chunk_size=2500, chunk_overlap=50)\n",
    "\n",
    "docs = text_splitter.create_documents([summaries.page_content])"
   ]
  },
  {
   "cell_type": "code",
   "execution_count": 51,
   "id": "597098ff",
   "metadata": {},
   "outputs": [
    {
     "name": "stdout",
     "output_type": "stream",
     "text": [
      "Now our summaries from 1st iteration from map reduce is split up into 2 documents\n"
     ]
    }
   ],
   "source": [
    "num_documents = len(docs)\n",
    "\n",
    "print (f\"Now our summaries from 1st iteration from map reduce is split up into {num_documents} documents\")"
   ]
  },
  {
   "cell_type": "code",
   "execution_count": 52,
   "id": "4f2df129",
   "metadata": {},
   "outputs": [
    {
     "name": "stdout",
     "output_type": "stream",
     "text": [
      "Processed Summary #0 (from chunk #0) - Snippet:  Sure! Here is a concise summary of the provided passage:\n",
      "\n",
      "The passage explores the economic potential of generative AI and its impact on productivity across various industries. Generative AI has the potential to add $2.6 trillion to $4.4 trillion an \n",
      "\n",
      "Processed Summary #1 (from chunk #13) - Snippet:  Certainly! Here is a concise summary of the provided passage:\n",
      "\n",
      "The passage explores the potential benefits of utilizing generative AI in various industries such as retail, banking, and life sciences. Generative AI can accelerate consumer research, e \n",
      "\n"
     ]
    }
   ],
   "source": [
    "# Initialize a list for storing summaries\n",
    "summaries = []\n",
    "\n",
    "# Iterate over the selected documents\n",
    "for idx, document in enumerate(docs):\n",
    "    \n",
    "    # Obtain a summary for the specific chunk\n",
    "    summarized_chunk = map_chain.run([document])\n",
    "    \n",
    "    # Add the summarized chunk to the summaries list\n",
    "    summaries.append(summarized_chunk)\n",
    "    \n",
    "    print (f\"Processed Summary #{idx} (from chunk #{selected_indices[idx]}) - Snippet: {summarized_chunk[:250]} \\n\")"
   ]
  },
  {
   "cell_type": "code",
   "execution_count": 53,
   "id": "857f816c",
   "metadata": {},
   "outputs": [
    {
     "name": "stdout",
     "output_type": "stream",
     "text": [
      "Your total summary has 555 tokens\n"
     ]
    }
   ],
   "source": [
    "summaries = \"\\n\".join(summaries)\n",
    "\n",
    "# Convert it back to a document\n",
    "summaries = Document(page_content=summaries)\n",
    "\n",
    "print (f\"Your total summary has {llm.get_num_tokens(summaries.page_content)} tokens\")"
   ]
  },
  {
   "cell_type": "code",
   "execution_count": 54,
   "id": "c6eda913",
   "metadata": {},
   "outputs": [],
   "source": [
    "output = reduce_chain.run([summaries])"
   ]
  },
  {
   "cell_type": "code",
   "execution_count": 55,
   "id": "915628a1",
   "metadata": {},
   "outputs": [
    {
     "name": "stdout",
     "output_type": "stream",
     "text": [
      " Sure! Here is a concise summary of the provided passages:\n",
      "\n",
      "The passages explore the potential benefits and impact of generative AI on various industries and the global economy. Generative AI has the ability to automate work activities, increase productivity, and bring significant economic benefits, with the majority of value generated in customer operations, marketing and sales, software engineering, and R&D. The technology can enhance the customer experience, increase sales, and improve efficiency in various industries such as retail, banking, and life sciences. However, the impact of generative AI will not be evenly distributed across all occupations and industries, with higher-educated and higher-wage jobs being more affected. The pace of adoption is expected to accelerate, with estimates suggesting that half of today's work activities could be automated by 2030-2060.\n"
     ]
    }
   ],
   "source": [
    "print (output)"
   ]
  },
  {
   "cell_type": "markdown",
   "id": "27a1db73",
   "metadata": {},
   "source": [
    "Wow that was a long process, but you get the gist, hopefully we'll see some library abstractions in the coming months that do this automatically for us!"
   ]
  },
  {
   "cell_type": "code",
   "execution_count": null,
   "id": "7a8803be",
   "metadata": {},
   "outputs": [],
   "source": []
  },
  {
   "cell_type": "code",
   "execution_count": null,
   "id": "9ab8944b",
   "metadata": {},
   "outputs": [],
   "source": []
  }
 ],
 "metadata": {
  "kernelspec": {
   "display_name": "Python 3 (ipykernel)",
   "language": "python",
   "name": "python3"
  },
  "language_info": {
   "codemirror_mode": {
    "name": "ipython",
    "version": 3
   },
   "file_extension": ".py",
   "mimetype": "text/x-python",
   "name": "python",
   "nbconvert_exporter": "python",
   "pygments_lexer": "ipython3",
   "version": "3.11.3"
  }
 },
 "nbformat": 4,
 "nbformat_minor": 5
}
