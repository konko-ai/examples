{
  "cells": [
    {
      "cell_type": "markdown",
      "id": "fded102b",
      "metadata": {
        "id": "fded102b"
      },
      "source": [
        "# 5 Stages of Summarization: From Beginner to Expert"
      ]
    },
    {
      "cell_type": "markdown",
      "id": "fab8b2cf",
      "metadata": {
        "id": "fab8b2cf"
      },
      "source": [
        "Summarization is a vital component of many LLM tasks. In practical scenarios, you'll run into use cases where turning extensive texts into concise, meaningful points is essential.\n",
        "\n",
        "Depending on the text's length you're addressing, various summarization techniques can be applied.\n",
        "\n",
        "Here, we'll outline 5 distinct levels of summarization, ranging from basic to advanced. Remember, these aren't the only methods out there.\n",
        "\n",
        "**5 Levels Of Summarization:**\n",
        "Summarize a few sentences - Basic Prompt\n",
        "Summarize several paragraphs - Prompt Templates\n",
        "Summarize a few pages - Map Reduce\n",
        "Summarize a whole book - Best Representation Vectors\n",
        "Summarize text of an indeterminate length - Agents.\n",
        "1. **Summarize a few sentences** - Basic Prompt\n",
        "2. **Summarize several paragraphs** - Prompt Templates\n",
        "3. **Summarize a few pages** - Map Reduce\n",
        "4. **Summarize a few pages** - Recurssive Map Reduce\n",
        "5. **Summarize a whole book** - Best Representation Vectors\n",
        "\n",
        "Stay tuned for level 6\n",
        "First, let's set our Konko API key.\n"
      ]
    },
    {
      "cell_type": "code",
      "source": [
        "!pip install langchain==0.1.4\n",
        "!pip install konko\n",
        "!pip install tiktoken\n",
        "!pip install pypdf\n",
        "!pip install sentence-transformers"
      ],
      "metadata": {
        "id": "jVHdl46ENO74",
        "outputId": "b14f77c0-382d-468b-eb37-fdb6f927bec3",
        "colab": {
          "base_uri": "https://localhost:8080/"
        }
      },
      "id": "jVHdl46ENO74",
      "execution_count": 49,
      "outputs": [
        {
          "output_type": "stream",
          "name": "stdout",
          "text": [
            "Requirement already satisfied: langchain==0.1.4 in /usr/local/lib/python3.10/dist-packages (0.1.4)\n",
            "Requirement already satisfied: PyYAML>=5.3 in /usr/local/lib/python3.10/dist-packages (from langchain==0.1.4) (6.0.1)\n",
            "Requirement already satisfied: SQLAlchemy<3,>=1.4 in /usr/local/lib/python3.10/dist-packages (from langchain==0.1.4) (2.0.24)\n",
            "Requirement already satisfied: aiohttp<4.0.0,>=3.8.3 in /usr/local/lib/python3.10/dist-packages (from langchain==0.1.4) (3.9.1)\n",
            "Requirement already satisfied: async-timeout<5.0.0,>=4.0.0 in /usr/local/lib/python3.10/dist-packages (from langchain==0.1.4) (4.0.3)\n",
            "Requirement already satisfied: dataclasses-json<0.7,>=0.5.7 in /usr/local/lib/python3.10/dist-packages (from langchain==0.1.4) (0.6.3)\n",
            "Requirement already satisfied: jsonpatch<2.0,>=1.33 in /usr/local/lib/python3.10/dist-packages (from langchain==0.1.4) (1.33)\n",
            "Requirement already satisfied: langchain-community<0.1,>=0.0.14 in /usr/local/lib/python3.10/dist-packages (from langchain==0.1.4) (0.0.16)\n",
            "Requirement already satisfied: langchain-core<0.2,>=0.1.16 in /usr/local/lib/python3.10/dist-packages (from langchain==0.1.4) (0.1.16)\n",
            "Requirement already satisfied: langsmith<0.1,>=0.0.83 in /usr/local/lib/python3.10/dist-packages (from langchain==0.1.4) (0.0.84)\n",
            "Requirement already satisfied: numpy<2,>=1 in /usr/local/lib/python3.10/dist-packages (from langchain==0.1.4) (1.23.5)\n",
            "Requirement already satisfied: pydantic<3,>=1 in /usr/local/lib/python3.10/dist-packages (from langchain==0.1.4) (1.10.14)\n",
            "Requirement already satisfied: requests<3,>=2 in /usr/local/lib/python3.10/dist-packages (from langchain==0.1.4) (2.31.0)\n",
            "Requirement already satisfied: tenacity<9.0.0,>=8.1.0 in /usr/local/lib/python3.10/dist-packages (from langchain==0.1.4) (8.2.3)\n",
            "Requirement already satisfied: attrs>=17.3.0 in /usr/local/lib/python3.10/dist-packages (from aiohttp<4.0.0,>=3.8.3->langchain==0.1.4) (23.2.0)\n",
            "Requirement already satisfied: multidict<7.0,>=4.5 in /usr/local/lib/python3.10/dist-packages (from aiohttp<4.0.0,>=3.8.3->langchain==0.1.4) (6.0.4)\n",
            "Requirement already satisfied: yarl<2.0,>=1.0 in /usr/local/lib/python3.10/dist-packages (from aiohttp<4.0.0,>=3.8.3->langchain==0.1.4) (1.9.4)\n",
            "Requirement already satisfied: frozenlist>=1.1.1 in /usr/local/lib/python3.10/dist-packages (from aiohttp<4.0.0,>=3.8.3->langchain==0.1.4) (1.4.1)\n",
            "Requirement already satisfied: aiosignal>=1.1.2 in /usr/local/lib/python3.10/dist-packages (from aiohttp<4.0.0,>=3.8.3->langchain==0.1.4) (1.3.1)\n",
            "Requirement already satisfied: marshmallow<4.0.0,>=3.18.0 in /usr/local/lib/python3.10/dist-packages (from dataclasses-json<0.7,>=0.5.7->langchain==0.1.4) (3.20.2)\n",
            "Requirement already satisfied: typing-inspect<1,>=0.4.0 in /usr/local/lib/python3.10/dist-packages (from dataclasses-json<0.7,>=0.5.7->langchain==0.1.4) (0.9.0)\n",
            "Requirement already satisfied: jsonpointer>=1.9 in /usr/local/lib/python3.10/dist-packages (from jsonpatch<2.0,>=1.33->langchain==0.1.4) (2.4)\n",
            "Requirement already satisfied: anyio<5,>=3 in /usr/local/lib/python3.10/dist-packages (from langchain-core<0.2,>=0.1.16->langchain==0.1.4) (3.7.1)\n",
            "Requirement already satisfied: packaging<24.0,>=23.2 in /usr/local/lib/python3.10/dist-packages (from langchain-core<0.2,>=0.1.16->langchain==0.1.4) (23.2)\n",
            "Requirement already satisfied: typing-extensions>=4.2.0 in /usr/local/lib/python3.10/dist-packages (from pydantic<3,>=1->langchain==0.1.4) (4.9.0)\n",
            "Requirement already satisfied: charset-normalizer<4,>=2 in /usr/local/lib/python3.10/dist-packages (from requests<3,>=2->langchain==0.1.4) (3.3.2)\n",
            "Requirement already satisfied: idna<4,>=2.5 in /usr/local/lib/python3.10/dist-packages (from requests<3,>=2->langchain==0.1.4) (3.6)\n",
            "Requirement already satisfied: urllib3<3,>=1.21.1 in /usr/local/lib/python3.10/dist-packages (from requests<3,>=2->langchain==0.1.4) (2.0.7)\n",
            "Requirement already satisfied: certifi>=2017.4.17 in /usr/local/lib/python3.10/dist-packages (from requests<3,>=2->langchain==0.1.4) (2023.11.17)\n",
            "Requirement already satisfied: greenlet!=0.4.17 in /usr/local/lib/python3.10/dist-packages (from SQLAlchemy<3,>=1.4->langchain==0.1.4) (3.0.3)\n",
            "Requirement already satisfied: sniffio>=1.1 in /usr/local/lib/python3.10/dist-packages (from anyio<5,>=3->langchain-core<0.2,>=0.1.16->langchain==0.1.4) (1.3.0)\n",
            "Requirement already satisfied: exceptiongroup in /usr/local/lib/python3.10/dist-packages (from anyio<5,>=3->langchain-core<0.2,>=0.1.16->langchain==0.1.4) (1.2.0)\n",
            "Requirement already satisfied: mypy-extensions>=0.3.0 in /usr/local/lib/python3.10/dist-packages (from typing-inspect<1,>=0.4.0->dataclasses-json<0.7,>=0.5.7->langchain==0.1.4) (1.0.0)\n",
            "Requirement already satisfied: konko in /usr/local/lib/python3.10/dist-packages (0.5.0)\n",
            "Requirement already satisfied: openai<2 in /usr/local/lib/python3.10/dist-packages (from konko) (1.10.0)\n",
            "Requirement already satisfied: anyio<5,>=3.5.0 in /usr/local/lib/python3.10/dist-packages (from openai<2->konko) (3.7.1)\n",
            "Requirement already satisfied: distro<2,>=1.7.0 in /usr/lib/python3/dist-packages (from openai<2->konko) (1.7.0)\n",
            "Requirement already satisfied: httpx<1,>=0.23.0 in /usr/local/lib/python3.10/dist-packages (from openai<2->konko) (0.26.0)\n",
            "Requirement already satisfied: pydantic<3,>=1.9.0 in /usr/local/lib/python3.10/dist-packages (from openai<2->konko) (1.10.14)\n",
            "Requirement already satisfied: sniffio in /usr/local/lib/python3.10/dist-packages (from openai<2->konko) (1.3.0)\n",
            "Requirement already satisfied: tqdm>4 in /usr/local/lib/python3.10/dist-packages (from openai<2->konko) (4.66.1)\n",
            "Requirement already satisfied: typing-extensions<5,>=4.7 in /usr/local/lib/python3.10/dist-packages (from openai<2->konko) (4.9.0)\n",
            "Requirement already satisfied: idna>=2.8 in /usr/local/lib/python3.10/dist-packages (from anyio<5,>=3.5.0->openai<2->konko) (3.6)\n",
            "Requirement already satisfied: exceptiongroup in /usr/local/lib/python3.10/dist-packages (from anyio<5,>=3.5.0->openai<2->konko) (1.2.0)\n",
            "Requirement already satisfied: certifi in /usr/local/lib/python3.10/dist-packages (from httpx<1,>=0.23.0->openai<2->konko) (2023.11.17)\n",
            "Requirement already satisfied: httpcore==1.* in /usr/local/lib/python3.10/dist-packages (from httpx<1,>=0.23.0->openai<2->konko) (1.0.2)\n",
            "Requirement already satisfied: h11<0.15,>=0.13 in /usr/local/lib/python3.10/dist-packages (from httpcore==1.*->httpx<1,>=0.23.0->openai<2->konko) (0.14.0)\n",
            "Requirement already satisfied: tiktoken in /usr/local/lib/python3.10/dist-packages (0.5.2)\n",
            "Requirement already satisfied: regex>=2022.1.18 in /usr/local/lib/python3.10/dist-packages (from tiktoken) (2023.6.3)\n",
            "Requirement already satisfied: requests>=2.26.0 in /usr/local/lib/python3.10/dist-packages (from tiktoken) (2.31.0)\n",
            "Requirement already satisfied: charset-normalizer<4,>=2 in /usr/local/lib/python3.10/dist-packages (from requests>=2.26.0->tiktoken) (3.3.2)\n",
            "Requirement already satisfied: idna<4,>=2.5 in /usr/local/lib/python3.10/dist-packages (from requests>=2.26.0->tiktoken) (3.6)\n",
            "Requirement already satisfied: urllib3<3,>=1.21.1 in /usr/local/lib/python3.10/dist-packages (from requests>=2.26.0->tiktoken) (2.0.7)\n",
            "Requirement already satisfied: certifi>=2017.4.17 in /usr/local/lib/python3.10/dist-packages (from requests>=2.26.0->tiktoken) (2023.11.17)\n",
            "Requirement already satisfied: pypdf in /usr/local/lib/python3.10/dist-packages (4.0.1)\n",
            "Collecting sentence-transformers\n",
            "  Downloading sentence-transformers-2.2.2.tar.gz (85 kB)\n",
            "\u001b[2K     \u001b[90m━━━━━━━━━━━━━━━━━━━━━━━━━━━━━━━━━━━━━━━━\u001b[0m \u001b[32m86.0/86.0 kB\u001b[0m \u001b[31m2.5 MB/s\u001b[0m eta \u001b[36m0:00:00\u001b[0m\n",
            "\u001b[?25h  Preparing metadata (setup.py) ... \u001b[?25l\u001b[?25hdone\n",
            "Requirement already satisfied: transformers<5.0.0,>=4.6.0 in /usr/local/lib/python3.10/dist-packages (from sentence-transformers) (4.35.2)\n",
            "Requirement already satisfied: tqdm in /usr/local/lib/python3.10/dist-packages (from sentence-transformers) (4.66.1)\n",
            "Requirement already satisfied: torch>=1.6.0 in /usr/local/lib/python3.10/dist-packages (from sentence-transformers) (2.1.0+cu121)\n",
            "Requirement already satisfied: torchvision in /usr/local/lib/python3.10/dist-packages (from sentence-transformers) (0.16.0+cu121)\n",
            "Requirement already satisfied: numpy in /usr/local/lib/python3.10/dist-packages (from sentence-transformers) (1.23.5)\n",
            "Requirement already satisfied: scikit-learn in /usr/local/lib/python3.10/dist-packages (from sentence-transformers) (1.2.2)\n",
            "Requirement already satisfied: scipy in /usr/local/lib/python3.10/dist-packages (from sentence-transformers) (1.11.4)\n",
            "Requirement already satisfied: nltk in /usr/local/lib/python3.10/dist-packages (from sentence-transformers) (3.8.1)\n",
            "Collecting sentencepiece (from sentence-transformers)\n",
            "  Downloading sentencepiece-0.1.99-cp310-cp310-manylinux_2_17_x86_64.manylinux2014_x86_64.whl (1.3 MB)\n",
            "\u001b[2K     \u001b[90m━━━━━━━━━━━━━━━━━━━━━━━━━━━━━━━━━━━━━━━━\u001b[0m \u001b[32m1.3/1.3 MB\u001b[0m \u001b[31m10.4 MB/s\u001b[0m eta \u001b[36m0:00:00\u001b[0m\n",
            "\u001b[?25hRequirement already satisfied: huggingface-hub>=0.4.0 in /usr/local/lib/python3.10/dist-packages (from sentence-transformers) (0.20.3)\n",
            "Requirement already satisfied: filelock in /usr/local/lib/python3.10/dist-packages (from huggingface-hub>=0.4.0->sentence-transformers) (3.13.1)\n",
            "Requirement already satisfied: fsspec>=2023.5.0 in /usr/local/lib/python3.10/dist-packages (from huggingface-hub>=0.4.0->sentence-transformers) (2023.6.0)\n",
            "Requirement already satisfied: requests in /usr/local/lib/python3.10/dist-packages (from huggingface-hub>=0.4.0->sentence-transformers) (2.31.0)\n",
            "Requirement already satisfied: pyyaml>=5.1 in /usr/local/lib/python3.10/dist-packages (from huggingface-hub>=0.4.0->sentence-transformers) (6.0.1)\n",
            "Requirement already satisfied: typing-extensions>=3.7.4.3 in /usr/local/lib/python3.10/dist-packages (from huggingface-hub>=0.4.0->sentence-transformers) (4.9.0)\n",
            "Requirement already satisfied: packaging>=20.9 in /usr/local/lib/python3.10/dist-packages (from huggingface-hub>=0.4.0->sentence-transformers) (23.2)\n",
            "Requirement already satisfied: sympy in /usr/local/lib/python3.10/dist-packages (from torch>=1.6.0->sentence-transformers) (1.12)\n",
            "Requirement already satisfied: networkx in /usr/local/lib/python3.10/dist-packages (from torch>=1.6.0->sentence-transformers) (3.2.1)\n",
            "Requirement already satisfied: jinja2 in /usr/local/lib/python3.10/dist-packages (from torch>=1.6.0->sentence-transformers) (3.1.3)\n",
            "Requirement already satisfied: triton==2.1.0 in /usr/local/lib/python3.10/dist-packages (from torch>=1.6.0->sentence-transformers) (2.1.0)\n",
            "Requirement already satisfied: regex!=2019.12.17 in /usr/local/lib/python3.10/dist-packages (from transformers<5.0.0,>=4.6.0->sentence-transformers) (2023.6.3)\n",
            "Requirement already satisfied: tokenizers<0.19,>=0.14 in /usr/local/lib/python3.10/dist-packages (from transformers<5.0.0,>=4.6.0->sentence-transformers) (0.15.1)\n",
            "Requirement already satisfied: safetensors>=0.3.1 in /usr/local/lib/python3.10/dist-packages (from transformers<5.0.0,>=4.6.0->sentence-transformers) (0.4.1)\n",
            "Requirement already satisfied: click in /usr/local/lib/python3.10/dist-packages (from nltk->sentence-transformers) (8.1.7)\n",
            "Requirement already satisfied: joblib in /usr/local/lib/python3.10/dist-packages (from nltk->sentence-transformers) (1.3.2)\n",
            "Requirement already satisfied: threadpoolctl>=2.0.0 in /usr/local/lib/python3.10/dist-packages (from scikit-learn->sentence-transformers) (3.2.0)\n",
            "Requirement already satisfied: pillow!=8.3.*,>=5.3.0 in /usr/local/lib/python3.10/dist-packages (from torchvision->sentence-transformers) (9.4.0)\n",
            "Requirement already satisfied: MarkupSafe>=2.0 in /usr/local/lib/python3.10/dist-packages (from jinja2->torch>=1.6.0->sentence-transformers) (2.1.4)\n",
            "Requirement already satisfied: charset-normalizer<4,>=2 in /usr/local/lib/python3.10/dist-packages (from requests->huggingface-hub>=0.4.0->sentence-transformers) (3.3.2)\n",
            "Requirement already satisfied: idna<4,>=2.5 in /usr/local/lib/python3.10/dist-packages (from requests->huggingface-hub>=0.4.0->sentence-transformers) (3.6)\n",
            "Requirement already satisfied: urllib3<3,>=1.21.1 in /usr/local/lib/python3.10/dist-packages (from requests->huggingface-hub>=0.4.0->sentence-transformers) (2.0.7)\n",
            "Requirement already satisfied: certifi>=2017.4.17 in /usr/local/lib/python3.10/dist-packages (from requests->huggingface-hub>=0.4.0->sentence-transformers) (2023.11.17)\n",
            "Requirement already satisfied: mpmath>=0.19 in /usr/local/lib/python3.10/dist-packages (from sympy->torch>=1.6.0->sentence-transformers) (1.3.0)\n",
            "Building wheels for collected packages: sentence-transformers\n",
            "  Building wheel for sentence-transformers (setup.py) ... \u001b[?25l\u001b[?25hdone\n",
            "  Created wheel for sentence-transformers: filename=sentence_transformers-2.2.2-py3-none-any.whl size=125923 sha256=260354f0bc84b4a90567417e2c5105bd6a4eebbf3f95f2fa66bab2001b7ff235\n",
            "  Stored in directory: /root/.cache/pip/wheels/62/f2/10/1e606fd5f02395388f74e7462910fe851042f97238cbbd902f\n",
            "Successfully built sentence-transformers\n",
            "Installing collected packages: sentencepiece, sentence-transformers\n",
            "Successfully installed sentence-transformers-2.2.2 sentencepiece-0.1.99\n"
          ]
        }
      ]
    },
    {
      "cell_type": "code",
      "execution_count": 6,
      "id": "f611fa21",
      "metadata": {
        "id": "f611fa21"
      },
      "outputs": [],
      "source": [
        "import os\n",
        "os.environ['KONKO_API_KEY'] = 'your_api_key'\n"
      ]
    },
    {
      "cell_type": "markdown",
      "id": "342796d0",
      "metadata": {
        "id": "342796d0"
      },
      "source": [
        "## Level 1: Basic Prompt - Summarize a few sentences\n",
        "\n",
        "If you're looking to briefly summarize just a few sentences, you can simply use a direct prompt and then copy and paste your text.\n",
        "\n",
        "**Summarizing JIRA Tickets:**\n",
        "\n",
        "Businesses often drown in many JIRA tickets, overwhelming teams. Summarizing helps quickly grasp each ticket's essence amid the chaos.\n",
        "\n",
        "However, this method isn't scalable and is best suited for limited scenarios, fitting perfectly as level #1!"
      ]
    },
    {
      "cell_type": "code",
      "execution_count": 7,
      "id": "8a6ea241",
      "metadata": {
        "id": "8a6ea241"
      },
      "outputs": [],
      "source": [
        "from langchain.chat_models import ChatKonko\n",
        "from langchain.schema import AIMessage, HumanMessage, SystemMessage"
      ]
    },
    {
      "cell_type": "code",
      "execution_count": 11,
      "id": "538ded7c",
      "metadata": {
        "id": "538ded7c"
      },
      "outputs": [],
      "source": [
        "llm = ChatKonko(model='mistralai/mistral-7b-instruct-v0.1', max_tokens = 1000)"
      ]
    },
    {
      "cell_type": "markdown",
      "id": "b18ca4b1",
      "metadata": {
        "id": "b18ca4b1"
      },
      "source": [
        "The crucial step is giving clear directions to the LLM, guiding its action. Here, I'm instructing the model to produce a summary of the following Jira Ticket."
      ]
    },
    {
      "cell_type": "code",
      "execution_count": 12,
      "id": "67146e99",
      "metadata": {
        "id": "67146e99"
      },
      "outputs": [],
      "source": [
        "messages = [\n",
        "    SystemMessage(\n",
        "        content=\"You are a helpful assistant.\"\n",
        "    ),\n",
        "    HumanMessage(\n",
        "        content=\"\"\"\n",
        "                    Could you, in your eloquent way, condense this ticket's story for us?\n",
        "\n",
        "                    Ticket Content:\n",
        "                    Ticket ID: JIRA-78901\n",
        "                    Title: Implement Dynamic Cache Refresh Mechanism\n",
        "                    Reporter: Alex Thompson\n",
        "                    Assigned to: Jamie Cortez\n",
        "                    Status: Open\n",
        "                    Priority: High\n",
        "                    Description:\n",
        "                    Over the past few months, our XYZ product's analytics has shown a 25% decrease in response time, especially during peak usage hours. Analysis attributes this to cache bottlenecks, which are affecting user satisfaction scores and leading to an uptick in support tickets. This ticket proposes the development of a dynamic cache refresh mechanism. The intent is to have a smarter cache system that intelligently adjusts refresh rates based on real-time traffic loads and query complexities. By doing so, we aim to enhance server responsiveness, ensuring users have a seamless experience. This mechanism should also provide admin users with an interface to set manual overrides if needed. It's imperative that this solution seamlessly integrates with our current Redis setup and be scalable for future growth.\n",
        "\n",
        "                    Dependencies:\n",
        "\n",
        "                    Completion of ticket JIRA-78890 (Upgrade to Redis 7.0).\n",
        "                    Integration testing with the recently introduced user analytics module.\n",
        "                    Coordination with the database team and DevOps for deployment considerations.\n",
        "                    Comments:\n",
        "                    John Doe: Keep in mind our scheduled maintenance on the 20th. We shouldn’t have overlapping activities.\n",
        "                    Lucy Green: QA team will require documentation on the new features to ensure comprehensive testing. Expecting at least 3 days for complete QA post-implementation.\n",
        "                    Carlos Mendoza: Has anyone considered the impact on our mobile users? We need to ensure the changes are optimized for both desktop and mobile platforms.\n",
        "\n",
        "\"\"\"\n",
        "    ),\n",
        "]\n"
      ]
    },
    {
      "cell_type": "code",
      "execution_count": 13,
      "id": "61522722",
      "metadata": {
        "id": "61522722",
        "outputId": "a885c9d2-4685-4807-e251-2568c661098f",
        "colab": {
          "base_uri": "https://localhost:8080/"
        }
      },
      "outputs": [
        {
          "output_type": "stream",
          "name": "stdout",
          "text": [
            " JIRA-78901 is a high-priority ticket for the implementation of a dynamic cache refresh mechanism. The ticket proposes a smarter cache system that intelligently adjusts refresh rates based on real-time traffic loads and query complexities. This solution aims to enhance server responsiveness and improve user satisfaction scores. The mechanism should also provide admin users with an interface to set manual overrides if needed. The ticket has dependencies on the completion of JIRA-78890, integration testing with the recent user analytics module, coordination with the database team and DevOps for deployment considerations, and ensuring the implementation is optimized for both desktop and mobile platforms.\n"
          ]
        }
      ],
      "source": [
        "output = llm(messages)\n",
        "print(output.content)"
      ]
    },
    {
      "cell_type": "markdown",
      "id": "133d1b40",
      "metadata": {
        "id": "133d1b40"
      },
      "source": [
        "**The summary, though condensed, remains detailed for quick reads. We need a shorter version focusing on key points. Let's tweak our prompt for a clearer, concise snapshot without unnecessary specifics.**"
      ]
    },
    {
      "cell_type": "code",
      "execution_count": 14,
      "id": "ece0c069",
      "metadata": {
        "id": "ece0c069"
      },
      "outputs": [],
      "source": [
        "messages = [\n",
        "    SystemMessage(\n",
        "        content=\"You are a helpful assistant.\"\n",
        "    ),\n",
        "    HumanMessage(\n",
        "        content=\"\"\"\n",
        "                    Could you, in your eloquent way, condense this ticket's story for us? Our tech team would love a concise summary, highlighting:\n",
        "                    1. The core issue or feature being addressed.\n",
        "                    2. The primary expected outcomes.\n",
        "                    3. Any crucial dependencies or constraints.\n",
        "                    4. The urgency or priority level.\n",
        "\n",
        "                    Ticket Content:\n",
        "                    Ticket ID: JIRA-78901\n",
        "                    Title: Implement Dynamic Cache Refresh Mechanism\n",
        "                    Status: Open\n",
        "                    Priority: High\n",
        "                    Description:\n",
        "                    Over the past few months, our XYZ product's analytics has shown a 25% decrease in response time, especially during peak usage hours. Analysis attributes this to cache bottlenecks, which are affecting user satisfaction scores and leading to an uptick in support tickets. This ticket proposes the development of a dynamic cache refresh mechanism. The intent is to have a smarter cache system that intelligently adjusts refresh rates based on real-time traffic loads and query complexities. By doing so, we aim to enhance server responsiveness, ensuring users have a seamless experience. This mechanism should also provide admin users with an interface to set manual overrides if needed. It's imperative that this solution seamlessly integrates with our current Redis setup and be scalable for future growth.\n",
        "\n",
        "                    Dependencies:\n",
        "\n",
        "                    Completion of ticket JIRA-78890 (Upgrade to Redis 7.0).\n",
        "                    Integration testing with the recently introduced user analytics module.\n",
        "                    Coordination with the database team and DevOps for deployment considerations.\n",
        "                    Comments:\n",
        "                    John Doe: Keep in mind our scheduled maintenance on the 20th. We shouldn’t have overlapping activities.\n",
        "                    Lucy Green: QA team will require documentation on the new features to ensure comprehensive testing. Expecting at least 3 days for complete QA post-implementation.\n",
        "                    Carlos Mendoza: Has anyone considered the impact on our mobile users? We need to ensure the changes are optimized for both desktop and mobile platforms.\n",
        "\n",
        "\"\"\"\n",
        "    ),\n",
        "]\n"
      ]
    },
    {
      "cell_type": "code",
      "execution_count": 15,
      "id": "68f9b501",
      "metadata": {
        "id": "68f9b501",
        "outputId": "004ff253-a08c-4aaa-c787-eeeba9f525b0",
        "colab": {
          "base_uri": "https://localhost:8080/"
        }
      },
      "outputs": [
        {
          "output_type": "stream",
          "name": "stdout",
          "text": [
            " Ticket ID: JIRA-78901\n",
            "Title: Implement Dynamic Cache Refresh Mechanism\n",
            "Status: Open\n",
            "Priority: High\n",
            "\n",
            "Core Issue/Feature:\n",
            "The ticket aims to address cache bottlenecks affecting server responsiveness in our XYZ product, leading to decreased user satisfaction and increased support tickets.\n",
            "\n",
            "Primary Expected Outcomes:\n",
            "1. Enhance server responsiveness\n",
            "2. Improve user experience\n",
            "3. Provide admin users with manual override options\n",
            "4. Integrate seamlessly with Redis setup and be scalable for future growth\n",
            "\n",
            "Crucial Dependencies/Constraints:\n",
            "1. Completion of ticket JIRA-78890 (Upgrade to Redis 7.0)\n",
            "2. Integration testing with the user analytics module\n",
            "3. Coordination with the database team and DevOps for deployment considerations\n",
            "4. Scheduled maintenance on the 20th\n",
            "5. Comprehensive QA testing required post-implementation\n",
            "6. Optimization for both desktop and mobile platforms\n",
            "\n",
            "Urgency/Priority Level:\n",
            "High\n"
          ]
        }
      ],
      "source": [
        "output = llm(messages)\n",
        "print(output.content)"
      ]
    },
    {
      "cell_type": "markdown",
      "id": "6f294999",
      "metadata": {
        "id": "6f294999"
      },
      "source": [
        "Nice! That's much better, but let's look at something we can automate a bit more"
      ]
    },
    {
      "cell_type": "markdown",
      "id": "13f1cf66",
      "metadata": {
        "id": "13f1cf66"
      },
      "source": [
        "## Level 2: Prompt Templates - Summarize a few paragraphs\n",
        "\n",
        "Prompt templates are an effective method to dynamically insert specific text segments into your prompts. Think of them as akin to [Python f-strings](https://realpython.com/python-f-strings/), but tailored for seamless integration with language models.\n",
        "\n",
        "Let's delve into 2 short business documents: one about a **staff training memo** (representing \"Training and Onboarding\") and the other concerning a **yearly financial report** (representing \"Investor Relations\").\n",
        "\n",
        "While we have demonstrated the utility with these two specific scenarios, the potential applications are vast. For instance:\n",
        "\n",
        "1. **Customer Support:** Extract key issues from feedback to enhance product or service offerings.\n",
        "2. **Executive Briefings:** Create concise summaries for top decision-makers to grasp essential details without wading through extensive reports.\n",
        "3. **Product Reviews:** Summarize feedback on new product launches to quickly gauge customer sentiment and identify areas for improvement.\n",
        "4. **Market Research:** Collate insights about the latest industry trends and competitor activities in a brief format for strategic planning.\n",
        "\n",
        "By understanding the context and objectives, users can modify and tailor these templates to suit a wide array of business needs.\n"
      ]
    },
    {
      "cell_type": "code",
      "execution_count": 16,
      "id": "712acb03",
      "metadata": {
        "id": "712acb03"
      },
      "outputs": [],
      "source": [
        "from langchain import PromptTemplate\n",
        "import os"
      ]
    },
    {
      "cell_type": "code",
      "execution_count": 18,
      "id": "b326aaeb",
      "metadata": {
        "id": "b326aaeb"
      },
      "outputs": [],
      "source": [
        "paul_graham_essays = ['data/memo/Onboarding_doc.txt', 'data/memo/Investor_relations.txt']\n",
        "\n",
        "essays = []\n",
        "\n",
        "for file_name in paul_graham_essays:\n",
        "    with open(file_name, 'r') as file:\n",
        "        essays.append(file.read())"
      ]
    },
    {
      "cell_type": "markdown",
      "id": "529ad7c1",
      "metadata": {
        "id": "529ad7c1"
      },
      "source": [
        "Let's print out a preview of the essays to see what they look like"
      ]
    },
    {
      "cell_type": "code",
      "execution_count": 19,
      "id": "d7d93873",
      "metadata": {
        "id": "d7d93873",
        "outputId": "034adad9-a186-4f76-fc10-5a0d0761db2c",
        "colab": {
          "base_uri": "https://localhost:8080/"
        }
      },
      "outputs": [
        {
          "output_type": "stream",
          "name": "stdout",
          "text": [
            "Essay #1: Training and Onboarding\n",
            "\n",
            "Our onboarding program for the Design Department has been formulated with extensive research and insights from current and past employees. The first week is dedicated to understanding the company’s history, mission, vision, and core values. We ensure this through a series of\n",
            "\n",
            "Essay #2: Investor relations report\n",
            "\n",
            "In the annual overview for 2022, XYZ has shown remarkable resilience and growth despite the challenges posed by the global landscape. Beginning with our achievements, XYZ's revenue surged by 25%, outpacing our closest competitors. This impressive growth can be attributed t\n",
            "\n"
          ]
        }
      ],
      "source": [
        "for i, essay in enumerate(essays):\n",
        "    print (f\"Essay #{i+1}: {essay[:300]}\\n\")"
      ]
    },
    {
      "cell_type": "markdown",
      "id": "8e70a48e",
      "metadata": {
        "id": "8e70a48e"
      },
      "source": [
        "Next let's create a prompt template which will hold our instructions and a placeholder for the essay. In this illustration, we'll focus on extracting the core details, accomplishments, hurdles, and forthcoming plans or tactics."
      ]
    },
    {
      "cell_type": "code",
      "execution_count": 20,
      "id": "946c379a",
      "metadata": {
        "id": "946c379a"
      },
      "outputs": [],
      "source": [
        "template = \"\"\"\n",
        "Summarize the key achievements, main challenges faced, and any forward-looking strategies or\n",
        "initiatives mentioned in the document.\n",
        "\n",
        "{essay}\n",
        "\"\"\"\n",
        "\n",
        "prompt = PromptTemplate(\n",
        "    input_variables=[\"essay\"],\n",
        "    template=template\n",
        ")"
      ]
    },
    {
      "cell_type": "markdown",
      "id": "51b2611b",
      "metadata": {
        "id": "51b2611b"
      },
      "source": [
        "Then let's loop through the 2 essays and pass them to our LLM. I'm applying .strip() on the summaries to remove the white space on the front and back of the output"
      ]
    },
    {
      "cell_type": "code",
      "execution_count": 23,
      "id": "f2038feb",
      "metadata": {
        "id": "f2038feb",
        "outputId": "7376c63a-4d5f-4d0a-a113-4d7a4abc3e78",
        "colab": {
          "base_uri": "https://localhost:8080/"
        }
      },
      "outputs": [
        {
          "output_type": "stream",
          "name": "stderr",
          "text": [
            "WARNING:langchain_community.chat_models.openai:Warning: model not found. Using cl100k_base encoding.\n"
          ]
        },
        {
          "output_type": "stream",
          "name": "stdout",
          "text": [
            "This prompt + essay has 395 tokens\n"
          ]
        },
        {
          "output_type": "stream",
          "name": "stderr",
          "text": [
            "WARNING:langchain_community.chat_models.openai:Warning: model not found. Using cl100k_base encoding.\n"
          ]
        },
        {
          "output_type": "stream",
          "name": "stdout",
          "text": [
            "Summary:  Key achievements of the Design Department's onboarding program include extensive research and insights from current and past employees, mentorship program, hands-on learning, cross-functional collaboration, specific role-targeted training, and soft skills training.\n",
            "\n",
            "Main challenges faced by the program include a desire for more advanced workshops on emerging design tools, a deeper dive into motion graphics as it is seen as a growing trend, and a few sessions dedicated solely to understanding user research and integrating findings into the design.\n",
            "\n",
            "Forward-looking strategies and initiatives mentioned in the document include incorporating user research into the onboarding program, providing advanced workshops on emerging design tools, and dedicating specific sessions to motion graphics.\n",
            "\n",
            "\n",
            "This prompt + essay has 324 tokens\n",
            "Summary:  Key achievements:\n",
            "\n",
            "* XYZ's revenue surged by 25% in 2022, outpacing competitors.\n",
            "* Sales doubled in the Asian market in the last quarter alone.\n",
            "* Research and development launched three groundbreaking products.\n",
            "\n",
            "Main challenges:\n",
            "\n",
            "* Supply chain disruptions led to a 5% decline in production capacity during Q2 and Q3.\n",
            "* Unexpected resignations in senior management created short-term strategy realignments.\n",
            "\n",
            "Forward-looking strategies/initiatives:\n",
            "\n",
            "* Investment in green technologies with potential revenue increase of 15% from this sector by 2024.\n",
            "* Potential mergers and acquisitions to solidify foothold in European market.\n",
            "* Initiation of quarterly investor meetings for greater transparency and stronger relationships.\n",
            "\n",
            "\n"
          ]
        }
      ],
      "source": [
        "for essay in essays:\n",
        "    summary_prompt = prompt.format(essay=essay)\n",
        "    num_tokens = llm.get_num_tokens(summary_prompt)\n",
        "    print (f\"This prompt + essay has {num_tokens} tokens\")\n",
        "    messages = [\n",
        "        SystemMessage(\n",
        "            content=\"You are a helpful assistant.\"\n",
        "        ),\n",
        "        HumanMessage(\n",
        "            content=summary_prompt\n",
        "        ),\n",
        "    ]\n",
        "    summary = llm(messages)\n",
        "\n",
        "    print (f\"Summary: {summary.content}\")\n",
        "    print (\"\\n\")"
      ]
    },
    {
      "cell_type": "markdown",
      "id": "49ae9a41",
      "metadata": {
        "id": "49ae9a41"
      },
      "source": [
        "## Level 3: Map Reduce - Summarize a few pages\n",
        "\n",
        "**Why Summarize?**\n",
        "Summarizing large reports, like the \"Market report of The individual health insurance market in 2023,\" provides quick insights for businesses. It aids in:\n",
        "\n",
        "1. Faster decision-making.\n",
        "2. Clear stakeholder communication.\n",
        "3. Efficient meeting preparations.\n",
        "4. Sharing insights across teams.\n",
        "\n",
        "\n",
        "If you have multiple pages you'd like to summarize, you'll likely run into a token limit. Token limits won't always be a problem, but it is good to know how to handle them if you run into the issue.\n",
        "\n",
        "The chain type \"Map Reduce\" is a method that helps with this. You first generate a summary of smaller chunks (that fit within the token limit) and then you get a summary of the summaries.\n",
        "\n",
        "Check out [this video](https://www.youtube.com/watch?v=f9_BWhCI4Zo) for more information on how chain types work\n"
      ]
    },
    {
      "cell_type": "code",
      "execution_count": 24,
      "id": "c2ce6270",
      "metadata": {
        "id": "c2ce6270"
      },
      "outputs": [],
      "source": [
        "from langchain.chains.summarize import load_summarize_chain\n",
        "from langchain.text_splitter import RecursiveCharacterTextSplitter"
      ]
    },
    {
      "cell_type": "code",
      "execution_count": 26,
      "id": "c70352ae",
      "metadata": {
        "id": "c70352ae"
      },
      "outputs": [],
      "source": [
        "market_essay = 'data/MarketReport_healthInsurance_OriginalVersion.txt'\n",
        "\n",
        "with open(market_essay, 'r') as file:\n",
        "    essay = file.read()"
      ]
    },
    {
      "cell_type": "markdown",
      "id": "bb6de34d",
      "metadata": {
        "id": "bb6de34d"
      },
      "source": [
        "Let's see how many tokens are in this essay"
      ]
    },
    {
      "cell_type": "code",
      "execution_count": 27,
      "id": "b133938a",
      "metadata": {
        "id": "b133938a",
        "outputId": "ce3f8153-4e3d-45df-8842-a10d6208a37d",
        "colab": {
          "base_uri": "https://localhost:8080/"
        }
      },
      "outputs": [
        {
          "output_type": "stream",
          "name": "stderr",
          "text": [
            "WARNING:langchain_community.chat_models.openai:Warning: model not found. Using cl100k_base encoding.\n"
          ]
        },
        {
          "output_type": "execute_result",
          "data": {
            "text/plain": [
              "2587"
            ]
          },
          "metadata": {},
          "execution_count": 27
        }
      ],
      "source": [
        "llm.get_num_tokens(essay)"
      ]
    },
    {
      "cell_type": "markdown",
      "id": "dc8ec39d",
      "metadata": {
        "id": "dc8ec39d"
      },
      "source": [
        "That's too many, let's split our text up into chunks so they fit into the prompt limit. I'm going a chunk size of 8,000 characters.\n",
        "\n",
        "> You can think of tokens as pieces of words used for natural language processing. For English text, **1 token is approximately 4 characters** or 0.75 words. As a point of reference, the collected works of Shakespeare are about 900,000 words or 1.2M tokens.\n",
        "\n",
        "This means the number of tokens we should expect is 8000 / 4 = ~ 2000 token chunks. But this will vary, each body of text/code will be different"
      ]
    },
    {
      "cell_type": "code",
      "execution_count": 28,
      "id": "2e7c372b",
      "metadata": {
        "id": "2e7c372b"
      },
      "outputs": [],
      "source": [
        "text_splitter = RecursiveCharacterTextSplitter(separators=[\"\\n\\n\", \"\\n\"], chunk_size=8000, chunk_overlap=300)\n",
        "\n",
        "docs = text_splitter.create_documents([essay])"
      ]
    },
    {
      "cell_type": "code",
      "execution_count": 29,
      "id": "f66569f0",
      "metadata": {
        "id": "f66569f0",
        "outputId": "e99c73ab-6b06-4232-b81f-5c860e18c4fa",
        "colab": {
          "base_uri": "https://localhost:8080/"
        }
      },
      "outputs": [
        {
          "output_type": "stream",
          "name": "stderr",
          "text": [
            "WARNING:langchain_community.chat_models.openai:Warning: model not found. Using cl100k_base encoding.\n"
          ]
        },
        {
          "output_type": "stream",
          "name": "stdout",
          "text": [
            "Now we have 2 documents and the first one has 1621 tokens\n"
          ]
        }
      ],
      "source": [
        "num_docs = len(docs)\n",
        "\n",
        "num_tokens_first_doc = llm.get_num_tokens(docs[0].page_content)\n",
        "\n",
        "print (f\"Now we have {num_docs} documents and the first one has {num_tokens_first_doc} tokens\")"
      ]
    },
    {
      "cell_type": "markdown",
      "id": "b61d49f5",
      "metadata": {
        "id": "b61d49f5"
      },
      "source": [
        "Great, assuming that number of tokens is consistent in the other docs we should be good to go. Let's use LangChain's [load_summarize_chain](https://python.langchain.com/en/latest/use_cases/summarization.html) to do the `map_reducing` for us. We first need to initialize our chain"
      ]
    },
    {
      "cell_type": "markdown",
      "id": "4f933f1f",
      "metadata": {
        "id": "4f933f1f"
      },
      "source": [
        "**Determine Your Output Format**"
      ]
    },
    {
      "cell_type": "markdown",
      "id": "2eb6f653",
      "metadata": {
        "id": "2eb6f653"
      },
      "source": [
        "Want a bullet-point summary? Tailor your prompts accordingly. By using custom prompts, you can instruct the model with precision.\n",
        "\n",
        "Here's a peek into setting up those prompts:\n",
        "\n",
        "**Map Prompt:** This will remain consistent for mapping. The goal? To achieve a concise summary."
      ]
    },
    {
      "cell_type": "code",
      "execution_count": 30,
      "id": "7442e889",
      "metadata": {
        "id": "7442e889"
      },
      "outputs": [],
      "source": [
        "map_prompt = \"\"\"\n",
        "Write a concise summary of the following:\n",
        "\"{text}\"\n",
        "CONCISE SUMMARY:\n",
        "\"\"\"\n",
        "map_prompt_template = PromptTemplate(template=map_prompt, input_variables=[\"text\"])"
      ]
    },
    {
      "cell_type": "markdown",
      "id": "e908f0d6",
      "metadata": {
        "id": "e908f0d6"
      },
      "source": [
        "**Combine Prompt:** This is where the magic of combining happens. For our goal, we want to refine and compile our mapped summaries into bullet points."
      ]
    },
    {
      "cell_type": "code",
      "execution_count": 31,
      "id": "6f42deb5",
      "metadata": {
        "id": "6f42deb5"
      },
      "outputs": [],
      "source": [
        "combine_prompt = \"\"\"\n",
        "Write a concise summary of the following text delimited by triple backquotes.\n",
        "Return your response in bullet points which covers the key points of the text.\n",
        "```{text}```\n",
        "BULLET POINT SUMMARY:\n",
        "\"\"\"\n",
        "combine_prompt_template = PromptTemplate(template=combine_prompt, input_variables=[\"text\"])"
      ]
    },
    {
      "cell_type": "code",
      "execution_count": 32,
      "id": "e2051818",
      "metadata": {
        "id": "e2051818"
      },
      "outputs": [],
      "source": [
        "summary_chain = load_summarize_chain(llm=llm,\n",
        "                                     chain_type='map_reduce',\n",
        "                                     map_prompt=map_prompt_template,\n",
        "                                     combine_prompt=combine_prompt_template\n",
        "                                    )"
      ]
    },
    {
      "cell_type": "code",
      "execution_count": 33,
      "id": "c986230f",
      "metadata": {
        "id": "c986230f",
        "outputId": "cfd1c90e-03ab-4bc2-e0f3-ddb47a70db59",
        "colab": {
          "base_uri": "https://localhost:8080/"
        }
      },
      "outputs": [
        {
          "output_type": "stream",
          "name": "stderr",
          "text": [
            "/usr/local/lib/python3.10/dist-packages/langchain_core/_api/deprecation.py:117: LangChainDeprecationWarning: The function `run` was deprecated in LangChain 0.1.0 and will be removed in 0.2.0. Use invoke instead.\n",
            "  warn_deprecated(\n",
            "WARNING:langchain_community.chat_models.openai:Warning: model not found. Using cl100k_base encoding.\n"
          ]
        }
      ],
      "source": [
        "output = summary_chain.run(docs)"
      ]
    },
    {
      "cell_type": "markdown",
      "id": "3b4303ff",
      "metadata": {
        "id": "3b4303ff"
      },
      "source": [
        "**Here is the summary**"
      ]
    },
    {
      "cell_type": "code",
      "execution_count": 34,
      "id": "e90a8582",
      "metadata": {
        "id": "e90a8582",
        "outputId": "77dd4a62-669a-4ca5-88e5-28fe6538fde8",
        "colab": {
          "base_uri": "https://localhost:8080/"
        }
      },
      "outputs": [
        {
          "output_type": "stream",
          "name": "stdout",
          "text": [
            " * In 2023, the individual health insurance market is expected to have 3.6 million new consumers.\n",
            "* Insurer participation and pricing have increased, with national insurers offering more competitively priced silver-level plans.\n",
            "* Enrollment in 2022 exceeded 16 million for the first time since 2016.\n",
            "* Insurer participation continued to grow in 2023, although at a slower rate, with national insurers expanding participation the most.\n",
            "* Consumer choice of insurers and products has increased substantially over the past five years.\n",
            "* The Centers for Medicare & Medicaid Services (CMS) has proposed regulations that could reduce the number of plan options available to consumers.\n",
            "* The proportion of counties with a single insurer has decreased since 2018.\n",
            "* Premiums have increased across all metal tiers and plan categories.\n",
            "* Insurtechs had the largest increases in lowest-price silver premiums.\n",
            "* National insurers have improved their price position in 2023.\n"
          ]
        }
      ],
      "source": [
        "print(output)"
      ]
    },
    {
      "cell_type": "markdown",
      "id": "2a76f478",
      "metadata": {
        "id": "2a76f478"
      },
      "source": [
        "## Level 4: Summarize a few pages - Recurssive Map Reduce"
      ]
    },
    {
      "cell_type": "markdown",
      "id": "30f26d07",
      "metadata": {
        "id": "30f26d07"
      },
      "source": [
        "While the above summarization technique appears effective, it's essential to recognize some inherent challenges. Below, we outline these issues and propose solutions.\n",
        "\n"
      ]
    },
    {
      "cell_type": "markdown",
      "id": "030e1f72",
      "metadata": {
        "id": "030e1f72"
      },
      "source": [
        "**Current Challenge:**\n",
        "\n",
        "LangChain's 'Map Reduce' breaks down and summarizes content segments. However, the issue arises during the final summarization stage, when these summarized parts are consolidated, particularly for lengthy documents. This process can often surpass the token limit.\n",
        "\n",
        "We're now delving into a custom approach for iterative summarization. While our method offers benefits, it's important to highlight its inherent constraints, which we'll discuss further."
      ]
    },
    {
      "cell_type": "code",
      "execution_count": 35,
      "id": "2a907955",
      "metadata": {
        "id": "2a907955"
      },
      "outputs": [],
      "source": [
        "import math\n",
        "from langchain.prompts.chat import (\n",
        "    ChatPromptTemplate,\n",
        "    SystemMessagePromptTemplate,\n",
        "    HumanMessagePromptTemplate,\n",
        ")\n",
        "\n",
        "MAX_TOKENS_SUMMARY = 1000\n",
        "SUMMARY_SYS_MSG = \"\"\"Write a concise summary of the following:\n",
        "\"{input}\"\n",
        "CONCISE SUMMARY:\"\"\"\n",
        "\n",
        "FINAL_SUMMARY_SYS_MSG = \"\"\"\n",
        "Write a concise summary of the following text delimited by triple backquotes.\n",
        "Return your response in bullet points which covers the key points of the text.\n",
        "```{input}```\n",
        "BULLET POINT SUMMARY:\n",
        "\"\"\"\n",
        "\n",
        "\n",
        "def token_len(input: str) -> int:\n",
        "    \"\"\"Get token length\"\"\"\n",
        "    return llm.get_num_tokens(input)\n",
        "\n",
        "def chunk(input: str) -> list:\n",
        "    input_tokens = token_len(input)\n",
        "    count = math.ceil(input_tokens / MAX_TOKENS_SUMMARY)\n",
        "    k, m = divmod(len(input), count)\n",
        "    chunks = [\n",
        "        input[i * k + min(i, m) : (i + 1) * k + min(i + 1, m)] for i in range(count)\n",
        "    ]\n",
        "    return chunks\n",
        "\n",
        "def summarize(input: str, final: bool = False) -> str:\n",
        "    if token_len(input) <= MAX_TOKENS_SUMMARY:\n",
        "        final = True  # Force bullet points if within token limit\n",
        "\n",
        "    # Use appropriate system message based on final flag\n",
        "    system_message = SystemMessagePromptTemplate.from_template(\n",
        "        template=FINAL_SUMMARY_SYS_MSG if final else SUMMARY_SYS_MSG\n",
        "    )\n",
        "    human_message = HumanMessagePromptTemplate.from_template(\n",
        "        template=\"Input: {input}\"\n",
        "    )\n",
        "\n",
        "    if final:  # Directly summarize with bullet points if final flag is set\n",
        "        prompt = ChatPromptTemplate(\n",
        "            input_variables=[\"input\"],\n",
        "            messages=[system_message, human_message],\n",
        "        )\n",
        "        _input = prompt.format_prompt(input=input)\n",
        "        single_string_prompt = (_input.to_messages()[0].content)\n",
        "        single_string_prompt = [\n",
        "                                    SystemMessage(\n",
        "                                        content=\"You are a helpful assistant.\"\n",
        "                                    ),\n",
        "                                    HumanMessage(\n",
        "                                        content=single_string_prompt\n",
        "                                    ),\n",
        "                                ]\n",
        "        output = llm(single_string_prompt)\n",
        "        return output\n",
        "\n",
        "    # If not 'final', proceed with chunk-wise summarization\n",
        "    chunks = chunk(input=input)\n",
        "    summary = \"\"\n",
        "\n",
        "    for i in chunks:\n",
        "        prompt = ChatPromptTemplate(\n",
        "            input_variables=[\"input\"],\n",
        "            messages=[system_message, human_message],\n",
        "        )\n",
        "\n",
        "        _input = prompt.format_prompt(input=i)\n",
        "        single_string_prompt = (_input.to_messages()[0].content)\n",
        "        single_string_prompt = [\n",
        "                                    SystemMessage(\n",
        "                                        content=\"You are a helpful assistant.\"\n",
        "                                    ),\n",
        "                                    HumanMessage(\n",
        "                                        content=single_string_prompt\n",
        "                                    ),\n",
        "                                ]\n",
        "        output = llm(single_string_prompt)\n",
        "        summary += f\"\\n{output}\"\n",
        "\n",
        "    # Check token length of the summary and decide next step\n",
        "    sum_tokens = token_len(input=summary)\n",
        "\n",
        "    if sum_tokens > MAX_TOKENS_SUMMARY:\n",
        "        return summarize(input=summary, final=True)  # Recur with 'final' set to True\n",
        "\n",
        "    return summarize(input=summary, final=True)"
      ]
    },
    {
      "cell_type": "code",
      "execution_count": 36,
      "id": "97c4bf9a",
      "metadata": {
        "id": "97c4bf9a"
      },
      "outputs": [],
      "source": [
        "market_essay = 'data/MarketReport_healthInsurance_shortVersion.txt'\n",
        "\n",
        "with open(market_essay, 'r') as file:\n",
        "    essay = file.read()"
      ]
    },
    {
      "cell_type": "markdown",
      "id": "3fe01711",
      "metadata": {
        "id": "3fe01711"
      },
      "source": [
        "Let's see how many tokens are in this essay"
      ]
    },
    {
      "cell_type": "code",
      "execution_count": 37,
      "id": "74e75383",
      "metadata": {
        "id": "74e75383",
        "outputId": "5b1471b0-9dd1-4042-f96c-6f69f7c86a83",
        "colab": {
          "base_uri": "https://localhost:8080/"
        }
      },
      "outputs": [
        {
          "output_type": "stream",
          "name": "stderr",
          "text": [
            "WARNING:langchain_community.chat_models.openai:Warning: model not found. Using cl100k_base encoding.\n"
          ]
        },
        {
          "output_type": "execute_result",
          "data": {
            "text/plain": [
              "6196"
            ]
          },
          "metadata": {},
          "execution_count": 37
        }
      ],
      "source": [
        "llm.get_num_tokens(essay)"
      ]
    },
    {
      "cell_type": "markdown",
      "id": "50f65c11",
      "metadata": {
        "id": "50f65c11"
      },
      "source": [
        "**Let's examine the summary generated by our tailored method.**"
      ]
    },
    {
      "cell_type": "code",
      "execution_count": 38,
      "id": "334576f3",
      "metadata": {
        "id": "334576f3",
        "outputId": "51c818cf-db09-4d0e-de8d-7a32eab47164",
        "colab": {
          "base_uri": "https://localhost:8080/"
        }
      },
      "outputs": [
        {
          "output_type": "stream",
          "name": "stderr",
          "text": [
            "WARNING:langchain_community.chat_models.openai:Warning: model not found. Using cl100k_base encoding.\n",
            "WARNING:langchain_community.chat_models.openai:Warning: model not found. Using cl100k_base encoding.\n",
            "WARNING:langchain_community.chat_models.openai:Warning: model not found. Using cl100k_base encoding.\n",
            "WARNING:langchain_community.chat_models.openai:Warning: model not found. Using cl100k_base encoding.\n"
          ]
        }
      ],
      "source": [
        "output = summarize(essay)"
      ]
    },
    {
      "cell_type": "code",
      "execution_count": 39,
      "id": "be5fed7e",
      "metadata": {
        "id": "be5fed7e",
        "outputId": "6888db39-209b-4e84-bd1a-c46c3d80f372",
        "colab": {
          "base_uri": "https://localhost:8080/"
        }
      },
      "outputs": [
        {
          "output_type": "stream",
          "name": "stdout",
          "text": [
            " * The Federal Insurance Office (FIO) has released its 2022 Annual Report on the Insurance Industry, which provides an overview of the financial performance and condition of the U.S. insurance industry in calendar year 2021.\n",
            "* The report shows that the U.S. insurance industry was able to maintain its financial health despite the continuing effects of the COVID-19 pandemic, higher inflation, and a changing interest rate environment.\n",
            "* The report includes information on the financial performance and condition of the life and health (L&H) and property and casualty (P&C) sectors, as well as the health sector.\n",
            "* The report discusses private equity-backed insurers and recent attention on private equity's participation in the U.S. insurance industry.\n",
            "* The FIO is a department within the U.S. Treasury established by Title V of the Dodd-Frank Act, which advises the Secretary of the Treasury on major domestic and prudential international insurance policy issues, monitors the insurance industry, and recommends to the Financial Stability Oversight Council (FSOC) the designation of insurers subject to regulation.\n",
            "* FIO also assists the Secretary in administering the Terrorism Risk Insurance Program, coordinates federal efforts on international insurance matters, and determines whether state insurance measures are preempted by covered agreements.\n",
            "* FIO is authorized to collect data and information on the insurance sector, analyze and disseminate data and information, and issue reports on all lines of insurance, except health insurance.\n",
            "* FIO has several statutorily imposed reporting obligations, including for this annual report, and is authorized to use subpoenas to collect data and information.\n",
            "* The FIO is also working on climate-related issues and has joined the Network of Central Banks and Supervisors for Greening of the Financial System, and is developing a climate report on insurance supervision and regulation of climate-related financial risks.\n",
            "* FIO is conducting its annual data call in connection with the Terrorism Risk Insurance Program and has issued a request for comment on factors to be analyzed in the 2022 Report on the Effectiveness of the Terrorism Risk Insurance Program.\n"
          ]
        }
      ],
      "source": [
        "print(output.content)"
      ]
    },
    {
      "cell_type": "markdown",
      "id": "a86a0539",
      "metadata": {
        "id": "a86a0539"
      },
      "source": [
        "Looks good!"
      ]
    },
    {
      "cell_type": "markdown",
      "id": "59a6da87",
      "metadata": {
        "id": "59a6da87"
      },
      "source": [
        "## Level 5: Best Representation Vectors - Summarize an entire book\n",
        "\n",
        "As we navigate the intricacies of document summarization, it's evident that traditional methods, though robust in many scenarios, possess specific challenges. Let's briefly revisit these:\n",
        "\n",
        "1. Recursive Summarization:\n",
        "\n",
        "    **Function:** It partitions lengthy documents into digestible sections, which are individually summarized. These summaries are then amalgamated and further refined, iterating until a concise version surfaces.\n",
        "\n",
        "    **Shortcomings:**\n",
        "        1. Interrupted Logical Flow: Certain tools, such as LangChain, might split content without preserving its natural continuity.\n",
        "        2. Inconsistent Point Emphasis: The varied lengths of distinct points by authors can result in pivotal information being cut short or inadequately summarized.\n",
        "        \n",
        "    \n",
        "2. The 'Refine' Method:\n",
        "\n",
        "    **Function:** It incrementally improves summaries as more content is processed.\n",
        "\n",
        "    **Shortcomings:**\n",
        "        1. Inefficiency: Unlike recursive methods which leverage logarithmic time, this method proceeds linearly.\n",
        "        2. Bias Towards Initial Content: Preliminary segments may disproportionately influence the summary, even if they're unrelated to the main content.\n",
        "    \n",
        "Despite advances in language models, it's clear that some level of document segmentation and recursive summarization will always be necessary, especially for voluminous texts.\n",
        "\n",
        "In the upcoming section, we'll introduce an approach that seeks to address these challenges, ensuring coherent and meaningful summaries.\n",
        "\n",
        "We will be distilling expansive documents like \"The Economic Potential of Generative AI.\"\n",
        "\n"
      ]
    },
    {
      "cell_type": "code",
      "execution_count": 43,
      "id": "f6ed1dcb",
      "metadata": {
        "id": "f6ed1dcb"
      },
      "outputs": [],
      "source": [
        "from langchain.document_loaders import PyPDFLoader\n",
        "\n",
        "# Load the book\n",
        "loader = PyPDFLoader(\"data/the-economic-potential-of-generative-ai-the-next-productivity-frontier-vf.pdf\")\n",
        "pages = loader.load()\n",
        "\n",
        "# Combine the pages, and replace the tabs with spaces\n",
        "text = \"\"\n",
        "\n",
        "for page in pages:\n",
        "    text += page.page_content\n",
        "\n",
        "text = text.replace('\\t', ' ')"
      ]
    },
    {
      "cell_type": "code",
      "execution_count": 44,
      "id": "6db88712",
      "metadata": {
        "id": "6db88712",
        "outputId": "38fe0a56-775e-4b35-b0ee-4a865e41a840",
        "colab": {
          "base_uri": "https://localhost:8080/"
        }
      },
      "outputs": [
        {
          "output_type": "stream",
          "name": "stderr",
          "text": [
            "WARNING:langchain_community.chat_models.openai:Warning: model not found. Using cl100k_base encoding.\n"
          ]
        },
        {
          "output_type": "stream",
          "name": "stdout",
          "text": [
            "This book has 31463 tokens in it\n"
          ]
        }
      ],
      "source": [
        "num_tokens = llm.get_num_tokens(text)\n",
        "\n",
        "print (f\"This book has {num_tokens} tokens in it\")"
      ]
    },
    {
      "cell_type": "markdown",
      "id": "4bedfe55",
      "metadata": {
        "id": "4bedfe55"
      },
      "source": [
        "Handling a vast 33K tokens exceeds even GPT's 32K capacity, and with a cost of $1.00 for the prompt, we need an efficient approach.\n",
        "\n",
        "**Objective**: Distill the book's essence through strategic chunking.\n",
        "\n",
        "- **Chunk & Embed**: Divide the book into significant sections and transform them into vectors using embeddings.\n",
        "  \n",
        "- **Diversify**: Opt for a blend of chunks providing both a holistic and varied book perspective. Consider: Which 10 passages best encapsulate the book's essence?\n",
        "  \n",
        "- **Clustering & Selection**: Group similar vectors, pinpointing the ones that most exemplify each cluster, and subsequently summarize these selected portions.\n",
        "  \n",
        "- **End Goal**: Create a compelling summary that, while potentially losing some detail, captures the primary content.\n",
        "\n",
        "Remember, this is a tailored approach, not the definitive solution. And yes, summarizing an entire book always entails some loss of detail!\n"
      ]
    },
    {
      "cell_type": "code",
      "execution_count": 45,
      "id": "e0e930b3",
      "metadata": {
        "id": "e0e930b3"
      },
      "outputs": [],
      "source": [
        "from langchain.schema import Document\n",
        "from langchain.text_splitter import RecursiveCharacterTextSplitter\n",
        "\n",
        "\n",
        "from langchain.vectorstores import FAISS\n",
        "from langchain.embeddings import HuggingFaceEmbeddings\n",
        "from langchain.chains.summarize import load_summarize_chain\n",
        "\n",
        "\n",
        "import os\n",
        "os.environ[\"TOKENIZERS_PARALLELISM\"] = \"false\"\n",
        "\n",
        "import numpy as np\n",
        "from sklearn.cluster import KMeans"
      ]
    },
    {
      "cell_type": "code",
      "execution_count": 46,
      "id": "0d3d233d",
      "metadata": {
        "id": "0d3d233d"
      },
      "outputs": [],
      "source": [
        "text_splitter = RecursiveCharacterTextSplitter(separators=[\"\\n\\n\", \"\\n\", \"\\t\"], chunk_size=8000, chunk_overlap=800)\n",
        "\n",
        "docs = text_splitter.create_documents([text])"
      ]
    },
    {
      "cell_type": "code",
      "execution_count": 47,
      "id": "c1c2c701",
      "metadata": {
        "id": "c1c2c701",
        "outputId": "94803723-e06a-4fcb-bef1-d7812e7ce675",
        "colab": {
          "base_uri": "https://localhost:8080/"
        }
      },
      "outputs": [
        {
          "output_type": "stream",
          "name": "stdout",
          "text": [
            "Now our book is split up into 23 documents\n"
          ]
        }
      ],
      "source": [
        "num_documents = len(docs)\n",
        "\n",
        "print (f\"Now our book is split up into {num_documents} documents\")"
      ]
    },
    {
      "cell_type": "markdown",
      "id": "8d413b2d",
      "metadata": {
        "id": "8d413b2d"
      },
      "source": [
        "Let's get our embeddings of those 26 documents"
      ]
    },
    {
      "cell_type": "code",
      "execution_count": 50,
      "id": "898fc62c",
      "metadata": {
        "id": "898fc62c",
        "outputId": "37aab134-0896-4f52-9419-965ec0788c63",
        "colab": {
          "base_uri": "https://localhost:8080/",
          "height": 589,
          "referenced_widgets": [
            "8aeefc25a20b41dab8bec2e116d4bf30",
            "dbe72ddaaeae4eeda7bdcd2916ccb91b",
            "e9e3a629535340ab8baaf291cccbb96c",
            "29587b652f86430c9de288adeadcc7ed",
            "8d3d5ccf5c8140cda4faf4fe4df157b0",
            "6b755a97130842388c15c2221633f0b8",
            "945ef931a4de435cbd4548afef37cb0e",
            "dbe7339019d245b780974989d66878be",
            "cdcca3328d0840498dc19dd2e240e534",
            "20c96621d5a6408eab521fc487e52609",
            "9e0bfd71a8194b35bcf4c3ea2e505fc9",
            "eddd49e7470648c685c3a88327a17f07",
            "72604bddaeb74a80897c79d14d2aaac3",
            "6043748ca75a48d282a15fccc737d07b",
            "dcea590acc014eb989a2faf97b7a75ee",
            "e60344dbbfb8423fb776b909d04547a2",
            "49fbdce0c7ca4585a014e7a947a2123d",
            "d8662c87f357431a83a5dc9b276236fd",
            "7ddc4f4de01f49b199061d2ea949850b",
            "4bdb780af22d4bc7a514a4571bc7f255",
            "3b01326373034d67b3869ff7e54d40b2",
            "835c2930e36a4809807d18b6d290d164",
            "f811b4d0ab2b4c958143d88be6451ae2",
            "0f971aac17a34ef4a220df7a11c6204c",
            "c204fe806c214747bf2edaf9001c7028",
            "9ac72dd358ca483cad6a5ae952e8142a",
            "ef517889b65b4e5daf87033aec2ccf48",
            "0f23972712614368a06af13e78768378",
            "301c8b399f4f4f7a942e99650e34ca71",
            "206d141b1868450faa9379baac8695cc",
            "f0bb881a53964bd885151496424486ba",
            "4f475898be1648b4b35e1da5bbe2a159",
            "b161d90b63e34e5d98c52686842aca92",
            "439eea3d84bd453fbb5447496a7b509e",
            "49d4f8c6e5cb4e2d8a43083e8f5fb60c",
            "a86538ad3cbb4ded88f3e2759f6d55d9",
            "475b123b979648c9869de8c6839d574e",
            "a8fd2de8d1ae4e81a9b2e49a1e1325a6",
            "9aaaa37386e242d1bb3d44569765be3f",
            "043e321b535f464a9fb8ae5466eccb0d",
            "8e6f05e37904416f92f1b936422ec1cb",
            "d54e6fe1a025488d93298121c8e970b5",
            "00fdbde2976342979ffa076ff942fc9c",
            "18dd3711ae2d4a49a259a06ba13fbdd9",
            "2eac15c2873a4e78a9fe07a240152799",
            "4df1490ef32a4cafb6c2dfbf06c36c9b",
            "1be91ac3f1884b878d7ca53edb90731b",
            "1bfbf143d1e74ea6841ce47d0d32ec24",
            "6d143fbd46994fdf876026ca1e07caf1",
            "865c0148ddff497f8ee9e3c43fee81e6",
            "7249f75053514e788134f1c0fd3e1c7e",
            "0ff7891eeedc4557a34710aa274e94c2",
            "4038c1a003604b569fb29ca81833c036",
            "9d06e00f69ae49318e8061fc7d899109",
            "f5e0768fb9c84004ac18389496df759f",
            "c25f5a8419664a50a72dfb3ee88ad413",
            "13b35ee311594e87aada3a6c3c83b392",
            "301f61feaee449528016285cda890bbe",
            "3c41fc97666143b5b56e9429339b1808",
            "4e85a542eba24521aee76c6e303b109c",
            "240c8339eb954431bd1c541dd699ce60",
            "8c1678fc2edc49529364ab3a15691ab7",
            "cb0fbcd69d9d4b1bb2b081cb5498f25a",
            "7ef9ecad9dfc47ada877a24393100636",
            "a37d7f24b1074f958790db39fe4712be",
            "395be7f79a9744b09bd27b279f221c93",
            "747bd0c596244a1787be8b4b60163120",
            "61255efb6059447098707496aa6b6ea4",
            "164b6ca81e464bf49a45ad67e89d5289",
            "5b3849294e0a42b99793f6e4b0112e46",
            "def1ce3ca4a84d80b15bab85d91294c1",
            "01bcd58f83fc44fdb9387a27215a1459",
            "6c4f3e6b51db462a8976419afd2e9501",
            "f2932d4eac1e4f1d8958b84e81fd5a55",
            "16c77821a8ef431581dc3365644197d0",
            "ce2d6767ac5140c4b0f0b2fb140b404f",
            "121f7b5fa0a045618e9d920132a193a0",
            "b7270153a9394a53a7893f2e8db1dc1b",
            "2cefea26713d4399a5574d0403551e1f",
            "cfabe8965cb543c387a2265f243a2b3a",
            "cdf0b974de8a4932ae09c1135ae4e642",
            "d06550c0e1c2491a8a940b10e5e34370",
            "1861242a7b26499e8b583d7fe3c6f77b",
            "f993582e33734a50a32ecae521e109c5",
            "13d94402fb374565a3575a09d43d69e5",
            "e66381e037e24c98979c5577237f7a3e",
            "7f41a2b901644594a2d664c3ee40dc26",
            "56f8b5efc1c1464eb1e4364e4b84a382",
            "bd0ee4502ce942809933a0e190adbc5b",
            "9db41bdca7dc43a6acd37d189a234d39",
            "595018e25b674b3db6b610dc27f87690",
            "4154c0fc79fa4e53be1d9961769f403d",
            "c299f8b0f19a449399bc1ca9edd3fa09",
            "668f4079ee074ab186167b340eba2269",
            "bdd9f628316542f8bdcc17c11384d8c9",
            "4a0ff7d874674f7882294ee56cf9d8f6",
            "e8854be9cde140f8ade76620b1455ba0",
            "a6f7dec0bfac43b79fd149c5f1fdd772",
            "b1afc67e7b2b49db8fd033ae2e0d2d36",
            "e3794f5ce3d44f5a9890ae6114250e31",
            "d8ba075a1ade4edbaa99b522489e814a",
            "0e356672a45d48e5be17f8385d08bcaa",
            "0ce0669975c542c99956f7a5a01b5bd5",
            "8074163b6f9249b2aa872fcab9ce6994",
            "b50940fbe8f54f2f95f31cc9afaea6ef",
            "22c304a052a642b89cc3ae77a975b1a3",
            "d566e43e5cbc48fbb570fbc9f7748858",
            "d96078c8f24d47f8b2c8cda87dfacc05",
            "700719d498e34a389d4fd845dacb8b44",
            "f54f7c1e673e4a839323c33bbef6cbf3",
            "aeeb21843c754578a2baf3a98858ea36",
            "ea228bea0e6e465fabd97c780b5db661",
            "d72adcf7a9f24c5580e1fd05b6816253",
            "de276d3ad005450f90ff314ce45d295b",
            "eaab28b9293f40e68e85686689a53bd1",
            "092b8f6164c548cd87165608844d6300",
            "5a66b07f84cf464691f32cd61876932f",
            "c09b61a7607545cf8dbcc78b00ec7f9c",
            "71b03204ee40406fbb0dafa5c48441bd",
            "52cd2c4495c74a30bda2ee85e89be1f0",
            "8f2f53c3c3b0411d85b14ef57e69aac6",
            "ba922cd58d81454d9fa0903e44e00e92",
            "88cfa5b38fae4057a93779594580e532",
            "0f3400bd512f4af9beb3c155ab0ea2a1",
            "b0277ae2f42d455dba487beb53ad2384",
            "01ffaf939d82499aa00e91de49c0c04e",
            "2d573a03b8d44c86b527bced7b932812",
            "588b17a670704a569cea86f3be8c617f",
            "b797a3cb848c401284e37216fa36e50c",
            "2d9445812620442080e11eff15f72f57",
            "4a68eee560c64d31827c595ff7331a2b",
            "cdadc82c77f348f7b85a39f2cd9fefb2",
            "e8ff63d9713c41088e338135d9229be6",
            "b88391e160f34be5afee815bc1f9c03b",
            "7142478021d2444c96d91daf57afd8f3",
            "50c1e04add3f4c519cdac0db3c93de7d",
            "0172dd64dc074a04b58a3fcec410814d",
            "16ddeba40bcd44e08562bc47ae1e70fb",
            "b7e3a17393cb4b8b8fa54c67fdefeec4",
            "7dd77cb80d95427296cd26430022c510",
            "bc494e6330c54dbfa4f0973fcbf00235",
            "4658a805dbc04ae6bc06e23dad3755d8",
            "5e6fc17828ff453bb039ba8a6d679c05",
            "fcb33da609ee48f2a389f21481b84bd9",
            "22f4401f62dc4af1bc5e54ffd3ecba8d",
            "817a88e9416748c0978cba39a5a67446",
            "17aa878173004f2a8a13ee2b73bf1d00",
            "8b035f1ad5914765822330536021e701",
            "be5445dd993245a4882204a17cef165c",
            "8f06014e9247425ab4c0096bbad9a91b",
            "a910e6c78b764b7788c7f733f03a2fb6",
            "e6373b203b43423cbab2b42495004e4a",
            "8393f00f9ed34fb8a450eb36a59eb26b",
            "f43dad3650e049c6bea3bcff30e47a7c"
          ]
        }
      },
      "outputs": [
        {
          "output_type": "stream",
          "name": "stderr",
          "text": [
            "/usr/local/lib/python3.10/dist-packages/huggingface_hub/utils/_token.py:88: UserWarning: \n",
            "The secret `HF_TOKEN` does not exist in your Colab secrets.\n",
            "To authenticate with the Hugging Face Hub, create a token in your settings tab (https://huggingface.co/settings/tokens), set it as secret in your Google Colab and restart your session.\n",
            "You will be able to reuse this secret in all of your notebooks.\n",
            "Please note that authentication is recommended but still optional to access public models or datasets.\n",
            "  warnings.warn(\n"
          ]
        },
        {
          "output_type": "display_data",
          "data": {
            "text/plain": [
              ".gitattributes:   0%|          | 0.00/1.18k [00:00<?, ?B/s]"
            ],
            "application/vnd.jupyter.widget-view+json": {
              "version_major": 2,
              "version_minor": 0,
              "model_id": "8aeefc25a20b41dab8bec2e116d4bf30"
            }
          },
          "metadata": {}
        },
        {
          "output_type": "display_data",
          "data": {
            "text/plain": [
              "1_Pooling/config.json:   0%|          | 0.00/190 [00:00<?, ?B/s]"
            ],
            "application/vnd.jupyter.widget-view+json": {
              "version_major": 2,
              "version_minor": 0,
              "model_id": "eddd49e7470648c685c3a88327a17f07"
            }
          },
          "metadata": {}
        },
        {
          "output_type": "display_data",
          "data": {
            "text/plain": [
              "README.md:   0%|          | 0.00/10.6k [00:00<?, ?B/s]"
            ],
            "application/vnd.jupyter.widget-view+json": {
              "version_major": 2,
              "version_minor": 0,
              "model_id": "f811b4d0ab2b4c958143d88be6451ae2"
            }
          },
          "metadata": {}
        },
        {
          "output_type": "display_data",
          "data": {
            "text/plain": [
              "config.json:   0%|          | 0.00/571 [00:00<?, ?B/s]"
            ],
            "application/vnd.jupyter.widget-view+json": {
              "version_major": 2,
              "version_minor": 0,
              "model_id": "439eea3d84bd453fbb5447496a7b509e"
            }
          },
          "metadata": {}
        },
        {
          "output_type": "display_data",
          "data": {
            "text/plain": [
              "config_sentence_transformers.json:   0%|          | 0.00/116 [00:00<?, ?B/s]"
            ],
            "application/vnd.jupyter.widget-view+json": {
              "version_major": 2,
              "version_minor": 0,
              "model_id": "2eac15c2873a4e78a9fe07a240152799"
            }
          },
          "metadata": {}
        },
        {
          "output_type": "display_data",
          "data": {
            "text/plain": [
              "data_config.json:   0%|          | 0.00/39.3k [00:00<?, ?B/s]"
            ],
            "application/vnd.jupyter.widget-view+json": {
              "version_major": 2,
              "version_minor": 0,
              "model_id": "c25f5a8419664a50a72dfb3ee88ad413"
            }
          },
          "metadata": {}
        },
        {
          "output_type": "display_data",
          "data": {
            "text/plain": [
              "pytorch_model.bin:   0%|          | 0.00/438M [00:00<?, ?B/s]"
            ],
            "application/vnd.jupyter.widget-view+json": {
              "version_major": 2,
              "version_minor": 0,
              "model_id": "747bd0c596244a1787be8b4b60163120"
            }
          },
          "metadata": {}
        },
        {
          "output_type": "display_data",
          "data": {
            "text/plain": [
              "sentence_bert_config.json:   0%|          | 0.00/53.0 [00:00<?, ?B/s]"
            ],
            "application/vnd.jupyter.widget-view+json": {
              "version_major": 2,
              "version_minor": 0,
              "model_id": "b7270153a9394a53a7893f2e8db1dc1b"
            }
          },
          "metadata": {}
        },
        {
          "output_type": "display_data",
          "data": {
            "text/plain": [
              "special_tokens_map.json:   0%|          | 0.00/239 [00:00<?, ?B/s]"
            ],
            "application/vnd.jupyter.widget-view+json": {
              "version_major": 2,
              "version_minor": 0,
              "model_id": "bd0ee4502ce942809933a0e190adbc5b"
            }
          },
          "metadata": {}
        },
        {
          "output_type": "display_data",
          "data": {
            "text/plain": [
              "tokenizer.json:   0%|          | 0.00/466k [00:00<?, ?B/s]"
            ],
            "application/vnd.jupyter.widget-view+json": {
              "version_major": 2,
              "version_minor": 0,
              "model_id": "e3794f5ce3d44f5a9890ae6114250e31"
            }
          },
          "metadata": {}
        },
        {
          "output_type": "display_data",
          "data": {
            "text/plain": [
              "tokenizer_config.json:   0%|          | 0.00/363 [00:00<?, ?B/s]"
            ],
            "application/vnd.jupyter.widget-view+json": {
              "version_major": 2,
              "version_minor": 0,
              "model_id": "aeeb21843c754578a2baf3a98858ea36"
            }
          },
          "metadata": {}
        },
        {
          "output_type": "display_data",
          "data": {
            "text/plain": [
              "train_script.py:   0%|          | 0.00/13.1k [00:00<?, ?B/s]"
            ],
            "application/vnd.jupyter.widget-view+json": {
              "version_major": 2,
              "version_minor": 0,
              "model_id": "ba922cd58d81454d9fa0903e44e00e92"
            }
          },
          "metadata": {}
        },
        {
          "output_type": "display_data",
          "data": {
            "text/plain": [
              "vocab.txt:   0%|          | 0.00/232k [00:00<?, ?B/s]"
            ],
            "application/vnd.jupyter.widget-view+json": {
              "version_major": 2,
              "version_minor": 0,
              "model_id": "e8ff63d9713c41088e338135d9229be6"
            }
          },
          "metadata": {}
        },
        {
          "output_type": "display_data",
          "data": {
            "text/plain": [
              "modules.json:   0%|          | 0.00/349 [00:00<?, ?B/s]"
            ],
            "application/vnd.jupyter.widget-view+json": {
              "version_major": 2,
              "version_minor": 0,
              "model_id": "fcb33da609ee48f2a389f21481b84bd9"
            }
          },
          "metadata": {}
        }
      ],
      "source": [
        "embeddings = HuggingFaceEmbeddings()\n",
        "\n",
        "vectors = embeddings.embed_documents([x.page_content for x in docs])"
      ]
    },
    {
      "cell_type": "markdown",
      "id": "726f6dee",
      "metadata": {
        "id": "726f6dee"
      },
      "source": [
        "Now let's cluster our embeddings. There are a ton of clustering algorithms you can chose from. Please try a few out to see what works best for you!"
      ]
    },
    {
      "cell_type": "code",
      "execution_count": 51,
      "id": "55c8dce0",
      "metadata": {
        "id": "55c8dce0",
        "outputId": "bd3ac66f-631c-401a-9d0b-d8ca122c9b15",
        "colab": {
          "base_uri": "https://localhost:8080/"
        }
      },
      "outputs": [
        {
          "output_type": "stream",
          "name": "stdout",
          "text": [
            "(23, 768)\n"
          ]
        },
        {
          "output_type": "stream",
          "name": "stderr",
          "text": [
            "/usr/local/lib/python3.10/dist-packages/sklearn/cluster/_kmeans.py:870: FutureWarning: The default value of `n_init` will change from 10 to 'auto' in 1.4. Set the value of `n_init` explicitly to suppress the warning\n",
            "  warnings.warn(\n"
          ]
        }
      ],
      "source": [
        "# Assuming 'embeddings' is a list or array of 768-dimensional embeddings\n",
        "\n",
        "# Choose the number of clusters, this can be adjusted based on the book's content.\n",
        "# I played around and found ~4 was the best.\n",
        "num_clusters = 5\n",
        "\n",
        "# Perform K-means clustering\n",
        "vectors_array = np.array(vectors)\n",
        "print(vectors_array.shape)\n",
        "kmeans = KMeans(n_clusters=num_clusters, random_state=42).fit(vectors_array)\n"
      ]
    },
    {
      "cell_type": "markdown",
      "id": "891d82cd",
      "metadata": {
        "id": "891d82cd"
      },
      "source": [
        "The identified clusters offer an intriguing glimpse into the book's progression. As the narrative evolves, we can anticipate shifts in the clusters, reflecting the varying semantic contexts."
      ]
    },
    {
      "cell_type": "code",
      "execution_count": 52,
      "id": "218dce05",
      "metadata": {
        "id": "218dce05",
        "outputId": "09ad1f83-7715-439b-cc2d-10705cfac42d",
        "colab": {
          "base_uri": "https://localhost:8080/"
        }
      },
      "outputs": [
        {
          "output_type": "execute_result",
          "data": {
            "text/plain": [
              "array([0, 0, 1, 0, 3, 3, 2, 0, 3, 3, 0, 1, 1, 1, 1, 0, 1, 0, 4, 4, 1, 1,\n",
              "       0], dtype=int32)"
            ]
          },
          "metadata": {},
          "execution_count": 52
        }
      ],
      "source": [
        "kmeans.labels_"
      ]
    },
    {
      "cell_type": "markdown",
      "id": "1d9ccd8b",
      "metadata": {
        "id": "1d9ccd8b"
      },
      "source": [
        "This is neat, but in any clustering task, visualizing them is quite compelling. Don't forget to incorporate colors.\n",
        "\n",
        "Additionally, we should perform dimensionality reduction to bring down the vectors from 768 dimensions to just 2. While this approach isn't rigorous data science, it aligns with our goal of achieving an 80% solution."
      ]
    },
    {
      "cell_type": "code",
      "execution_count": 53,
      "id": "95da2509",
      "metadata": {
        "id": "95da2509",
        "outputId": "6b7265c7-6ae7-43a5-9168-e1e664fb761f",
        "colab": {
          "base_uri": "https://localhost:8080/",
          "height": 472
        }
      },
      "outputs": [
        {
          "output_type": "display_data",
          "data": {
            "text/plain": [
              "<Figure size 640x480 with 1 Axes>"
            ],
            "image/png": "[encoded data removed]"
          },
          "metadata": {}
        }
      ],
      "source": [
        "from sklearn.manifold import TSNE\n",
        "import matplotlib.pyplot as plt\n",
        "\n",
        "\n",
        "import warnings\n",
        "from warnings import simplefilter\n",
        "import numpy as np\n",
        "\n",
        "\n",
        "simplefilter(action='ignore', category=FutureWarning)\n",
        "\n",
        "# Perform t-SNE and reduce to 2 dimensions\n",
        "tsne = TSNE(n_components=2, random_state=42, perplexity=10)\n",
        "vectors = np.array(vectors)\n",
        "reduced_data_tsne = tsne.fit_transform(vectors)\n",
        "\n",
        "# Plot the reduced data\n",
        "plt.scatter(reduced_data_tsne[:, 0], reduced_data_tsne[:, 1], c=kmeans.labels_)\n",
        "plt.xlabel('Dimension 1')\n",
        "plt.ylabel('Dimension 2')\n",
        "plt.title('Book Embeddings Clustered')\n",
        "plt.show()"
      ]
    },
    {
      "cell_type": "markdown",
      "id": "6aa4314b",
      "metadata": {
        "id": "6aa4314b"
      },
      "source": [
        "Next, we should identify the vectors nearest to the cluster centroids (the central point).\n",
        "\n",
        "Below is a function that accomplishes this efficiently."
      ]
    },
    {
      "cell_type": "code",
      "execution_count": 54,
      "id": "55f2f664",
      "metadata": {
        "id": "55f2f664"
      },
      "outputs": [],
      "source": [
        "# Determine the embeddings closest to the centroids\n",
        "\n",
        "# Initialize a list to store indices of nearest points\n",
        "closest_indices = []\n",
        "\n",
        "# Iterate over all clusters\n",
        "for i in range(num_clusters):\n",
        "\n",
        "    # Calculate distances from the current cluster's center\n",
        "    distances = np.linalg.norm(vectors - kmeans.cluster_centers_[i], axis=1)\n",
        "\n",
        "    # Identify the index of the minimum distance (closest point)\n",
        "    closest_index = np.argmin(distances)\n",
        "\n",
        "    # Store the identified index in the list\n",
        "    closest_indices.append(closest_index)\n"
      ]
    },
    {
      "cell_type": "markdown",
      "id": "f5a44596",
      "metadata": {
        "id": "f5a44596"
      },
      "source": [
        "Now, arrange them in sequence (to ensure chunks are processed sequentially)."
      ]
    },
    {
      "cell_type": "code",
      "execution_count": 55,
      "id": "679297ac",
      "metadata": {
        "id": "679297ac",
        "outputId": "a7edee88-a7ef-4b29-c856-df03c7ddc657",
        "colab": {
          "base_uri": "https://localhost:8080/"
        }
      },
      "outputs": [
        {
          "output_type": "execute_result",
          "data": {
            "text/plain": [
              "[0, 5, 6, 11, 18]"
            ]
          },
          "metadata": {},
          "execution_count": 55
        }
      ],
      "source": [
        "selected_indices = sorted(closest_indices)\n",
        "selected_indices"
      ]
    },
    {
      "cell_type": "markdown",
      "id": "171c2b42",
      "metadata": {
        "id": "171c2b42"
      },
      "source": [
        "It's intersting to see which chunks pop up at most descriptive.\n",
        "\n",
        "Let's create our custom prompts."
      ]
    },
    {
      "cell_type": "code",
      "execution_count": 56,
      "id": "5552e6d3",
      "metadata": {
        "id": "5552e6d3"
      },
      "outputs": [],
      "source": [
        "map_prompt = \"\"\"\n",
        "You will be given a single passage of a book. This section will be enclosed in triple backticks (```)\n",
        "Your goal is to give a concise summary of this section so that a reader will have a full understanding of what happened.\n",
        "Your response should be at least three paragraphs and fully encompass what was said in the passage.\n",
        "\n",
        "```{text}```\n",
        "Concise SUMMARY:\n",
        "\"\"\"\n",
        "map_prompt_template = PromptTemplate(template=map_prompt, input_variables=[\"text\"])"
      ]
    },
    {
      "cell_type": "markdown",
      "id": "b568b94a",
      "metadata": {
        "id": "b568b94a"
      },
      "source": [
        "**In this example I will do the map reduce manually**"
      ]
    },
    {
      "cell_type": "code",
      "execution_count": 57,
      "id": "bb5eb0d9",
      "metadata": {
        "id": "bb5eb0d9"
      },
      "outputs": [],
      "source": [
        "map_chain = load_summarize_chain(llm=llm,\n",
        "                             chain_type=\"stuff\",\n",
        "                             prompt=map_prompt_template)"
      ]
    },
    {
      "cell_type": "markdown",
      "id": "e4e1ec38",
      "metadata": {
        "id": "e4e1ec38"
      },
      "source": [
        "Then go get your docs which the top vectors represented."
      ]
    },
    {
      "cell_type": "code",
      "execution_count": 58,
      "id": "781a686c",
      "metadata": {
        "id": "781a686c"
      },
      "outputs": [],
      "source": [
        "selected_docs = [docs[doc] for doc in selected_indices]"
      ]
    },
    {
      "cell_type": "markdown",
      "id": "eca5fc42",
      "metadata": {
        "id": "eca5fc42"
      },
      "source": [
        "Let's loop through our selected docs and get a good summary for each chunk. We'll store the summary in a list."
      ]
    },
    {
      "cell_type": "code",
      "execution_count": 59,
      "id": "84f50afc",
      "metadata": {
        "id": "84f50afc",
        "outputId": "1e88cd56-6598-423c-c31a-3425020f9f2b",
        "colab": {
          "base_uri": "https://localhost:8080/"
        }
      },
      "outputs": [
        {
          "output_type": "stream",
          "name": "stdout",
          "text": [
            "Summary #0 (chunk #0) - Preview:  The economic potential of generative AI is significant, with the technology estimated to add $2.6 trillion to $4.4 trillion annually to the global economy across 63 use cases. The technology's impact will be felt across all industry sectors, with ba \n",
            "\n",
            "Summary #1 (chunk #5) - Preview:  Generative AI is a technology that can personalize product discovery and search by leveraging individual customer preferences, behavior, and purchase history. This personalization can improve ecommerce sales by achieving higher website conversion ra \n",
            "\n",
            "Summary #2 (chunk #6) - Preview:  The passage discusses the potential of generative AI in product design and research and development (R&D). It highlights the use of generative design, a process that uses AI to generate candidate designs, and its application in various industries, s \n",
            "\n",
            "Summary #3 (chunk #11) - Preview:  This section discusses the potential economic benefits of accelerating labor productivity through the use of generative AI. The authors of this section begin by outlining the methodology used in their analysis, which involves scoring the level of ca \n",
            "\n",
            "Summary #4 (chunk #18) - Preview:  The passage outlines two studies that investigate the potential impact of generative AI on the workforce and productivity. The first study, conducted by Felten et al., estimates the exposure of US workers to advances in AI language modeling and imag \n",
            "\n"
          ]
        }
      ],
      "source": [
        "# Make an empty list to hold your summaries\n",
        "summary_list = []\n",
        "\n",
        "# Loop through a range of the lenght of your selected docs\n",
        "for i, doc in enumerate(selected_docs):\n",
        "\n",
        "    # Go get a summary of the chunk\n",
        "    chunk_summary = map_chain.run([doc])\n",
        "\n",
        "    # Append that summary to your list\n",
        "    summary_list.append(chunk_summary)\n",
        "\n",
        "    print (f\"Summary #{i} (chunk #{selected_indices[i]}) - Preview: {chunk_summary[:250]} \\n\")"
      ]
    },
    {
      "cell_type": "code",
      "execution_count": 60,
      "id": "7e2220ab",
      "metadata": {
        "id": "7e2220ab",
        "outputId": "078eea36-f75c-43ee-d04f-9058e45a06dd",
        "colab": {
          "base_uri": "https://localhost:8080/"
        }
      },
      "outputs": [
        {
          "output_type": "stream",
          "name": "stdout",
          "text": [
            "Processed Summary #0 (from chunk #0) - Snippet:  The book discusses the economic potential of generative AI and its impact on productivity, economic growth, and work activities. The authors estimate that generative AI could add up to $2.6 trillion to $4.4 trillion annually across the 63 use cases  \n",
            "\n",
            "Processed Summary #1 (from chunk #5) - Snippet:  The section discusses the potential of generative AI in various business functions. The technology can personalize product discovery and search, as well as improve sales productivity, by identifying and prioritizing sales leads and automating sales  \n",
            "\n",
            "Processed Summary #2 (from chunk #6) - Snippet:  This section of the book outlines the potential of generative AI in the R&D function of various industries. The authors argue that generative AI has the potential to deliver productivity gains of 10 to 15 percent of overall R&D costs, through the us \n",
            "\n",
            "Processed Summary #3 (from chunk #11) - Snippet:  This passage from the McKinsey Global Institute analysis discusses the potential for technical automation of work activities using generative AI technology. The analysis builds on a methodology established in 2017 and examines the US Bureau of Labor \n",
            "\n",
            "Processed Summary #4 (from chunk #18) - Snippet:  The passage discusses a study which estimates the exposure scores of US occupations to advances in AI language modeling and AI image generation. The study utilizes crowdsourced assessments of relatedness to map human abilities to 52 occupations and  \n",
            "\n"
          ]
        }
      ],
      "source": [
        "# Initialize a list for storing summaries\n",
        "summaries = []\n",
        "\n",
        "# Iterate over the selected documents\n",
        "for idx, document in enumerate(selected_docs):\n",
        "    # Obtain a summary for the specific chunk\n",
        "    summarized_chunk = map_chain.run([document])\n",
        "\n",
        "    # Add the summarized chunk to the summaries list\n",
        "    summaries.append(summarized_chunk)\n",
        "\n",
        "    print (f\"Processed Summary #{idx} (from chunk #{selected_indices[idx]}) - Snippet: {summarized_chunk[:250]} \\n\")"
      ]
    },
    {
      "cell_type": "markdown",
      "id": "7fae1a72",
      "metadata": {
        "id": "7fae1a72"
      },
      "source": [
        "Great, now that we have our list of summaries, let's get a summary of the summaries"
      ]
    },
    {
      "cell_type": "code",
      "execution_count": 61,
      "id": "4083431d",
      "metadata": {
        "id": "4083431d",
        "outputId": "5d9112a4-b81f-452a-d8f5-396329749c81",
        "colab": {
          "base_uri": "https://localhost:8080/"
        }
      },
      "outputs": [
        {
          "output_type": "stream",
          "name": "stderr",
          "text": [
            "WARNING:langchain_community.chat_models.openai:Warning: model not found. Using cl100k_base encoding.\n"
          ]
        },
        {
          "output_type": "stream",
          "name": "stdout",
          "text": [
            "Your total summary has 1370 tokens\n"
          ]
        }
      ],
      "source": [
        "summaries = \"\\n\".join(summaries)\n",
        "\n",
        "# Convert it back to a document\n",
        "summaries = Document(page_content=summaries)\n",
        "\n",
        "print (f\"Your total summary has {llm.get_num_tokens(summaries.page_content)} tokens\")"
      ]
    },
    {
      "cell_type": "code",
      "execution_count": 62,
      "id": "b98e7321",
      "metadata": {
        "id": "b98e7321"
      },
      "outputs": [],
      "source": [
        "combine_prompt = \"\"\"\n",
        "You will be given a series of summaries from a book. The summaries will be enclosed in triple backticks (```)\n",
        "Your goal is to give a concise summary of what happened in the story.\n",
        "The reader should be able to grasp what happened in the book.\n",
        "\n",
        "```{text}```\n",
        "CONCISE SUMMARY:\n",
        "\"\"\"\n",
        "combine_prompt_template = PromptTemplate(template=combine_prompt, input_variables=[\"text\"])"
      ]
    },
    {
      "cell_type": "code",
      "execution_count": 63,
      "id": "2930c26e",
      "metadata": {
        "id": "2930c26e"
      },
      "outputs": [],
      "source": [
        "reduce_chain = load_summarize_chain(llm=llm,\n",
        "                             chain_type=\"stuff\",\n",
        "                             prompt=combine_prompt_template,\n",
        "                                   )"
      ]
    },
    {
      "cell_type": "code",
      "execution_count": 64,
      "id": "c6eda913",
      "metadata": {
        "id": "c6eda913"
      },
      "outputs": [],
      "source": [
        "output = reduce_chain.run([summaries])"
      ]
    },
    {
      "cell_type": "code",
      "execution_count": 65,
      "id": "915628a1",
      "metadata": {
        "id": "915628a1",
        "outputId": "3eb4cfe3-4864-42b8-9335-8934e019580f",
        "colab": {
          "base_uri": "https://localhost:8080/"
        }
      },
      "outputs": [
        {
          "output_type": "stream",
          "name": "stdout",
          "text": [
            " The book discusses the economic potential of generative AI and its impact on productivity, economic growth, and work activities. The authors estimate that generative AI could add up to $2.6 trillion to $4.4 trillion annually across the 63 use cases analyzed. The technology could deliver value equal to an additional $200 billion to $340 billion annually in the banking industry if fully implemented. The potential impact in retail and consumer packaged goods is also significant at $400 billion to $660 billion a year. The authors also discuss the potential of generative AI to change the anatomy of work by augmenting the capabilities of individual workers and automating some of their individual activities. The acceleration in the potential for technical automation is largely due to generative AI's increased ability to understand natural language, which is required for work activities that account for 25 percent of total work time. The pace of workforce transformation is likely to accelerate, with estimates that half of today's work activities could be automated between 2030 and 2060. The authors also discuss how generative AI can substantially increase labor productivity across the economy, but that will require investments to support workers as they shift work activities or change jobs.\n"
          ]
        }
      ],
      "source": [
        "print (output)"
      ]
    },
    {
      "cell_type": "markdown",
      "id": "27a1db73",
      "metadata": {
        "id": "27a1db73"
      },
      "source": [
        "Wow that was a long process, but you get the gist, hopefully we'll see some library abstractions in the coming months that do this automatically for us!"
      ]
    },
    {
      "cell_type": "code",
      "execution_count": null,
      "id": "7a8803be",
      "metadata": {
        "id": "7a8803be"
      },
      "outputs": [],
      "source": []
    },
    {
      "cell_type": "code",
      "execution_count": null,
      "id": "9ab8944b",
      "metadata": {
        "id": "9ab8944b"
      },
      "outputs": [],
      "source": []
    }
  ],
  "metadata": {
    "kernelspec": {
      "display_name": "Python 3 (ipykernel)",
      "language": "python",
      "name": "python3"
    },
    "language_info": {
      "codemirror_mode": {
        "name": "ipython",
        "version": 3
      },
      "file_extension": ".py",
      "mimetype": "text/x-python",
      "name": "python",
      "nbconvert_exporter": "python",
      "pygments_lexer": "ipython3",
      "version": "3.11.3"
    },
    "colab": {
      "provenance": []
    },
    "widgets": {
      "application/vnd.jupyter.widget-state+json": {
        "8aeefc25a20b41dab8bec2e116d4bf30": {
          "model_module": "@jupyter-widgets/controls",
          "model_name": "HBoxModel",
          "model_module_version": "1.5.0",
          "state": {
            "_dom_classes": [],
            "_model_module": "@jupyter-widgets/controls",
            "_model_module_version": "1.5.0",
            "_model_name": "HBoxModel",
            "_view_count": null,
            "_view_module": "@jupyter-widgets/controls",
            "_view_module_version": "1.5.0",
            "_view_name": "HBoxView",
            "box_style": "",
            "children": [
              "IPY_MODEL_dbe72ddaaeae4eeda7bdcd2916ccb91b",
              "IPY_MODEL_e9e3a629535340ab8baaf291cccbb96c",
              "IPY_MODEL_29587b652f86430c9de288adeadcc7ed"
            ],
            "layout": "IPY_MODEL_8d3d5ccf5c8140cda4faf4fe4df157b0"
          }
        },
        "dbe72ddaaeae4eeda7bdcd2916ccb91b": {
          "model_module": "@jupyter-widgets/controls",
          "model_name": "HTMLModel",
          "model_module_version": "1.5.0",
          "state": {
            "_dom_classes": [],
            "_model_module": "@jupyter-widgets/controls",
            "_model_module_version": "1.5.0",
            "_model_name": "HTMLModel",
            "_view_count": null,
            "_view_module": "@jupyter-widgets/controls",
            "_view_module_version": "1.5.0",
            "_view_name": "HTMLView",
            "description": "",
            "description_tooltip": null,
            "layout": "IPY_MODEL_6b755a97130842388c15c2221633f0b8",
            "placeholder": "​",
            "style": "IPY_MODEL_945ef931a4de435cbd4548afef37cb0e",
            "value": ".gitattributes: 100%"
          }
        },
        "e9e3a629535340ab8baaf291cccbb96c": {
          "model_module": "@jupyter-widgets/controls",
          "model_name": "FloatProgressModel",
          "model_module_version": "1.5.0",
          "state": {
            "_dom_classes": [],
            "_model_module": "@jupyter-widgets/controls",
            "_model_module_version": "1.5.0",
            "_model_name": "FloatProgressModel",
            "_view_count": null,
            "_view_module": "@jupyter-widgets/controls",
            "_view_module_version": "1.5.0",
            "_view_name": "ProgressView",
            "bar_style": "success",
            "description": "",
            "description_tooltip": null,
            "layout": "IPY_MODEL_dbe7339019d245b780974989d66878be",
            "max": 1175,
            "min": 0,
            "orientation": "horizontal",
            "style": "IPY_MODEL_cdcca3328d0840498dc19dd2e240e534",
            "value": 1175
          }
        },
        "29587b652f86430c9de288adeadcc7ed": {
          "model_module": "@jupyter-widgets/controls",
          "model_name": "HTMLModel",
          "model_module_version": "1.5.0",
          "state": {
            "_dom_classes": [],
            "_model_module": "@jupyter-widgets/controls",
            "_model_module_version": "1.5.0",
            "_model_name": "HTMLModel",
            "_view_count": null,
            "_view_module": "@jupyter-widgets/controls",
            "_view_module_version": "1.5.0",
            "_view_name": "HTMLView",
            "description": "",
            "description_tooltip": null,
            "layout": "IPY_MODEL_20c96621d5a6408eab521fc487e52609",
            "placeholder": "​",
            "style": "IPY_MODEL_9e0bfd71a8194b35bcf4c3ea2e505fc9",
            "value": " 1.18k/1.18k [00:00&lt;00:00, 12.0kB/s]"
          }
        },
        "8d3d5ccf5c8140cda4faf4fe4df157b0": {
          "model_module": "@jupyter-widgets/base",
          "model_name": "LayoutModel",
          "model_module_version": "1.2.0",
          "state": {
            "_model_module": "@jupyter-widgets/base",
            "_model_module_version": "1.2.0",
            "_model_name": "LayoutModel",
            "_view_count": null,
            "_view_module": "@jupyter-widgets/base",
            "_view_module_version": "1.2.0",
            "_view_name": "LayoutView",
            "align_content": null,
            "align_items": null,
            "align_self": null,
            "border": null,
            "bottom": null,
            "display": null,
            "flex": null,
            "flex_flow": null,
            "grid_area": null,
            "grid_auto_columns": null,
            "grid_auto_flow": null,
            "grid_auto_rows": null,
            "grid_column": null,
            "grid_gap": null,
            "grid_row": null,
            "grid_template_areas": null,
            "grid_template_columns": null,
            "grid_template_rows": null,
            "height": null,
            "justify_content": null,
            "justify_items": null,
            "left": null,
            "margin": null,
            "max_height": null,
            "max_width": null,
            "min_height": null,
            "min_width": null,
            "object_fit": null,
            "object_position": null,
            "order": null,
            "overflow": null,
            "overflow_x": null,
            "overflow_y": null,
            "padding": null,
            "right": null,
            "top": null,
            "visibility": null,
            "width": null
          }
        },
        "6b755a97130842388c15c2221633f0b8": {
          "model_module": "@jupyter-widgets/base",
          "model_name": "LayoutModel",
          "model_module_version": "1.2.0",
          "state": {
            "_model_module": "@jupyter-widgets/base",
            "_model_module_version": "1.2.0",
            "_model_name": "LayoutModel",
            "_view_count": null,
            "_view_module": "@jupyter-widgets/base",
            "_view_module_version": "1.2.0",
            "_view_name": "LayoutView",
            "align_content": null,
            "align_items": null,
            "align_self": null,
            "border": null,
            "bottom": null,
            "display": null,
            "flex": null,
            "flex_flow": null,
            "grid_area": null,
            "grid_auto_columns": null,
            "grid_auto_flow": null,
            "grid_auto_rows": null,
            "grid_column": null,
            "grid_gap": null,
            "grid_row": null,
            "grid_template_areas": null,
            "grid_template_columns": null,
            "grid_template_rows": null,
            "height": null,
            "justify_content": null,
            "justify_items": null,
            "left": null,
            "margin": null,
            "max_height": null,
            "max_width": null,
            "min_height": null,
            "min_width": null,
            "object_fit": null,
            "object_position": null,
            "order": null,
            "overflow": null,
            "overflow_x": null,
            "overflow_y": null,
            "padding": null,
            "right": null,
            "top": null,
            "visibility": null,
            "width": null
          }
        },
        "945ef931a4de435cbd4548afef37cb0e": {
          "model_module": "@jupyter-widgets/controls",
          "model_name": "DescriptionStyleModel",
          "model_module_version": "1.5.0",
          "state": {
            "_model_module": "@jupyter-widgets/controls",
            "_model_module_version": "1.5.0",
            "_model_name": "DescriptionStyleModel",
            "_view_count": null,
            "_view_module": "@jupyter-widgets/base",
            "_view_module_version": "1.2.0",
            "_view_name": "StyleView",
            "description_width": ""
          }
        },
        "dbe7339019d245b780974989d66878be": {
          "model_module": "@jupyter-widgets/base",
          "model_name": "LayoutModel",
          "model_module_version": "1.2.0",
          "state": {
            "_model_module": "@jupyter-widgets/base",
            "_model_module_version": "1.2.0",
            "_model_name": "LayoutModel",
            "_view_count": null,
            "_view_module": "@jupyter-widgets/base",
            "_view_module_version": "1.2.0",
            "_view_name": "LayoutView",
            "align_content": null,
            "align_items": null,
            "align_self": null,
            "border": null,
            "bottom": null,
            "display": null,
            "flex": null,
            "flex_flow": null,
            "grid_area": null,
            "grid_auto_columns": null,
            "grid_auto_flow": null,
            "grid_auto_rows": null,
            "grid_column": null,
            "grid_gap": null,
            "grid_row": null,
            "grid_template_areas": null,
            "grid_template_columns": null,
            "grid_template_rows": null,
            "height": null,
            "justify_content": null,
            "justify_items": null,
            "left": null,
            "margin": null,
            "max_height": null,
            "max_width": null,
            "min_height": null,
            "min_width": null,
            "object_fit": null,
            "object_position": null,
            "order": null,
            "overflow": null,
            "overflow_x": null,
            "overflow_y": null,
            "padding": null,
            "right": null,
            "top": null,
            "visibility": null,
            "width": null
          }
        },
        "cdcca3328d0840498dc19dd2e240e534": {
          "model_module": "@jupyter-widgets/controls",
          "model_name": "ProgressStyleModel",
          "model_module_version": "1.5.0",
          "state": {
            "_model_module": "@jupyter-widgets/controls",
            "_model_module_version": "1.5.0",
            "_model_name": "ProgressStyleModel",
            "_view_count": null,
            "_view_module": "@jupyter-widgets/base",
            "_view_module_version": "1.2.0",
            "_view_name": "StyleView",
            "bar_color": null,
            "description_width": ""
          }
        },
        "20c96621d5a6408eab521fc487e52609": {
          "model_module": "@jupyter-widgets/base",
          "model_name": "LayoutModel",
          "model_module_version": "1.2.0",
          "state": {
            "_model_module": "@jupyter-widgets/base",
            "_model_module_version": "1.2.0",
            "_model_name": "LayoutModel",
            "_view_count": null,
            "_view_module": "@jupyter-widgets/base",
            "_view_module_version": "1.2.0",
            "_view_name": "LayoutView",
            "align_content": null,
            "align_items": null,
            "align_self": null,
            "border": null,
            "bottom": null,
            "display": null,
            "flex": null,
            "flex_flow": null,
            "grid_area": null,
            "grid_auto_columns": null,
            "grid_auto_flow": null,
            "grid_auto_rows": null,
            "grid_column": null,
            "grid_gap": null,
            "grid_row": null,
            "grid_template_areas": null,
            "grid_template_columns": null,
            "grid_template_rows": null,
            "height": null,
            "justify_content": null,
            "justify_items": null,
            "left": null,
            "margin": null,
            "max_height": null,
            "max_width": null,
            "min_height": null,
            "min_width": null,
            "object_fit": null,
            "object_position": null,
            "order": null,
            "overflow": null,
            "overflow_x": null,
            "overflow_y": null,
            "padding": null,
            "right": null,
            "top": null,
            "visibility": null,
            "width": null
          }
        },
        "9e0bfd71a8194b35bcf4c3ea2e505fc9": {
          "model_module": "@jupyter-widgets/controls",
          "model_name": "DescriptionStyleModel",
          "model_module_version": "1.5.0",
          "state": {
            "_model_module": "@jupyter-widgets/controls",
            "_model_module_version": "1.5.0",
            "_model_name": "DescriptionStyleModel",
            "_view_count": null,
            "_view_module": "@jupyter-widgets/base",
            "_view_module_version": "1.2.0",
            "_view_name": "StyleView",
            "description_width": ""
          }
        },
        "eddd49e7470648c685c3a88327a17f07": {
          "model_module": "@jupyter-widgets/controls",
          "model_name": "HBoxModel",
          "model_module_version": "1.5.0",
          "state": {
            "_dom_classes": [],
            "_model_module": "@jupyter-widgets/controls",
            "_model_module_version": "1.5.0",
            "_model_name": "HBoxModel",
            "_view_count": null,
            "_view_module": "@jupyter-widgets/controls",
            "_view_module_version": "1.5.0",
            "_view_name": "HBoxView",
            "box_style": "",
            "children": [
              "IPY_MODEL_72604bddaeb74a80897c79d14d2aaac3",
              "IPY_MODEL_6043748ca75a48d282a15fccc737d07b",
              "IPY_MODEL_dcea590acc014eb989a2faf97b7a75ee"
            ],
            "layout": "IPY_MODEL_e60344dbbfb8423fb776b909d04547a2"
          }
        },
        "72604bddaeb74a80897c79d14d2aaac3": {
          "model_module": "@jupyter-widgets/controls",
          "model_name": "HTMLModel",
          "model_module_version": "1.5.0",
          "state": {
            "_dom_classes": [],
            "_model_module": "@jupyter-widgets/controls",
            "_model_module_version": "1.5.0",
            "_model_name": "HTMLModel",
            "_view_count": null,
            "_view_module": "@jupyter-widgets/controls",
            "_view_module_version": "1.5.0",
            "_view_name": "HTMLView",
            "description": "",
            "description_tooltip": null,
            "layout": "IPY_MODEL_49fbdce0c7ca4585a014e7a947a2123d",
            "placeholder": "​",
            "style": "IPY_MODEL_d8662c87f357431a83a5dc9b276236fd",
            "value": "1_Pooling/config.json: 100%"
          }
        },
        "6043748ca75a48d282a15fccc737d07b": {
          "model_module": "@jupyter-widgets/controls",
          "model_name": "FloatProgressModel",
          "model_module_version": "1.5.0",
          "state": {
            "_dom_classes": [],
            "_model_module": "@jupyter-widgets/controls",
            "_model_module_version": "1.5.0",
            "_model_name": "FloatProgressModel",
            "_view_count": null,
            "_view_module": "@jupyter-widgets/controls",
            "_view_module_version": "1.5.0",
            "_view_name": "ProgressView",
            "bar_style": "success",
            "description": "",
            "description_tooltip": null,
            "layout": "IPY_MODEL_7ddc4f4de01f49b199061d2ea949850b",
            "max": 190,
            "min": 0,
            "orientation": "horizontal",
            "style": "IPY_MODEL_4bdb780af22d4bc7a514a4571bc7f255",
            "value": 190
          }
        },
        "dcea590acc014eb989a2faf97b7a75ee": {
          "model_module": "@jupyter-widgets/controls",
          "model_name": "HTMLModel",
          "model_module_version": "1.5.0",
          "state": {
            "_dom_classes": [],
            "_model_module": "@jupyter-widgets/controls",
            "_model_module_version": "1.5.0",
            "_model_name": "HTMLModel",
            "_view_count": null,
            "_view_module": "@jupyter-widgets/controls",
            "_view_module_version": "1.5.0",
            "_view_name": "HTMLView",
            "description": "",
            "description_tooltip": null,
            "layout": "IPY_MODEL_3b01326373034d67b3869ff7e54d40b2",
            "placeholder": "​",
            "style": "IPY_MODEL_835c2930e36a4809807d18b6d290d164",
            "value": " 190/190 [00:00&lt;00:00, 3.80kB/s]"
          }
        },
        "e60344dbbfb8423fb776b909d04547a2": {
          "model_module": "@jupyter-widgets/base",
          "model_name": "LayoutModel",
          "model_module_version": "1.2.0",
          "state": {
            "_model_module": "@jupyter-widgets/base",
            "_model_module_version": "1.2.0",
            "_model_name": "LayoutModel",
            "_view_count": null,
            "_view_module": "@jupyter-widgets/base",
            "_view_module_version": "1.2.0",
            "_view_name": "LayoutView",
            "align_content": null,
            "align_items": null,
            "align_self": null,
            "border": null,
            "bottom": null,
            "display": null,
            "flex": null,
            "flex_flow": null,
            "grid_area": null,
            "grid_auto_columns": null,
            "grid_auto_flow": null,
            "grid_auto_rows": null,
            "grid_column": null,
            "grid_gap": null,
            "grid_row": null,
            "grid_template_areas": null,
            "grid_template_columns": null,
            "grid_template_rows": null,
            "height": null,
            "justify_content": null,
            "justify_items": null,
            "left": null,
            "margin": null,
            "max_height": null,
            "max_width": null,
            "min_height": null,
            "min_width": null,
            "object_fit": null,
            "object_position": null,
            "order": null,
            "overflow": null,
            "overflow_x": null,
            "overflow_y": null,
            "padding": null,
            "right": null,
            "top": null,
            "visibility": null,
            "width": null
          }
        },
        "49fbdce0c7ca4585a014e7a947a2123d": {
          "model_module": "@jupyter-widgets/base",
          "model_name": "LayoutModel",
          "model_module_version": "1.2.0",
          "state": {
            "_model_module": "@jupyter-widgets/base",
            "_model_module_version": "1.2.0",
            "_model_name": "LayoutModel",
            "_view_count": null,
            "_view_module": "@jupyter-widgets/base",
            "_view_module_version": "1.2.0",
            "_view_name": "LayoutView",
            "align_content": null,
            "align_items": null,
            "align_self": null,
            "border": null,
            "bottom": null,
            "display": null,
            "flex": null,
            "flex_flow": null,
            "grid_area": null,
            "grid_auto_columns": null,
            "grid_auto_flow": null,
            "grid_auto_rows": null,
            "grid_column": null,
            "grid_gap": null,
            "grid_row": null,
            "grid_template_areas": null,
            "grid_template_columns": null,
            "grid_template_rows": null,
            "height": null,
            "justify_content": null,
            "justify_items": null,
            "left": null,
            "margin": null,
            "max_height": null,
            "max_width": null,
            "min_height": null,
            "min_width": null,
            "object_fit": null,
            "object_position": null,
            "order": null,
            "overflow": null,
            "overflow_x": null,
            "overflow_y": null,
            "padding": null,
            "right": null,
            "top": null,
            "visibility": null,
            "width": null
          }
        },
        "d8662c87f357431a83a5dc9b276236fd": {
          "model_module": "@jupyter-widgets/controls",
          "model_name": "DescriptionStyleModel",
          "model_module_version": "1.5.0",
          "state": {
            "_model_module": "@jupyter-widgets/controls",
            "_model_module_version": "1.5.0",
            "_model_name": "DescriptionStyleModel",
            "_view_count": null,
            "_view_module": "@jupyter-widgets/base",
            "_view_module_version": "1.2.0",
            "_view_name": "StyleView",
            "description_width": ""
          }
        },
        "7ddc4f4de01f49b199061d2ea949850b": {
          "model_module": "@jupyter-widgets/base",
          "model_name": "LayoutModel",
          "model_module_version": "1.2.0",
          "state": {
            "_model_module": "@jupyter-widgets/base",
            "_model_module_version": "1.2.0",
            "_model_name": "LayoutModel",
            "_view_count": null,
            "_view_module": "@jupyter-widgets/base",
            "_view_module_version": "1.2.0",
            "_view_name": "LayoutView",
            "align_content": null,
            "align_items": null,
            "align_self": null,
            "border": null,
            "bottom": null,
            "display": null,
            "flex": null,
            "flex_flow": null,
            "grid_area": null,
            "grid_auto_columns": null,
            "grid_auto_flow": null,
            "grid_auto_rows": null,
            "grid_column": null,
            "grid_gap": null,
            "grid_row": null,
            "grid_template_areas": null,
            "grid_template_columns": null,
            "grid_template_rows": null,
            "height": null,
            "justify_content": null,
            "justify_items": null,
            "left": null,
            "margin": null,
            "max_height": null,
            "max_width": null,
            "min_height": null,
            "min_width": null,
            "object_fit": null,
            "object_position": null,
            "order": null,
            "overflow": null,
            "overflow_x": null,
            "overflow_y": null,
            "padding": null,
            "right": null,
            "top": null,
            "visibility": null,
            "width": null
          }
        },
        "4bdb780af22d4bc7a514a4571bc7f255": {
          "model_module": "@jupyter-widgets/controls",
          "model_name": "ProgressStyleModel",
          "model_module_version": "1.5.0",
          "state": {
            "_model_module": "@jupyter-widgets/controls",
            "_model_module_version": "1.5.0",
            "_model_name": "ProgressStyleModel",
            "_view_count": null,
            "_view_module": "@jupyter-widgets/base",
            "_view_module_version": "1.2.0",
            "_view_name": "StyleView",
            "bar_color": null,
            "description_width": ""
          }
        },
        "3b01326373034d67b3869ff7e54d40b2": {
          "model_module": "@jupyter-widgets/base",
          "model_name": "LayoutModel",
          "model_module_version": "1.2.0",
          "state": {
            "_model_module": "@jupyter-widgets/base",
            "_model_module_version": "1.2.0",
            "_model_name": "LayoutModel",
            "_view_count": null,
            "_view_module": "@jupyter-widgets/base",
            "_view_module_version": "1.2.0",
            "_view_name": "LayoutView",
            "align_content": null,
            "align_items": null,
            "align_self": null,
            "border": null,
            "bottom": null,
            "display": null,
            "flex": null,
            "flex_flow": null,
            "grid_area": null,
            "grid_auto_columns": null,
            "grid_auto_flow": null,
            "grid_auto_rows": null,
            "grid_column": null,
            "grid_gap": null,
            "grid_row": null,
            "grid_template_areas": null,
            "grid_template_columns": null,
            "grid_template_rows": null,
            "height": null,
            "justify_content": null,
            "justify_items": null,
            "left": null,
            "margin": null,
            "max_height": null,
            "max_width": null,
            "min_height": null,
            "min_width": null,
            "object_fit": null,
            "object_position": null,
            "order": null,
            "overflow": null,
            "overflow_x": null,
            "overflow_y": null,
            "padding": null,
            "right": null,
            "top": null,
            "visibility": null,
            "width": null
          }
        },
        "835c2930e36a4809807d18b6d290d164": {
          "model_module": "@jupyter-widgets/controls",
          "model_name": "DescriptionStyleModel",
          "model_module_version": "1.5.0",
          "state": {
            "_model_module": "@jupyter-widgets/controls",
            "_model_module_version": "1.5.0",
            "_model_name": "DescriptionStyleModel",
            "_view_count": null,
            "_view_module": "@jupyter-widgets/base",
            "_view_module_version": "1.2.0",
            "_view_name": "StyleView",
            "description_width": ""
          }
        },
        "f811b4d0ab2b4c958143d88be6451ae2": {
          "model_module": "@jupyter-widgets/controls",
          "model_name": "HBoxModel",
          "model_module_version": "1.5.0",
          "state": {
            "_dom_classes": [],
            "_model_module": "@jupyter-widgets/controls",
            "_model_module_version": "1.5.0",
            "_model_name": "HBoxModel",
            "_view_count": null,
            "_view_module": "@jupyter-widgets/controls",
            "_view_module_version": "1.5.0",
            "_view_name": "HBoxView",
            "box_style": "",
            "children": [
              "IPY_MODEL_0f971aac17a34ef4a220df7a11c6204c",
              "IPY_MODEL_c204fe806c214747bf2edaf9001c7028",
              "IPY_MODEL_9ac72dd358ca483cad6a5ae952e8142a"
            ],
            "layout": "IPY_MODEL_ef517889b65b4e5daf87033aec2ccf48"
          }
        },
        "0f971aac17a34ef4a220df7a11c6204c": {
          "model_module": "@jupyter-widgets/controls",
          "model_name": "HTMLModel",
          "model_module_version": "1.5.0",
          "state": {
            "_dom_classes": [],
            "_model_module": "@jupyter-widgets/controls",
            "_model_module_version": "1.5.0",
            "_model_name": "HTMLModel",
            "_view_count": null,
            "_view_module": "@jupyter-widgets/controls",
            "_view_module_version": "1.5.0",
            "_view_name": "HTMLView",
            "description": "",
            "description_tooltip": null,
            "layout": "IPY_MODEL_0f23972712614368a06af13e78768378",
            "placeholder": "​",
            "style": "IPY_MODEL_301c8b399f4f4f7a942e99650e34ca71",
            "value": "README.md: 100%"
          }
        },
        "c204fe806c214747bf2edaf9001c7028": {
          "model_module": "@jupyter-widgets/controls",
          "model_name": "FloatProgressModel",
          "model_module_version": "1.5.0",
          "state": {
            "_dom_classes": [],
            "_model_module": "@jupyter-widgets/controls",
            "_model_module_version": "1.5.0",
            "_model_name": "FloatProgressModel",
            "_view_count": null,
            "_view_module": "@jupyter-widgets/controls",
            "_view_module_version": "1.5.0",
            "_view_name": "ProgressView",
            "bar_style": "success",
            "description": "",
            "description_tooltip": null,
            "layout": "IPY_MODEL_206d141b1868450faa9379baac8695cc",
            "max": 10571,
            "min": 0,
            "orientation": "horizontal",
            "style": "IPY_MODEL_f0bb881a53964bd885151496424486ba",
            "value": 10571
          }
        },
        "9ac72dd358ca483cad6a5ae952e8142a": {
          "model_module": "@jupyter-widgets/controls",
          "model_name": "HTMLModel",
          "model_module_version": "1.5.0",
          "state": {
            "_dom_classes": [],
            "_model_module": "@jupyter-widgets/controls",
            "_model_module_version": "1.5.0",
            "_model_name": "HTMLModel",
            "_view_count": null,
            "_view_module": "@jupyter-widgets/controls",
            "_view_module_version": "1.5.0",
            "_view_name": "HTMLView",
            "description": "",
            "description_tooltip": null,
            "layout": "IPY_MODEL_4f475898be1648b4b35e1da5bbe2a159",
            "placeholder": "​",
            "style": "IPY_MODEL_b161d90b63e34e5d98c52686842aca92",
            "value": " 10.6k/10.6k [00:00&lt;00:00, 306kB/s]"
          }
        },
        "ef517889b65b4e5daf87033aec2ccf48": {
          "model_module": "@jupyter-widgets/base",
          "model_name": "LayoutModel",
          "model_module_version": "1.2.0",
          "state": {
            "_model_module": "@jupyter-widgets/base",
            "_model_module_version": "1.2.0",
            "_model_name": "LayoutModel",
            "_view_count": null,
            "_view_module": "@jupyter-widgets/base",
            "_view_module_version": "1.2.0",
            "_view_name": "LayoutView",
            "align_content": null,
            "align_items": null,
            "align_self": null,
            "border": null,
            "bottom": null,
            "display": null,
            "flex": null,
            "flex_flow": null,
            "grid_area": null,
            "grid_auto_columns": null,
            "grid_auto_flow": null,
            "grid_auto_rows": null,
            "grid_column": null,
            "grid_gap": null,
            "grid_row": null,
            "grid_template_areas": null,
            "grid_template_columns": null,
            "grid_template_rows": null,
            "height": null,
            "justify_content": null,
            "justify_items": null,
            "left": null,
            "margin": null,
            "max_height": null,
            "max_width": null,
            "min_height": null,
            "min_width": null,
            "object_fit": null,
            "object_position": null,
            "order": null,
            "overflow": null,
            "overflow_x": null,
            "overflow_y": null,
            "padding": null,
            "right": null,
            "top": null,
            "visibility": null,
            "width": null
          }
        },
        "0f23972712614368a06af13e78768378": {
          "model_module": "@jupyter-widgets/base",
          "model_name": "LayoutModel",
          "model_module_version": "1.2.0",
          "state": {
            "_model_module": "@jupyter-widgets/base",
            "_model_module_version": "1.2.0",
            "_model_name": "LayoutModel",
            "_view_count": null,
            "_view_module": "@jupyter-widgets/base",
            "_view_module_version": "1.2.0",
            "_view_name": "LayoutView",
            "align_content": null,
            "align_items": null,
            "align_self": null,
            "border": null,
            "bottom": null,
            "display": null,
            "flex": null,
            "flex_flow": null,
            "grid_area": null,
            "grid_auto_columns": null,
            "grid_auto_flow": null,
            "grid_auto_rows": null,
            "grid_column": null,
            "grid_gap": null,
            "grid_row": null,
            "grid_template_areas": null,
            "grid_template_columns": null,
            "grid_template_rows": null,
            "height": null,
            "justify_content": null,
            "justify_items": null,
            "left": null,
            "margin": null,
            "max_height": null,
            "max_width": null,
            "min_height": null,
            "min_width": null,
            "object_fit": null,
            "object_position": null,
            "order": null,
            "overflow": null,
            "overflow_x": null,
            "overflow_y": null,
            "padding": null,
            "right": null,
            "top": null,
            "visibility": null,
            "width": null
          }
        },
        "301c8b399f4f4f7a942e99650e34ca71": {
          "model_module": "@jupyter-widgets/controls",
          "model_name": "DescriptionStyleModel",
          "model_module_version": "1.5.0",
          "state": {
            "_model_module": "@jupyter-widgets/controls",
            "_model_module_version": "1.5.0",
            "_model_name": "DescriptionStyleModel",
            "_view_count": null,
            "_view_module": "@jupyter-widgets/base",
            "_view_module_version": "1.2.0",
            "_view_name": "StyleView",
            "description_width": ""
          }
        },
        "206d141b1868450faa9379baac8695cc": {
          "model_module": "@jupyter-widgets/base",
          "model_name": "LayoutModel",
          "model_module_version": "1.2.0",
          "state": {
            "_model_module": "@jupyter-widgets/base",
            "_model_module_version": "1.2.0",
            "_model_name": "LayoutModel",
            "_view_count": null,
            "_view_module": "@jupyter-widgets/base",
            "_view_module_version": "1.2.0",
            "_view_name": "LayoutView",
            "align_content": null,
            "align_items": null,
            "align_self": null,
            "border": null,
            "bottom": null,
            "display": null,
            "flex": null,
            "flex_flow": null,
            "grid_area": null,
            "grid_auto_columns": null,
            "grid_auto_flow": null,
            "grid_auto_rows": null,
            "grid_column": null,
            "grid_gap": null,
            "grid_row": null,
            "grid_template_areas": null,
            "grid_template_columns": null,
            "grid_template_rows": null,
            "height": null,
            "justify_content": null,
            "justify_items": null,
            "left": null,
            "margin": null,
            "max_height": null,
            "max_width": null,
            "min_height": null,
            "min_width": null,
            "object_fit": null,
            "object_position": null,
            "order": null,
            "overflow": null,
            "overflow_x": null,
            "overflow_y": null,
            "padding": null,
            "right": null,
            "top": null,
            "visibility": null,
            "width": null
          }
        },
        "f0bb881a53964bd885151496424486ba": {
          "model_module": "@jupyter-widgets/controls",
          "model_name": "ProgressStyleModel",
          "model_module_version": "1.5.0",
          "state": {
            "_model_module": "@jupyter-widgets/controls",
            "_model_module_version": "1.5.0",
            "_model_name": "ProgressStyleModel",
            "_view_count": null,
            "_view_module": "@jupyter-widgets/base",
            "_view_module_version": "1.2.0",
            "_view_name": "StyleView",
            "bar_color": null,
            "description_width": ""
          }
        },
        "4f475898be1648b4b35e1da5bbe2a159": {
          "model_module": "@jupyter-widgets/base",
          "model_name": "LayoutModel",
          "model_module_version": "1.2.0",
          "state": {
            "_model_module": "@jupyter-widgets/base",
            "_model_module_version": "1.2.0",
            "_model_name": "LayoutModel",
            "_view_count": null,
            "_view_module": "@jupyter-widgets/base",
            "_view_module_version": "1.2.0",
            "_view_name": "LayoutView",
            "align_content": null,
            "align_items": null,
            "align_self": null,
            "border": null,
            "bottom": null,
            "display": null,
            "flex": null,
            "flex_flow": null,
            "grid_area": null,
            "grid_auto_columns": null,
            "grid_auto_flow": null,
            "grid_auto_rows": null,
            "grid_column": null,
            "grid_gap": null,
            "grid_row": null,
            "grid_template_areas": null,
            "grid_template_columns": null,
            "grid_template_rows": null,
            "height": null,
            "justify_content": null,
            "justify_items": null,
            "left": null,
            "margin": null,
            "max_height": null,
            "max_width": null,
            "min_height": null,
            "min_width": null,
            "object_fit": null,
            "object_position": null,
            "order": null,
            "overflow": null,
            "overflow_x": null,
            "overflow_y": null,
            "padding": null,
            "right": null,
            "top": null,
            "visibility": null,
            "width": null
          }
        },
        "b161d90b63e34e5d98c52686842aca92": {
          "model_module": "@jupyter-widgets/controls",
          "model_name": "DescriptionStyleModel",
          "model_module_version": "1.5.0",
          "state": {
            "_model_module": "@jupyter-widgets/controls",
            "_model_module_version": "1.5.0",
            "_model_name": "DescriptionStyleModel",
            "_view_count": null,
            "_view_module": "@jupyter-widgets/base",
            "_view_module_version": "1.2.0",
            "_view_name": "StyleView",
            "description_width": ""
          }
        },
        "439eea3d84bd453fbb5447496a7b509e": {
          "model_module": "@jupyter-widgets/controls",
          "model_name": "HBoxModel",
          "model_module_version": "1.5.0",
          "state": {
            "_dom_classes": [],
            "_model_module": "@jupyter-widgets/controls",
            "_model_module_version": "1.5.0",
            "_model_name": "HBoxModel",
            "_view_count": null,
            "_view_module": "@jupyter-widgets/controls",
            "_view_module_version": "1.5.0",
            "_view_name": "HBoxView",
            "box_style": "",
            "children": [
              "IPY_MODEL_49d4f8c6e5cb4e2d8a43083e8f5fb60c",
              "IPY_MODEL_a86538ad3cbb4ded88f3e2759f6d55d9",
              "IPY_MODEL_475b123b979648c9869de8c6839d574e"
            ],
            "layout": "IPY_MODEL_a8fd2de8d1ae4e81a9b2e49a1e1325a6"
          }
        },
        "49d4f8c6e5cb4e2d8a43083e8f5fb60c": {
          "model_module": "@jupyter-widgets/controls",
          "model_name": "HTMLModel",
          "model_module_version": "1.5.0",
          "state": {
            "_dom_classes": [],
            "_model_module": "@jupyter-widgets/controls",
            "_model_module_version": "1.5.0",
            "_model_name": "HTMLModel",
            "_view_count": null,
            "_view_module": "@jupyter-widgets/controls",
            "_view_module_version": "1.5.0",
            "_view_name": "HTMLView",
            "description": "",
            "description_tooltip": null,
            "layout": "IPY_MODEL_9aaaa37386e242d1bb3d44569765be3f",
            "placeholder": "​",
            "style": "IPY_MODEL_043e321b535f464a9fb8ae5466eccb0d",
            "value": "config.json: 100%"
          }
        },
        "a86538ad3cbb4ded88f3e2759f6d55d9": {
          "model_module": "@jupyter-widgets/controls",
          "model_name": "FloatProgressModel",
          "model_module_version": "1.5.0",
          "state": {
            "_dom_classes": [],
            "_model_module": "@jupyter-widgets/controls",
            "_model_module_version": "1.5.0",
            "_model_name": "FloatProgressModel",
            "_view_count": null,
            "_view_module": "@jupyter-widgets/controls",
            "_view_module_version": "1.5.0",
            "_view_name": "ProgressView",
            "bar_style": "success",
            "description": "",
            "description_tooltip": null,
            "layout": "IPY_MODEL_8e6f05e37904416f92f1b936422ec1cb",
            "max": 571,
            "min": 0,
            "orientation": "horizontal",
            "style": "IPY_MODEL_d54e6fe1a025488d93298121c8e970b5",
            "value": 571
          }
        },
        "475b123b979648c9869de8c6839d574e": {
          "model_module": "@jupyter-widgets/controls",
          "model_name": "HTMLModel",
          "model_module_version": "1.5.0",
          "state": {
            "_dom_classes": [],
            "_model_module": "@jupyter-widgets/controls",
            "_model_module_version": "1.5.0",
            "_model_name": "HTMLModel",
            "_view_count": null,
            "_view_module": "@jupyter-widgets/controls",
            "_view_module_version": "1.5.0",
            "_view_name": "HTMLView",
            "description": "",
            "description_tooltip": null,
            "layout": "IPY_MODEL_00fdbde2976342979ffa076ff942fc9c",
            "placeholder": "​",
            "style": "IPY_MODEL_18dd3711ae2d4a49a259a06ba13fbdd9",
            "value": " 571/571 [00:00&lt;00:00, 5.30kB/s]"
          }
        },
        "a8fd2de8d1ae4e81a9b2e49a1e1325a6": {
          "model_module": "@jupyter-widgets/base",
          "model_name": "LayoutModel",
          "model_module_version": "1.2.0",
          "state": {
            "_model_module": "@jupyter-widgets/base",
            "_model_module_version": "1.2.0",
            "_model_name": "LayoutModel",
            "_view_count": null,
            "_view_module": "@jupyter-widgets/base",
            "_view_module_version": "1.2.0",
            "_view_name": "LayoutView",
            "align_content": null,
            "align_items": null,
            "align_self": null,
            "border": null,
            "bottom": null,
            "display": null,
            "flex": null,
            "flex_flow": null,
            "grid_area": null,
            "grid_auto_columns": null,
            "grid_auto_flow": null,
            "grid_auto_rows": null,
            "grid_column": null,
            "grid_gap": null,
            "grid_row": null,
            "grid_template_areas": null,
            "grid_template_columns": null,
            "grid_template_rows": null,
            "height": null,
            "justify_content": null,
            "justify_items": null,
            "left": null,
            "margin": null,
            "max_height": null,
            "max_width": null,
            "min_height": null,
            "min_width": null,
            "object_fit": null,
            "object_position": null,
            "order": null,
            "overflow": null,
            "overflow_x": null,
            "overflow_y": null,
            "padding": null,
            "right": null,
            "top": null,
            "visibility": null,
            "width": null
          }
        },
        "9aaaa37386e242d1bb3d44569765be3f": {
          "model_module": "@jupyter-widgets/base",
          "model_name": "LayoutModel",
          "model_module_version": "1.2.0",
          "state": {
            "_model_module": "@jupyter-widgets/base",
            "_model_module_version": "1.2.0",
            "_model_name": "LayoutModel",
            "_view_count": null,
            "_view_module": "@jupyter-widgets/base",
            "_view_module_version": "1.2.0",
            "_view_name": "LayoutView",
            "align_content": null,
            "align_items": null,
            "align_self": null,
            "border": null,
            "bottom": null,
            "display": null,
            "flex": null,
            "flex_flow": null,
            "grid_area": null,
            "grid_auto_columns": null,
            "grid_auto_flow": null,
            "grid_auto_rows": null,
            "grid_column": null,
            "grid_gap": null,
            "grid_row": null,
            "grid_template_areas": null,
            "grid_template_columns": null,
            "grid_template_rows": null,
            "height": null,
            "justify_content": null,
            "justify_items": null,
            "left": null,
            "margin": null,
            "max_height": null,
            "max_width": null,
            "min_height": null,
            "min_width": null,
            "object_fit": null,
            "object_position": null,
            "order": null,
            "overflow": null,
            "overflow_x": null,
            "overflow_y": null,
            "padding": null,
            "right": null,
            "top": null,
            "visibility": null,
            "width": null
          }
        },
        "043e321b535f464a9fb8ae5466eccb0d": {
          "model_module": "@jupyter-widgets/controls",
          "model_name": "DescriptionStyleModel",
          "model_module_version": "1.5.0",
          "state": {
            "_model_module": "@jupyter-widgets/controls",
            "_model_module_version": "1.5.0",
            "_model_name": "DescriptionStyleModel",
            "_view_count": null,
            "_view_module": "@jupyter-widgets/base",
            "_view_module_version": "1.2.0",
            "_view_name": "StyleView",
            "description_width": ""
          }
        },
        "8e6f05e37904416f92f1b936422ec1cb": {
          "model_module": "@jupyter-widgets/base",
          "model_name": "LayoutModel",
          "model_module_version": "1.2.0",
          "state": {
            "_model_module": "@jupyter-widgets/base",
            "_model_module_version": "1.2.0",
            "_model_name": "LayoutModel",
            "_view_count": null,
            "_view_module": "@jupyter-widgets/base",
            "_view_module_version": "1.2.0",
            "_view_name": "LayoutView",
            "align_content": null,
            "align_items": null,
            "align_self": null,
            "border": null,
            "bottom": null,
            "display": null,
            "flex": null,
            "flex_flow": null,
            "grid_area": null,
            "grid_auto_columns": null,
            "grid_auto_flow": null,
            "grid_auto_rows": null,
            "grid_column": null,
            "grid_gap": null,
            "grid_row": null,
            "grid_template_areas": null,
            "grid_template_columns": null,
            "grid_template_rows": null,
            "height": null,
            "justify_content": null,
            "justify_items": null,
            "left": null,
            "margin": null,
            "max_height": null,
            "max_width": null,
            "min_height": null,
            "min_width": null,
            "object_fit": null,
            "object_position": null,
            "order": null,
            "overflow": null,
            "overflow_x": null,
            "overflow_y": null,
            "padding": null,
            "right": null,
            "top": null,
            "visibility": null,
            "width": null
          }
        },
        "d54e6fe1a025488d93298121c8e970b5": {
          "model_module": "@jupyter-widgets/controls",
          "model_name": "ProgressStyleModel",
          "model_module_version": "1.5.0",
          "state": {
            "_model_module": "@jupyter-widgets/controls",
            "_model_module_version": "1.5.0",
            "_model_name": "ProgressStyleModel",
            "_view_count": null,
            "_view_module": "@jupyter-widgets/base",
            "_view_module_version": "1.2.0",
            "_view_name": "StyleView",
            "bar_color": null,
            "description_width": ""
          }
        },
        "00fdbde2976342979ffa076ff942fc9c": {
          "model_module": "@jupyter-widgets/base",
          "model_name": "LayoutModel",
          "model_module_version": "1.2.0",
          "state": {
            "_model_module": "@jupyter-widgets/base",
            "_model_module_version": "1.2.0",
            "_model_name": "LayoutModel",
            "_view_count": null,
            "_view_module": "@jupyter-widgets/base",
            "_view_module_version": "1.2.0",
            "_view_name": "LayoutView",
            "align_content": null,
            "align_items": null,
            "align_self": null,
            "border": null,
            "bottom": null,
            "display": null,
            "flex": null,
            "flex_flow": null,
            "grid_area": null,
            "grid_auto_columns": null,
            "grid_auto_flow": null,
            "grid_auto_rows": null,
            "grid_column": null,
            "grid_gap": null,
            "grid_row": null,
            "grid_template_areas": null,
            "grid_template_columns": null,
            "grid_template_rows": null,
            "height": null,
            "justify_content": null,
            "justify_items": null,
            "left": null,
            "margin": null,
            "max_height": null,
            "max_width": null,
            "min_height": null,
            "min_width": null,
            "object_fit": null,
            "object_position": null,
            "order": null,
            "overflow": null,
            "overflow_x": null,
            "overflow_y": null,
            "padding": null,
            "right": null,
            "top": null,
            "visibility": null,
            "width": null
          }
        },
        "18dd3711ae2d4a49a259a06ba13fbdd9": {
          "model_module": "@jupyter-widgets/controls",
          "model_name": "DescriptionStyleModel",
          "model_module_version": "1.5.0",
          "state": {
            "_model_module": "@jupyter-widgets/controls",
            "_model_module_version": "1.5.0",
            "_model_name": "DescriptionStyleModel",
            "_view_count": null,
            "_view_module": "@jupyter-widgets/base",
            "_view_module_version": "1.2.0",
            "_view_name": "StyleView",
            "description_width": ""
          }
        },
        "2eac15c2873a4e78a9fe07a240152799": {
          "model_module": "@jupyter-widgets/controls",
          "model_name": "HBoxModel",
          "model_module_version": "1.5.0",
          "state": {
            "_dom_classes": [],
            "_model_module": "@jupyter-widgets/controls",
            "_model_module_version": "1.5.0",
            "_model_name": "HBoxModel",
            "_view_count": null,
            "_view_module": "@jupyter-widgets/controls",
            "_view_module_version": "1.5.0",
            "_view_name": "HBoxView",
            "box_style": "",
            "children": [
              "IPY_MODEL_4df1490ef32a4cafb6c2dfbf06c36c9b",
              "IPY_MODEL_1be91ac3f1884b878d7ca53edb90731b",
              "IPY_MODEL_1bfbf143d1e74ea6841ce47d0d32ec24"
            ],
            "layout": "IPY_MODEL_6d143fbd46994fdf876026ca1e07caf1"
          }
        },
        "4df1490ef32a4cafb6c2dfbf06c36c9b": {
          "model_module": "@jupyter-widgets/controls",
          "model_name": "HTMLModel",
          "model_module_version": "1.5.0",
          "state": {
            "_dom_classes": [],
            "_model_module": "@jupyter-widgets/controls",
            "_model_module_version": "1.5.0",
            "_model_name": "HTMLModel",
            "_view_count": null,
            "_view_module": "@jupyter-widgets/controls",
            "_view_module_version": "1.5.0",
            "_view_name": "HTMLView",
            "description": "",
            "description_tooltip": null,
            "layout": "IPY_MODEL_865c0148ddff497f8ee9e3c43fee81e6",
            "placeholder": "​",
            "style": "IPY_MODEL_7249f75053514e788134f1c0fd3e1c7e",
            "value": "config_sentence_transformers.json: 100%"
          }
        },
        "1be91ac3f1884b878d7ca53edb90731b": {
          "model_module": "@jupyter-widgets/controls",
          "model_name": "FloatProgressModel",
          "model_module_version": "1.5.0",
          "state": {
            "_dom_classes": [],
            "_model_module": "@jupyter-widgets/controls",
            "_model_module_version": "1.5.0",
            "_model_name": "FloatProgressModel",
            "_view_count": null,
            "_view_module": "@jupyter-widgets/controls",
            "_view_module_version": "1.5.0",
            "_view_name": "ProgressView",
            "bar_style": "success",
            "description": "",
            "description_tooltip": null,
            "layout": "IPY_MODEL_0ff7891eeedc4557a34710aa274e94c2",
            "max": 116,
            "min": 0,
            "orientation": "horizontal",
            "style": "IPY_MODEL_4038c1a003604b569fb29ca81833c036",
            "value": 116
          }
        },
        "1bfbf143d1e74ea6841ce47d0d32ec24": {
          "model_module": "@jupyter-widgets/controls",
          "model_name": "HTMLModel",
          "model_module_version": "1.5.0",
          "state": {
            "_dom_classes": [],
            "_model_module": "@jupyter-widgets/controls",
            "_model_module_version": "1.5.0",
            "_model_name": "HTMLModel",
            "_view_count": null,
            "_view_module": "@jupyter-widgets/controls",
            "_view_module_version": "1.5.0",
            "_view_name": "HTMLView",
            "description": "",
            "description_tooltip": null,
            "layout": "IPY_MODEL_9d06e00f69ae49318e8061fc7d899109",
            "placeholder": "​",
            "style": "IPY_MODEL_f5e0768fb9c84004ac18389496df759f",
            "value": " 116/116 [00:00&lt;00:00, 1.67kB/s]"
          }
        },
        "6d143fbd46994fdf876026ca1e07caf1": {
          "model_module": "@jupyter-widgets/base",
          "model_name": "LayoutModel",
          "model_module_version": "1.2.0",
          "state": {
            "_model_module": "@jupyter-widgets/base",
            "_model_module_version": "1.2.0",
            "_model_name": "LayoutModel",
            "_view_count": null,
            "_view_module": "@jupyter-widgets/base",
            "_view_module_version": "1.2.0",
            "_view_name": "LayoutView",
            "align_content": null,
            "align_items": null,
            "align_self": null,
            "border": null,
            "bottom": null,
            "display": null,
            "flex": null,
            "flex_flow": null,
            "grid_area": null,
            "grid_auto_columns": null,
            "grid_auto_flow": null,
            "grid_auto_rows": null,
            "grid_column": null,
            "grid_gap": null,
            "grid_row": null,
            "grid_template_areas": null,
            "grid_template_columns": null,
            "grid_template_rows": null,
            "height": null,
            "justify_content": null,
            "justify_items": null,
            "left": null,
            "margin": null,
            "max_height": null,
            "max_width": null,
            "min_height": null,
            "min_width": null,
            "object_fit": null,
            "object_position": null,
            "order": null,
            "overflow": null,
            "overflow_x": null,
            "overflow_y": null,
            "padding": null,
            "right": null,
            "top": null,
            "visibility": null,
            "width": null
          }
        },
        "865c0148ddff497f8ee9e3c43fee81e6": {
          "model_module": "@jupyter-widgets/base",
          "model_name": "LayoutModel",
          "model_module_version": "1.2.0",
          "state": {
            "_model_module": "@jupyter-widgets/base",
            "_model_module_version": "1.2.0",
            "_model_name": "LayoutModel",
            "_view_count": null,
            "_view_module": "@jupyter-widgets/base",
            "_view_module_version": "1.2.0",
            "_view_name": "LayoutView",
            "align_content": null,
            "align_items": null,
            "align_self": null,
            "border": null,
            "bottom": null,
            "display": null,
            "flex": null,
            "flex_flow": null,
            "grid_area": null,
            "grid_auto_columns": null,
            "grid_auto_flow": null,
            "grid_auto_rows": null,
            "grid_column": null,
            "grid_gap": null,
            "grid_row": null,
            "grid_template_areas": null,
            "grid_template_columns": null,
            "grid_template_rows": null,
            "height": null,
            "justify_content": null,
            "justify_items": null,
            "left": null,
            "margin": null,
            "max_height": null,
            "max_width": null,
            "min_height": null,
            "min_width": null,
            "object_fit": null,
            "object_position": null,
            "order": null,
            "overflow": null,
            "overflow_x": null,
            "overflow_y": null,
            "padding": null,
            "right": null,
            "top": null,
            "visibility": null,
            "width": null
          }
        },
        "7249f75053514e788134f1c0fd3e1c7e": {
          "model_module": "@jupyter-widgets/controls",
          "model_name": "DescriptionStyleModel",
          "model_module_version": "1.5.0",
          "state": {
            "_model_module": "@jupyter-widgets/controls",
            "_model_module_version": "1.5.0",
            "_model_name": "DescriptionStyleModel",
            "_view_count": null,
            "_view_module": "@jupyter-widgets/base",
            "_view_module_version": "1.2.0",
            "_view_name": "StyleView",
            "description_width": ""
          }
        },
        "0ff7891eeedc4557a34710aa274e94c2": {
          "model_module": "@jupyter-widgets/base",
          "model_name": "LayoutModel",
          "model_module_version": "1.2.0",
          "state": {
            "_model_module": "@jupyter-widgets/base",
            "_model_module_version": "1.2.0",
            "_model_name": "LayoutModel",
            "_view_count": null,
            "_view_module": "@jupyter-widgets/base",
            "_view_module_version": "1.2.0",
            "_view_name": "LayoutView",
            "align_content": null,
            "align_items": null,
            "align_self": null,
            "border": null,
            "bottom": null,
            "display": null,
            "flex": null,
            "flex_flow": null,
            "grid_area": null,
            "grid_auto_columns": null,
            "grid_auto_flow": null,
            "grid_auto_rows": null,
            "grid_column": null,
            "grid_gap": null,
            "grid_row": null,
            "grid_template_areas": null,
            "grid_template_columns": null,
            "grid_template_rows": null,
            "height": null,
            "justify_content": null,
            "justify_items": null,
            "left": null,
            "margin": null,
            "max_height": null,
            "max_width": null,
            "min_height": null,
            "min_width": null,
            "object_fit": null,
            "object_position": null,
            "order": null,
            "overflow": null,
            "overflow_x": null,
            "overflow_y": null,
            "padding": null,
            "right": null,
            "top": null,
            "visibility": null,
            "width": null
          }
        },
        "4038c1a003604b569fb29ca81833c036": {
          "model_module": "@jupyter-widgets/controls",
          "model_name": "ProgressStyleModel",
          "model_module_version": "1.5.0",
          "state": {
            "_model_module": "@jupyter-widgets/controls",
            "_model_module_version": "1.5.0",
            "_model_name": "ProgressStyleModel",
            "_view_count": null,
            "_view_module": "@jupyter-widgets/base",
            "_view_module_version": "1.2.0",
            "_view_name": "StyleView",
            "bar_color": null,
            "description_width": ""
          }
        },
        "9d06e00f69ae49318e8061fc7d899109": {
          "model_module": "@jupyter-widgets/base",
          "model_name": "LayoutModel",
          "model_module_version": "1.2.0",
          "state": {
            "_model_module": "@jupyter-widgets/base",
            "_model_module_version": "1.2.0",
            "_model_name": "LayoutModel",
            "_view_count": null,
            "_view_module": "@jupyter-widgets/base",
            "_view_module_version": "1.2.0",
            "_view_name": "LayoutView",
            "align_content": null,
            "align_items": null,
            "align_self": null,
            "border": null,
            "bottom": null,
            "display": null,
            "flex": null,
            "flex_flow": null,
            "grid_area": null,
            "grid_auto_columns": null,
            "grid_auto_flow": null,
            "grid_auto_rows": null,
            "grid_column": null,
            "grid_gap": null,
            "grid_row": null,
            "grid_template_areas": null,
            "grid_template_columns": null,
            "grid_template_rows": null,
            "height": null,
            "justify_content": null,
            "justify_items": null,
            "left": null,
            "margin": null,
            "max_height": null,
            "max_width": null,
            "min_height": null,
            "min_width": null,
            "object_fit": null,
            "object_position": null,
            "order": null,
            "overflow": null,
            "overflow_x": null,
            "overflow_y": null,
            "padding": null,
            "right": null,
            "top": null,
            "visibility": null,
            "width": null
          }
        },
        "f5e0768fb9c84004ac18389496df759f": {
          "model_module": "@jupyter-widgets/controls",
          "model_name": "DescriptionStyleModel",
          "model_module_version": "1.5.0",
          "state": {
            "_model_module": "@jupyter-widgets/controls",
            "_model_module_version": "1.5.0",
            "_model_name": "DescriptionStyleModel",
            "_view_count": null,
            "_view_module": "@jupyter-widgets/base",
            "_view_module_version": "1.2.0",
            "_view_name": "StyleView",
            "description_width": ""
          }
        },
        "c25f5a8419664a50a72dfb3ee88ad413": {
          "model_module": "@jupyter-widgets/controls",
          "model_name": "HBoxModel",
          "model_module_version": "1.5.0",
          "state": {
            "_dom_classes": [],
            "_model_module": "@jupyter-widgets/controls",
            "_model_module_version": "1.5.0",
            "_model_name": "HBoxModel",
            "_view_count": null,
            "_view_module": "@jupyter-widgets/controls",
            "_view_module_version": "1.5.0",
            "_view_name": "HBoxView",
            "box_style": "",
            "children": [
              "IPY_MODEL_13b35ee311594e87aada3a6c3c83b392",
              "IPY_MODEL_301f61feaee449528016285cda890bbe",
              "IPY_MODEL_3c41fc97666143b5b56e9429339b1808"
            ],
            "layout": "IPY_MODEL_4e85a542eba24521aee76c6e303b109c"
          }
        },
        "13b35ee311594e87aada3a6c3c83b392": {
          "model_module": "@jupyter-widgets/controls",
          "model_name": "HTMLModel",
          "model_module_version": "1.5.0",
          "state": {
            "_dom_classes": [],
            "_model_module": "@jupyter-widgets/controls",
            "_model_module_version": "1.5.0",
            "_model_name": "HTMLModel",
            "_view_count": null,
            "_view_module": "@jupyter-widgets/controls",
            "_view_module_version": "1.5.0",
            "_view_name": "HTMLView",
            "description": "",
            "description_tooltip": null,
            "layout": "IPY_MODEL_240c8339eb954431bd1c541dd699ce60",
            "placeholder": "​",
            "style": "IPY_MODEL_8c1678fc2edc49529364ab3a15691ab7",
            "value": "data_config.json: 100%"
          }
        },
        "301f61feaee449528016285cda890bbe": {
          "model_module": "@jupyter-widgets/controls",
          "model_name": "FloatProgressModel",
          "model_module_version": "1.5.0",
          "state": {
            "_dom_classes": [],
            "_model_module": "@jupyter-widgets/controls",
            "_model_module_version": "1.5.0",
            "_model_name": "FloatProgressModel",
            "_view_count": null,
            "_view_module": "@jupyter-widgets/controls",
            "_view_module_version": "1.5.0",
            "_view_name": "ProgressView",
            "bar_style": "success",
            "description": "",
            "description_tooltip": null,
            "layout": "IPY_MODEL_cb0fbcd69d9d4b1bb2b081cb5498f25a",
            "max": 39265,
            "min": 0,
            "orientation": "horizontal",
            "style": "IPY_MODEL_7ef9ecad9dfc47ada877a24393100636",
            "value": 39265
          }
        },
        "3c41fc97666143b5b56e9429339b1808": {
          "model_module": "@jupyter-widgets/controls",
          "model_name": "HTMLModel",
          "model_module_version": "1.5.0",
          "state": {
            "_dom_classes": [],
            "_model_module": "@jupyter-widgets/controls",
            "_model_module_version": "1.5.0",
            "_model_name": "HTMLModel",
            "_view_count": null,
            "_view_module": "@jupyter-widgets/controls",
            "_view_module_version": "1.5.0",
            "_view_name": "HTMLView",
            "description": "",
            "description_tooltip": null,
            "layout": "IPY_MODEL_a37d7f24b1074f958790db39fe4712be",
            "placeholder": "​",
            "style": "IPY_MODEL_395be7f79a9744b09bd27b279f221c93",
            "value": " 39.3k/39.3k [00:00&lt;00:00, 596kB/s]"
          }
        },
        "4e85a542eba24521aee76c6e303b109c": {
          "model_module": "@jupyter-widgets/base",
          "model_name": "LayoutModel",
          "model_module_version": "1.2.0",
          "state": {
            "_model_module": "@jupyter-widgets/base",
            "_model_module_version": "1.2.0",
            "_model_name": "LayoutModel",
            "_view_count": null,
            "_view_module": "@jupyter-widgets/base",
            "_view_module_version": "1.2.0",
            "_view_name": "LayoutView",
            "align_content": null,
            "align_items": null,
            "align_self": null,
            "border": null,
            "bottom": null,
            "display": null,
            "flex": null,
            "flex_flow": null,
            "grid_area": null,
            "grid_auto_columns": null,
            "grid_auto_flow": null,
            "grid_auto_rows": null,
            "grid_column": null,
            "grid_gap": null,
            "grid_row": null,
            "grid_template_areas": null,
            "grid_template_columns": null,
            "grid_template_rows": null,
            "height": null,
            "justify_content": null,
            "justify_items": null,
            "left": null,
            "margin": null,
            "max_height": null,
            "max_width": null,
            "min_height": null,
            "min_width": null,
            "object_fit": null,
            "object_position": null,
            "order": null,
            "overflow": null,
            "overflow_x": null,
            "overflow_y": null,
            "padding": null,
            "right": null,
            "top": null,
            "visibility": null,
            "width": null
          }
        },
        "240c8339eb954431bd1c541dd699ce60": {
          "model_module": "@jupyter-widgets/base",
          "model_name": "LayoutModel",
          "model_module_version": "1.2.0",
          "state": {
            "_model_module": "@jupyter-widgets/base",
            "_model_module_version": "1.2.0",
            "_model_name": "LayoutModel",
            "_view_count": null,
            "_view_module": "@jupyter-widgets/base",
            "_view_module_version": "1.2.0",
            "_view_name": "LayoutView",
            "align_content": null,
            "align_items": null,
            "align_self": null,
            "border": null,
            "bottom": null,
            "display": null,
            "flex": null,
            "flex_flow": null,
            "grid_area": null,
            "grid_auto_columns": null,
            "grid_auto_flow": null,
            "grid_auto_rows": null,
            "grid_column": null,
            "grid_gap": null,
            "grid_row": null,
            "grid_template_areas": null,
            "grid_template_columns": null,
            "grid_template_rows": null,
            "height": null,
            "justify_content": null,
            "justify_items": null,
            "left": null,
            "margin": null,
            "max_height": null,
            "max_width": null,
            "min_height": null,
            "min_width": null,
            "object_fit": null,
            "object_position": null,
            "order": null,
            "overflow": null,
            "overflow_x": null,
            "overflow_y": null,
            "padding": null,
            "right": null,
            "top": null,
            "visibility": null,
            "width": null
          }
        },
        "8c1678fc2edc49529364ab3a15691ab7": {
          "model_module": "@jupyter-widgets/controls",
          "model_name": "DescriptionStyleModel",
          "model_module_version": "1.5.0",
          "state": {
            "_model_module": "@jupyter-widgets/controls",
            "_model_module_version": "1.5.0",
            "_model_name": "DescriptionStyleModel",
            "_view_count": null,
            "_view_module": "@jupyter-widgets/base",
            "_view_module_version": "1.2.0",
            "_view_name": "StyleView",
            "description_width": ""
          }
        },
        "cb0fbcd69d9d4b1bb2b081cb5498f25a": {
          "model_module": "@jupyter-widgets/base",
          "model_name": "LayoutModel",
          "model_module_version": "1.2.0",
          "state": {
            "_model_module": "@jupyter-widgets/base",
            "_model_module_version": "1.2.0",
            "_model_name": "LayoutModel",
            "_view_count": null,
            "_view_module": "@jupyter-widgets/base",
            "_view_module_version": "1.2.0",
            "_view_name": "LayoutView",
            "align_content": null,
            "align_items": null,
            "align_self": null,
            "border": null,
            "bottom": null,
            "display": null,
            "flex": null,
            "flex_flow": null,
            "grid_area": null,
            "grid_auto_columns": null,
            "grid_auto_flow": null,
            "grid_auto_rows": null,
            "grid_column": null,
            "grid_gap": null,
            "grid_row": null,
            "grid_template_areas": null,
            "grid_template_columns": null,
            "grid_template_rows": null,
            "height": null,
            "justify_content": null,
            "justify_items": null,
            "left": null,
            "margin": null,
            "max_height": null,
            "max_width": null,
            "min_height": null,
            "min_width": null,
            "object_fit": null,
            "object_position": null,
            "order": null,
            "overflow": null,
            "overflow_x": null,
            "overflow_y": null,
            "padding": null,
            "right": null,
            "top": null,
            "visibility": null,
            "width": null
          }
        },
        "7ef9ecad9dfc47ada877a24393100636": {
          "model_module": "@jupyter-widgets/controls",
          "model_name": "ProgressStyleModel",
          "model_module_version": "1.5.0",
          "state": {
            "_model_module": "@jupyter-widgets/controls",
            "_model_module_version": "1.5.0",
            "_model_name": "ProgressStyleModel",
            "_view_count": null,
            "_view_module": "@jupyter-widgets/base",
            "_view_module_version": "1.2.0",
            "_view_name": "StyleView",
            "bar_color": null,
            "description_width": ""
          }
        },
        "a37d7f24b1074f958790db39fe4712be": {
          "model_module": "@jupyter-widgets/base",
          "model_name": "LayoutModel",
          "model_module_version": "1.2.0",
          "state": {
            "_model_module": "@jupyter-widgets/base",
            "_model_module_version": "1.2.0",
            "_model_name": "LayoutModel",
            "_view_count": null,
            "_view_module": "@jupyter-widgets/base",
            "_view_module_version": "1.2.0",
            "_view_name": "LayoutView",
            "align_content": null,
            "align_items": null,
            "align_self": null,
            "border": null,
            "bottom": null,
            "display": null,
            "flex": null,
            "flex_flow": null,
            "grid_area": null,
            "grid_auto_columns": null,
            "grid_auto_flow": null,
            "grid_auto_rows": null,
            "grid_column": null,
            "grid_gap": null,
            "grid_row": null,
            "grid_template_areas": null,
            "grid_template_columns": null,
            "grid_template_rows": null,
            "height": null,
            "justify_content": null,
            "justify_items": null,
            "left": null,
            "margin": null,
            "max_height": null,
            "max_width": null,
            "min_height": null,
            "min_width": null,
            "object_fit": null,
            "object_position": null,
            "order": null,
            "overflow": null,
            "overflow_x": null,
            "overflow_y": null,
            "padding": null,
            "right": null,
            "top": null,
            "visibility": null,
            "width": null
          }
        },
        "395be7f79a9744b09bd27b279f221c93": {
          "model_module": "@jupyter-widgets/controls",
          "model_name": "DescriptionStyleModel",
          "model_module_version": "1.5.0",
          "state": {
            "_model_module": "@jupyter-widgets/controls",
            "_model_module_version": "1.5.0",
            "_model_name": "DescriptionStyleModel",
            "_view_count": null,
            "_view_module": "@jupyter-widgets/base",
            "_view_module_version": "1.2.0",
            "_view_name": "StyleView",
            "description_width": ""
          }
        },
        "747bd0c596244a1787be8b4b60163120": {
          "model_module": "@jupyter-widgets/controls",
          "model_name": "HBoxModel",
          "model_module_version": "1.5.0",
          "state": {
            "_dom_classes": [],
            "_model_module": "@jupyter-widgets/controls",
            "_model_module_version": "1.5.0",
            "_model_name": "HBoxModel",
            "_view_count": null,
            "_view_module": "@jupyter-widgets/controls",
            "_view_module_version": "1.5.0",
            "_view_name": "HBoxView",
            "box_style": "",
            "children": [
              "IPY_MODEL_61255efb6059447098707496aa6b6ea4",
              "IPY_MODEL_164b6ca81e464bf49a45ad67e89d5289",
              "IPY_MODEL_5b3849294e0a42b99793f6e4b0112e46"
            ],
            "layout": "IPY_MODEL_def1ce3ca4a84d80b15bab85d91294c1"
          }
        },
        "61255efb6059447098707496aa6b6ea4": {
          "model_module": "@jupyter-widgets/controls",
          "model_name": "HTMLModel",
          "model_module_version": "1.5.0",
          "state": {
            "_dom_classes": [],
            "_model_module": "@jupyter-widgets/controls",
            "_model_module_version": "1.5.0",
            "_model_name": "HTMLModel",
            "_view_count": null,
            "_view_module": "@jupyter-widgets/controls",
            "_view_module_version": "1.5.0",
            "_view_name": "HTMLView",
            "description": "",
            "description_tooltip": null,
            "layout": "IPY_MODEL_01bcd58f83fc44fdb9387a27215a1459",
            "placeholder": "​",
            "style": "IPY_MODEL_6c4f3e6b51db462a8976419afd2e9501",
            "value": "pytorch_model.bin: 100%"
          }
        },
        "164b6ca81e464bf49a45ad67e89d5289": {
          "model_module": "@jupyter-widgets/controls",
          "model_name": "FloatProgressModel",
          "model_module_version": "1.5.0",
          "state": {
            "_dom_classes": [],
            "_model_module": "@jupyter-widgets/controls",
            "_model_module_version": "1.5.0",
            "_model_name": "FloatProgressModel",
            "_view_count": null,
            "_view_module": "@jupyter-widgets/controls",
            "_view_module_version": "1.5.0",
            "_view_name": "ProgressView",
            "bar_style": "success",
            "description": "",
            "description_tooltip": null,
            "layout": "IPY_MODEL_f2932d4eac1e4f1d8958b84e81fd5a55",
            "max": 438011953,
            "min": 0,
            "orientation": "horizontal",
            "style": "IPY_MODEL_16c77821a8ef431581dc3365644197d0",
            "value": 438011953
          }
        },
        "5b3849294e0a42b99793f6e4b0112e46": {
          "model_module": "@jupyter-widgets/controls",
          "model_name": "HTMLModel",
          "model_module_version": "1.5.0",
          "state": {
            "_dom_classes": [],
            "_model_module": "@jupyter-widgets/controls",
            "_model_module_version": "1.5.0",
            "_model_name": "HTMLModel",
            "_view_count": null,
            "_view_module": "@jupyter-widgets/controls",
            "_view_module_version": "1.5.0",
            "_view_name": "HTMLView",
            "description": "",
            "description_tooltip": null,
            "layout": "IPY_MODEL_ce2d6767ac5140c4b0f0b2fb140b404f",
            "placeholder": "​",
            "style": "IPY_MODEL_121f7b5fa0a045618e9d920132a193a0",
            "value": " 438M/438M [00:05&lt;00:00, 80.9MB/s]"
          }
        },
        "def1ce3ca4a84d80b15bab85d91294c1": {
          "model_module": "@jupyter-widgets/base",
          "model_name": "LayoutModel",
          "model_module_version": "1.2.0",
          "state": {
            "_model_module": "@jupyter-widgets/base",
            "_model_module_version": "1.2.0",
            "_model_name": "LayoutModel",
            "_view_count": null,
            "_view_module": "@jupyter-widgets/base",
            "_view_module_version": "1.2.0",
            "_view_name": "LayoutView",
            "align_content": null,
            "align_items": null,
            "align_self": null,
            "border": null,
            "bottom": null,
            "display": null,
            "flex": null,
            "flex_flow": null,
            "grid_area": null,
            "grid_auto_columns": null,
            "grid_auto_flow": null,
            "grid_auto_rows": null,
            "grid_column": null,
            "grid_gap": null,
            "grid_row": null,
            "grid_template_areas": null,
            "grid_template_columns": null,
            "grid_template_rows": null,
            "height": null,
            "justify_content": null,
            "justify_items": null,
            "left": null,
            "margin": null,
            "max_height": null,
            "max_width": null,
            "min_height": null,
            "min_width": null,
            "object_fit": null,
            "object_position": null,
            "order": null,
            "overflow": null,
            "overflow_x": null,
            "overflow_y": null,
            "padding": null,
            "right": null,
            "top": null,
            "visibility": null,
            "width": null
          }
        },
        "01bcd58f83fc44fdb9387a27215a1459": {
          "model_module": "@jupyter-widgets/base",
          "model_name": "LayoutModel",
          "model_module_version": "1.2.0",
          "state": {
            "_model_module": "@jupyter-widgets/base",
            "_model_module_version": "1.2.0",
            "_model_name": "LayoutModel",
            "_view_count": null,
            "_view_module": "@jupyter-widgets/base",
            "_view_module_version": "1.2.0",
            "_view_name": "LayoutView",
            "align_content": null,
            "align_items": null,
            "align_self": null,
            "border": null,
            "bottom": null,
            "display": null,
            "flex": null,
            "flex_flow": null,
            "grid_area": null,
            "grid_auto_columns": null,
            "grid_auto_flow": null,
            "grid_auto_rows": null,
            "grid_column": null,
            "grid_gap": null,
            "grid_row": null,
            "grid_template_areas": null,
            "grid_template_columns": null,
            "grid_template_rows": null,
            "height": null,
            "justify_content": null,
            "justify_items": null,
            "left": null,
            "margin": null,
            "max_height": null,
            "max_width": null,
            "min_height": null,
            "min_width": null,
            "object_fit": null,
            "object_position": null,
            "order": null,
            "overflow": null,
            "overflow_x": null,
            "overflow_y": null,
            "padding": null,
            "right": null,
            "top": null,
            "visibility": null,
            "width": null
          }
        },
        "6c4f3e6b51db462a8976419afd2e9501": {
          "model_module": "@jupyter-widgets/controls",
          "model_name": "DescriptionStyleModel",
          "model_module_version": "1.5.0",
          "state": {
            "_model_module": "@jupyter-widgets/controls",
            "_model_module_version": "1.5.0",
            "_model_name": "DescriptionStyleModel",
            "_view_count": null,
            "_view_module": "@jupyter-widgets/base",
            "_view_module_version": "1.2.0",
            "_view_name": "StyleView",
            "description_width": ""
          }
        },
        "f2932d4eac1e4f1d8958b84e81fd5a55": {
          "model_module": "@jupyter-widgets/base",
          "model_name": "LayoutModel",
          "model_module_version": "1.2.0",
          "state": {
            "_model_module": "@jupyter-widgets/base",
            "_model_module_version": "1.2.0",
            "_model_name": "LayoutModel",
            "_view_count": null,
            "_view_module": "@jupyter-widgets/base",
            "_view_module_version": "1.2.0",
            "_view_name": "LayoutView",
            "align_content": null,
            "align_items": null,
            "align_self": null,
            "border": null,
            "bottom": null,
            "display": null,
            "flex": null,
            "flex_flow": null,
            "grid_area": null,
            "grid_auto_columns": null,
            "grid_auto_flow": null,
            "grid_auto_rows": null,
            "grid_column": null,
            "grid_gap": null,
            "grid_row": null,
            "grid_template_areas": null,
            "grid_template_columns": null,
            "grid_template_rows": null,
            "height": null,
            "justify_content": null,
            "justify_items": null,
            "left": null,
            "margin": null,
            "max_height": null,
            "max_width": null,
            "min_height": null,
            "min_width": null,
            "object_fit": null,
            "object_position": null,
            "order": null,
            "overflow": null,
            "overflow_x": null,
            "overflow_y": null,
            "padding": null,
            "right": null,
            "top": null,
            "visibility": null,
            "width": null
          }
        },
        "16c77821a8ef431581dc3365644197d0": {
          "model_module": "@jupyter-widgets/controls",
          "model_name": "ProgressStyleModel",
          "model_module_version": "1.5.0",
          "state": {
            "_model_module": "@jupyter-widgets/controls",
            "_model_module_version": "1.5.0",
            "_model_name": "ProgressStyleModel",
            "_view_count": null,
            "_view_module": "@jupyter-widgets/base",
            "_view_module_version": "1.2.0",
            "_view_name": "StyleView",
            "bar_color": null,
            "description_width": ""
          }
        },
        "ce2d6767ac5140c4b0f0b2fb140b404f": {
          "model_module": "@jupyter-widgets/base",
          "model_name": "LayoutModel",
          "model_module_version": "1.2.0",
          "state": {
            "_model_module": "@jupyter-widgets/base",
            "_model_module_version": "1.2.0",
            "_model_name": "LayoutModel",
            "_view_count": null,
            "_view_module": "@jupyter-widgets/base",
            "_view_module_version": "1.2.0",
            "_view_name": "LayoutView",
            "align_content": null,
            "align_items": null,
            "align_self": null,
            "border": null,
            "bottom": null,
            "display": null,
            "flex": null,
            "flex_flow": null,
            "grid_area": null,
            "grid_auto_columns": null,
            "grid_auto_flow": null,
            "grid_auto_rows": null,
            "grid_column": null,
            "grid_gap": null,
            "grid_row": null,
            "grid_template_areas": null,
            "grid_template_columns": null,
            "grid_template_rows": null,
            "height": null,
            "justify_content": null,
            "justify_items": null,
            "left": null,
            "margin": null,
            "max_height": null,
            "max_width": null,
            "min_height": null,
            "min_width": null,
            "object_fit": null,
            "object_position": null,
            "order": null,
            "overflow": null,
            "overflow_x": null,
            "overflow_y": null,
            "padding": null,
            "right": null,
            "top": null,
            "visibility": null,
            "width": null
          }
        },
        "121f7b5fa0a045618e9d920132a193a0": {
          "model_module": "@jupyter-widgets/controls",
          "model_name": "DescriptionStyleModel",
          "model_module_version": "1.5.0",
          "state": {
            "_model_module": "@jupyter-widgets/controls",
            "_model_module_version": "1.5.0",
            "_model_name": "DescriptionStyleModel",
            "_view_count": null,
            "_view_module": "@jupyter-widgets/base",
            "_view_module_version": "1.2.0",
            "_view_name": "StyleView",
            "description_width": ""
          }
        },
        "b7270153a9394a53a7893f2e8db1dc1b": {
          "model_module": "@jupyter-widgets/controls",
          "model_name": "HBoxModel",
          "model_module_version": "1.5.0",
          "state": {
            "_dom_classes": [],
            "_model_module": "@jupyter-widgets/controls",
            "_model_module_version": "1.5.0",
            "_model_name": "HBoxModel",
            "_view_count": null,
            "_view_module": "@jupyter-widgets/controls",
            "_view_module_version": "1.5.0",
            "_view_name": "HBoxView",
            "box_style": "",
            "children": [
              "IPY_MODEL_2cefea26713d4399a5574d0403551e1f",
              "IPY_MODEL_cfabe8965cb543c387a2265f243a2b3a",
              "IPY_MODEL_cdf0b974de8a4932ae09c1135ae4e642"
            ],
            "layout": "IPY_MODEL_d06550c0e1c2491a8a940b10e5e34370"
          }
        },
        "2cefea26713d4399a5574d0403551e1f": {
          "model_module": "@jupyter-widgets/controls",
          "model_name": "HTMLModel",
          "model_module_version": "1.5.0",
          "state": {
            "_dom_classes": [],
            "_model_module": "@jupyter-widgets/controls",
            "_model_module_version": "1.5.0",
            "_model_name": "HTMLModel",
            "_view_count": null,
            "_view_module": "@jupyter-widgets/controls",
            "_view_module_version": "1.5.0",
            "_view_name": "HTMLView",
            "description": "",
            "description_tooltip": null,
            "layout": "IPY_MODEL_1861242a7b26499e8b583d7fe3c6f77b",
            "placeholder": "​",
            "style": "IPY_MODEL_f993582e33734a50a32ecae521e109c5",
            "value": "sentence_bert_config.json: 100%"
          }
        },
        "cfabe8965cb543c387a2265f243a2b3a": {
          "model_module": "@jupyter-widgets/controls",
          "model_name": "FloatProgressModel",
          "model_module_version": "1.5.0",
          "state": {
            "_dom_classes": [],
            "_model_module": "@jupyter-widgets/controls",
            "_model_module_version": "1.5.0",
            "_model_name": "FloatProgressModel",
            "_view_count": null,
            "_view_module": "@jupyter-widgets/controls",
            "_view_module_version": "1.5.0",
            "_view_name": "ProgressView",
            "bar_style": "success",
            "description": "",
            "description_tooltip": null,
            "layout": "IPY_MODEL_13d94402fb374565a3575a09d43d69e5",
            "max": 53,
            "min": 0,
            "orientation": "horizontal",
            "style": "IPY_MODEL_e66381e037e24c98979c5577237f7a3e",
            "value": 53
          }
        },
        "cdf0b974de8a4932ae09c1135ae4e642": {
          "model_module": "@jupyter-widgets/controls",
          "model_name": "HTMLModel",
          "model_module_version": "1.5.0",
          "state": {
            "_dom_classes": [],
            "_model_module": "@jupyter-widgets/controls",
            "_model_module_version": "1.5.0",
            "_model_name": "HTMLModel",
            "_view_count": null,
            "_view_module": "@jupyter-widgets/controls",
            "_view_module_version": "1.5.0",
            "_view_name": "HTMLView",
            "description": "",
            "description_tooltip": null,
            "layout": "IPY_MODEL_7f41a2b901644594a2d664c3ee40dc26",
            "placeholder": "​",
            "style": "IPY_MODEL_56f8b5efc1c1464eb1e4364e4b84a382",
            "value": " 53.0/53.0 [00:00&lt;00:00, 757B/s]"
          }
        },
        "d06550c0e1c2491a8a940b10e5e34370": {
          "model_module": "@jupyter-widgets/base",
          "model_name": "LayoutModel",
          "model_module_version": "1.2.0",
          "state": {
            "_model_module": "@jupyter-widgets/base",
            "_model_module_version": "1.2.0",
            "_model_name": "LayoutModel",
            "_view_count": null,
            "_view_module": "@jupyter-widgets/base",
            "_view_module_version": "1.2.0",
            "_view_name": "LayoutView",
            "align_content": null,
            "align_items": null,
            "align_self": null,
            "border": null,
            "bottom": null,
            "display": null,
            "flex": null,
            "flex_flow": null,
            "grid_area": null,
            "grid_auto_columns": null,
            "grid_auto_flow": null,
            "grid_auto_rows": null,
            "grid_column": null,
            "grid_gap": null,
            "grid_row": null,
            "grid_template_areas": null,
            "grid_template_columns": null,
            "grid_template_rows": null,
            "height": null,
            "justify_content": null,
            "justify_items": null,
            "left": null,
            "margin": null,
            "max_height": null,
            "max_width": null,
            "min_height": null,
            "min_width": null,
            "object_fit": null,
            "object_position": null,
            "order": null,
            "overflow": null,
            "overflow_x": null,
            "overflow_y": null,
            "padding": null,
            "right": null,
            "top": null,
            "visibility": null,
            "width": null
          }
        },
        "1861242a7b26499e8b583d7fe3c6f77b": {
          "model_module": "@jupyter-widgets/base",
          "model_name": "LayoutModel",
          "model_module_version": "1.2.0",
          "state": {
            "_model_module": "@jupyter-widgets/base",
            "_model_module_version": "1.2.0",
            "_model_name": "LayoutModel",
            "_view_count": null,
            "_view_module": "@jupyter-widgets/base",
            "_view_module_version": "1.2.0",
            "_view_name": "LayoutView",
            "align_content": null,
            "align_items": null,
            "align_self": null,
            "border": null,
            "bottom": null,
            "display": null,
            "flex": null,
            "flex_flow": null,
            "grid_area": null,
            "grid_auto_columns": null,
            "grid_auto_flow": null,
            "grid_auto_rows": null,
            "grid_column": null,
            "grid_gap": null,
            "grid_row": null,
            "grid_template_areas": null,
            "grid_template_columns": null,
            "grid_template_rows": null,
            "height": null,
            "justify_content": null,
            "justify_items": null,
            "left": null,
            "margin": null,
            "max_height": null,
            "max_width": null,
            "min_height": null,
            "min_width": null,
            "object_fit": null,
            "object_position": null,
            "order": null,
            "overflow": null,
            "overflow_x": null,
            "overflow_y": null,
            "padding": null,
            "right": null,
            "top": null,
            "visibility": null,
            "width": null
          }
        },
        "f993582e33734a50a32ecae521e109c5": {
          "model_module": "@jupyter-widgets/controls",
          "model_name": "DescriptionStyleModel",
          "model_module_version": "1.5.0",
          "state": {
            "_model_module": "@jupyter-widgets/controls",
            "_model_module_version": "1.5.0",
            "_model_name": "DescriptionStyleModel",
            "_view_count": null,
            "_view_module": "@jupyter-widgets/base",
            "_view_module_version": "1.2.0",
            "_view_name": "StyleView",
            "description_width": ""
          }
        },
        "13d94402fb374565a3575a09d43d69e5": {
          "model_module": "@jupyter-widgets/base",
          "model_name": "LayoutModel",
          "model_module_version": "1.2.0",
          "state": {
            "_model_module": "@jupyter-widgets/base",
            "_model_module_version": "1.2.0",
            "_model_name": "LayoutModel",
            "_view_count": null,
            "_view_module": "@jupyter-widgets/base",
            "_view_module_version": "1.2.0",
            "_view_name": "LayoutView",
            "align_content": null,
            "align_items": null,
            "align_self": null,
            "border": null,
            "bottom": null,
            "display": null,
            "flex": null,
            "flex_flow": null,
            "grid_area": null,
            "grid_auto_columns": null,
            "grid_auto_flow": null,
            "grid_auto_rows": null,
            "grid_column": null,
            "grid_gap": null,
            "grid_row": null,
            "grid_template_areas": null,
            "grid_template_columns": null,
            "grid_template_rows": null,
            "height": null,
            "justify_content": null,
            "justify_items": null,
            "left": null,
            "margin": null,
            "max_height": null,
            "max_width": null,
            "min_height": null,
            "min_width": null,
            "object_fit": null,
            "object_position": null,
            "order": null,
            "overflow": null,
            "overflow_x": null,
            "overflow_y": null,
            "padding": null,
            "right": null,
            "top": null,
            "visibility": null,
            "width": null
          }
        },
        "e66381e037e24c98979c5577237f7a3e": {
          "model_module": "@jupyter-widgets/controls",
          "model_name": "ProgressStyleModel",
          "model_module_version": "1.5.0",
          "state": {
            "_model_module": "@jupyter-widgets/controls",
            "_model_module_version": "1.5.0",
            "_model_name": "ProgressStyleModel",
            "_view_count": null,
            "_view_module": "@jupyter-widgets/base",
            "_view_module_version": "1.2.0",
            "_view_name": "StyleView",
            "bar_color": null,
            "description_width": ""
          }
        },
        "7f41a2b901644594a2d664c3ee40dc26": {
          "model_module": "@jupyter-widgets/base",
          "model_name": "LayoutModel",
          "model_module_version": "1.2.0",
          "state": {
            "_model_module": "@jupyter-widgets/base",
            "_model_module_version": "1.2.0",
            "_model_name": "LayoutModel",
            "_view_count": null,
            "_view_module": "@jupyter-widgets/base",
            "_view_module_version": "1.2.0",
            "_view_name": "LayoutView",
            "align_content": null,
            "align_items": null,
            "align_self": null,
            "border": null,
            "bottom": null,
            "display": null,
            "flex": null,
            "flex_flow": null,
            "grid_area": null,
            "grid_auto_columns": null,
            "grid_auto_flow": null,
            "grid_auto_rows": null,
            "grid_column": null,
            "grid_gap": null,
            "grid_row": null,
            "grid_template_areas": null,
            "grid_template_columns": null,
            "grid_template_rows": null,
            "height": null,
            "justify_content": null,
            "justify_items": null,
            "left": null,
            "margin": null,
            "max_height": null,
            "max_width": null,
            "min_height": null,
            "min_width": null,
            "object_fit": null,
            "object_position": null,
            "order": null,
            "overflow": null,
            "overflow_x": null,
            "overflow_y": null,
            "padding": null,
            "right": null,
            "top": null,
            "visibility": null,
            "width": null
          }
        },
        "56f8b5efc1c1464eb1e4364e4b84a382": {
          "model_module": "@jupyter-widgets/controls",
          "model_name": "DescriptionStyleModel",
          "model_module_version": "1.5.0",
          "state": {
            "_model_module": "@jupyter-widgets/controls",
            "_model_module_version": "1.5.0",
            "_model_name": "DescriptionStyleModel",
            "_view_count": null,
            "_view_module": "@jupyter-widgets/base",
            "_view_module_version": "1.2.0",
            "_view_name": "StyleView",
            "description_width": ""
          }
        },
        "bd0ee4502ce942809933a0e190adbc5b": {
          "model_module": "@jupyter-widgets/controls",
          "model_name": "HBoxModel",
          "model_module_version": "1.5.0",
          "state": {
            "_dom_classes": [],
            "_model_module": "@jupyter-widgets/controls",
            "_model_module_version": "1.5.0",
            "_model_name": "HBoxModel",
            "_view_count": null,
            "_view_module": "@jupyter-widgets/controls",
            "_view_module_version": "1.5.0",
            "_view_name": "HBoxView",
            "box_style": "",
            "children": [
              "IPY_MODEL_9db41bdca7dc43a6acd37d189a234d39",
              "IPY_MODEL_595018e25b674b3db6b610dc27f87690",
              "IPY_MODEL_4154c0fc79fa4e53be1d9961769f403d"
            ],
            "layout": "IPY_MODEL_c299f8b0f19a449399bc1ca9edd3fa09"
          }
        },
        "9db41bdca7dc43a6acd37d189a234d39": {
          "model_module": "@jupyter-widgets/controls",
          "model_name": "HTMLModel",
          "model_module_version": "1.5.0",
          "state": {
            "_dom_classes": [],
            "_model_module": "@jupyter-widgets/controls",
            "_model_module_version": "1.5.0",
            "_model_name": "HTMLModel",
            "_view_count": null,
            "_view_module": "@jupyter-widgets/controls",
            "_view_module_version": "1.5.0",
            "_view_name": "HTMLView",
            "description": "",
            "description_tooltip": null,
            "layout": "IPY_MODEL_668f4079ee074ab186167b340eba2269",
            "placeholder": "​",
            "style": "IPY_MODEL_bdd9f628316542f8bdcc17c11384d8c9",
            "value": "special_tokens_map.json: 100%"
          }
        },
        "595018e25b674b3db6b610dc27f87690": {
          "model_module": "@jupyter-widgets/controls",
          "model_name": "FloatProgressModel",
          "model_module_version": "1.5.0",
          "state": {
            "_dom_classes": [],
            "_model_module": "@jupyter-widgets/controls",
            "_model_module_version": "1.5.0",
            "_model_name": "FloatProgressModel",
            "_view_count": null,
            "_view_module": "@jupyter-widgets/controls",
            "_view_module_version": "1.5.0",
            "_view_name": "ProgressView",
            "bar_style": "success",
            "description": "",
            "description_tooltip": null,
            "layout": "IPY_MODEL_4a0ff7d874674f7882294ee56cf9d8f6",
            "max": 239,
            "min": 0,
            "orientation": "horizontal",
            "style": "IPY_MODEL_e8854be9cde140f8ade76620b1455ba0",
            "value": 239
          }
        },
        "4154c0fc79fa4e53be1d9961769f403d": {
          "model_module": "@jupyter-widgets/controls",
          "model_name": "HTMLModel",
          "model_module_version": "1.5.0",
          "state": {
            "_dom_classes": [],
            "_model_module": "@jupyter-widgets/controls",
            "_model_module_version": "1.5.0",
            "_model_name": "HTMLModel",
            "_view_count": null,
            "_view_module": "@jupyter-widgets/controls",
            "_view_module_version": "1.5.0",
            "_view_name": "HTMLView",
            "description": "",
            "description_tooltip": null,
            "layout": "IPY_MODEL_a6f7dec0bfac43b79fd149c5f1fdd772",
            "placeholder": "​",
            "style": "IPY_MODEL_b1afc67e7b2b49db8fd033ae2e0d2d36",
            "value": " 239/239 [00:00&lt;00:00, 3.67kB/s]"
          }
        },
        "c299f8b0f19a449399bc1ca9edd3fa09": {
          "model_module": "@jupyter-widgets/base",
          "model_name": "LayoutModel",
          "model_module_version": "1.2.0",
          "state": {
            "_model_module": "@jupyter-widgets/base",
            "_model_module_version": "1.2.0",
            "_model_name": "LayoutModel",
            "_view_count": null,
            "_view_module": "@jupyter-widgets/base",
            "_view_module_version": "1.2.0",
            "_view_name": "LayoutView",
            "align_content": null,
            "align_items": null,
            "align_self": null,
            "border": null,
            "bottom": null,
            "display": null,
            "flex": null,
            "flex_flow": null,
            "grid_area": null,
            "grid_auto_columns": null,
            "grid_auto_flow": null,
            "grid_auto_rows": null,
            "grid_column": null,
            "grid_gap": null,
            "grid_row": null,
            "grid_template_areas": null,
            "grid_template_columns": null,
            "grid_template_rows": null,
            "height": null,
            "justify_content": null,
            "justify_items": null,
            "left": null,
            "margin": null,
            "max_height": null,
            "max_width": null,
            "min_height": null,
            "min_width": null,
            "object_fit": null,
            "object_position": null,
            "order": null,
            "overflow": null,
            "overflow_x": null,
            "overflow_y": null,
            "padding": null,
            "right": null,
            "top": null,
            "visibility": null,
            "width": null
          }
        },
        "668f4079ee074ab186167b340eba2269": {
          "model_module": "@jupyter-widgets/base",
          "model_name": "LayoutModel",
          "model_module_version": "1.2.0",
          "state": {
            "_model_module": "@jupyter-widgets/base",
            "_model_module_version": "1.2.0",
            "_model_name": "LayoutModel",
            "_view_count": null,
            "_view_module": "@jupyter-widgets/base",
            "_view_module_version": "1.2.0",
            "_view_name": "LayoutView",
            "align_content": null,
            "align_items": null,
            "align_self": null,
            "border": null,
            "bottom": null,
            "display": null,
            "flex": null,
            "flex_flow": null,
            "grid_area": null,
            "grid_auto_columns": null,
            "grid_auto_flow": null,
            "grid_auto_rows": null,
            "grid_column": null,
            "grid_gap": null,
            "grid_row": null,
            "grid_template_areas": null,
            "grid_template_columns": null,
            "grid_template_rows": null,
            "height": null,
            "justify_content": null,
            "justify_items": null,
            "left": null,
            "margin": null,
            "max_height": null,
            "max_width": null,
            "min_height": null,
            "min_width": null,
            "object_fit": null,
            "object_position": null,
            "order": null,
            "overflow": null,
            "overflow_x": null,
            "overflow_y": null,
            "padding": null,
            "right": null,
            "top": null,
            "visibility": null,
            "width": null
          }
        },
        "bdd9f628316542f8bdcc17c11384d8c9": {
          "model_module": "@jupyter-widgets/controls",
          "model_name": "DescriptionStyleModel",
          "model_module_version": "1.5.0",
          "state": {
            "_model_module": "@jupyter-widgets/controls",
            "_model_module_version": "1.5.0",
            "_model_name": "DescriptionStyleModel",
            "_view_count": null,
            "_view_module": "@jupyter-widgets/base",
            "_view_module_version": "1.2.0",
            "_view_name": "StyleView",
            "description_width": ""
          }
        },
        "4a0ff7d874674f7882294ee56cf9d8f6": {
          "model_module": "@jupyter-widgets/base",
          "model_name": "LayoutModel",
          "model_module_version": "1.2.0",
          "state": {
            "_model_module": "@jupyter-widgets/base",
            "_model_module_version": "1.2.0",
            "_model_name": "LayoutModel",
            "_view_count": null,
            "_view_module": "@jupyter-widgets/base",
            "_view_module_version": "1.2.0",
            "_view_name": "LayoutView",
            "align_content": null,
            "align_items": null,
            "align_self": null,
            "border": null,
            "bottom": null,
            "display": null,
            "flex": null,
            "flex_flow": null,
            "grid_area": null,
            "grid_auto_columns": null,
            "grid_auto_flow": null,
            "grid_auto_rows": null,
            "grid_column": null,
            "grid_gap": null,
            "grid_row": null,
            "grid_template_areas": null,
            "grid_template_columns": null,
            "grid_template_rows": null,
            "height": null,
            "justify_content": null,
            "justify_items": null,
            "left": null,
            "margin": null,
            "max_height": null,
            "max_width": null,
            "min_height": null,
            "min_width": null,
            "object_fit": null,
            "object_position": null,
            "order": null,
            "overflow": null,
            "overflow_x": null,
            "overflow_y": null,
            "padding": null,
            "right": null,
            "top": null,
            "visibility": null,
            "width": null
          }
        },
        "e8854be9cde140f8ade76620b1455ba0": {
          "model_module": "@jupyter-widgets/controls",
          "model_name": "ProgressStyleModel",
          "model_module_version": "1.5.0",
          "state": {
            "_model_module": "@jupyter-widgets/controls",
            "_model_module_version": "1.5.0",
            "_model_name": "ProgressStyleModel",
            "_view_count": null,
            "_view_module": "@jupyter-widgets/base",
            "_view_module_version": "1.2.0",
            "_view_name": "StyleView",
            "bar_color": null,
            "description_width": ""
          }
        },
        "a6f7dec0bfac43b79fd149c5f1fdd772": {
          "model_module": "@jupyter-widgets/base",
          "model_name": "LayoutModel",
          "model_module_version": "1.2.0",
          "state": {
            "_model_module": "@jupyter-widgets/base",
            "_model_module_version": "1.2.0",
            "_model_name": "LayoutModel",
            "_view_count": null,
            "_view_module": "@jupyter-widgets/base",
            "_view_module_version": "1.2.0",
            "_view_name": "LayoutView",
            "align_content": null,
            "align_items": null,
            "align_self": null,
            "border": null,
            "bottom": null,
            "display": null,
            "flex": null,
            "flex_flow": null,
            "grid_area": null,
            "grid_auto_columns": null,
            "grid_auto_flow": null,
            "grid_auto_rows": null,
            "grid_column": null,
            "grid_gap": null,
            "grid_row": null,
            "grid_template_areas": null,
            "grid_template_columns": null,
            "grid_template_rows": null,
            "height": null,
            "justify_content": null,
            "justify_items": null,
            "left": null,
            "margin": null,
            "max_height": null,
            "max_width": null,
            "min_height": null,
            "min_width": null,
            "object_fit": null,
            "object_position": null,
            "order": null,
            "overflow": null,
            "overflow_x": null,
            "overflow_y": null,
            "padding": null,
            "right": null,
            "top": null,
            "visibility": null,
            "width": null
          }
        },
        "b1afc67e7b2b49db8fd033ae2e0d2d36": {
          "model_module": "@jupyter-widgets/controls",
          "model_name": "DescriptionStyleModel",
          "model_module_version": "1.5.0",
          "state": {
            "_model_module": "@jupyter-widgets/controls",
            "_model_module_version": "1.5.0",
            "_model_name": "DescriptionStyleModel",
            "_view_count": null,
            "_view_module": "@jupyter-widgets/base",
            "_view_module_version": "1.2.0",
            "_view_name": "StyleView",
            "description_width": ""
          }
        },
        "e3794f5ce3d44f5a9890ae6114250e31": {
          "model_module": "@jupyter-widgets/controls",
          "model_name": "HBoxModel",
          "model_module_version": "1.5.0",
          "state": {
            "_dom_classes": [],
            "_model_module": "@jupyter-widgets/controls",
            "_model_module_version": "1.5.0",
            "_model_name": "HBoxModel",
            "_view_count": null,
            "_view_module": "@jupyter-widgets/controls",
            "_view_module_version": "1.5.0",
            "_view_name": "HBoxView",
            "box_style": "",
            "children": [
              "IPY_MODEL_d8ba075a1ade4edbaa99b522489e814a",
              "IPY_MODEL_0e356672a45d48e5be17f8385d08bcaa",
              "IPY_MODEL_0ce0669975c542c99956f7a5a01b5bd5"
            ],
            "layout": "IPY_MODEL_8074163b6f9249b2aa872fcab9ce6994"
          }
        },
        "d8ba075a1ade4edbaa99b522489e814a": {
          "model_module": "@jupyter-widgets/controls",
          "model_name": "HTMLModel",
          "model_module_version": "1.5.0",
          "state": {
            "_dom_classes": [],
            "_model_module": "@jupyter-widgets/controls",
            "_model_module_version": "1.5.0",
            "_model_name": "HTMLModel",
            "_view_count": null,
            "_view_module": "@jupyter-widgets/controls",
            "_view_module_version": "1.5.0",
            "_view_name": "HTMLView",
            "description": "",
            "description_tooltip": null,
            "layout": "IPY_MODEL_b50940fbe8f54f2f95f31cc9afaea6ef",
            "placeholder": "​",
            "style": "IPY_MODEL_22c304a052a642b89cc3ae77a975b1a3",
            "value": "tokenizer.json: 100%"
          }
        },
        "0e356672a45d48e5be17f8385d08bcaa": {
          "model_module": "@jupyter-widgets/controls",
          "model_name": "FloatProgressModel",
          "model_module_version": "1.5.0",
          "state": {
            "_dom_classes": [],
            "_model_module": "@jupyter-widgets/controls",
            "_model_module_version": "1.5.0",
            "_model_name": "FloatProgressModel",
            "_view_count": null,
            "_view_module": "@jupyter-widgets/controls",
            "_view_module_version": "1.5.0",
            "_view_name": "ProgressView",
            "bar_style": "success",
            "description": "",
            "description_tooltip": null,
            "layout": "IPY_MODEL_d566e43e5cbc48fbb570fbc9f7748858",
            "max": 466021,
            "min": 0,
            "orientation": "horizontal",
            "style": "IPY_MODEL_d96078c8f24d47f8b2c8cda87dfacc05",
            "value": 466021
          }
        },
        "0ce0669975c542c99956f7a5a01b5bd5": {
          "model_module": "@jupyter-widgets/controls",
          "model_name": "HTMLModel",
          "model_module_version": "1.5.0",
          "state": {
            "_dom_classes": [],
            "_model_module": "@jupyter-widgets/controls",
            "_model_module_version": "1.5.0",
            "_model_name": "HTMLModel",
            "_view_count": null,
            "_view_module": "@jupyter-widgets/controls",
            "_view_module_version": "1.5.0",
            "_view_name": "HTMLView",
            "description": "",
            "description_tooltip": null,
            "layout": "IPY_MODEL_700719d498e34a389d4fd845dacb8b44",
            "placeholder": "​",
            "style": "IPY_MODEL_f54f7c1e673e4a839323c33bbef6cbf3",
            "value": " 466k/466k [00:00&lt;00:00, 4.65MB/s]"
          }
        },
        "8074163b6f9249b2aa872fcab9ce6994": {
          "model_module": "@jupyter-widgets/base",
          "model_name": "LayoutModel",
          "model_module_version": "1.2.0",
          "state": {
            "_model_module": "@jupyter-widgets/base",
            "_model_module_version": "1.2.0",
            "_model_name": "LayoutModel",
            "_view_count": null,
            "_view_module": "@jupyter-widgets/base",
            "_view_module_version": "1.2.0",
            "_view_name": "LayoutView",
            "align_content": null,
            "align_items": null,
            "align_self": null,
            "border": null,
            "bottom": null,
            "display": null,
            "flex": null,
            "flex_flow": null,
            "grid_area": null,
            "grid_auto_columns": null,
            "grid_auto_flow": null,
            "grid_auto_rows": null,
            "grid_column": null,
            "grid_gap": null,
            "grid_row": null,
            "grid_template_areas": null,
            "grid_template_columns": null,
            "grid_template_rows": null,
            "height": null,
            "justify_content": null,
            "justify_items": null,
            "left": null,
            "margin": null,
            "max_height": null,
            "max_width": null,
            "min_height": null,
            "min_width": null,
            "object_fit": null,
            "object_position": null,
            "order": null,
            "overflow": null,
            "overflow_x": null,
            "overflow_y": null,
            "padding": null,
            "right": null,
            "top": null,
            "visibility": null,
            "width": null
          }
        },
        "b50940fbe8f54f2f95f31cc9afaea6ef": {
          "model_module": "@jupyter-widgets/base",
          "model_name": "LayoutModel",
          "model_module_version": "1.2.0",
          "state": {
            "_model_module": "@jupyter-widgets/base",
            "_model_module_version": "1.2.0",
            "_model_name": "LayoutModel",
            "_view_count": null,
            "_view_module": "@jupyter-widgets/base",
            "_view_module_version": "1.2.0",
            "_view_name": "LayoutView",
            "align_content": null,
            "align_items": null,
            "align_self": null,
            "border": null,
            "bottom": null,
            "display": null,
            "flex": null,
            "flex_flow": null,
            "grid_area": null,
            "grid_auto_columns": null,
            "grid_auto_flow": null,
            "grid_auto_rows": null,
            "grid_column": null,
            "grid_gap": null,
            "grid_row": null,
            "grid_template_areas": null,
            "grid_template_columns": null,
            "grid_template_rows": null,
            "height": null,
            "justify_content": null,
            "justify_items": null,
            "left": null,
            "margin": null,
            "max_height": null,
            "max_width": null,
            "min_height": null,
            "min_width": null,
            "object_fit": null,
            "object_position": null,
            "order": null,
            "overflow": null,
            "overflow_x": null,
            "overflow_y": null,
            "padding": null,
            "right": null,
            "top": null,
            "visibility": null,
            "width": null
          }
        },
        "22c304a052a642b89cc3ae77a975b1a3": {
          "model_module": "@jupyter-widgets/controls",
          "model_name": "DescriptionStyleModel",
          "model_module_version": "1.5.0",
          "state": {
            "_model_module": "@jupyter-widgets/controls",
            "_model_module_version": "1.5.0",
            "_model_name": "DescriptionStyleModel",
            "_view_count": null,
            "_view_module": "@jupyter-widgets/base",
            "_view_module_version": "1.2.0",
            "_view_name": "StyleView",
            "description_width": ""
          }
        },
        "d566e43e5cbc48fbb570fbc9f7748858": {
          "model_module": "@jupyter-widgets/base",
          "model_name": "LayoutModel",
          "model_module_version": "1.2.0",
          "state": {
            "_model_module": "@jupyter-widgets/base",
            "_model_module_version": "1.2.0",
            "_model_name": "LayoutModel",
            "_view_count": null,
            "_view_module": "@jupyter-widgets/base",
            "_view_module_version": "1.2.0",
            "_view_name": "LayoutView",
            "align_content": null,
            "align_items": null,
            "align_self": null,
            "border": null,
            "bottom": null,
            "display": null,
            "flex": null,
            "flex_flow": null,
            "grid_area": null,
            "grid_auto_columns": null,
            "grid_auto_flow": null,
            "grid_auto_rows": null,
            "grid_column": null,
            "grid_gap": null,
            "grid_row": null,
            "grid_template_areas": null,
            "grid_template_columns": null,
            "grid_template_rows": null,
            "height": null,
            "justify_content": null,
            "justify_items": null,
            "left": null,
            "margin": null,
            "max_height": null,
            "max_width": null,
            "min_height": null,
            "min_width": null,
            "object_fit": null,
            "object_position": null,
            "order": null,
            "overflow": null,
            "overflow_x": null,
            "overflow_y": null,
            "padding": null,
            "right": null,
            "top": null,
            "visibility": null,
            "width": null
          }
        },
        "d96078c8f24d47f8b2c8cda87dfacc05": {
          "model_module": "@jupyter-widgets/controls",
          "model_name": "ProgressStyleModel",
          "model_module_version": "1.5.0",
          "state": {
            "_model_module": "@jupyter-widgets/controls",
            "_model_module_version": "1.5.0",
            "_model_name": "ProgressStyleModel",
            "_view_count": null,
            "_view_module": "@jupyter-widgets/base",
            "_view_module_version": "1.2.0",
            "_view_name": "StyleView",
            "bar_color": null,
            "description_width": ""
          }
        },
        "700719d498e34a389d4fd845dacb8b44": {
          "model_module": "@jupyter-widgets/base",
          "model_name": "LayoutModel",
          "model_module_version": "1.2.0",
          "state": {
            "_model_module": "@jupyter-widgets/base",
            "_model_module_version": "1.2.0",
            "_model_name": "LayoutModel",
            "_view_count": null,
            "_view_module": "@jupyter-widgets/base",
            "_view_module_version": "1.2.0",
            "_view_name": "LayoutView",
            "align_content": null,
            "align_items": null,
            "align_self": null,
            "border": null,
            "bottom": null,
            "display": null,
            "flex": null,
            "flex_flow": null,
            "grid_area": null,
            "grid_auto_columns": null,
            "grid_auto_flow": null,
            "grid_auto_rows": null,
            "grid_column": null,
            "grid_gap": null,
            "grid_row": null,
            "grid_template_areas": null,
            "grid_template_columns": null,
            "grid_template_rows": null,
            "height": null,
            "justify_content": null,
            "justify_items": null,
            "left": null,
            "margin": null,
            "max_height": null,
            "max_width": null,
            "min_height": null,
            "min_width": null,
            "object_fit": null,
            "object_position": null,
            "order": null,
            "overflow": null,
            "overflow_x": null,
            "overflow_y": null,
            "padding": null,
            "right": null,
            "top": null,
            "visibility": null,
            "width": null
          }
        },
        "f54f7c1e673e4a839323c33bbef6cbf3": {
          "model_module": "@jupyter-widgets/controls",
          "model_name": "DescriptionStyleModel",
          "model_module_version": "1.5.0",
          "state": {
            "_model_module": "@jupyter-widgets/controls",
            "_model_module_version": "1.5.0",
            "_model_name": "DescriptionStyleModel",
            "_view_count": null,
            "_view_module": "@jupyter-widgets/base",
            "_view_module_version": "1.2.0",
            "_view_name": "StyleView",
            "description_width": ""
          }
        },
        "aeeb21843c754578a2baf3a98858ea36": {
          "model_module": "@jupyter-widgets/controls",
          "model_name": "HBoxModel",
          "model_module_version": "1.5.0",
          "state": {
            "_dom_classes": [],
            "_model_module": "@jupyter-widgets/controls",
            "_model_module_version": "1.5.0",
            "_model_name": "HBoxModel",
            "_view_count": null,
            "_view_module": "@jupyter-widgets/controls",
            "_view_module_version": "1.5.0",
            "_view_name": "HBoxView",
            "box_style": "",
            "children": [
              "IPY_MODEL_ea228bea0e6e465fabd97c780b5db661",
              "IPY_MODEL_d72adcf7a9f24c5580e1fd05b6816253",
              "IPY_MODEL_de276d3ad005450f90ff314ce45d295b"
            ],
            "layout": "IPY_MODEL_eaab28b9293f40e68e85686689a53bd1"
          }
        },
        "ea228bea0e6e465fabd97c780b5db661": {
          "model_module": "@jupyter-widgets/controls",
          "model_name": "HTMLModel",
          "model_module_version": "1.5.0",
          "state": {
            "_dom_classes": [],
            "_model_module": "@jupyter-widgets/controls",
            "_model_module_version": "1.5.0",
            "_model_name": "HTMLModel",
            "_view_count": null,
            "_view_module": "@jupyter-widgets/controls",
            "_view_module_version": "1.5.0",
            "_view_name": "HTMLView",
            "description": "",
            "description_tooltip": null,
            "layout": "IPY_MODEL_092b8f6164c548cd87165608844d6300",
            "placeholder": "​",
            "style": "IPY_MODEL_5a66b07f84cf464691f32cd61876932f",
            "value": "tokenizer_config.json: 100%"
          }
        },
        "d72adcf7a9f24c5580e1fd05b6816253": {
          "model_module": "@jupyter-widgets/controls",
          "model_name": "FloatProgressModel",
          "model_module_version": "1.5.0",
          "state": {
            "_dom_classes": [],
            "_model_module": "@jupyter-widgets/controls",
            "_model_module_version": "1.5.0",
            "_model_name": "FloatProgressModel",
            "_view_count": null,
            "_view_module": "@jupyter-widgets/controls",
            "_view_module_version": "1.5.0",
            "_view_name": "ProgressView",
            "bar_style": "success",
            "description": "",
            "description_tooltip": null,
            "layout": "IPY_MODEL_c09b61a7607545cf8dbcc78b00ec7f9c",
            "max": 363,
            "min": 0,
            "orientation": "horizontal",
            "style": "IPY_MODEL_71b03204ee40406fbb0dafa5c48441bd",
            "value": 363
          }
        },
        "de276d3ad005450f90ff314ce45d295b": {
          "model_module": "@jupyter-widgets/controls",
          "model_name": "HTMLModel",
          "model_module_version": "1.5.0",
          "state": {
            "_dom_classes": [],
            "_model_module": "@jupyter-widgets/controls",
            "_model_module_version": "1.5.0",
            "_model_name": "HTMLModel",
            "_view_count": null,
            "_view_module": "@jupyter-widgets/controls",
            "_view_module_version": "1.5.0",
            "_view_name": "HTMLView",
            "description": "",
            "description_tooltip": null,
            "layout": "IPY_MODEL_52cd2c4495c74a30bda2ee85e89be1f0",
            "placeholder": "​",
            "style": "IPY_MODEL_8f2f53c3c3b0411d85b14ef57e69aac6",
            "value": " 363/363 [00:00&lt;00:00, 4.56kB/s]"
          }
        },
        "eaab28b9293f40e68e85686689a53bd1": {
          "model_module": "@jupyter-widgets/base",
          "model_name": "LayoutModel",
          "model_module_version": "1.2.0",
          "state": {
            "_model_module": "@jupyter-widgets/base",
            "_model_module_version": "1.2.0",
            "_model_name": "LayoutModel",
            "_view_count": null,
            "_view_module": "@jupyter-widgets/base",
            "_view_module_version": "1.2.0",
            "_view_name": "LayoutView",
            "align_content": null,
            "align_items": null,
            "align_self": null,
            "border": null,
            "bottom": null,
            "display": null,
            "flex": null,
            "flex_flow": null,
            "grid_area": null,
            "grid_auto_columns": null,
            "grid_auto_flow": null,
            "grid_auto_rows": null,
            "grid_column": null,
            "grid_gap": null,
            "grid_row": null,
            "grid_template_areas": null,
            "grid_template_columns": null,
            "grid_template_rows": null,
            "height": null,
            "justify_content": null,
            "justify_items": null,
            "left": null,
            "margin": null,
            "max_height": null,
            "max_width": null,
            "min_height": null,
            "min_width": null,
            "object_fit": null,
            "object_position": null,
            "order": null,
            "overflow": null,
            "overflow_x": null,
            "overflow_y": null,
            "padding": null,
            "right": null,
            "top": null,
            "visibility": null,
            "width": null
          }
        },
        "092b8f6164c548cd87165608844d6300": {
          "model_module": "@jupyter-widgets/base",
          "model_name": "LayoutModel",
          "model_module_version": "1.2.0",
          "state": {
            "_model_module": "@jupyter-widgets/base",
            "_model_module_version": "1.2.0",
            "_model_name": "LayoutModel",
            "_view_count": null,
            "_view_module": "@jupyter-widgets/base",
            "_view_module_version": "1.2.0",
            "_view_name": "LayoutView",
            "align_content": null,
            "align_items": null,
            "align_self": null,
            "border": null,
            "bottom": null,
            "display": null,
            "flex": null,
            "flex_flow": null,
            "grid_area": null,
            "grid_auto_columns": null,
            "grid_auto_flow": null,
            "grid_auto_rows": null,
            "grid_column": null,
            "grid_gap": null,
            "grid_row": null,
            "grid_template_areas": null,
            "grid_template_columns": null,
            "grid_template_rows": null,
            "height": null,
            "justify_content": null,
            "justify_items": null,
            "left": null,
            "margin": null,
            "max_height": null,
            "max_width": null,
            "min_height": null,
            "min_width": null,
            "object_fit": null,
            "object_position": null,
            "order": null,
            "overflow": null,
            "overflow_x": null,
            "overflow_y": null,
            "padding": null,
            "right": null,
            "top": null,
            "visibility": null,
            "width": null
          }
        },
        "5a66b07f84cf464691f32cd61876932f": {
          "model_module": "@jupyter-widgets/controls",
          "model_name": "DescriptionStyleModel",
          "model_module_version": "1.5.0",
          "state": {
            "_model_module": "@jupyter-widgets/controls",
            "_model_module_version": "1.5.0",
            "_model_name": "DescriptionStyleModel",
            "_view_count": null,
            "_view_module": "@jupyter-widgets/base",
            "_view_module_version": "1.2.0",
            "_view_name": "StyleView",
            "description_width": ""
          }
        },
        "c09b61a7607545cf8dbcc78b00ec7f9c": {
          "model_module": "@jupyter-widgets/base",
          "model_name": "LayoutModel",
          "model_module_version": "1.2.0",
          "state": {
            "_model_module": "@jupyter-widgets/base",
            "_model_module_version": "1.2.0",
            "_model_name": "LayoutModel",
            "_view_count": null,
            "_view_module": "@jupyter-widgets/base",
            "_view_module_version": "1.2.0",
            "_view_name": "LayoutView",
            "align_content": null,
            "align_items": null,
            "align_self": null,
            "border": null,
            "bottom": null,
            "display": null,
            "flex": null,
            "flex_flow": null,
            "grid_area": null,
            "grid_auto_columns": null,
            "grid_auto_flow": null,
            "grid_auto_rows": null,
            "grid_column": null,
            "grid_gap": null,
            "grid_row": null,
            "grid_template_areas": null,
            "grid_template_columns": null,
            "grid_template_rows": null,
            "height": null,
            "justify_content": null,
            "justify_items": null,
            "left": null,
            "margin": null,
            "max_height": null,
            "max_width": null,
            "min_height": null,
            "min_width": null,
            "object_fit": null,
            "object_position": null,
            "order": null,
            "overflow": null,
            "overflow_x": null,
            "overflow_y": null,
            "padding": null,
            "right": null,
            "top": null,
            "visibility": null,
            "width": null
          }
        },
        "71b03204ee40406fbb0dafa5c48441bd": {
          "model_module": "@jupyter-widgets/controls",
          "model_name": "ProgressStyleModel",
          "model_module_version": "1.5.0",
          "state": {
            "_model_module": "@jupyter-widgets/controls",
            "_model_module_version": "1.5.0",
            "_model_name": "ProgressStyleModel",
            "_view_count": null,
            "_view_module": "@jupyter-widgets/base",
            "_view_module_version": "1.2.0",
            "_view_name": "StyleView",
            "bar_color": null,
            "description_width": ""
          }
        },
        "52cd2c4495c74a30bda2ee85e89be1f0": {
          "model_module": "@jupyter-widgets/base",
          "model_name": "LayoutModel",
          "model_module_version": "1.2.0",
          "state": {
            "_model_module": "@jupyter-widgets/base",
            "_model_module_version": "1.2.0",
            "_model_name": "LayoutModel",
            "_view_count": null,
            "_view_module": "@jupyter-widgets/base",
            "_view_module_version": "1.2.0",
            "_view_name": "LayoutView",
            "align_content": null,
            "align_items": null,
            "align_self": null,
            "border": null,
            "bottom": null,
            "display": null,
            "flex": null,
            "flex_flow": null,
            "grid_area": null,
            "grid_auto_columns": null,
            "grid_auto_flow": null,
            "grid_auto_rows": null,
            "grid_column": null,
            "grid_gap": null,
            "grid_row": null,
            "grid_template_areas": null,
            "grid_template_columns": null,
            "grid_template_rows": null,
            "height": null,
            "justify_content": null,
            "justify_items": null,
            "left": null,
            "margin": null,
            "max_height": null,
            "max_width": null,
            "min_height": null,
            "min_width": null,
            "object_fit": null,
            "object_position": null,
            "order": null,
            "overflow": null,
            "overflow_x": null,
            "overflow_y": null,
            "padding": null,
            "right": null,
            "top": null,
            "visibility": null,
            "width": null
          }
        },
        "8f2f53c3c3b0411d85b14ef57e69aac6": {
          "model_module": "@jupyter-widgets/controls",
          "model_name": "DescriptionStyleModel",
          "model_module_version": "1.5.0",
          "state": {
            "_model_module": "@jupyter-widgets/controls",
            "_model_module_version": "1.5.0",
            "_model_name": "DescriptionStyleModel",
            "_view_count": null,
            "_view_module": "@jupyter-widgets/base",
            "_view_module_version": "1.2.0",
            "_view_name": "StyleView",
            "description_width": ""
          }
        },
        "ba922cd58d81454d9fa0903e44e00e92": {
          "model_module": "@jupyter-widgets/controls",
          "model_name": "HBoxModel",
          "model_module_version": "1.5.0",
          "state": {
            "_dom_classes": [],
            "_model_module": "@jupyter-widgets/controls",
            "_model_module_version": "1.5.0",
            "_model_name": "HBoxModel",
            "_view_count": null,
            "_view_module": "@jupyter-widgets/controls",
            "_view_module_version": "1.5.0",
            "_view_name": "HBoxView",
            "box_style": "",
            "children": [
              "IPY_MODEL_88cfa5b38fae4057a93779594580e532",
              "IPY_MODEL_0f3400bd512f4af9beb3c155ab0ea2a1",
              "IPY_MODEL_b0277ae2f42d455dba487beb53ad2384"
            ],
            "layout": "IPY_MODEL_01ffaf939d82499aa00e91de49c0c04e"
          }
        },
        "88cfa5b38fae4057a93779594580e532": {
          "model_module": "@jupyter-widgets/controls",
          "model_name": "HTMLModel",
          "model_module_version": "1.5.0",
          "state": {
            "_dom_classes": [],
            "_model_module": "@jupyter-widgets/controls",
            "_model_module_version": "1.5.0",
            "_model_name": "HTMLModel",
            "_view_count": null,
            "_view_module": "@jupyter-widgets/controls",
            "_view_module_version": "1.5.0",
            "_view_name": "HTMLView",
            "description": "",
            "description_tooltip": null,
            "layout": "IPY_MODEL_2d573a03b8d44c86b527bced7b932812",
            "placeholder": "​",
            "style": "IPY_MODEL_588b17a670704a569cea86f3be8c617f",
            "value": "train_script.py: 100%"
          }
        },
        "0f3400bd512f4af9beb3c155ab0ea2a1": {
          "model_module": "@jupyter-widgets/controls",
          "model_name": "FloatProgressModel",
          "model_module_version": "1.5.0",
          "state": {
            "_dom_classes": [],
            "_model_module": "@jupyter-widgets/controls",
            "_model_module_version": "1.5.0",
            "_model_name": "FloatProgressModel",
            "_view_count": null,
            "_view_module": "@jupyter-widgets/controls",
            "_view_module_version": "1.5.0",
            "_view_name": "ProgressView",
            "bar_style": "success",
            "description": "",
            "description_tooltip": null,
            "layout": "IPY_MODEL_b797a3cb848c401284e37216fa36e50c",
            "max": 13123,
            "min": 0,
            "orientation": "horizontal",
            "style": "IPY_MODEL_2d9445812620442080e11eff15f72f57",
            "value": 13123
          }
        },
        "b0277ae2f42d455dba487beb53ad2384": {
          "model_module": "@jupyter-widgets/controls",
          "model_name": "HTMLModel",
          "model_module_version": "1.5.0",
          "state": {
            "_dom_classes": [],
            "_model_module": "@jupyter-widgets/controls",
            "_model_module_version": "1.5.0",
            "_model_name": "HTMLModel",
            "_view_count": null,
            "_view_module": "@jupyter-widgets/controls",
            "_view_module_version": "1.5.0",
            "_view_name": "HTMLView",
            "description": "",
            "description_tooltip": null,
            "layout": "IPY_MODEL_4a68eee560c64d31827c595ff7331a2b",
            "placeholder": "​",
            "style": "IPY_MODEL_cdadc82c77f348f7b85a39f2cd9fefb2",
            "value": " 13.1k/13.1k [00:00&lt;00:00, 245kB/s]"
          }
        },
        "01ffaf939d82499aa00e91de49c0c04e": {
          "model_module": "@jupyter-widgets/base",
          "model_name": "LayoutModel",
          "model_module_version": "1.2.0",
          "state": {
            "_model_module": "@jupyter-widgets/base",
            "_model_module_version": "1.2.0",
            "_model_name": "LayoutModel",
            "_view_count": null,
            "_view_module": "@jupyter-widgets/base",
            "_view_module_version": "1.2.0",
            "_view_name": "LayoutView",
            "align_content": null,
            "align_items": null,
            "align_self": null,
            "border": null,
            "bottom": null,
            "display": null,
            "flex": null,
            "flex_flow": null,
            "grid_area": null,
            "grid_auto_columns": null,
            "grid_auto_flow": null,
            "grid_auto_rows": null,
            "grid_column": null,
            "grid_gap": null,
            "grid_row": null,
            "grid_template_areas": null,
            "grid_template_columns": null,
            "grid_template_rows": null,
            "height": null,
            "justify_content": null,
            "justify_items": null,
            "left": null,
            "margin": null,
            "max_height": null,
            "max_width": null,
            "min_height": null,
            "min_width": null,
            "object_fit": null,
            "object_position": null,
            "order": null,
            "overflow": null,
            "overflow_x": null,
            "overflow_y": null,
            "padding": null,
            "right": null,
            "top": null,
            "visibility": null,
            "width": null
          }
        },
        "2d573a03b8d44c86b527bced7b932812": {
          "model_module": "@jupyter-widgets/base",
          "model_name": "LayoutModel",
          "model_module_version": "1.2.0",
          "state": {
            "_model_module": "@jupyter-widgets/base",
            "_model_module_version": "1.2.0",
            "_model_name": "LayoutModel",
            "_view_count": null,
            "_view_module": "@jupyter-widgets/base",
            "_view_module_version": "1.2.0",
            "_view_name": "LayoutView",
            "align_content": null,
            "align_items": null,
            "align_self": null,
            "border": null,
            "bottom": null,
            "display": null,
            "flex": null,
            "flex_flow": null,
            "grid_area": null,
            "grid_auto_columns": null,
            "grid_auto_flow": null,
            "grid_auto_rows": null,
            "grid_column": null,
            "grid_gap": null,
            "grid_row": null,
            "grid_template_areas": null,
            "grid_template_columns": null,
            "grid_template_rows": null,
            "height": null,
            "justify_content": null,
            "justify_items": null,
            "left": null,
            "margin": null,
            "max_height": null,
            "max_width": null,
            "min_height": null,
            "min_width": null,
            "object_fit": null,
            "object_position": null,
            "order": null,
            "overflow": null,
            "overflow_x": null,
            "overflow_y": null,
            "padding": null,
            "right": null,
            "top": null,
            "visibility": null,
            "width": null
          }
        },
        "588b17a670704a569cea86f3be8c617f": {
          "model_module": "@jupyter-widgets/controls",
          "model_name": "DescriptionStyleModel",
          "model_module_version": "1.5.0",
          "state": {
            "_model_module": "@jupyter-widgets/controls",
            "_model_module_version": "1.5.0",
            "_model_name": "DescriptionStyleModel",
            "_view_count": null,
            "_view_module": "@jupyter-widgets/base",
            "_view_module_version": "1.2.0",
            "_view_name": "StyleView",
            "description_width": ""
          }
        },
        "b797a3cb848c401284e37216fa36e50c": {
          "model_module": "@jupyter-widgets/base",
          "model_name": "LayoutModel",
          "model_module_version": "1.2.0",
          "state": {
            "_model_module": "@jupyter-widgets/base",
            "_model_module_version": "1.2.0",
            "_model_name": "LayoutModel",
            "_view_count": null,
            "_view_module": "@jupyter-widgets/base",
            "_view_module_version": "1.2.0",
            "_view_name": "LayoutView",
            "align_content": null,
            "align_items": null,
            "align_self": null,
            "border": null,
            "bottom": null,
            "display": null,
            "flex": null,
            "flex_flow": null,
            "grid_area": null,
            "grid_auto_columns": null,
            "grid_auto_flow": null,
            "grid_auto_rows": null,
            "grid_column": null,
            "grid_gap": null,
            "grid_row": null,
            "grid_template_areas": null,
            "grid_template_columns": null,
            "grid_template_rows": null,
            "height": null,
            "justify_content": null,
            "justify_items": null,
            "left": null,
            "margin": null,
            "max_height": null,
            "max_width": null,
            "min_height": null,
            "min_width": null,
            "object_fit": null,
            "object_position": null,
            "order": null,
            "overflow": null,
            "overflow_x": null,
            "overflow_y": null,
            "padding": null,
            "right": null,
            "top": null,
            "visibility": null,
            "width": null
          }
        },
        "2d9445812620442080e11eff15f72f57": {
          "model_module": "@jupyter-widgets/controls",
          "model_name": "ProgressStyleModel",
          "model_module_version": "1.5.0",
          "state": {
            "_model_module": "@jupyter-widgets/controls",
            "_model_module_version": "1.5.0",
            "_model_name": "ProgressStyleModel",
            "_view_count": null,
            "_view_module": "@jupyter-widgets/base",
            "_view_module_version": "1.2.0",
            "_view_name": "StyleView",
            "bar_color": null,
            "description_width": ""
          }
        },
        "4a68eee560c64d31827c595ff7331a2b": {
          "model_module": "@jupyter-widgets/base",
          "model_name": "LayoutModel",
          "model_module_version": "1.2.0",
          "state": {
            "_model_module": "@jupyter-widgets/base",
            "_model_module_version": "1.2.0",
            "_model_name": "LayoutModel",
            "_view_count": null,
            "_view_module": "@jupyter-widgets/base",
            "_view_module_version": "1.2.0",
            "_view_name": "LayoutView",
            "align_content": null,
            "align_items": null,
            "align_self": null,
            "border": null,
            "bottom": null,
            "display": null,
            "flex": null,
            "flex_flow": null,
            "grid_area": null,
            "grid_auto_columns": null,
            "grid_auto_flow": null,
            "grid_auto_rows": null,
            "grid_column": null,
            "grid_gap": null,
            "grid_row": null,
            "grid_template_areas": null,
            "grid_template_columns": null,
            "grid_template_rows": null,
            "height": null,
            "justify_content": null,
            "justify_items": null,
            "left": null,
            "margin": null,
            "max_height": null,
            "max_width": null,
            "min_height": null,
            "min_width": null,
            "object_fit": null,
            "object_position": null,
            "order": null,
            "overflow": null,
            "overflow_x": null,
            "overflow_y": null,
            "padding": null,
            "right": null,
            "top": null,
            "visibility": null,
            "width": null
          }
        },
        "cdadc82c77f348f7b85a39f2cd9fefb2": {
          "model_module": "@jupyter-widgets/controls",
          "model_name": "DescriptionStyleModel",
          "model_module_version": "1.5.0",
          "state": {
            "_model_module": "@jupyter-widgets/controls",
            "_model_module_version": "1.5.0",
            "_model_name": "DescriptionStyleModel",
            "_view_count": null,
            "_view_module": "@jupyter-widgets/base",
            "_view_module_version": "1.2.0",
            "_view_name": "StyleView",
            "description_width": ""
          }
        },
        "e8ff63d9713c41088e338135d9229be6": {
          "model_module": "@jupyter-widgets/controls",
          "model_name": "HBoxModel",
          "model_module_version": "1.5.0",
          "state": {
            "_dom_classes": [],
            "_model_module": "@jupyter-widgets/controls",
            "_model_module_version": "1.5.0",
            "_model_name": "HBoxModel",
            "_view_count": null,
            "_view_module": "@jupyter-widgets/controls",
            "_view_module_version": "1.5.0",
            "_view_name": "HBoxView",
            "box_style": "",
            "children": [
              "IPY_MODEL_b88391e160f34be5afee815bc1f9c03b",
              "IPY_MODEL_7142478021d2444c96d91daf57afd8f3",
              "IPY_MODEL_50c1e04add3f4c519cdac0db3c93de7d"
            ],
            "layout": "IPY_MODEL_0172dd64dc074a04b58a3fcec410814d"
          }
        },
        "b88391e160f34be5afee815bc1f9c03b": {
          "model_module": "@jupyter-widgets/controls",
          "model_name": "HTMLModel",
          "model_module_version": "1.5.0",
          "state": {
            "_dom_classes": [],
            "_model_module": "@jupyter-widgets/controls",
            "_model_module_version": "1.5.0",
            "_model_name": "HTMLModel",
            "_view_count": null,
            "_view_module": "@jupyter-widgets/controls",
            "_view_module_version": "1.5.0",
            "_view_name": "HTMLView",
            "description": "",
            "description_tooltip": null,
            "layout": "IPY_MODEL_16ddeba40bcd44e08562bc47ae1e70fb",
            "placeholder": "​",
            "style": "IPY_MODEL_b7e3a17393cb4b8b8fa54c67fdefeec4",
            "value": "vocab.txt: 100%"
          }
        },
        "7142478021d2444c96d91daf57afd8f3": {
          "model_module": "@jupyter-widgets/controls",
          "model_name": "FloatProgressModel",
          "model_module_version": "1.5.0",
          "state": {
            "_dom_classes": [],
            "_model_module": "@jupyter-widgets/controls",
            "_model_module_version": "1.5.0",
            "_model_name": "FloatProgressModel",
            "_view_count": null,
            "_view_module": "@jupyter-widgets/controls",
            "_view_module_version": "1.5.0",
            "_view_name": "ProgressView",
            "bar_style": "success",
            "description": "",
            "description_tooltip": null,
            "layout": "IPY_MODEL_7dd77cb80d95427296cd26430022c510",
            "max": 231536,
            "min": 0,
            "orientation": "horizontal",
            "style": "IPY_MODEL_bc494e6330c54dbfa4f0973fcbf00235",
            "value": 231536
          }
        },
        "50c1e04add3f4c519cdac0db3c93de7d": {
          "model_module": "@jupyter-widgets/controls",
          "model_name": "HTMLModel",
          "model_module_version": "1.5.0",
          "state": {
            "_dom_classes": [],
            "_model_module": "@jupyter-widgets/controls",
            "_model_module_version": "1.5.0",
            "_model_name": "HTMLModel",
            "_view_count": null,
            "_view_module": "@jupyter-widgets/controls",
            "_view_module_version": "1.5.0",
            "_view_name": "HTMLView",
            "description": "",
            "description_tooltip": null,
            "layout": "IPY_MODEL_4658a805dbc04ae6bc06e23dad3755d8",
            "placeholder": "​",
            "style": "IPY_MODEL_5e6fc17828ff453bb039ba8a6d679c05",
            "value": " 232k/232k [00:00&lt;00:00, 4.06MB/s]"
          }
        },
        "0172dd64dc074a04b58a3fcec410814d": {
          "model_module": "@jupyter-widgets/base",
          "model_name": "LayoutModel",
          "model_module_version": "1.2.0",
          "state": {
            "_model_module": "@jupyter-widgets/base",
            "_model_module_version": "1.2.0",
            "_model_name": "LayoutModel",
            "_view_count": null,
            "_view_module": "@jupyter-widgets/base",
            "_view_module_version": "1.2.0",
            "_view_name": "LayoutView",
            "align_content": null,
            "align_items": null,
            "align_self": null,
            "border": null,
            "bottom": null,
            "display": null,
            "flex": null,
            "flex_flow": null,
            "grid_area": null,
            "grid_auto_columns": null,
            "grid_auto_flow": null,
            "grid_auto_rows": null,
            "grid_column": null,
            "grid_gap": null,
            "grid_row": null,
            "grid_template_areas": null,
            "grid_template_columns": null,
            "grid_template_rows": null,
            "height": null,
            "justify_content": null,
            "justify_items": null,
            "left": null,
            "margin": null,
            "max_height": null,
            "max_width": null,
            "min_height": null,
            "min_width": null,
            "object_fit": null,
            "object_position": null,
            "order": null,
            "overflow": null,
            "overflow_x": null,
            "overflow_y": null,
            "padding": null,
            "right": null,
            "top": null,
            "visibility": null,
            "width": null
          }
        },
        "16ddeba40bcd44e08562bc47ae1e70fb": {
          "model_module": "@jupyter-widgets/base",
          "model_name": "LayoutModel",
          "model_module_version": "1.2.0",
          "state": {
            "_model_module": "@jupyter-widgets/base",
            "_model_module_version": "1.2.0",
            "_model_name": "LayoutModel",
            "_view_count": null,
            "_view_module": "@jupyter-widgets/base",
            "_view_module_version": "1.2.0",
            "_view_name": "LayoutView",
            "align_content": null,
            "align_items": null,
            "align_self": null,
            "border": null,
            "bottom": null,
            "display": null,
            "flex": null,
            "flex_flow": null,
            "grid_area": null,
            "grid_auto_columns": null,
            "grid_auto_flow": null,
            "grid_auto_rows": null,
            "grid_column": null,
            "grid_gap": null,
            "grid_row": null,
            "grid_template_areas": null,
            "grid_template_columns": null,
            "grid_template_rows": null,
            "height": null,
            "justify_content": null,
            "justify_items": null,
            "left": null,
            "margin": null,
            "max_height": null,
            "max_width": null,
            "min_height": null,
            "min_width": null,
            "object_fit": null,
            "object_position": null,
            "order": null,
            "overflow": null,
            "overflow_x": null,
            "overflow_y": null,
            "padding": null,
            "right": null,
            "top": null,
            "visibility": null,
            "width": null
          }
        },
        "b7e3a17393cb4b8b8fa54c67fdefeec4": {
          "model_module": "@jupyter-widgets/controls",
          "model_name": "DescriptionStyleModel",
          "model_module_version": "1.5.0",
          "state": {
            "_model_module": "@jupyter-widgets/controls",
            "_model_module_version": "1.5.0",
            "_model_name": "DescriptionStyleModel",
            "_view_count": null,
            "_view_module": "@jupyter-widgets/base",
            "_view_module_version": "1.2.0",
            "_view_name": "StyleView",
            "description_width": ""
          }
        },
        "7dd77cb80d95427296cd26430022c510": {
          "model_module": "@jupyter-widgets/base",
          "model_name": "LayoutModel",
          "model_module_version": "1.2.0",
          "state": {
            "_model_module": "@jupyter-widgets/base",
            "_model_module_version": "1.2.0",
            "_model_name": "LayoutModel",
            "_view_count": null,
            "_view_module": "@jupyter-widgets/base",
            "_view_module_version": "1.2.0",
            "_view_name": "LayoutView",
            "align_content": null,
            "align_items": null,
            "align_self": null,
            "border": null,
            "bottom": null,
            "display": null,
            "flex": null,
            "flex_flow": null,
            "grid_area": null,
            "grid_auto_columns": null,
            "grid_auto_flow": null,
            "grid_auto_rows": null,
            "grid_column": null,
            "grid_gap": null,
            "grid_row": null,
            "grid_template_areas": null,
            "grid_template_columns": null,
            "grid_template_rows": null,
            "height": null,
            "justify_content": null,
            "justify_items": null,
            "left": null,
            "margin": null,
            "max_height": null,
            "max_width": null,
            "min_height": null,
            "min_width": null,
            "object_fit": null,
            "object_position": null,
            "order": null,
            "overflow": null,
            "overflow_x": null,
            "overflow_y": null,
            "padding": null,
            "right": null,
            "top": null,
            "visibility": null,
            "width": null
          }
        },
        "bc494e6330c54dbfa4f0973fcbf00235": {
          "model_module": "@jupyter-widgets/controls",
          "model_name": "ProgressStyleModel",
          "model_module_version": "1.5.0",
          "state": {
            "_model_module": "@jupyter-widgets/controls",
            "_model_module_version": "1.5.0",
            "_model_name": "ProgressStyleModel",
            "_view_count": null,
            "_view_module": "@jupyter-widgets/base",
            "_view_module_version": "1.2.0",
            "_view_name": "StyleView",
            "bar_color": null,
            "description_width": ""
          }
        },
        "4658a805dbc04ae6bc06e23dad3755d8": {
          "model_module": "@jupyter-widgets/base",
          "model_name": "LayoutModel",
          "model_module_version": "1.2.0",
          "state": {
            "_model_module": "@jupyter-widgets/base",
            "_model_module_version": "1.2.0",
            "_model_name": "LayoutModel",
            "_view_count": null,
            "_view_module": "@jupyter-widgets/base",
            "_view_module_version": "1.2.0",
            "_view_name": "LayoutView",
            "align_content": null,
            "align_items": null,
            "align_self": null,
            "border": null,
            "bottom": null,
            "display": null,
            "flex": null,
            "flex_flow": null,
            "grid_area": null,
            "grid_auto_columns": null,
            "grid_auto_flow": null,
            "grid_auto_rows": null,
            "grid_column": null,
            "grid_gap": null,
            "grid_row": null,
            "grid_template_areas": null,
            "grid_template_columns": null,
            "grid_template_rows": null,
            "height": null,
            "justify_content": null,
            "justify_items": null,
            "left": null,
            "margin": null,
            "max_height": null,
            "max_width": null,
            "min_height": null,
            "min_width": null,
            "object_fit": null,
            "object_position": null,
            "order": null,
            "overflow": null,
            "overflow_x": null,
            "overflow_y": null,
            "padding": null,
            "right": null,
            "top": null,
            "visibility": null,
            "width": null
          }
        },
        "5e6fc17828ff453bb039ba8a6d679c05": {
          "model_module": "@jupyter-widgets/controls",
          "model_name": "DescriptionStyleModel",
          "model_module_version": "1.5.0",
          "state": {
            "_model_module": "@jupyter-widgets/controls",
            "_model_module_version": "1.5.0",
            "_model_name": "DescriptionStyleModel",
            "_view_count": null,
            "_view_module": "@jupyter-widgets/base",
            "_view_module_version": "1.2.0",
            "_view_name": "StyleView",
            "description_width": ""
          }
        },
        "fcb33da609ee48f2a389f21481b84bd9": {
          "model_module": "@jupyter-widgets/controls",
          "model_name": "HBoxModel",
          "model_module_version": "1.5.0",
          "state": {
            "_dom_classes": [],
            "_model_module": "@jupyter-widgets/controls",
            "_model_module_version": "1.5.0",
            "_model_name": "HBoxModel",
            "_view_count": null,
            "_view_module": "@jupyter-widgets/controls",
            "_view_module_version": "1.5.0",
            "_view_name": "HBoxView",
            "box_style": "",
            "children": [
              "IPY_MODEL_22f4401f62dc4af1bc5e54ffd3ecba8d",
              "IPY_MODEL_817a88e9416748c0978cba39a5a67446",
              "IPY_MODEL_17aa878173004f2a8a13ee2b73bf1d00"
            ],
            "layout": "IPY_MODEL_8b035f1ad5914765822330536021e701"
          }
        },
        "22f4401f62dc4af1bc5e54ffd3ecba8d": {
          "model_module": "@jupyter-widgets/controls",
          "model_name": "HTMLModel",
          "model_module_version": "1.5.0",
          "state": {
            "_dom_classes": [],
            "_model_module": "@jupyter-widgets/controls",
            "_model_module_version": "1.5.0",
            "_model_name": "HTMLModel",
            "_view_count": null,
            "_view_module": "@jupyter-widgets/controls",
            "_view_module_version": "1.5.0",
            "_view_name": "HTMLView",
            "description": "",
            "description_tooltip": null,
            "layout": "IPY_MODEL_be5445dd993245a4882204a17cef165c",
            "placeholder": "​",
            "style": "IPY_MODEL_8f06014e9247425ab4c0096bbad9a91b",
            "value": "modules.json: 100%"
          }
        },
        "817a88e9416748c0978cba39a5a67446": {
          "model_module": "@jupyter-widgets/controls",
          "model_name": "FloatProgressModel",
          "model_module_version": "1.5.0",
          "state": {
            "_dom_classes": [],
            "_model_module": "@jupyter-widgets/controls",
            "_model_module_version": "1.5.0",
            "_model_name": "FloatProgressModel",
            "_view_count": null,
            "_view_module": "@jupyter-widgets/controls",
            "_view_module_version": "1.5.0",
            "_view_name": "ProgressView",
            "bar_style": "success",
            "description": "",
            "description_tooltip": null,
            "layout": "IPY_MODEL_a910e6c78b764b7788c7f733f03a2fb6",
            "max": 349,
            "min": 0,
            "orientation": "horizontal",
            "style": "IPY_MODEL_e6373b203b43423cbab2b42495004e4a",
            "value": 349
          }
        },
        "17aa878173004f2a8a13ee2b73bf1d00": {
          "model_module": "@jupyter-widgets/controls",
          "model_name": "HTMLModel",
          "model_module_version": "1.5.0",
          "state": {
            "_dom_classes": [],
            "_model_module": "@jupyter-widgets/controls",
            "_model_module_version": "1.5.0",
            "_model_name": "HTMLModel",
            "_view_count": null,
            "_view_module": "@jupyter-widgets/controls",
            "_view_module_version": "1.5.0",
            "_view_name": "HTMLView",
            "description": "",
            "description_tooltip": null,
            "layout": "IPY_MODEL_8393f00f9ed34fb8a450eb36a59eb26b",
            "placeholder": "​",
            "style": "IPY_MODEL_f43dad3650e049c6bea3bcff30e47a7c",
            "value": " 349/349 [00:00&lt;00:00, 5.60kB/s]"
          }
        },
        "8b035f1ad5914765822330536021e701": {
          "model_module": "@jupyter-widgets/base",
          "model_name": "LayoutModel",
          "model_module_version": "1.2.0",
          "state": {
            "_model_module": "@jupyter-widgets/base",
            "_model_module_version": "1.2.0",
            "_model_name": "LayoutModel",
            "_view_count": null,
            "_view_module": "@jupyter-widgets/base",
            "_view_module_version": "1.2.0",
            "_view_name": "LayoutView",
            "align_content": null,
            "align_items": null,
            "align_self": null,
            "border": null,
            "bottom": null,
            "display": null,
            "flex": null,
            "flex_flow": null,
            "grid_area": null,
            "grid_auto_columns": null,
            "grid_auto_flow": null,
            "grid_auto_rows": null,
            "grid_column": null,
            "grid_gap": null,
            "grid_row": null,
            "grid_template_areas": null,
            "grid_template_columns": null,
            "grid_template_rows": null,
            "height": null,
            "justify_content": null,
            "justify_items": null,
            "left": null,
            "margin": null,
            "max_height": null,
            "max_width": null,
            "min_height": null,
            "min_width": null,
            "object_fit": null,
            "object_position": null,
            "order": null,
            "overflow": null,
            "overflow_x": null,
            "overflow_y": null,
            "padding": null,
            "right": null,
            "top": null,
            "visibility": null,
            "width": null
          }
        },
        "be5445dd993245a4882204a17cef165c": {
          "model_module": "@jupyter-widgets/base",
          "model_name": "LayoutModel",
          "model_module_version": "1.2.0",
          "state": {
            "_model_module": "@jupyter-widgets/base",
            "_model_module_version": "1.2.0",
            "_model_name": "LayoutModel",
            "_view_count": null,
            "_view_module": "@jupyter-widgets/base",
            "_view_module_version": "1.2.0",
            "_view_name": "LayoutView",
            "align_content": null,
            "align_items": null,
            "align_self": null,
            "border": null,
            "bottom": null,
            "display": null,
            "flex": null,
            "flex_flow": null,
            "grid_area": null,
            "grid_auto_columns": null,
            "grid_auto_flow": null,
            "grid_auto_rows": null,
            "grid_column": null,
            "grid_gap": null,
            "grid_row": null,
            "grid_template_areas": null,
            "grid_template_columns": null,
            "grid_template_rows": null,
            "height": null,
            "justify_content": null,
            "justify_items": null,
            "left": null,
            "margin": null,
            "max_height": null,
            "max_width": null,
            "min_height": null,
            "min_width": null,
            "object_fit": null,
            "object_position": null,
            "order": null,
            "overflow": null,
            "overflow_x": null,
            "overflow_y": null,
            "padding": null,
            "right": null,
            "top": null,
            "visibility": null,
            "width": null
          }
        },
        "8f06014e9247425ab4c0096bbad9a91b": {
          "model_module": "@jupyter-widgets/controls",
          "model_name": "DescriptionStyleModel",
          "model_module_version": "1.5.0",
          "state": {
            "_model_module": "@jupyter-widgets/controls",
            "_model_module_version": "1.5.0",
            "_model_name": "DescriptionStyleModel",
            "_view_count": null,
            "_view_module": "@jupyter-widgets/base",
            "_view_module_version": "1.2.0",
            "_view_name": "StyleView",
            "description_width": ""
          }
        },
        "a910e6c78b764b7788c7f733f03a2fb6": {
          "model_module": "@jupyter-widgets/base",
          "model_name": "LayoutModel",
          "model_module_version": "1.2.0",
          "state": {
            "_model_module": "@jupyter-widgets/base",
            "_model_module_version": "1.2.0",
            "_model_name": "LayoutModel",
            "_view_count": null,
            "_view_module": "@jupyter-widgets/base",
            "_view_module_version": "1.2.0",
            "_view_name": "LayoutView",
            "align_content": null,
            "align_items": null,
            "align_self": null,
            "border": null,
            "bottom": null,
            "display": null,
            "flex": null,
            "flex_flow": null,
            "grid_area": null,
            "grid_auto_columns": null,
            "grid_auto_flow": null,
            "grid_auto_rows": null,
            "grid_column": null,
            "grid_gap": null,
            "grid_row": null,
            "grid_template_areas": null,
            "grid_template_columns": null,
            "grid_template_rows": null,
            "height": null,
            "justify_content": null,
            "justify_items": null,
            "left": null,
            "margin": null,
            "max_height": null,
            "max_width": null,
            "min_height": null,
            "min_width": null,
            "object_fit": null,
            "object_position": null,
            "order": null,
            "overflow": null,
            "overflow_x": null,
            "overflow_y": null,
            "padding": null,
            "right": null,
            "top": null,
            "visibility": null,
            "width": null
          }
        },
        "e6373b203b43423cbab2b42495004e4a": {
          "model_module": "@jupyter-widgets/controls",
          "model_name": "ProgressStyleModel",
          "model_module_version": "1.5.0",
          "state": {
            "_model_module": "@jupyter-widgets/controls",
            "_model_module_version": "1.5.0",
            "_model_name": "ProgressStyleModel",
            "_view_count": null,
            "_view_module": "@jupyter-widgets/base",
            "_view_module_version": "1.2.0",
            "_view_name": "StyleView",
            "bar_color": null,
            "description_width": ""
          }
        },
        "8393f00f9ed34fb8a450eb36a59eb26b": {
          "model_module": "@jupyter-widgets/base",
          "model_name": "LayoutModel",
          "model_module_version": "1.2.0",
          "state": {
            "_model_module": "@jupyter-widgets/base",
            "_model_module_version": "1.2.0",
            "_model_name": "LayoutModel",
            "_view_count": null,
            "_view_module": "@jupyter-widgets/base",
            "_view_module_version": "1.2.0",
            "_view_name": "LayoutView",
            "align_content": null,
            "align_items": null,
            "align_self": null,
            "border": null,
            "bottom": null,
            "display": null,
            "flex": null,
            "flex_flow": null,
            "grid_area": null,
            "grid_auto_columns": null,
            "grid_auto_flow": null,
            "grid_auto_rows": null,
            "grid_column": null,
            "grid_gap": null,
            "grid_row": null,
            "grid_template_areas": null,
            "grid_template_columns": null,
            "grid_template_rows": null,
            "height": null,
            "justify_content": null,
            "justify_items": null,
            "left": null,
            "margin": null,
            "max_height": null,
            "max_width": null,
            "min_height": null,
            "min_width": null,
            "object_fit": null,
            "object_position": null,
            "order": null,
            "overflow": null,
            "overflow_x": null,
            "overflow_y": null,
            "padding": null,
            "right": null,
            "top": null,
            "visibility": null,
            "width": null
          }
        },
        "f43dad3650e049c6bea3bcff30e47a7c": {
          "model_module": "@jupyter-widgets/controls",
          "model_name": "DescriptionStyleModel",
          "model_module_version": "1.5.0",
          "state": {
            "_model_module": "@jupyter-widgets/controls",
            "_model_module_version": "1.5.0",
            "_model_name": "DescriptionStyleModel",
            "_view_count": null,
            "_view_module": "@jupyter-widgets/base",
            "_view_module_version": "1.2.0",
            "_view_name": "StyleView",
            "description_width": ""
          }
        }
      }
    }
  },
  "nbformat": 4,
  "nbformat_minor": 5
}